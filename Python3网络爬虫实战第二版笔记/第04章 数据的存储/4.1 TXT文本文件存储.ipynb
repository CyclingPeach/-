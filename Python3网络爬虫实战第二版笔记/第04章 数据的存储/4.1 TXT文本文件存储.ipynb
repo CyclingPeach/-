{
 "cells": [
  {
   "cell_type": "markdown",
   "metadata": {
    "collapsed": false,
    "pycharm": {
     "name": "#%% md\n"
    }
   },
   "source": [
    "[【2022 年】Python3 爬虫教程 - 简易的 TXT 纯文本文件存储](https://cuiqingcai.com/202241.html)\n",
    "\n"
   ]
  },
  {
   "cell_type": "markdown",
   "metadata": {},
   "source": [
    "# 总结\n",
    "\n",
    "\n",
    "### 1. 两种打开文件的方式\n",
    "```Python\n",
    "# First\n",
    "file = open('.\\数据\\movie.txt', 'w', encoding='utf-8')\n",
    "......\n",
    "file.close()\n",
    "\n",
    "# Second\n",
    "with open('.\\数据\\movie.txt', 'w', encoding='utf-8') as txtfile:\n",
    "    ......\n",
    "```\n",
    "\n",
    "### 2. 内容写入方法【有疑问】\n",
    "```Python\n",
    "# 利用 file 对象的 write 方法将提取的内容写入文件\n",
    "name = '陶志远'\n",
    "categories = ['爱情', '历史']\n",
    "file.write(f'名称: {name}\\n')\n",
    "file.write(f'类别: {categories}\\n')\n",
    "```\n",
    "\n",
    "### 3. 常用文件打开方式\n",
    "\n",
    "|模式|概述|详细描述|\n",
    "|:-:|:-:|:-:|\n",
    "|`r`|**只读**|文件指针位于文件的开头，默认模式|\n",
    "|`w`|**仅供写入**|如果文件存在，则覆盖该文件，如果不存在，则创建一个新文件进行写入|\n",
    "|`a`|**追加**|如果文件存在，则文件指针位于文件末尾；如果文件不存在，则创建一个新文件进行写入|\n",
    "\n"
   ]
  },
  {
   "cell_type": "markdown",
   "metadata": {},
   "source": [
    "# 笔记 / 练习"
   ]
  },
  {
   "cell_type": "markdown",
   "metadata": {},
   "source": [
    "## 写入"
   ]
  },
  {
   "cell_type": "markdown",
   "metadata": {
    "collapsed": false,
    "pycharm": {
     "name": "#%% md\n"
    }
   },
   "source": [
    "利用 Python 提供的 open 方法打开一个文本文件，获取一个文件操作对象，这里赋值为 file，\n",
    "\n",
    "每提取一部分信息，就利用 file 对象的 write 方法将提取的内容写入文件。\n",
    "\n",
    "全部提取完毕之后，最后调用 close 方法将其关闭"
   ]
  },
  {
   "cell_type": "code",
   "execution_count": 2,
   "metadata": {
    "pycharm": {
     "name": "#%%\n"
    }
   },
   "outputs": [],
   "source": [
    "import re\n",
    "import requests\n",
    "from pyquery import PyQuery as pq\n",
    "\n",
    "url = 'https://ssr1.scrape.center/'\n",
    "html = requests.get(url).text\n",
    "doc = pq(html)\n",
    "items = doc('.el-card').items()\n",
    "\n",
    "# 利用 Python 提供的 open 方法打开一个文本文件，获取一个文件操作对象，赋值为 file\n",
    "file = open('.\\数据\\movie.txt', 'w', encoding='utf-8')\n",
    "for item in items:\n",
    "    name = item.find('a h2').text()\n",
    "    categories = [item.text() for item in item.find('.categories button span').items()]\n",
    "    published_at = item.find('.info:contains(上映)').text()\n",
    "    published_at = re.search('(d{4}-\\d{2}-\\d{2})', published_at).group(1) \\\n",
    "        if published_at and re.search('d{4}-\\d{2}-\\d{2}', published_at) else None\n",
    "    score = item.find('p.score').text()\n",
    "\n",
    "    # 利用 file 对象的 write 方法将提取的内容写入文件\n",
    "    file.write(f'名称: {name}\\n')       # 什么意思？\n",
    "    file.write(f'类别: {categories}\\n')\n",
    "    file.write(f'上映时间: {published_at}\\n')\n",
    "    file.write(f'{\"=\" * 50}\\n')\n",
    "\n",
    "file.close()"
   ]
  },
  {
   "cell_type": "markdown",
   "metadata": {},
   "source": [
    "## 简化写法"
   ]
  },
  {
   "cell_type": "markdown",
   "metadata": {},
   "source": [
    "- 使用 with as 语法。\n",
    "\n",
    "在 with 控制块结束时，文件会自动关闭，不需要再调用 close 方法"
   ]
  },
  {
   "cell_type": "code",
   "execution_count": null,
   "metadata": {},
   "outputs": [],
   "source": [
    "with open('movies.txt', 'w', encoding='utf-8'):\n",
    "    file.write(f'名称: {name}\\n')"
   ]
  },
  {
   "cell_type": "markdown",
   "metadata": {
    "collapsed": false,
    "pycharm": {
     "name": "#%% md\n"
    }
   },
   "source": [
    "## 文件打开方式"
   ]
  },
  {
   "cell_type": "markdown",
   "metadata": {},
   "source": [
    "[Python文件读写](https://www.yiibai.com/python/python_files_io.html)\n",
    "\n",
    "<div align=center> \n",
    "<img alt=\"图 3\" src=\"../../images/6f510e0f785464bcb8c605fc95d80fb8e4fc6c2101982c8a2c36bf0f56832b8c.png\" width=75%/>  "
   ]
  }
 ],
 "metadata": {
  "kernelspec": {
   "display_name": "Python 3.9.7 ('base')",
   "language": "python",
   "name": "python3"
  },
  "language_info": {
   "codemirror_mode": {
    "name": "ipython",
    "version": 3
   },
   "file_extension": ".py",
   "mimetype": "text/x-python",
   "name": "python",
   "nbconvert_exporter": "python",
   "pygments_lexer": "ipython3",
   "version": "3.9.12"
  },
  "orig_nbformat": 4,
  "vscode": {
   "interpreter": {
    "hash": "6a018d3a992d78c184ccc94ab54168c7b26325ed3c2283926339c3edbf5487e7"
   }
  }
 },
 "nbformat": 4,
 "nbformat_minor": 2
}
