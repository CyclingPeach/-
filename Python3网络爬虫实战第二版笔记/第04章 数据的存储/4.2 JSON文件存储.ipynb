{
 "cells": [
  {
   "cell_type": "markdown",
   "metadata": {},
   "source": [
    "[【2022 年】Python3 爬虫教程 - 方便灵活的 JSON 文本文件存储](https://cuiqingcai.com/202242.html)\n",
    "\n"
   ]
  },
  {
   "cell_type": "markdown",
   "metadata": {},
   "source": [
    "# 总结\n",
    "\n",
    "- `json.loads()`    字符串 ——> json 对象\n",
    "- `json.dumps()`    json 对象 ——> 字符串\n",
    "- JSON 字符串中的对象属性需用双引号来包围，不能使用单引号。\n",
    "  ```Python\n",
    "  json_str = '''\n",
    "  [\n",
    "      {\"name\":'\"CyclingPeach\",\n",
    "        \"gender\":\"male\",\n",
    "      },\n",
    "      {\"name\":\"Tony\",\n",
    "        \"gender\":\"female\n",
    "      }\n",
    "  ]\n",
    "  '''\n",
    "  ```\n",
    "- JSON 文件读取\n",
    "  ```Python\n",
    "  with open('data.json', encoding='utf-8') as file:\n",
    "      str = file.read()\n",
    "      data = json.loads(str)                              # json.loads()\n",
    "  # 或\n",
    "  data = json.load(open('data.json', encoding='utf-8'))   # json.load()\n",
    "  ```\n",
    "-  输出 JSON\n",
    "  ```Python\n",
    "  with open('data.json', 'w', encoding='utf-8') as file:\n",
    "      file.write(json.dumps(data, indent=2, ensure_ascii=False))  # 缩进数量、中文编码            # json.dumps()\n",
    "  # 或\n",
    "  json.dump(data, open('data.json', 'w', encoding='utf-8'), indent=2, ensure_ascii=False)    # json.dump()\n",
    "  ```"
   ]
  },
  {
   "cell_type": "markdown",
   "metadata": {},
   "source": [
    "# 介绍"
   ]
  },
  {
   "cell_type": "markdown",
   "metadata": {},
   "source": [
    "JSON，全称为 JavaScript Object Notation, 也就是 JavaScript 对象标记\n",
    "\n",
    "结构化程度非常高\n",
    "\n",
    "在 JavaScript 语言中，一切都是对象。因此，任何支持的类型都可以通过 JSON 来表示，例如字符串、数字、对象、数组等\n",
    "\n",
    "<div align=center>\n",
    "<img alt=\"图 1\" src=\"../../images/9eea575b67de72a1529cebae6f771f4ac46f67ecbbf573976297fcb421e7eb01.png\" width=75%/>  "
   ]
  },
  {
   "cell_type": "markdown",
   "metadata": {},
   "source": [
    "# 读取JSON"
   ]
  },
  {
   "cell_type": "markdown",
   "metadata": {},
   "source": [
    "- 调用 JSON 库的 loads 方法将 JSON 文本字符串转为 JSON 对象\n",
    "  - 实际上 JSON 对象为 Python 中的 list 和 dict 的嵌套和组合，这里称之为 JSON 对象。\n",
    "- 另外我们还可以通过 dumps 方法将 JSON 对象转为文本字符串。"
   ]
  },
  {
   "cell_type": "code",
   "execution_count": 6,
   "metadata": {},
   "outputs": [
    {
     "name": "stdout",
     "output_type": "stream",
     "text": [
      "<class 'str'> \n",
      "\n",
      "<class 'list'>\n",
      "[{'name': 'Bob', 'gender': 'male', 'birthday': '1992-10-18'}, {'name': 'Selina', 'gender': 'female', 'birthday': '1995-10-18'}]\n"
     ]
    }
   ],
   "source": [
    "import json\n",
    "\n",
    "str = '''\n",
    "[{\n",
    "    \"name\": \"Bob\",\n",
    "    \"gender\": \"male\",\n",
    "    \"birthday\": \"1992-10-18\"\n",
    "}, {\n",
    "    \"name\": \"Selina\",\n",
    "    \"gender\": \"female\",\n",
    "    \"birthday\": \"1995-10-18\"\n",
    "}]\n",
    "'''\n",
    "print(type(str), '\\n')\n",
    "\n",
    "data = json.loads(str)\n",
    "print(type(data))\n",
    "print(data)"
   ]
  },
  {
   "cell_type": "code",
   "execution_count": 8,
   "metadata": {},
   "outputs": [
    {
     "name": "stdout",
     "output_type": "stream",
     "text": [
      "Bob\n",
      "Bob\n"
     ]
    }
   ],
   "source": [
    "print(data[0]['name'])\n",
    "print(data[0].get('name'))"
   ]
  },
  {
   "cell_type": "markdown",
   "metadata": {},
   "source": [
    "推荐使用 get 方法，这样如果键名不存在，则不会报错，会返回 None。\n",
    "\n",
    "另外，get 方法还可以传入第二个参数（即默认值）"
   ]
  },
  {
   "cell_type": "code",
   "execution_count": 10,
   "metadata": {},
   "outputs": [
    {
     "name": "stdout",
     "output_type": "stream",
     "text": [
      "None\n",
      "25\n"
     ]
    }
   ],
   "source": [
    "print(data[0].get('age'))\n",
    "print(data[0].get('age', 25))"
   ]
  }
 ],
 "metadata": {
  "kernelspec": {
   "display_name": "Python 3.9.7 ('base')",
   "language": "python",
   "name": "python3"
  },
  "language_info": {
   "codemirror_mode": {
    "name": "ipython",
    "version": 3
   },
   "file_extension": ".py",
   "mimetype": "text/x-python",
   "name": "python",
   "nbconvert_exporter": "python",
   "pygments_lexer": "ipython3",
   "version": "3.9.12"
  },
  "orig_nbformat": 4,
  "vscode": {
   "interpreter": {
    "hash": "6a018d3a992d78c184ccc94ab54168c7b26325ed3c2283926339c3edbf5487e7"
   }
  }
 },
 "nbformat": 4,
 "nbformat_minor": 2
}
