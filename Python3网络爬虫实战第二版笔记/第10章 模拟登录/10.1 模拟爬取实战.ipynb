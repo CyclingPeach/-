{
 "cells": [
  {
   "cell_type": "markdown",
   "metadata": {},
   "source": [
    "<div align=center>\n",
    "<img alt=\"图 1\" src=\"../../images/0488184a3dbc7219f89b69586ff63b4c53e9d5c3b9be39191a80810f6c448d30.png\" width=75%>  \n",
    "</div>"
   ]
  },
  {
   "cell_type": "markdown",
   "metadata": {},
   "source": [
    "在默认情况下，每次 requests 请求都是独立且互不干扰的，比如我们第一次调用了 post 方法模拟登录了一下，紧接着再调用 get 方法请求主页面。其实这是两个完全独立的请求，**第一次请求获取的 Cookie 并不能传给第二次请求，因此常规的顺序调用是不能起到模拟登录效果的。**\n",
    "\n",
    "<div align=center>\n",
    "<img alt=\"图 1\" src=\"../../images/151b1f39544a341d81a0be610bfbce513fae24584a798164811948a7632f23a5.png\" width=75%/>  \n",
    "</div>"
   ]
  },
  {
   "cell_type": "code",
   "execution_count": 23,
   "metadata": {},
   "outputs": [
    {
     "name": "stdout",
     "output_type": "stream",
     "text": [
      "Response Status 200\n",
      "Response URL https://login2.scrape.center/login?next=/page/1\n"
     ]
    }
   ],
   "source": [
    "import requests\n",
    "from urllib.parse import urljoin\n",
    "\n",
    "BASE_URL = 'https://login2.scrape.center/'\n",
    "LOGIN_URL = urljoin(BASE_URL, '/login')\n",
    "INDEX_URL = urljoin(BASE_URL, '/page/1')\n",
    "USERNAME = 'admin'\n",
    "PASSWORD = 'admin'\n",
    "\n",
    "response_login = requests.post(LOGIN_URL, data={\n",
    "    'username': USERNAME,\n",
    "    'password': PASSWORD\n",
    "})\n",
    "\n",
    "response_index = requests.get(INDEX_URL)\n",
    "print('Response Status', response_index.status_code)\n",
    "print('Response URL', response_index.url)"
   ]
  },
  {
   "cell_type": "code",
   "execution_count": 27,
   "metadata": {},
   "outputs": [
    {
     "name": "stdout",
     "output_type": "stream",
     "text": [
      "Cookies <RequestsCookieJar[<Cookie sessionid=6hz35dgml57psy0zor6gjcyeirc6tik9 for login2.scrape.center/>]>\n",
      "Response Status 200\n",
      "Response URL https://login2.scrape.center/page/1\n"
     ]
    }
   ],
   "source": [
    "import requests\n",
    "from urllib.parse import urljoin\n",
    "\n",
    "BASE_URL = 'https://login2.scrape.center/'\n",
    "LOGIN_URL = urljoin(BASE_URL, '/login')\n",
    "INDEX_URL = urljoin(BASE_URL, '/page/1')\n",
    "USERNAME = 'admin'\n",
    "PASSWORD = 'admin'\n",
    "\n",
    "session = requests.Session()\n",
    "\n",
    "response_login = session.post(LOGIN_URL, data={\n",
    "    'username': USERNAME,\n",
    "    'password': PASSWORD\n",
    "})\n",
    "\n",
    "cookies = session.cookies\n",
    "print('Cookies', cookies)\n",
    "\n",
    "response_index = session.get(INDEX_URL, cookies=cookies)\n",
    "print('Response Status', response_index.status_code)\n",
    "print('Response URL', response_index.url)"
   ]
  },
  {
   "cell_type": "code",
   "execution_count": 35,
   "metadata": {},
   "outputs": [
    {
     "name": "stdout",
     "output_type": "stream",
     "text": [
      "Cookies [{'domain': 'login2.scrape.center', 'expiry': 1659953553, 'httpOnly': True, 'name': 'sessionid', 'path': '/', 'sameSite': 'Lax', 'secure': False, 'value': 'rs4hmb6qyne26xssrq0uu0kww3vummpn'}]\n",
      "<Cookie sessionid=rs4hmb6qyne26xssrq0uu0kww3vummpn for />\n",
      "<RequestsCookieJar[<Cookie sessionid=rs4hmb6qyne26xssrq0uu0kww3vummpn for />]>\n",
      "Response Status 200\n",
      "Response URL https://login2.scrape.center/page/1\n"
     ]
    }
   ],
   "source": [
    "from urllib.parse import urljoin\n",
    "from selenium.webdriver.common.by import By\n",
    "from selenium import webdriver\n",
    "import requests\n",
    "import time\n",
    "\n",
    "BASE_URL = 'https://login2.scrape.center/'\n",
    "LOGIN_URL = urljoin(BASE_URL, '/login')\n",
    "INDEX_URL = urljoin(BASE_URL, '/page/1')\n",
    "USERNAME = 'admin'\n",
    "PASSWORD = 'admin'\n",
    "\n",
    "browser = webdriver.Chrome()\n",
    "browser.get(BASE_URL)\n",
    "browser.find_element(By.CSS_SELECTOR, 'input[name=\"username\"]').send_keys(USERNAME)\n",
    "browser.find_element(By.CSS_SELECTOR, 'input[name=\"password\"]').send_keys(PASSWORD)\n",
    "browser.find_element(By.CSS_SELECTOR, 'input[type=\"submit\"]').click()\n",
    "time.sleep(10)\n",
    "\n",
    "# get cookies from selenium\n",
    "cookies = browser.get_cookies()\n",
    "print('Cookies', cookies)\n",
    "browser.close()\n",
    "\n",
    "# set cookies to requests\n",
    "session = requests.Session()\n",
    "for cookie in cookies:\n",
    "    session.cookies.set(cookie['name'], cookie['value'])\n",
    "    print(session.cookies.set(cookie['name'], cookie['value']))\n",
    "    print(session.cookies)\n",
    "\n",
    "response_index = session.get(INDEX_URL)\n",
    "print('Response Status', response_index.status_code)\n",
    "print('Response URL', response_index.url)"
   ]
  }
 ],
 "metadata": {
  "kernelspec": {
   "display_name": "Python 3.10.5 64-bit",
   "language": "python",
   "name": "python3"
  },
  "language_info": {
   "codemirror_mode": {
    "name": "ipython",
    "version": 3
   },
   "file_extension": ".py",
   "mimetype": "text/x-python",
   "name": "python",
   "nbconvert_exporter": "python",
   "pygments_lexer": "ipython3",
   "version": "3.10.5"
  },
  "orig_nbformat": 4,
  "vscode": {
   "interpreter": {
    "hash": "f2a5bf28d355fe521ed3f64872e16602c78af8be39336b89786eaf09e9544d21"
   }
  }
 },
 "nbformat": 4,
 "nbformat_minor": 2
}
