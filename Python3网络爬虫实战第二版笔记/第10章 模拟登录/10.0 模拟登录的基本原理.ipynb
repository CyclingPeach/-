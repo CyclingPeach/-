{
 "cells": [
  {
   "cell_type": "markdown",
   "metadata": {},
   "source": [
    " - [【2022 年】Python3 爬虫教程 - 模拟登录的基本原理](https://cuiqingcai.com/202281.html)\n",
    "\n",
    "目前比较流行的实现方式有两种，一种是基于 Session + Cookie 的验证，一种是基于 JWT（JSON Web Token）的验证"
   ]
  },
  {
   "cell_type": "code",
   "execution_count": null,
   "metadata": {},
   "outputs": [],
   "source": []
  }
 ],
 "metadata": {
  "kernelspec": {
   "display_name": "Python 3.10.5 64-bit",
   "language": "python",
   "name": "python3"
  },
  "language_info": {
   "name": "python",
   "version": "3.10.5"
  },
  "orig_nbformat": 4,
  "vscode": {
   "interpreter": {
    "hash": "f2a5bf28d355fe521ed3f64872e16602c78af8be39336b89786eaf09e9544d21"
   }
  }
 },
 "nbformat": 4,
 "nbformat_minor": 2
}
