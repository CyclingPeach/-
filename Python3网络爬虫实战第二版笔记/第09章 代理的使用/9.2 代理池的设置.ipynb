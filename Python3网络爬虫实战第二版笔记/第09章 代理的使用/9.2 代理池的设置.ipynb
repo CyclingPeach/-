{
 "cells": [
  {
   "cell_type": "code",
   "execution_count": 1,
   "metadata": {},
   "outputs": [
    {
     "name": "stdout",
     "output_type": "stream",
     "text": [
      " * Serving Flask app \"__main__\" (lazy loading)\n",
      " * Environment: production\n",
      "\u001b[31m   WARNING: This is a development server. Do not use it in a production deployment.\u001b[0m\n",
      "\u001b[2m   Use a production WSGI server instead.\u001b[0m\n",
      " * Debug mode: off\n"
     ]
    },
    {
     "name": "stderr",
     "output_type": "stream",
     "text": [
      " * Running on http://127.0.0.1:5000/ (Press CTRL+C to quit)\n",
      "127.0.0.1 - - [18/Jul/2022 17:27:10] \"GET / HTTP/1.1\" 200 -\n",
      "127.0.0.1 - - [18/Jul/2022 17:27:10] \"GET /favicon.ico HTTP/1.1\" 404 -\n",
      "127.0.0.1 - - [18/Jul/2022 17:27:16] \"GET / HTTP/1.1\" 200 -\n",
      "127.0.0.1 - - [18/Jul/2022 17:27:17] \"GET / HTTP/1.1\" 200 -\n",
      "127.0.0.1 - - [18/Jul/2022 17:27:17] \"GET / HTTP/1.1\" 200 -\n",
      "127.0.0.1 - - [18/Jul/2022 17:27:17] \"GET / HTTP/1.1\" 200 -\n",
      "127.0.0.1 - - [18/Jul/2022 17:27:17] \"GET / HTTP/1.1\" 200 -\n",
      "127.0.0.1 - - [18/Jul/2022 17:27:18] \"GET / HTTP/1.1\" 200 -\n",
      "127.0.0.1 - - [18/Jul/2022 17:27:18] \"GET / HTTP/1.1\" 200 -\n",
      "127.0.0.1 - - [18/Jul/2022 17:27:18] \"GET / HTTP/1.1\" 200 -\n",
      "127.0.0.1 - - [18/Jul/2022 17:27:18] \"GET / HTTP/1.1\" 200 -\n",
      "127.0.0.1 - - [18/Jul/2022 17:27:18] \"GET / HTTP/1.1\" 200 -\n"
     ]
    }
   ],
   "source": [
    "from flask import Flask\n",
    "app = Flask(__name__)\n",
    "\n",
    "@app.route(\"/\")\n",
    "def hello():\n",
    "    return \"Hello World!\"\n",
    "\n",
    "if __name__ == \"__main__\":\n",
    "    app.run()"
   ]
  }
 ],
 "metadata": {
  "kernelspec": {
   "display_name": "Python 3.9.7 ('base')",
   "language": "python",
   "name": "python3"
  },
  "language_info": {
   "codemirror_mode": {
    "name": "ipython",
    "version": 3
   },
   "file_extension": ".py",
   "mimetype": "text/x-python",
   "name": "python",
   "nbconvert_exporter": "python",
   "pygments_lexer": "ipython3",
   "version": "3.9.7"
  },
  "orig_nbformat": 4,
  "vscode": {
   "interpreter": {
    "hash": "6a018d3a992d78c184ccc94ab54168c7b26325ed3c2283926339c3edbf5487e7"
   }
  }
 },
 "nbformat": 4,
 "nbformat_minor": 2
}
