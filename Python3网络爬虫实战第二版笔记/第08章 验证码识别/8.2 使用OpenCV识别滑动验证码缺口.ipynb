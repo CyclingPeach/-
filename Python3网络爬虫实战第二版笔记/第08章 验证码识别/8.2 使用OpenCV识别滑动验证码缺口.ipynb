{
 "cells": [
  {
   "cell_type": "code",
   "execution_count": null,
   "metadata": {},
   "outputs": [],
   "source": [
    "from selenium import webdriver\n",
    "\n",
    "# 登录 极验 的用户名和密码\n",
    "EMAIL = 'test@test.com' \n",
    "PASSWORD = '123456'\n",
    "\n",
    "\n",
    "\n",
    "class CrackGeetest():\n",
    "    ### 初始化\n",
    "    def __init__(self):\n",
    "        self.url = 'https://account.geetest.com/login'\n",
    "        self.browser = webdriver.Chrome()\n",
    "        self.wait = WebDriverWait(self.browser, 20)\n",
    "        self.email = EMAIL\n",
    "        self.password = PASSWORD\n",
    "\n",
    "    ### 模拟点击\n",
    "    def get_geetest_button(self):\n",
    "        \"\"\"\n",
    "        获取初始验证按钮\n",
    "        :return: 按钮对象\n",
    "        \"\"\"\n",
    "        button = self.wait.until(EC.element_to_be_clickable((By.CLASS_NAME, 'geetest_radar_tip')))\n",
    "        return button\n",
    "    \n"
   ]
  },
  {
   "cell_type": "markdown",
   "metadata": {},
   "source": [
    "### 识别缺口"
   ]
  },
  {
   "cell_type": "code",
   "execution_count": null,
   "metadata": {},
   "outputs": [],
   "source": [
    "def get_position(self):\n",
    "    \"\"\"\n",
    "    获取验证码位置\n",
    "    :return: 验证码位置元组\n",
    "    \"\"\"\n",
    "    img = self.wait.until(EC.presence_of_element_located((By.CLASS_NAME, 'geetest_canvas_img')))    # geetest_window\n",
    "    time.sleep(2)\n",
    "    location = img.location\n",
    "    size = img.size\n",
    "    top, bottom, left, right = location['y'], location['y'] + size['height'], location['x'], location['x'] + size['width']\n",
    "    return (top, bottom, left, right)\n",
    "\n",
    "def get_geetest_image(self, name='captcha.png'):\n",
    "    \"\"\"\n",
    "    获取验证码图片\n",
    "    :return: 图片对象\n",
    "    \"\"\"\n",
    "    top, bottom, left, right = self.get_position()\n",
    "    print(' 验证码位置 ', top, bottom, left, right)\n",
    "    screenshot = self.get_screenshot()\n",
    "    captcha = screenshot.crop((left, top, right, bottom))\n",
    "    return captcha"
   ]
  },
  {
   "cell_type": "markdown",
   "metadata": {},
   "source": [
    "### 超级鹰 API"
   ]
  },
  {
   "cell_type": "code",
   "execution_count": null,
   "metadata": {},
   "outputs": [],
   "source": [
    "#!/usr/bin/env python\n",
    "# coding:utf-8\n",
    "\n",
    "import requests\n",
    "from hashlib import md5\n",
    "\n",
    "class Chaojiying_Client(object):\n",
    "\n",
    "    def __init__(self, username, password, soft_id):\n",
    "        self.username = username\n",
    "        password =  password.encode('utf8')\n",
    "        self.password = md5(password).hexdigest()\n",
    "        self.soft_id = soft_id\n",
    "        self.base_params = {\n",
    "            'user': self.username,\n",
    "            'pass2': self.password,\n",
    "            'softid': self.soft_id,\n",
    "        }\n",
    "        self.headers = {\n",
    "            'Connection': 'Keep-Alive',\n",
    "            'User-Agent': 'Mozilla/4.0 (compatible; MSIE 8.0; Windows NT 5.1; Trident/4.0)',\n",
    "        }\n",
    "\n",
    "    def PostPic(self, im, codetype):\n",
    "        \"\"\"\n",
    "        im: 图片字节\n",
    "        codetype: 题目类型 参考 http://www.chaojiying.com/price.html\n",
    "        \"\"\"\n",
    "        params = {\n",
    "            'codetype': codetype,\n",
    "        }\n",
    "        params.update(self.base_params)\n",
    "        files = {'userfile': ('ccc.jpg', im)}\n",
    "        r = requests.post('http://upload.chaojiying.net/Upload/Processing.php', data=params, files=files, headers=self.headers)\n",
    "        return r.json()\n",
    "\n",
    "    def PostPic_base64(self, base64_str, codetype):\n",
    "        \"\"\"\n",
    "        im: 图片字节\n",
    "        codetype: 题目类型 参考 http://www.chaojiying.com/price.html\n",
    "        \"\"\"\n",
    "        params = {\n",
    "            'codetype': codetype,\n",
    "            'file_base64':base64_str\n",
    "        }\n",
    "        params.update(self.base_params)\n",
    "        r = requests.post('http://upload.chaojiying.net/Upload/Processing.php', data=params, headers=self.headers)\n",
    "        return r.json()\n",
    "\n",
    "    def ReportError(self, im_id):\n",
    "        \"\"\"\n",
    "        im_id:报错题目的图片ID\n",
    "        \"\"\"\n",
    "        params = {\n",
    "            'id': im_id,\n",
    "        }\n",
    "        params.update(self.base_params)\n",
    "        r = requests.post('http://upload.chaojiying.net/Upload/ReportError.php', data=params, headers=self.headers)\n",
    "        return r.json()\n",
    "\n",
    "\n",
    "if __name__ == '__main__':\n",
    "    chaojiying = Chaojiying_Client('超级鹰用户名', '超级鹰用户名的密码', '96001')   #用户中心>>软件ID 生成一个替换 96001\n",
    "    im = open('a.jpg', 'rb').read()         #本地图片文件路径 来替换 a.jpg 有时WIN系统须要//\n",
    "    print(chaojiying.PostPic(im, 1902))     #1902 验证码类型  官方网站>>价格体系 3.4+版 print 后要加()\n",
    "    # print(chaojiying.PostPic(base64_str, 1902))       #此处为传入 base64代码\n"
   ]
  }
 ],
 "metadata": {
  "kernelspec": {
   "display_name": "Python 3.9.12 ('base')",
   "language": "python",
   "name": "python3"
  },
  "language_info": {
   "name": "python",
   "version": "3.9.12"
  },
  "orig_nbformat": 4,
  "vscode": {
   "interpreter": {
    "hash": "6a018d3a992d78c184ccc94ab54168c7b26325ed3c2283926339c3edbf5487e7"
   }
  }
 },
 "nbformat": 4,
 "nbformat_minor": 2
}
