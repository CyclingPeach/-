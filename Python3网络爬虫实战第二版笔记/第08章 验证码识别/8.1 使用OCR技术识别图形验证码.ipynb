{
 "cells": [
  {
   "cell_type": "code",
   "execution_count": 16,
   "metadata": {},
   "outputs": [
    {
     "name": "stdout",
     "output_type": "stream",
     "text": [
      "a b 3 c\n",
      "\n"
     ]
    }
   ],
   "source": [
    "import tesserocr\n",
    "from PIL import Image\n",
    "import numpy as np\n",
    "\n",
    "image = Image.open('captcha2.png')\n",
    "image = image.convert('L')\n",
    "threshold  = 100\n",
    "array = np.array(image)\n",
    "array = np.where(array > threshold ,255, 0)\n",
    "\n",
    "image = Image.fromarray(array.astype('uint8'))\n",
    "image.show()\n",
    "print(tesserocr.image_to_text(image))"
   ]
  },
  {
   "cell_type": "code",
   "execution_count": 1,
   "metadata": {},
   "outputs": [
    {
     "name": "stdout",
     "output_type": "stream",
     "text": [
      "<class 'bytes'>\n"
     ]
    }
   ],
   "source": [
    "from selenium import webdriver\n",
    "from selenium.webdriver.common.by import By\n",
    "from io import BytesIO\n",
    "import numpy as np\n",
    "from PIL import Image\n",
    "import tesserocr\n",
    "import re\n",
    "import time\n",
    "\n",
    "from retrying import retry\n",
    "from selenium.webdriver.support.wait import WebDriverWait\n",
    "from selenium.webdriver.support import expected_conditions as EC\n",
    "from selenium.common.exceptions import TimeoutException\n",
    "\n",
    "LOGIN_URL = 'https://captcha7.scrape.center/'\n",
    "ACCOUTN = 'admin'\n",
    "PASSWORD = 'admin'\n",
    "THRESHOLD = 150\n",
    "\n",
    "def preprocess(image):\n",
    "    image = image.convert('L')\n",
    "    array = np.array(image)\n",
    "    array = np.where(array > THRESHOLD, 255, 0)\n",
    "    image = Image.fromarray(array.astype('uint8'))\n",
    "    return image\n",
    "\n",
    "@retry(stop_max_attempt_number=10, retry_on_result=lambda x:x is False)\n",
    "def login():\n",
    "    # browser = webdriver.Chrome()\n",
    "    browser.get(LOGIN_URL)\n",
    "\n",
    "    ### 这里应该加一个等待\n",
    "    # 填入账号和密码\n",
    "    browser.find_element(By.CSS_SELECTOR, '.username input[type=\"text\"]').send_keys(ACCOUTN)\n",
    "    time.sleep(1)\n",
    "    browser.find_element(By.CSS_SELECTOR, '.password input[type=\"password\"]').send_keys(PASSWORD)\n",
    "    time.sleep(1)\n",
    "\n",
    "    # 验证码图片识别\n",
    "    captcha = browser.find_element(By.CSS_SELECTOR, '#captcha')\n",
    "    image = Image.open(BytesIO(captcha.screenshot_as_png))\n",
    "    print(type(captcha.screenshot_as_png))\n",
    "    image = preprocess(image)\n",
    "    captcha = tesserocr.image_to_text(image)\n",
    "    captcha = re.sub('[^A-Za-z0-9]', '', captcha)\n",
    "\n",
    "    # 填入验证码\n",
    "    browser.find_element(By.CSS_SELECTOR, '.captcha input').send_keys(captcha)\n",
    "    time.sleep(1)\n",
    "\n",
    "    # 点击登录按钮\n",
    "    # browser.find_element(By.CSS_SELECTOR, 'button[type=\"button\"]').click()\n",
    "    browser.find_element(By.CSS_SELECTOR, '.login').click()\n",
    "\n",
    "    # 判断是否登录成功\n",
    "    try:\n",
    "        WebDriverWait(browser, 5).until(EC.presence_of_element_located((By.XPATH, '//h2[contains(., \"登录成功\")]')))\n",
    "        time.sleep(5)\n",
    "        browser.close()\n",
    "        return True\n",
    "    except TimeoutException:\n",
    "        return False\n",
    "\n",
    "if __name__ == \"__main__\":\n",
    "    browser = webdriver.Chrome()\n",
    "    login()"
   ]
  }
 ],
 "metadata": {
  "kernelspec": {
   "display_name": "Python 3.10.5 64-bit",
   "language": "python",
   "name": "python3"
  },
  "language_info": {
   "codemirror_mode": {
    "name": "ipython",
    "version": 3
   },
   "file_extension": ".py",
   "mimetype": "text/x-python",
   "name": "python",
   "nbconvert_exporter": "python",
   "pygments_lexer": "ipython3",
   "version": "3.10.5"
  },
  "orig_nbformat": 4,
  "vscode": {
   "interpreter": {
    "hash": "f2a5bf28d355fe521ed3f64872e16602c78af8be39336b89786eaf09e9544d21"
   }
  }
 },
 "nbformat": 4,
 "nbformat_minor": 2
}
