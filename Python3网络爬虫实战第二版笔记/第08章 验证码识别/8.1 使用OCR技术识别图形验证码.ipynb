{
 "cells": [
  {
   "cell_type": "code",
   "execution_count": null,
   "metadata": {},
   "outputs": [],
   "source": [
    "print('jfjj')"
   ]
  }
 ],
 "metadata": {
  "kernelspec": {
   "display_name": "Python 3.10.0 ('Python')",
   "language": "python",
   "name": "python3"
  },
  "language_info": {
   "name": "python",
   "version": "3.10.0"
  },
  "orig_nbformat": 4,
  "vscode": {
   "interpreter": {
    "hash": "6d37840938273129dce94d23b999d00030c84b5c95b521190f75b26cfe04dbff"
   }
  }
 },
 "nbformat": 4,
 "nbformat_minor": 2
}
