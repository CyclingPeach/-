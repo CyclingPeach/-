{
 "cells": [
  {
   "cell_type": "markdown",
   "metadata": {},
   "source": [
    "# 说明\n",
    "\n",
    "### 教程\n",
    "\n",
    "- 【2021-10-03】[Splash 的安装](https://cuiqingcai.com/31071.html)\n",
    "\n",
    "- 【2018-01-31】[[Python3 网络爬虫开发实战] 7.2-Splash 的使用](https://cuiqingcai.com/5638.html)\n",
    "- 【2018-01-31】[[Python3 网络爬虫开发实战] 7.3-Splash 负载均衡配置](https://cuiqingcai.com/5654.html)\n",
    "- 【2021-10-04】[Splash 负载均衡配置](https://cuiqingcai.com/31098.html)\n",
    "- 【2020-01-29】[Kubernetes 批量部署 Splash 服务](https://cuiqingcai.com/8811.html)"
   ]
  },
  {
   "cell_type": "markdown",
   "metadata": {},
   "source": [
    "### Splash的安装"
   ]
  },
  {
   "cell_type": "markdown",
   "metadata": {},
   "source": [
    "### 概述\n",
    "\n",
    "Splash 是一个 JavaScript 渲染服务，是一个**带有 HTTP API 的轻量级浏览器**，同时它对接了 Python 中的 Twisted 和 QT 库。利用它，我们同样可以实现**动态渲染页面的抓取**。\n",
    "\n",
    "做爬虫的小伙伴可能听说过 Splash，它可以提供动态页面渲染服务，如果我们要爬的某些页面是 JavaScript 渲染而成的，此时我们直接用 requests 或 Scrapy 来爬是没法直接爬到的，此时我们可以**借助于 Splash 来帮我们把 JavaScript 渲染后的真实页面结果拿下来**。 \n",
    "\n"
   ]
  },
  {
   "cell_type": "code",
   "execution_count": 9,
   "metadata": {},
   "outputs": [
    {
     "name": "stdout",
     "output_type": "stream",
     "text": [
      "{\"url\": \"http://httpbin.org/get\", \"html\": \"{\\n  \\\"args\\\": {}, \\n  \\\"headers\\\": {\\n    \\\"Accept-Encoding\\\": \\\"gzip, deflate\\\", \\n    \\\"Accept-Language\\\": \\\"en,*\\\", \\n    \\\"Host\\\": \\\"httpbin.org\\\", \\n    \\\"User-Agent\\\": \\\"Mozilla/5.0 (X11; Linux x86_64) AppleWebKit/602.1 (KHTML, like Gecko) splash Version/10.0 Safari/602.1\\\", \\n    \\\"X-Amzn-Trace-Id\\\": \\\"Root=1-62d1537c-2835956e36dc0ff61e804123\\\"\\n  }, \\n  \\\"origin\\\": \\\"183.206.22.108\\\", \\n  \\\"url\\\": \\\"http://httpbin.org/get\\\"\\n}\\n\", \"status\": 200}\n"
     ]
    }
   ],
   "source": [
    "import requests\n",
    "from urllib.parse import quote\n",
    "\n",
    "lua = '''\n",
    "function main(splash, args)\n",
    "  local treat = require(\"treat\")\n",
    "  local response = splash:http_get(\"http://httpbin.org/get\")\n",
    "    return {\n",
    "    html=treat.as_string(response.body),\n",
    "    url=response.url,\n",
    "    status=response.status\n",
    "    }\n",
    "end\n",
    "'''\n",
    "\n",
    "url = 'http://localhost:8050/execute?lua_source=' + quote(lua)\n",
    "response = requests.get(url)\n",
    "print(response.text)"
   ]
  }
 ],
 "metadata": {
  "kernelspec": {
   "display_name": "Python 3.9.7 ('base')",
   "language": "python",
   "name": "python3"
  },
  "language_info": {
   "codemirror_mode": {
    "name": "ipython",
    "version": 3
   },
   "file_extension": ".py",
   "mimetype": "text/x-python",
   "name": "python",
   "nbconvert_exporter": "python",
   "pygments_lexer": "ipython3",
   "version": "3.9.7"
  },
  "orig_nbformat": 4,
  "vscode": {
   "interpreter": {
    "hash": "6a018d3a992d78c184ccc94ab54168c7b26325ed3c2283926339c3edbf5487e7"
   }
  }
 },
 "nbformat": 4,
 "nbformat_minor": 2
}
