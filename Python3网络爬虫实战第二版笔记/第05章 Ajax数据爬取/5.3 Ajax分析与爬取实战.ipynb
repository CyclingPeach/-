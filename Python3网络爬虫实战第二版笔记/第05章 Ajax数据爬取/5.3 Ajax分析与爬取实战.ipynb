{
 "cells": [
  {
   "cell_type": "markdown",
   "metadata": {},
   "source": [
    "# 说明\n",
    "\n",
    "[【2022 年】Python3 爬虫教程 - Ajax 案例爬取实战](https://cuiqingcai.com/202253.html)"
   ]
  },
  {
   "cell_type": "markdown",
   "metadata": {},
   "source": [
    "# 总结\n"
   ]
  },
  {
   "cell_type": "markdown",
   "metadata": {},
   "source": [
    "# 笔记"
   ]
  },
  {
   "cell_type": "code",
   "execution_count": null,
   "metadata": {},
   "outputs": [],
   "source": [
    "import requests\n",
    "import lxml\n",
    "\n",
    "url = 'https://spa1.scrape.center/'\n",
    "\n",
    "xhr_url = 'https://m.weibo.cn/api/container/getIndex?type=uid&value=2830678474&containerid=1005052830678474'\n"
   ]
  },
  {
   "cell_type": "code",
   "execution_count": 17,
   "metadata": {},
   "outputs": [
    {
     "name": "stdout",
     "output_type": "stream",
     "text": [
      "<!DOCTYPE html><html lang=en><head><meta charset=utf-8><meta http-equiv=X-UA-Compatible content=\"IE=edge\"><meta name=viewport content=\"width=device-width,initial-scale=1\"><link rel=icon href=/favicon.ico><title>Scrape | Movie</title><link href=/css/chunk-700f70e1.1126d090.css rel=prefetch><link href=/css/chunk-d1db5eda.0ff76b36.css rel=prefetch><link href=/js/chunk-700f70e1.0548e2b4.js rel=prefetch><link href=/js/chunk-d1db5eda.b564504d.js rel=prefetch><link href=/css/app.ea9d802a.css rel=preload as=style><link href=/js/app.17b3aaa5.js rel=preload as=script><link href=/js/chunk-vendors.683ca77c.js rel=preload as=script><link href=/css/app.ea9d802a.css rel=stylesheet></head><body><noscript><strong>We're sorry but portal doesn't work properly without JavaScript enabled. Please enable it to continue.</strong></noscript><div id=app></div><script src=/js/chunk-vendors.683ca77c.js></script><script src=/js/app.17b3aaa5.js></script></body></html>\n"
     ]
    }
   ],
   "source": [
    "from bs4 import BeautifulSoup\n",
    "\n",
    "res = requests.get(url)\n",
    "html = res.text\n",
    "print(html)"
   ]
  },
  {
   "cell_type": "markdown",
   "metadata": {},
   "source": [
    "- 翻了几页的变化\n",
    "\n",
    "<div align=center>\n",
    "<img alt=\"图 1\" src=\"../../images/1a35918e16c7eba386c1283ef7111ba915b7cb69266ee69e5d72ee9c769a6530.png\" width=75%/>  "
   ]
  },
  {
   "cell_type": "code",
   "execution_count": null,
   "metadata": {},
   "outputs": [],
   "source": [
    "page_1 = 'https://spa1.scrape.center/api/movie/?limit=10&offset=0'\n",
    "page_5 = 'https://spa1.scrape.center/api/movie/?limit=10&offset=40'\n",
    "\n",
    "page_num = 0\n",
    "page_n = 'https://spa1.scrape.center/api/movie/?limit=10&offset=' + str((page_num-1) * 10)"
   ]
  },
  {
   "cell_type": "markdown",
   "metadata": {},
   "source": [
    "代码书写"
   ]
  },
  {
   "cell_type": "code",
   "execution_count": 44,
   "metadata": {},
   "outputs": [],
   "source": [
    "import requests\n",
    "import logging\n",
    "\n",
    "logging.basicConfig(level=logging.INFO,\n",
    "                    format=('%(asctime)s - %(levelname)s: %(message)s'))\n",
    "\n",
    "INDEX_ULR = 'https://spa1.scrape.center/api/movie/?limit=10&offset={offset}'\n",
    "\n",
    "def scrape_api(url):\n",
    "    response = requests.get(url)\n",
    "    return response.json()\n",
    "\n",
    "def scrape_index(page):\n",
    "    url = INDEX_ULR.format(offset = 10*(page-1))\n",
    "    return scrape_api(url)\n",
    "\n",
    "def main():\n",
    "    global index_data\n",
    "    index_data = []\n",
    "    for page in range(1, 11):\n",
    "        index_data.append(scrape_index(page))\n",
    "    return index_data\n",
    "\n",
    "if __name__ == '__main__':\n",
    "    main()"
   ]
  },
  {
   "cell_type": "code",
   "execution_count": 46,
   "metadata": {},
   "outputs": [
    {
     "name": "stdout",
     "output_type": "stream",
     "text": [
      "10\n"
     ]
    },
    {
     "data": {
      "text/plain": [
       "{'count': 101,\n",
       " 'results': [{'id': 1,\n",
       "   'name': '霸王别姬',\n",
       "   'alias': 'Farewell My Concubine',\n",
       "   'cover': 'https://p0.meituan.net/movie/ce4da3e03e655b5b88ed31b5cd7896cf62472.jpg@464w_644h_1e_1c',\n",
       "   'categories': ['剧情', '爱情'],\n",
       "   'published_at': '1993-07-26',\n",
       "   'minute': 171,\n",
       "   'score': 9.5,\n",
       "   'regions': ['中国内地', '中国香港']},\n",
       "  {'id': 2,\n",
       "   'name': '这个杀手不太冷',\n",
       "   'alias': 'Léon',\n",
       "   'cover': 'https://p1.meituan.net/movie/6bea9af4524dfbd0b668eaa7e187c3df767253.jpg@464w_644h_1e_1c',\n",
       "   'categories': ['剧情', '动作', '犯罪'],\n",
       "   'published_at': '1994-09-14',\n",
       "   'minute': 110,\n",
       "   'score': 9.5,\n",
       "   'regions': ['法国']},\n",
       "  {'id': 3,\n",
       "   'name': '肖申克的救赎',\n",
       "   'alias': 'The Shawshank Redemption',\n",
       "   'cover': 'https://p0.meituan.net/movie/283292171619cdfd5b240c8fd093f1eb255670.jpg@464w_644h_1e_1c',\n",
       "   'categories': ['剧情', '犯罪'],\n",
       "   'published_at': '1994-09-10',\n",
       "   'minute': 142,\n",
       "   'score': 9.5,\n",
       "   'regions': ['美国']},\n",
       "  {'id': 4,\n",
       "   'name': '泰坦尼克号',\n",
       "   'alias': 'Titanic',\n",
       "   'cover': 'https://p1.meituan.net/movie/b607fba7513e7f15eab170aac1e1400d878112.jpg@464w_644h_1e_1c',\n",
       "   'categories': ['剧情', '爱情', '灾难'],\n",
       "   'published_at': '1998-04-03',\n",
       "   'minute': 194,\n",
       "   'score': 9.5,\n",
       "   'regions': ['美国']},\n",
       "  {'id': 5,\n",
       "   'name': '罗马假日',\n",
       "   'alias': 'Roman Holiday',\n",
       "   'cover': 'https://p0.meituan.net/movie/289f98ceaa8a0ae737d3dc01cd05ab052213631.jpg@464w_644h_1e_1c',\n",
       "   'categories': ['剧情', '喜剧', '爱情'],\n",
       "   'published_at': '1953-08-20',\n",
       "   'minute': 118,\n",
       "   'score': 9.5,\n",
       "   'regions': ['美国']},\n",
       "  {'id': 6,\n",
       "   'name': '唐伯虎点秋香',\n",
       "   'alias': 'Flirting Scholar',\n",
       "   'cover': 'https://p0.meituan.net/movie/da64660f82b98cdc1b8a3804e69609e041108.jpg@464w_644h_1e_1c',\n",
       "   'categories': ['喜剧', '爱情', '古装'],\n",
       "   'published_at': '1993-07-01',\n",
       "   'minute': 102,\n",
       "   'score': 9.5,\n",
       "   'regions': ['中国香港']},\n",
       "  {'id': 7,\n",
       "   'name': '乱世佳人',\n",
       "   'alias': 'Gone with the Wind',\n",
       "   'cover': 'https://p0.meituan.net/movie/223c3e186db3ab4ea3bb14508c709400427933.jpg@464w_644h_1e_1c',\n",
       "   'categories': ['剧情', '爱情', '历史', '战争'],\n",
       "   'published_at': '1939-12-15',\n",
       "   'minute': 238,\n",
       "   'score': 9.5,\n",
       "   'regions': ['美国']},\n",
       "  {'id': 8,\n",
       "   'name': '喜剧之王',\n",
       "   'alias': 'The King of Comedy',\n",
       "   'cover': 'https://p0.meituan.net/movie/1f0d671f6a37f9d7b015e4682b8b113e174332.jpg@464w_644h_1e_1c',\n",
       "   'categories': ['剧情', '喜剧', '爱情'],\n",
       "   'published_at': '1999-02-13',\n",
       "   'minute': 85,\n",
       "   'score': 9.5,\n",
       "   'regions': ['中国香港']},\n",
       "  {'id': 9,\n",
       "   'name': '楚门的世界',\n",
       "   'alias': 'The Truman Show',\n",
       "   'cover': 'https://p0.meituan.net/movie/8959888ee0c399b0fe53a714bc8a5a17460048.jpg@464w_644h_1e_1c',\n",
       "   'categories': ['剧情', '科幻'],\n",
       "   'published_at': None,\n",
       "   'minute': 103,\n",
       "   'score': 9.0,\n",
       "   'regions': ['美国']},\n",
       "  {'id': 10,\n",
       "   'name': '狮子王',\n",
       "   'alias': 'The Lion King',\n",
       "   'cover': 'https://p0.meituan.net/movie/27b76fe6cf3903f3d74963f70786001e1438406.jpg@464w_644h_1e_1c',\n",
       "   'categories': ['动画', '歌舞', '冒险'],\n",
       "   'published_at': '1995-07-15',\n",
       "   'minute': 89,\n",
       "   'score': 9.0,\n",
       "   'regions': ['美国']}]}"
      ]
     },
     "execution_count": 46,
     "metadata": {},
     "output_type": "execute_result"
    }
   ],
   "source": [
    "print(len(index_data))\n",
    "index_data[0]"
   ]
  }
 ],
 "metadata": {
  "kernelspec": {
   "display_name": "Python 3.9.7 ('base')",
   "language": "python",
   "name": "python3"
  },
  "language_info": {
   "codemirror_mode": {
    "name": "ipython",
    "version": 3
   },
   "file_extension": ".py",
   "mimetype": "text/x-python",
   "name": "python",
   "nbconvert_exporter": "python",
   "pygments_lexer": "ipython3",
   "version": "3.9.12"
  },
  "orig_nbformat": 4,
  "vscode": {
   "interpreter": {
    "hash": "6a018d3a992d78c184ccc94ab54168c7b26325ed3c2283926339c3edbf5487e7"
   }
  }
 },
 "nbformat": 4,
 "nbformat_minor": 2
}
