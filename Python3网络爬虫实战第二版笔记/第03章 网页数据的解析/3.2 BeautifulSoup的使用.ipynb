{
 "cells": [
  {
   "cell_type": "markdown",
   "metadata": {},
   "source": [
    "<div align=center>\n",
    "<img alt=\"图 2\" src=\"../../images/1423de6c692472bf11eac9ee0017f8b03ffeadc34bc5f08079f8aedf6413e623.png\" width=75%/>  \n"
   ]
  },
  {
   "cell_type": "markdown",
   "metadata": {},
   "source": [
    "- `Beautiful Soup` 就是 **Python 的一个 `HTML` 或 `XML` 的解析库**，可以用它来方便地从网页中提取数据。\n",
    "    - `Beautiful Soup` 提供一些简单的、Python 式的函数来处理导航、搜索、修改分析树等功能。\n",
    "    - **`Beautiful Soup` 自动将输入文档转换为 `Unicode` 编码，输出文档转换为 `UTF-8` 编码**。（你不需要考虑编码方式，除非文档没有指定一个编码方式，这时你仅仅需要说明一下原始编码方式就可以了。）\n",
    "    - `Beautiful Soup` 已成为和 `lxml`、`html6lib` 一样出色的 Python 解释器，为用户灵活地提供不同的解析策略或强劲的速度。\n",
    "\n",
    "- **表 4-3 BeautifulSoup 支持的解析器**\n",
    "<div align=center>\n",
    "<img alt=\"图 3\" src=\"../../images/4e7ba4ab09f6bbab1d340dc6022227a428d238af02756523f9312b95076c745b.png\" width=75%/>  \n"
   ]
  },
  {
   "cell_type": "code",
   "execution_count": 1,
   "metadata": {},
   "outputs": [
    {
     "name": "stdout",
     "output_type": "stream",
     "text": [
      "\n",
      " <html><body><p>Hello</p></body></html>\n",
      "\n",
      " <p>Hello</p>\n",
      "\n",
      " Hello\n"
     ]
    }
   ],
   "source": [
    "from bs4 import BeautifulSoup\n",
    "\n",
    "soup = BeautifulSoup('<p>Hello</p>', 'lxml')\n",
    "\n",
    "print('\\n', soup)\n",
    "print('\\n', soup.p)\n",
    "print('\\n', soup.p.string)"
   ]
  },
  {
   "cell_type": "code",
   "execution_count": 3,
   "metadata": {},
   "outputs": [
    {
     "name": "stdout",
     "output_type": "stream",
     "text": [
      "<html><head><title>The Dormouse's story</title></head>\n",
      "<body>\n",
      "<p class=\"title\" name=\"dromouse\"><b>The Dormouse's story</b></p>\n",
      "<p class=\"story\">Once upon a time there were three little sisters; and their names were\n",
      "<a class=\"sister\" href=\"http://example.com/elsie\" id=\"link1\"><!-- Elsie --></a>,\n",
      "<a class=\"sister\" href=\"http://example.com/lacie\" id=\"link2\">Lacie</a> and\n",
      "<a class=\"sister\" href=\"http://example.com/tillie\" id=\"link3\">Tillie</a>;\n",
      "and they lived at the bottom of a well.</p>\n",
      "<p class=\"story\">...</p>\n",
      "</body></html> \n",
      "\n",
      "【标准的缩进格式】\n",
      "<html>\n",
      " <head>\n",
      "  <title>\n",
      "   The Dormouse's story\n",
      "  </title>\n",
      " </head>\n",
      " <body>\n",
      "  <p class=\"title\" name=\"dromouse\">\n",
      "   <b>\n",
      "    The Dormouse's story\n",
      "   </b>\n",
      "  </p>\n",
      "  <p class=\"story\">\n",
      "   Once upon a time there were three little sisters; and their names were\n",
      "   <a class=\"sister\" href=\"http://example.com/elsie\" id=\"link1\">\n",
      "    <!-- Elsie -->\n",
      "   </a>\n",
      "   ,\n",
      "   <a class=\"sister\" href=\"http://example.com/lacie\" id=\"link2\">\n",
      "    Lacie\n",
      "   </a>\n",
      "   and\n",
      "   <a class=\"sister\" href=\"http://example.com/tillie\" id=\"link3\">\n",
      "    Tillie\n",
      "   </a>\n",
      "   ;\n",
      "and they lived at the bottom of a well.\n",
      "  </p>\n",
      "  <p class=\"story\">\n",
      "   ...\n",
      "  </p>\n",
      " </body>\n",
      "</html>\n",
      "The Dormouse's story\n"
     ]
    }
   ],
   "source": [
    "html = \"\"\"\n",
    "<html><head><title>The Dormouse's story</title></head>\n",
    "<body>\n",
    "<p class=\"title\" name=\"dromouse\"><b>The Dormouse's story</b></p>\n",
    "<p class=\"story\">Once upon a time there were three little sisters; and their names were\n",
    "<a href=\"http://example.com/elsie\" class=\"sister\" id=\"link1\"><!-- Elsie --></a>,\n",
    "<a href=\"http://example.com/lacie\" class=\"sister\" id=\"link2\">Lacie</a> and\n",
    "<a href=\"http://example.com/tillie\" class=\"sister\" id=\"link3\">Tillie</a>;\n",
    "and they lived at the bottom of a well.</p>\n",
    "<p class=\"story\">...</p>\n",
    "\"\"\"\n",
    "\n",
    "from bs4 import BeautifulSoup\n",
    "soup = BeautifulSoup(html, 'lxml')  # BeaufulSoup 对象的初始化。然后，将这个对象赋值给 soup 变量。\n",
    "print(soup, '\\n\\n【标准的缩进格式】')\n",
    "print(soup.prettify())\n",
    "print(soup.title.string)"
   ]
  },
  {
   "cell_type": "code",
   "execution_count": 4,
   "metadata": {},
   "outputs": [
    {
     "name": "stdout",
     "output_type": "stream",
     "text": [
      "b'<html><head><title>The Dormouse\\'s story</title></head>\\n<body>\\n<p class=\"title\" name=\"dromouse\"><b>The Dormouse\\'s story</b></p>\\n<p class=\"story\">Once upon a time there were three little sisters; and their names were\\n<a href=\"http://example.com/elsie\" class=\"sister\" id=\"link1\"><!-- Elsie --></a>,\\n<a href=\"http://example.com/lacie\" class=\"sister\" id=\"link2\">Lacie</a> and\\n<a href=\"http://example.com/tillie\" class=\"sister\" id=\"link3\">Tillie</a>;\\nand they lived at the bottom of a well.</p>\\n<p class=\"story\">...</p>\\n</body></html>' \n",
      "\n",
      "<html><head><title>The Dormouse's story</title></head>\n",
      "<body>\n",
      "<p class=\"title\" name=\"dromouse\"><b>The Dormouse's story</b></p>\n",
      "<p class=\"story\">Once upon a time there were three little sisters; and their names were\n",
      "<a href=\"http://example.com/elsie\" class=\"sister\" id=\"link1\"><!-- Elsie --></a>,\n",
      "<a href=\"http://example.com/lacie\" class=\"sister\" id=\"link2\">Lacie</a> and\n",
      "<a href=\"http://example.com/tillie\" class=\"sister\" id=\"link3\">Tillie</a>;\n",
      "and they lived at the bottom of a well.</p>\n",
      "<p class=\"story\">...</p>\n",
      "</body></html>\n"
     ]
    }
   ],
   "source": [
    "from lxml import etree\n",
    "xpath_html = etree.HTML(html)\n",
    "result = etree.tostring(xpath_html)\n",
    "print(result, '\\n')\n",
    "result = result.decode('utf-8')\n",
    "print(result)"
   ]
  },
  {
   "cell_type": "code",
   "execution_count": 5,
   "metadata": {},
   "outputs": [
    {
     "name": "stdout",
     "output_type": "stream",
     "text": [
      "<title>The Dormouse's story</title>\n",
      "<class 'bs4.element.Tag'>\n",
      "The Dormouse's story\n",
      "<head><title>The Dormouse's story</title></head>\n",
      "<p class=\"title\" name=\"dromouse\"><b>The Dormouse's story</b></p>\n"
     ]
    }
   ],
   "source": [
    "html = \"\"\"\n",
    "<html><head><title>The Dormouse's story</title></head>\n",
    "<body>\n",
    "<p class=\"title\" name=\"dromouse\"><b>The Dormouse's story</b></p>\n",
    "<p class=\"story\">Once upon a time there were three little sisters; and their names were\n",
    "<a href=\"http://example.com/elsie\" class=\"sister\" id=\"link1\"><!-- Elsie --></a>,\n",
    "<a href=\"http://example.com/lacie\" class=\"sister\" id=\"link2\">Lacie</a> and\n",
    "<a href=\"http://example.com/tillie\" class=\"sister\" id=\"link3\">Tillie</a>;\n",
    "and they lived at the bottom of a well.</p>\n",
    "<p class=\"story\">...</p>\n",
    "\"\"\"\n",
    "\n",
    "from bs4 import BeautifulSoup\n",
    "soup = BeautifulSoup(html, 'lxml')\n",
    "print(soup.title)\n",
    "print(type(soup.title))\n",
    "print(soup.title.string)\n",
    "print(soup.head)\n",
    "print(soup.p)"
   ]
  },
  {
   "cell_type": "markdown",
   "metadata": {},
   "source": [
    "输出它的类型，是 **`bs4.element.Tag`** 类型，这是 Beautiful Soup 中一个重要的数据结构。经过选择器选择后，选择结果都是这种 Tag 类型。Tag 具有一些属性，比如 string 属性，调用该属性，可以得到节点的文本内容"
   ]
  },
  {
   "cell_type": "code",
   "execution_count": 6,
   "metadata": {},
   "outputs": [
    {
     "name": "stdout",
     "output_type": "stream",
     "text": [
      "<p class=\"title\" name=\"dromouse\"><b>The Dormouse's story</b></p>\n",
      "{'class': ['title'], 'name': 'dromouse'}\n",
      "dromouse\n",
      "dromouse\n",
      "['title']\n"
     ]
    }
   ],
   "source": [
    "print(soup.p)\n",
    "print(soup.p.attrs)\n",
    "print(soup.p.attrs['name'])\n",
    "\n",
    "print(soup.p['name'])\n",
    "print(soup.p['class'])"
   ]
  },
  {
   "cell_type": "markdown",
   "metadata": {},
   "source": [
    "这里需要注意的是，有的返回结果是 **字符串** ，有的返回结果是 **字符串组成的列表** 。\n",
    "\n",
    "比如:\n",
    "- name 属性的值是唯一的，返回的结果就是单个字符串。\n",
    "- class 属性可能有多个值，所以返回的是列表。"
   ]
  },
  {
   "cell_type": "code",
   "execution_count": 8,
   "metadata": {},
   "outputs": [],
   "source": [
    "html = \"\"\"\n",
    "<html>\n",
    "    <head>\n",
    "        <title>The Dormouse's story</title>\n",
    "    </head>\n",
    "    <body>\n",
    "        <p class=\"story\">\n",
    "            Once upon a time there were three little sisters; and their names were\n",
    "            <a href=\"http://example.com/elsie\" class=\"sister\" id=\"link1\">\n",
    "                <span>Elsie</span>\n",
    "            </a>\n",
    "            <a href=\"http://example.com/lacie\" class=\"sister\" id=\"link2\">Lacie</a> \n",
    "            and\n",
    "            <a href=\"http://example.com/tillie\" class=\"sister\" id=\"link3\">Tillie</a>\n",
    "            and they lived at the bottom of a well.\n",
    "        </p>\n",
    "        <p class=\"story\">...</p>\n",
    "\"\"\""
   ]
  },
  {
   "cell_type": "markdown",
   "metadata": {},
   "source": [
    "### 字节子节点 contents"
   ]
  },
  {
   "cell_type": "code",
   "execution_count": 17,
   "metadata": {},
   "outputs": [
    {
     "name": "stdout",
     "output_type": "stream",
     "text": [
      "【Soup.p】\n",
      "<p class=\"story\">\n",
      "            Once upon a time there were three little sisters; and their names were\n",
      "            <a class=\"sister\" href=\"http://example.com/elsie\" id=\"link1\">\n",
      "<span>Elsie</span>\n",
      "</a>\n",
      "<a class=\"sister\" href=\"http://example.com/lacie\" id=\"link2\">Lacie</a> \n",
      "            and\n",
      "            <a class=\"sister\" href=\"http://example.com/tillie\" id=\"link3\">Tillie</a>\n",
      "            and they lived at the bottom of a well.\n",
      "        </p> \n",
      "\n",
      "【soup.p.contents】\n",
      "['\\n            Once upon a time there were three little sisters; and their names were\\n            ', <a class=\"sister\" href=\"http://example.com/elsie\" id=\"link1\">\n",
      "<span>Elsie</span>\n",
      "</a>, '\\n', <a class=\"sister\" href=\"http://example.com/lacie\" id=\"link2\">Lacie</a>, ' \\n            and\\n            ', <a class=\"sister\" href=\"http://example.com/tillie\" id=\"link3\">Tillie</a>, '\\n            and they lived at the bottom of a well.\\n        '] \n",
      "\n",
      "<class 'bs4.element.NavigableString'> \n",
      " 【元素】 \n",
      "            Once upon a time there were three little sisters; and their names were\n",
      "            \n",
      "<class 'bs4.element.Tag'> \n",
      " 【元素】 <a class=\"sister\" href=\"http://example.com/elsie\" id=\"link1\">\n",
      "<span>Elsie</span>\n",
      "</a>\n",
      "<class 'bs4.element.NavigableString'> \n",
      " 【元素】 \n",
      "\n",
      "<class 'bs4.element.Tag'> \n",
      " 【元素】 <a class=\"sister\" href=\"http://example.com/lacie\" id=\"link2\">Lacie</a>\n",
      "<class 'bs4.element.NavigableString'> \n",
      " 【元素】  \n",
      "            and\n",
      "            \n",
      "<class 'bs4.element.Tag'> \n",
      " 【元素】 <a class=\"sister\" href=\"http://example.com/tillie\" id=\"link3\">Tillie</a>\n",
      "<class 'bs4.element.NavigableString'> \n",
      " 【元素】 \n",
      "            and they lived at the bottom of a well.\n",
      "        \n"
     ]
    }
   ],
   "source": [
    "from bs4 import BeautifulSoup\n",
    "\n",
    "soup = BeautifulSoup(html, 'lxml')\n",
    "\n",
    "print('【Soup.p】')\n",
    "print(soup.p, '\\n')\n",
    "\n",
    "print('【soup.p.contents】')\n",
    "print(soup.p.contents, '\\n')      # 直接子节点\n",
    "for i in soup.p.contents:\n",
    "    print(type(i), '\\n', '【元素】', i)"
   ]
  },
  {
   "cell_type": "markdown",
   "metadata": {},
   "source": [
    "### 子节点 children"
   ]
  },
  {
   "cell_type": "code",
   "execution_count": 72,
   "metadata": {},
   "outputs": [
    {
     "name": "stdout",
     "output_type": "stream",
     "text": [
      "<list_iterator object at 0x000001A5284C79A0> \n",
      "\n",
      "(0, '\\n            Once upon a time there were three little sisters; and their names were\\n            ')\n",
      "(1, <a class=\"sister\" href=\"http://example.com/elsie\" id=\"link1\">\n",
      "<span>Elsie</span>\n",
      "</a>)\n",
      "(2, '\\n')\n",
      "(3, <a class=\"sister\" href=\"http://example.com/lacie\" id=\"link2\">Lacie</a>)\n",
      "(4, ' \\n            and\\n            ')\n",
      "(5, <a class=\"sister\" href=\"http://example.com/tillie\" id=\"link3\">Tillie</a>)\n",
      "(6, '\\n            and they lived at the bottom of a well.\\n        ')\n"
     ]
    }
   ],
   "source": [
    "print(soup.p.children, '\\n')\n",
    "\n",
    "for child in enumerate(soup.p.children):\n",
    "    print(child)"
   ]
  },
  {
   "cell_type": "markdown",
   "metadata": {},
   "source": [
    "### 子孙节点 descendants"
   ]
  },
  {
   "cell_type": "code",
   "execution_count": 73,
   "metadata": {},
   "outputs": [
    {
     "name": "stdout",
     "output_type": "stream",
     "text": [
      "<generator object Tag.descendants at 0x000001A528489200> \n",
      "\n",
      "(0, '\\n            Once upon a time there were three little sisters; and their names were\\n            ')\n",
      "(1, <a class=\"sister\" href=\"http://example.com/elsie\" id=\"link1\">\n",
      "<span>Elsie</span>\n",
      "</a>)\n",
      "(2, '\\n')\n",
      "(3, <span>Elsie</span>)\n",
      "(4, 'Elsie')\n",
      "(5, '\\n')\n",
      "(6, '\\n')\n",
      "(7, <a class=\"sister\" href=\"http://example.com/lacie\" id=\"link2\">Lacie</a>)\n",
      "(8, 'Lacie')\n",
      "(9, ' \\n            and\\n            ')\n",
      "(10, <a class=\"sister\" href=\"http://example.com/tillie\" id=\"link3\">Tillie</a>)\n",
      "(11, 'Tillie')\n",
      "(12, '\\n            and they lived at the bottom of a well.\\n        ')\n"
     ]
    }
   ],
   "source": [
    "print(soup.p.descendants, '\\n')\n",
    "for i in enumerate(soup.p.descendants):\n",
    "    print(i)"
   ]
  },
  {
   "cell_type": "markdown",
   "metadata": {},
   "source": [
    "### 父节点 parent"
   ]
  },
  {
   "cell_type": "code",
   "execution_count": 18,
   "metadata": {},
   "outputs": [
    {
     "data": {
      "text/plain": [
       "<a class=\"sister\" href=\"http://example.com/elsie\" id=\"link1\">\n",
       "<span>Elsie</span>\n",
       "</a>"
      ]
     },
     "execution_count": 18,
     "metadata": {},
     "output_type": "execute_result"
    }
   ],
   "source": [
    "soup.span.parent"
   ]
  },
  {
   "cell_type": "markdown",
   "metadata": {},
   "source": [
    "### 祖先节点 parents"
   ]
  },
  {
   "cell_type": "code",
   "execution_count": 20,
   "metadata": {},
   "outputs": [
    {
     "name": "stdout",
     "output_type": "stream",
     "text": [
      "<generator object PageElement.parents at 0x000001D172049190>\n",
      "<generator object PageElement.parents at 0x000001D172049190> 4\n"
     ]
    },
    {
     "data": {
      "text/plain": [
       "[(0,\n",
       "  <p class=\"story\">\n",
       "  <a class=\"sister\" href=\"http://example.com/elsie\" id=\"link1\">\n",
       "  <span>Elsie</span>\n",
       "  </a>\n",
       "  </p>),\n",
       " (1,\n",
       "  <body>\n",
       "  <p class=\"story\">\n",
       "  <a class=\"sister\" href=\"http://example.com/elsie\" id=\"link1\">\n",
       "  <span>Elsie</span>\n",
       "  </a>\n",
       "  </p>\n",
       "  </body>),\n",
       " (2,\n",
       "  <html>\n",
       "  <body>\n",
       "  <p class=\"story\">\n",
       "  <a class=\"sister\" href=\"http://example.com/elsie\" id=\"link1\">\n",
       "  <span>Elsie</span>\n",
       "  </a>\n",
       "  </p>\n",
       "  </body></html>),\n",
       " (3,\n",
       "  <html>\n",
       "  <body>\n",
       "  <p class=\"story\">\n",
       "  <a class=\"sister\" href=\"http://example.com/elsie\" id=\"link1\">\n",
       "  <span>Elsie</span>\n",
       "  </a>\n",
       "  </p>\n",
       "  </body></html>)]"
      ]
     },
     "execution_count": 20,
     "metadata": {},
     "output_type": "execute_result"
    }
   ],
   "source": [
    "html = \"\"\"\n",
    "<html>\n",
    "    <body>\n",
    "        <p class=\"story\">\n",
    "            <a href=\"http://example.com/elsie\" class=\"sister\" id=\"link1\">\n",
    "                <span>Elsie</span>\n",
    "            </a>\n",
    "        </p>\n",
    "\"\"\"\n",
    "\n",
    "soup = BeautifulSoup(html, 'lxml')\n",
    "\n",
    "print(soup.a.parents, len(list(enumerate(soup.a.parents))))\n",
    "list(enumerate(soup.a.parents))"
   ]
  },
  {
   "cell_type": "code",
   "execution_count": 17,
   "metadata": {},
   "outputs": [
    {
     "name": "stdout",
     "output_type": "stream",
     "text": [
      "Next Sibling \n",
      "            Hello\n",
      "            \n",
      "Prev Sibling \n",
      "            Once upon a time there were three little sisters; and their names were\n",
      "            \n",
      "Next Siblings [(0, '\\n            Hello\\n            '), (1, <a class=\"sister\" href=\"http://example.com/lacie\" id=\"link2\">Lacie</a>), (2, ' \\n            and\\n            '), (3, <a class=\"sister\" href=\"http://example.com/tillie\" id=\"link3\">Tillie</a>), (4, '\\n            and they lived at the bottom of a well.\\n        ')]\n",
      "Prev Siblings [(0, '\\n            Once upon a time there were three little sisters; and their names were\\n            ')]\n"
     ]
    }
   ],
   "source": [
    "html = \"\"\"\n",
    "<html>\n",
    "    <body>\n",
    "        <p class=\"story\">\n",
    "            Once upon a time there were three little sisters; and their names were\n",
    "            <a href=\"http://example.com/elsie\" class=\"sister\" id=\"link1\">\n",
    "                <span>Elsie</span>\n",
    "            </a>\n",
    "            Hello\n",
    "            <a href=\"http://example.com/lacie\" class=\"sister\" id=\"link2\">Lacie</a> \n",
    "            and\n",
    "            <a href=\"http://example.com/tillie\" class=\"sister\" id=\"link3\">Tillie</a>\n",
    "            and they lived at the bottom of a well.\n",
    "        </p>\n",
    "\"\"\"\n",
    "\n",
    "soup = BeautifulSoup(html, 'lxml')\n",
    "print('Next Sibling', soup.a.next_sibling)\n",
    "print('Prev Sibling', soup.a.previous_sibling)\n",
    "print('Next Siblings', list(enumerate(soup.a.next_siblings)))\n",
    "print('Prev Siblings', list(enumerate(soup.a.previous_siblings)))"
   ]
  },
  {
   "cell_type": "markdown",
   "metadata": {},
   "source": [
    "### 兄弟节点 next_sibling"
   ]
  },
  {
   "cell_type": "code",
   "execution_count": 32,
   "metadata": {},
   "outputs": [
    {
     "name": "stdout",
     "output_type": "stream",
     "text": [
      "【Next Sibling】\n",
      "<class 'bs4.element.Tag'>\n",
      "<a class=\"sister\" href=\"http://example.com/lacie\" id=\"link2\">Lacie</a>\n",
      "Lacie\n",
      "\n",
      "【Parents】\n",
      "<class 'generator'> 4\n",
      "<p class=\"story\">\n",
      "            Once upon a time there were three little sisters; and their names were\n",
      "            <a class=\"sister\" href=\"http://example.com/elsie\" id=\"link1\">Bob</a><a class=\"sister\" href=\"http://example.com/lacie\" id=\"link2\">Lacie</a>\n",
      "</p>\n",
      "\n",
      "【属性】\n",
      "['story']\n",
      "['story']\n"
     ]
    }
   ],
   "source": [
    "html = \"\"\"\n",
    "<html>\n",
    "    <body>\n",
    "        <p class=\"story\">\n",
    "            Once upon a time there were three little sisters; and their names were\n",
    "            <a href=\"http://example.com/elsie\" class=\"sister\" id=\"link1\">Bob</a><a href=\"http://example.com/lacie\" class=\"sister\" id=\"link2\">Lacie</a> \n",
    "        </p>\n",
    "\"\"\"\n",
    "from bs4 import BeautifulSoup\n",
    "soup = BeautifulSoup(html, 'lxml')\n",
    "\n",
    "print('【Next Sibling】')\n",
    "print(type(soup.a.next_sibling))\n",
    "print(soup.a.next_sibling)\n",
    "print(soup.a.next_sibling.string)\n",
    "\n",
    "print('\\n【Parents】')\n",
    "print(type(soup.a.parents), len(list(enumerate(soup.a.parents))))\n",
    "print(list(soup.a.parents)[0])\n",
    "\n",
    "print('\\n【属性】')\n",
    "print(list(soup.a.parents)[0].attrs['class'])\n",
    "print(list(soup.a.parents)[0]['class'])"
   ]
  },
  {
   "cell_type": "markdown",
   "metadata": {},
   "source": [
    "### 查找所有节点 find_all()"
   ]
  },
  {
   "cell_type": "code",
   "execution_count": 36,
   "metadata": {},
   "outputs": [
    {
     "name": "stdout",
     "output_type": "stream",
     "text": [
      "<ul class=\"list\" id=\"list-1\">\n",
      "<li class=\"element\">Foo</li>\n",
      "<li class=\"element\">Bar</li>\n",
      "<li class=\"element\">Jay</li>\n",
      "</ul>\n",
      "\n",
      "[<ul class=\"list\" id=\"list-1\">\n",
      "<li class=\"element\">Foo</li>\n",
      "<li class=\"element\">Bar</li>\n",
      "<li class=\"element\">Jay</li>\n",
      "</ul>, <ul class=\"list list-small\" id=\"list-2\">\n",
      "<li class=\"element\">Foo</li>\n",
      "<li class=\"element\">Bar</li>\n",
      "</ul>]\n",
      "\n",
      "<class 'bs4.element.Tag'>\n"
     ]
    }
   ],
   "source": [
    "html='''\n",
    "<div class=\"panel\">\n",
    "    <div class=\"panel-heading\">\n",
    "        <h4>Hello</h4>\n",
    "    </div>\n",
    "    <div class=\"panel-body\">\n",
    "        <ul class=\"list\" id=\"list-1\">\n",
    "            <li class=\"element\">Foo</li>\n",
    "            <li class=\"element\">Bar</li>\n",
    "            <li class=\"element\">Jay</li>\n",
    "        </ul>\n",
    "        <ul class=\"list list-small\" id=\"list-2\">\n",
    "            <li class=\"element\">Foo</li>\n",
    "            <li class=\"element\">Bar</li>\n",
    "        </ul>\n",
    "    </div>\n",
    "</div>\n",
    "'''\n",
    "\n",
    "soup = BeautifulSoup(html, 'lxml')\n",
    "\n",
    "print(soup.ul);                     print()\n",
    "print(soup.find_all('ul'));         print()\n",
    "# print(soup.find_all(name='ul'))   # 标准写法\n",
    "print(type(soup.find_all('ul')[0]))"
   ]
  },
  {
   "cell_type": "code",
   "execution_count": 38,
   "metadata": {},
   "outputs": [
    {
     "name": "stdout",
     "output_type": "stream",
     "text": [
      "[<li class=\"element\">Foo</li>, <li class=\"element\">Bar</li>, <li class=\"element\">Jay</li>]\n",
      "Foo Bar Jay \n",
      "\n",
      "[<li class=\"element\">Foo</li>, <li class=\"element\">Bar</li>]\n",
      "Foo Bar \n",
      "\n"
     ]
    }
   ],
   "source": [
    "for i in soup.find_all('ul'):\n",
    "    print(i.find_all('li'))\n",
    "    for j in i.find_all(name='li'):\n",
    "        print(j.string, end=' ')\n",
    "    print('\\n')"
   ]
  },
  {
   "cell_type": "markdown",
   "metadata": {},
   "source": [
    "### 按照属性查找节点"
   ]
  },
  {
   "cell_type": "markdown",
   "metadata": {},
   "source": [
    "##### 利用 attrs 传递"
   ]
  },
  {
   "cell_type": "code",
   "execution_count": 41,
   "metadata": {},
   "outputs": [
    {
     "data": {
      "text/plain": [
       "[<ul class=\"list\" id=\"list-1\">\n",
       " <li class=\"element\">Foo</li>\n",
       " <li class=\"element\">Bar</li>\n",
       " <li class=\"element\">Jay</li>\n",
       " </ul>]"
      ]
     },
     "execution_count": 41,
     "metadata": {},
     "output_type": "execute_result"
    }
   ],
   "source": [
    "soup.find_all(attrs={'id':'list-1'})"
   ]
  },
  {
   "cell_type": "code",
   "execution_count": 42,
   "metadata": {},
   "outputs": [
    {
     "data": {
      "text/plain": [
       "[<li class=\"element\">Foo</li>,\n",
       " <li class=\"element\">Bar</li>,\n",
       " <li class=\"element\">Jay</li>,\n",
       " <li class=\"element\">Foo</li>,\n",
       " <li class=\"element\">Bar</li>]"
      ]
     },
     "execution_count": 42,
     "metadata": {},
     "output_type": "execute_result"
    }
   ],
   "source": [
    "soup.find_all(attrs={'class':'element'})"
   ]
  },
  {
   "cell_type": "markdown",
   "metadata": {},
   "source": [
    "##### 不用 attrs 来传递"
   ]
  },
  {
   "cell_type": "code",
   "execution_count": 44,
   "metadata": {},
   "outputs": [
    {
     "data": {
      "text/plain": [
       "[<ul class=\"list\" id=\"list-1\">\n",
       " <li class=\"element\">Foo</li>\n",
       " <li class=\"element\">Bar</li>\n",
       " <li class=\"element\">Jay</li>\n",
       " </ul>]"
      ]
     },
     "execution_count": 44,
     "metadata": {},
     "output_type": "execute_result"
    }
   ],
   "source": [
    "soup.find_all(id='list-1')"
   ]
  },
  {
   "cell_type": "code",
   "execution_count": 45,
   "metadata": {},
   "outputs": [
    {
     "data": {
      "text/plain": [
       "[<li class=\"element\">Foo</li>,\n",
       " <li class=\"element\">Bar</li>,\n",
       " <li class=\"element\">Jay</li>,\n",
       " <li class=\"element\">Foo</li>,\n",
       " <li class=\"element\">Bar</li>]"
      ]
     },
     "execution_count": 45,
     "metadata": {},
     "output_type": "execute_result"
    }
   ],
   "source": [
    "soup.find_all(class_='element')"
   ]
  },
  {
   "cell_type": "markdown",
   "metadata": {},
   "source": [
    "### 利用正则表达式"
   ]
  },
  {
   "cell_type": "code",
   "execution_count": 47,
   "metadata": {},
   "outputs": [
    {
     "data": {
      "text/plain": [
       "['Hello, this is a link', 'Hello, this is a link, too']"
      ]
     },
     "execution_count": 47,
     "metadata": {},
     "output_type": "execute_result"
    }
   ],
   "source": [
    "import re\n",
    "html='''\n",
    "<div class=\"panel\">\n",
    "    <div class=\"panel-body\">\n",
    "        <a>Hello, this is a link</a>\n",
    "        <a>Hello, this is a link, too</a>\n",
    "    </div>\n",
    "</div>\n",
    "'''\n",
    "\n",
    "soup = BeautifulSoup(html, 'lxml')\n",
    "soup.find_all(text = re.compile('link'))"
   ]
  },
  {
   "cell_type": "markdown",
   "metadata": {},
   "source": [
    "### 查找节点 find()\n",
    "\n",
    "> 返回第一个结果"
   ]
  },
  {
   "cell_type": "code",
   "execution_count": 52,
   "metadata": {},
   "outputs": [
    {
     "name": "stdout",
     "output_type": "stream",
     "text": [
      "<ul class=\"list\" id=\"list-1\">\n",
      "<li class=\"element\">Foo</li>\n",
      "<li class=\"element\">Bar</li>\n",
      "<li class=\"element\">Jay</li>\n",
      "</ul> \n",
      "\n",
      "<class 'bs4.element.Tag'> \n",
      "\n",
      "<ul class=\"list\" id=\"list-1\">\n",
      "<li class=\"element\">Foo</li>\n",
      "<li class=\"element\">Bar</li>\n",
      "<li class=\"element\">Jay</li>\n",
      "</ul>\n"
     ]
    }
   ],
   "source": [
    "html='''\n",
    "<div class=\"panel\">\n",
    "    <div class=\"panel-heading\">\n",
    "        <h4>Hello</h4>\n",
    "    </div>\n",
    "    <div class=\"panel-body\">\n",
    "        <ul class=\"list\" id=\"list-1\">\n",
    "            <li class=\"element\">Foo</li>\n",
    "            <li class=\"element\">Bar</li>\n",
    "            <li class=\"element\">Jay</li>\n",
    "        </ul>\n",
    "        <ul class=\"list list-small\" id=\"list-2\">\n",
    "            <li class=\"element\">Foo</li>\n",
    "            <li class=\"element\">Bar</li>\n",
    "        </ul>\n",
    "    </div>\n",
    "</div>\n",
    "'''\n",
    "\n",
    "soup = BeautifulSoup(html, 'lxml')\n",
    "print(soup.find('ul'), '\\n')\n",
    "print(type(soup.find('ul')), '\\n')\n",
    "print(soup.find(class_='list'))"
   ]
  },
  {
   "cell_type": "markdown",
   "metadata": {},
   "source": [
    "### css select"
   ]
  },
  {
   "cell_type": "code",
   "execution_count": 62,
   "metadata": {},
   "outputs": [
    {
     "name": "stdout",
     "output_type": "stream",
     "text": [
      "[<div class=\"panel-heading\">\n",
      "<h4>Hello</h4>\n",
      "</div>]\n",
      "\n",
      "[<li class=\"element\">Foo</li>, <li class=\"element\">Bar</li>, <li class=\"element\">Jay</li>, <li class=\"element\">Foo</li>, <li class=\"element\">Bar</li>]\n",
      "\n",
      "[<li class=\"element\">Foo</li>, <li class=\"element\">Bar</li>]\n",
      "\n",
      "<class 'bs4.element.ResultSet'> <class 'bs4.element.Tag'>\n",
      "\n",
      "[<li class=\"element\">Foo</li>, <li class=\"element\">Bar</li>, <li class=\"element\">Jay</li>, <li class=\"element\">Foo</li>, <li class=\"element\">Bar</li>]\n"
     ]
    }
   ],
   "source": [
    "print(soup.select('.panel-heading'));           print()\n",
    "print(soup.select('ul li'));                    print()\n",
    "print(soup.select('#list-2 .element'));         print()\n",
    "print(type(soup.select('ul li')), type(soup.select('ul li')[0]));   print()\n",
    "print(soup.select('li'))"
   ]
  },
  {
   "cell_type": "markdown",
   "metadata": {},
   "source": [
    "### `get_text`() 与 `string` 方法"
   ]
  },
  {
   "cell_type": "code",
   "execution_count": 67,
   "metadata": {},
   "outputs": [
    {
     "name": "stdout",
     "output_type": "stream",
     "text": [
      "<class 'bs4.element.Tag'>\n",
      "<li class=\"element\">Foo</li>\n",
      "Get Text: Foo\n",
      "  String: Foo\n",
      "\n",
      "<class 'bs4.element.Tag'>\n",
      "<li class=\"element\">Bar</li>\n",
      "Get Text: Bar\n",
      "  String: Bar\n",
      "\n",
      "<class 'bs4.element.Tag'>\n",
      "<li class=\"element\">Jay</li>\n",
      "Get Text: Jay\n",
      "  String: Jay\n",
      "\n",
      "<class 'bs4.element.Tag'>\n",
      "<li class=\"element\">Foo</li>\n",
      "Get Text: Foo\n",
      "  String: Foo\n",
      "\n",
      "<class 'bs4.element.Tag'>\n",
      "<li class=\"element\">Bar</li>\n",
      "Get Text: Bar\n",
      "  String: Bar\n",
      "\n"
     ]
    }
   ],
   "source": [
    "for li in soup.select('li'):\n",
    "    print(type(li))\n",
    "    print(li)\n",
    "    print('Get Text:', li.get_text())\n",
    "    print('  String:',   li.string)\n",
    "    print()"
   ]
  }
 ],
 "metadata": {
  "kernelspec": {
   "display_name": "Python 3.9.7 ('base')",
   "language": "python",
   "name": "python3"
  },
  "language_info": {
   "codemirror_mode": {
    "name": "ipython",
    "version": 3
   },
   "file_extension": ".py",
   "mimetype": "text/x-python",
   "name": "python",
   "nbconvert_exporter": "python",
   "pygments_lexer": "ipython3",
   "version": "3.9.7"
  },
  "orig_nbformat": 4,
  "vscode": {
   "interpreter": {
    "hash": "6a018d3a992d78c184ccc94ab54168c7b26325ed3c2283926339c3edbf5487e7"
   }
  }
 },
 "nbformat": 4,
 "nbformat_minor": 2
}
