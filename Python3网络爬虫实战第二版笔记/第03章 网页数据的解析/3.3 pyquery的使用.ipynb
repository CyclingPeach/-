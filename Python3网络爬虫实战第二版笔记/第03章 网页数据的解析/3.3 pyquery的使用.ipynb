{
 "cells": [
  {
   "cell_type": "markdown",
   "metadata": {
    "pycharm": {
     "name": "#%% md\n"
    }
   },
   "source": [
    "# ✍️笔记\n",
    "\n",
    "- [《Python3 网络爬虫开发实战》 4.3 - 使用 pyquery](https://cuiqingcai.com/5551.html)\n",
    "\n",
    "- [CSS 教程](https://www.w3school.com.cn/css/index.asp)\n",
    "\n",
    "- [pyquery 的官方文档](https://pyquery.readthedocs.io/en/latest/)"
   ]
  },
  {
   "cell_type": "markdown",
   "metadata": {
    "pycharm": {
     "name": "#%% md\n"
    }
   },
   "source": [
    "|单词|释义|说明|\n",
    "|:-:|:-:|:-:|\n",
    "|`generator`|打算复读|df|\n",
    "|`siblings`|df|df|\n",
    "\n",
    "\n",
    "传入字符串，传入 URL，传入文件名\n",
    "\n",
    "### 查找节点（子、父节点）\n",
    "\n",
    "- 子节点\n",
    "  - `find()` 子孙节点\n",
    "  - `children()` 子节点\n",
    "- 父节点\n",
    "  - `parent()` 父节点\n",
    "  - `parents()` 祖先节点\n",
    "- 兄弟节点\n",
    "  - `siblings()` 兄弟节点（不包含自身）\n",
    "\n",
    "### 遍历\n",
    "\n",
    "### 信息获取【`attr() text() html()`】\n",
    "\n",
    "- 多个节点时\n",
    "  - `text()` 直接返回所有节点的文本字符串，中间用空格隔开\n",
    "  - `html()` 只返回第一个内容，需要遍历`.items()`\n",
    "  - `attr()` 只返回第一个内容，需要遍历`.items()`\n",
    "\n",
    "- 属性获取\n",
    "  - 单个节点属性获取——`attr()`\n",
    "  ```Python\n",
    "  print(a.attr('href'))\n",
    "  print(a.attr.href)\n",
    "  ```\n",
    "  - 多个节点属性获取——`遍历`\n",
    "  ```Python\n",
    "  a = doc('a')\n",
    "  for item in a.items():\n",
    "    print(item.attr.href)\n",
    "  ```\n",
    "- 文本获取\n",
    "  - 单个节点\n",
    "    - 文本信息 `text()`\n",
    "    - HTML文本 `html()`\n",
    "  - ***多个节点***\n",
    "    - HTML文本——`遍历`+`html()`\n",
    "    - 文本信息——`text()`\n",
    "\n",
    "### 节点操作\n",
    "`addClass()`、`removeClass()`\n",
    "\n",
    "`attr()` 增加 class属性\n",
    "\n",
    "`text()` 修改 文本\n",
    "\n",
    "`html()` 修改 HTML\n",
    "\n",
    "`remove()···`\n",
    "\n",
    "### 伪类选择器\n",
    "\n",
    "- 第一个节点\n",
    "- 第二个节点\n",
    "- 最后一个节点\n",
    "- 第三个及之后的节点\n",
    "- 偶数节点\n",
    "- 包含某内容文本的节点"
   ]
  },
  {
   "cell_type": "markdown",
   "metadata": {},
   "source": [
    "【待还】\n",
    "|平台|时间|金额|\n",
    "|:-:|:-:|:-:|\n",
    "|云闪付|7月15日|319.69|\n",
    "|合计||319.69|\n",
    "\n",
    "【余额】\n",
    "|平台|金额|\n",
    "|:-:|:-:|\n",
    "|银行卡|314.76|\n",
    "|欧易|112.8|\n",
    "|闲鱼|200|\n",
    "|合计|627.56|\n",
    " \n",
    "627.56 - 319.69 = 307.87（500面值，6期）\n",
    "\n",
    "【8月待还】\n",
    "|平台|时间|金额|\n",
    "|:-:|:-:|:-:|\n",
    "|云闪付|8月15日|319.69|\n",
    "|京东金融|8月25日|216.00|\n",
    "|Realme钱包|8月5日|160.91|\n",
    "|分期乐|8月8日|375.56|\n",
    "|微博钱包|8月12日|113.47|\n",
    "|合计||1185.63|\n",
    "\n",
    "【22年9~12月待还】\n",
    "|平台|时间|9月|10月|11月|12月|\n",
    "|:-:|:-:|:-:|:-:|:-:|:-:|\n",
    "|云闪付|15日|319.69|319.69|\n",
    "|京东金融|25日|178.22|103.66|103.66|103.66|\n",
    "|Realme钱包|5日|188.53|188.53|188.53|188.53|\n",
    "|分期乐|8日|295.58|295.58|295.58|295.58|\n",
    "|微博钱包|12日|113.47|113.47|113.47|113.47|\n",
    "|合计||1185.63|1020.93|701.24|701.24|\n",
    "\n",
    "【23年1~12月待还】\n",
    "|平台|时间|1月|2月|3月|4月|5月|6月|7月|8月|9月|10月|11月|12月|\n",
    "|:-:|:-:|:-:|:-:|:-:|:-:|:-:|:-:|:-:|:-:|:-:|:-:|:-:|:-:|\n",
    "|京东金融|25日|5.54|\n",
    "|Realme钱包|5日|188.53|188.53|188.53|188.53|188.53|194.20|\n",
    "|分期乐|8日|201.04|201.04|201.04|201.10|176.55|176.55|104.38|50.28|50.28|50.28|50.28|50.28|\n",
    "|微博钱包|12日|113.47|\n",
    "|合计||508.58|389.57|389.57|389.63|365.08|370.75|104.38|50.28|50.28|50.28|50.28|50.28|\n",
    "\n",
    "【24年1~3月待还】\n",
    "|平台|时间|1月|2月|3月|\n",
    "|:-:|:-:|:-:|:-:|:-:|\n",
    "|分期乐|8日|42.29|42.29|42.29|"
   ]
  },
  {
   "cell_type": "code",
   "execution_count": null,
   "metadata": {},
   "outputs": [],
   "source": []
  },
  {
   "cell_type": "markdown",
   "metadata": {
    "pycharm": {
     "name": "#%% md\n"
    }
   },
   "source": [
    "# 📝草稿纸"
   ]
  },
  {
   "cell_type": "markdown",
   "metadata": {
    "pycharm": {
     "name": "#%% md\n"
    }
   },
   "source": [
    "### 初始化"
   ]
  },
  {
   "cell_type": "markdown",
   "metadata": {
    "pycharm": {
     "name": "#%% md\n"
    }
   },
   "source": [
    "##### 字符串初始化"
   ]
  },
  {
   "cell_type": "code",
   "execution_count": 37,
   "metadata": {
    "pycharm": {
     "name": "#%%\n"
    }
   },
   "outputs": [
    {
     "name": "stdout",
     "output_type": "stream",
     "text": [
      "<li class=\"item-0\">first item</li>\n",
      "         <li class=\"item-1\"><a href=\"link2.html\">second item</a></li>\n",
      "         <li class=\"item-0 active\"><a href=\"link3.html\"><span class=\"bold\">third item</span></a></li>\n",
      "         <li class=\"item-1 active\"><a href=\"link4.html\">fourth item</a></li>\n",
      "         <li class=\"item-0\"><a href=\"link5.html\">fifth item</a></li>\n",
      "     </ul>\n",
      " </div>\n",
      "         <li class=\"item-1\"><a href=\"link2.html\">second item</a></li>\n",
      "         <li class=\"item-0 active\"><a href=\"link3.html\"><span class=\"bold\">third item</span></a></li>\n",
      "         <li class=\"item-1 active\"><a href=\"link4.html\">fourth item</a></li>\n",
      "         <li class=\"item-0\"><a href=\"link5.html\">fifth item</a></li>\n",
      "     </ul>\n",
      " </div>\n",
      "         <li class=\"item-0 active\"><a href=\"link3.html\"><span class=\"bold\">third item</span></a></li>\n",
      "         <li class=\"item-1 active\"><a href=\"link4.html\">fourth item</a></li>\n",
      "         <li class=\"item-0\"><a href=\"link5.html\">fifth item</a></li>\n",
      "     </ul>\n",
      " </div>\n",
      "         <li class=\"item-1 active\"><a href=\"link4.html\">fourth item</a></li>\n",
      "         <li class=\"item-0\"><a href=\"link5.html\">fifth item</a></li>\n",
      "     </ul>\n",
      " </div>\n",
      "         <li class=\"item-0\"><a href=\"link5.html\">fifth item</a></li>\n",
      "     </ul>\n",
      " </div>\n",
      "     \n"
     ]
    }
   ],
   "source": [
    "html = '''\n",
    "<div>\n",
    "    <ul>\n",
    "         <li class=\"item-0\">first item</li>\n",
    "         <li class=\"item-1\"><a href=\"link2.html\">second item</a></li>\n",
    "         <li class=\"item-0 active\"><a href=\"link3.html\"><span class=\"bold\">third item</span></a></li>\n",
    "         <li class=\"item-1 active\"><a href=\"link4.html\">fourth item</a></li>\n",
    "         <li class=\"item-0\"><a href=\"link5.html\">fifth item</a></li>\n",
    "     </ul>\n",
    " </div>\n",
    "'''\n",
    "from pyquery import PyQuery as pq\n",
    "doc = pq(html)\n",
    "print(doc('li'))    # 将初始化的对象传入 CSS 选择器"
   ]
  },
  {
   "cell_type": "code",
   "execution_count": 38,
   "metadata": {
    "pycharm": {
     "name": "#%%\n"
    }
   },
   "outputs": [
    {
     "data": {
      "text/plain": [
       "[<li.item-0>, <li.item-1>, <li.item-0.active>, <li.item-1.active>, <li.item-0>]"
      ]
     },
     "execution_count": 38,
     "metadata": {},
     "output_type": "execute_result"
    }
   ],
   "source": [
    "doc('li')"
   ]
  },
  {
   "cell_type": "markdown",
   "metadata": {
    "pycharm": {
     "name": "#%% md\n"
    }
   },
   "source": [
    "##### URL 初始化"
   ]
  },
  {
   "cell_type": "code",
   "execution_count": 52,
   "metadata": {
    "pycharm": {
     "name": "#%%\n"
    }
   },
   "outputs": [
    {
     "name": "stdout",
     "output_type": "stream",
     "text": [
      "<title>ç¾åº¦ä¸ä¸ï¼ä½ å°±ç¥é</title></head> <body link=\"#0000cc\"> <div id=\"wrapper\"> <div id=\"head\"> <div class=\"head_wrapper\"> <div class=\"s_form\"> <div class=\"s_form_wrapper\"> <div id=\"lg\"> <img hidefocus=\"true\" src=\"//www.baidu.com/img/bd_logo1.png\" width=\"270\" height=\"129\"/> </div> <form id=\"form\" name=\"f\" action=\"//www.baidu.com/s\" class=\"fm\"> <input type=\"hidden\" name=\"bdorz_come\" value=\"1\"/> <input type=\"hidden\" name=\"ie\" value=\"utf-8\"/> <input type=\"hidden\" name=\"f\" value=\"8\"/> <input type=\"hidden\" name=\"rsv_bp\" value=\"1\"/> <input type=\"hidden\" name=\"rsv_idx\" value=\"1\"/> <input type=\"hidden\" name=\"tn\" value=\"baidu\"/><span class=\"bg s_ipt_wr\"><input id=\"kw\" name=\"wd\" class=\"s_ipt\" value=\"\" maxlength=\"255\" autocomplete=\"off\" autofocus=\"autofocus\"/></span><span class=\"bg s_btn_wr\"><input type=\"submit\" id=\"su\" value=\"ç¾åº¦ä¸ä¸\" class=\"bg s_btn\" autofocus=\"\"/></span> </form> </div> </div> <div id=\"u1\"> <a href=\"http://news.baidu.com\" name=\"tj_trnews\" class=\"mnav\">æ°é»</a> <a href=\"https://www.hao123.com\" name=\"tj_trhao123\" class=\"mnav\">hao123</a> <a href=\"http://map.baidu.com\" name=\"tj_trmap\" class=\"mnav\">å°å¾</a> <a href=\"http://v.baidu.com\" name=\"tj_trvideo\" class=\"mnav\">è§é¢</a> <a href=\"http://tieba.baidu.com\" name=\"tj_trtieba\" class=\"mnav\">è´´å§</a> <noscript> <a href=\"http://www.baidu.com/bdorz/login.gif?login&amp;tpl=mn&amp;u=http%3A%2F%2Fwww.baidu.com%2f%3fbdorz_come%3d1\" name=\"tj_login\" class=\"lb\">ç»å½</a> </noscript> <script>document.write('&lt;a href=\"http://www.baidu.com/bdorz/login.gif?login&amp;tpl=mn&amp;u='+ encodeURIComponent(window.location.href+ (window.location.search === \"\" ? \"?\" : \"&amp;\")+ \"bdorz_come=1\")+ '\" name=\"tj_login\" class=\"lb\"&gt;ç»å½&lt;/a&gt;');&#13;\n",
      "                </script> <a href=\"//www.baidu.com/more/\" name=\"tj_briicon\" class=\"bri\" style=\"display: block;\">æ´å¤äº§å</a> </div> </div> </div> <div id=\"ftCon\"> <div id=\"ftConw\"> <p id=\"lh\"> <a href=\"http://home.baidu.com\">å³äºç¾åº¦</a> <a href=\"http://ir.baidu.com\">About Baidu</a> </p> <p id=\"cp\">©2017 Baidu <a href=\"http://www.baidu.com/duty/\">ä½¿ç¨ç¾åº¦åå¿è¯»</a>  <a href=\"http://jianyi.baidu.com/\" class=\"cp-feedback\">æè§åé¦</a> äº¬ICPè¯030173å·  <img src=\"//www.baidu.com/img/gs.gif\"/> </p> </div> </div> </div> </body> </html>\n"
     ]
    }
   ],
   "source": [
    "from pyquery import PyQuery as pq\n",
    "doc = pq(url='https://www.baidu.com')\n",
    "print(doc('title'))"
   ]
  },
  {
   "cell_type": "code",
   "execution_count": 58,
   "metadata": {
    "pycharm": {
     "name": "#%%\n"
    }
   },
   "outputs": [
    {
     "data": {
      "text/plain": [
       "[<title>]"
      ]
     },
     "execution_count": 58,
     "metadata": {},
     "output_type": "execute_result"
    }
   ],
   "source": [
    "doc = pq(requests.get('https://www.baidu.com').text)\n",
    "doc('title')"
   ]
  },
  {
   "cell_type": "markdown",
   "metadata": {
    "pycharm": {
     "name": "#%% md\n"
    }
   },
   "source": [
    "##### 文件初始化"
   ]
  },
  {
   "cell_type": "markdown",
   "metadata": {
    "pycharm": {
     "name": "#%% md\n"
    }
   },
   "source": [
    "```Python\n",
    "from pyquery import PyQuery as pq\n",
    "doc = pq(filename='demo.html')\n",
    "print(doc('li'))\n",
    "```"
   ]
  },
  {
   "cell_type": "markdown",
   "metadata": {
    "pycharm": {
     "name": "#%% md\n"
    }
   },
   "source": [
    "### CSS基本选择器"
   ]
  },
  {
   "cell_type": "code",
   "execution_count": 2,
   "metadata": {
    "pycharm": {
     "name": "#%%\n"
    }
   },
   "outputs": [
    {
     "name": "stdout",
     "output_type": "stream",
     "text": [
      "<class 'pyquery.pyquery.PyQuery'>\n",
      "<li class=\"item-0\">first item</li>\n",
      "         <li class=\"item-1\"><a href=\"link2.html\">second item</a></li>\n",
      "         <li class=\"item-0 active\"><a href=\"link3.html\"><span class=\"bold\">third item</span></a></li>\n",
      "         <li class=\"item-1 active\"><a href=\"link4.html\">fourth item</a></li>\n",
      "         <li class=\"item-0\"><a href=\"link5.html\">fifth item</a></li>\n",
      "     </ul>\n",
      " </div>\n",
      "         <li class=\"item-1\"><a href=\"link2.html\">second item</a></li>\n",
      "         <li class=\"item-0 active\"><a href=\"link3.html\"><span class=\"bold\">third item</span></a></li>\n",
      "         <li class=\"item-1 active\"><a href=\"link4.html\">fourth item</a></li>\n",
      "         <li class=\"item-0\"><a href=\"link5.html\">fifth item</a></li>\n",
      "     </ul>\n",
      " </div>\n",
      "         <li class=\"item-0 active\"><a href=\"link3.html\"><span class=\"bold\">third item</span></a></li>\n",
      "         <li class=\"item-1 active\"><a href=\"link4.html\">fourth item</a></li>\n",
      "         <li class=\"item-0\"><a href=\"link5.html\">fifth item</a></li>\n",
      "     </ul>\n",
      " </div>\n",
      "         <li class=\"item-1 active\"><a href=\"link4.html\">fourth item</a></li>\n",
      "         <li class=\"item-0\"><a href=\"link5.html\">fifth item</a></li>\n",
      "     </ul>\n",
      " </div>\n",
      "         <li class=\"item-0\"><a href=\"link5.html\">fifth item</a></li>\n",
      "     </ul>\n",
      " </div>\n",
      "      \n",
      "\n"
     ]
    },
    {
     "data": {
      "text/plain": [
       "[<li.item-0>, <li.item-1>, <li.item-0.active>, <li.item-1.active>, <li.item-0>]"
      ]
     },
     "execution_count": 2,
     "metadata": {},
     "output_type": "execute_result"
    }
   ],
   "source": [
    "html = '''\n",
    "<div id=\"container\">\n",
    "    <ul class=\"list\">\n",
    "         <li class=\"item-0\">first item</li>\n",
    "         <li class=\"item-1\"><a href=\"link2.html\">second item</a></li>\n",
    "         <li class=\"item-0 active\"><a href=\"link3.html\"><span class=\"bold\">third item</span></a></li>\n",
    "         <li class=\"item-1 active\"><a href=\"link4.html\">fourth item</a></li>\n",
    "         <li class=\"item-0\"><a href=\"link5.html\">fifth item</a></li>\n",
    "     </ul>\n",
    " </div>\n",
    "'''\n",
    "\n",
    "from pyquery import PyQuery as pq\n",
    "doc = pq(html)\n",
    "print(type(doc('#container .list li')))\n",
    "print(doc('#container .list li'), '\\n')\n",
    "doc('#container .list li')"
   ]
  },
  {
   "cell_type": "markdown",
   "metadata": {
    "pycharm": {
     "name": "#%% md\n"
    }
   },
   "source": [
    "### 查找节点"
   ]
  },
  {
   "cell_type": "markdown",
   "metadata": {
    "pycharm": {
     "name": "#%% md\n"
    }
   },
   "source": [
    "##### 子孙节点\n",
    "\n",
    "**`find('li')`** 查找所有子孙节点"
   ]
  },
  {
   "cell_type": "code",
   "execution_count": 7,
   "metadata": {
    "pycharm": {
     "name": "#%%\n"
    }
   },
   "outputs": [
    {
     "name": "stdout",
     "output_type": "stream",
     "text": [
      "<class 'pyquery.pyquery.PyQuery'> \n",
      "\n",
      "<class 'pyquery.pyquery.PyQuery'> \n",
      "\n",
      "<ul class=\"list\">\n",
      "         <li class=\"item-0\">first item</li>\n",
      "         <li class=\"item-1\"><a href=\"link2.html\">second item</a></li>\n",
      "         <li class=\"item-0 active\"><a href=\"link3.html\"><span class=\"bold\">third item</span></a></li>\n",
      "         <li class=\"item-1 active\"><a href=\"link4.html\">fourth item</a></li>\n",
      "         <li class=\"item-0\"><a href=\"link5.html\">fifth item</a></li>\n",
      "     </ul>\n",
      " </div>\n",
      "  \n",
      "\n",
      "<class 'pyquery.pyquery.PyQuery'>\n",
      "<li class=\"item-0\">first item</li>\n",
      "         <li class=\"item-1\"><a href=\"link2.html\">second item</a></li>\n",
      "         <li class=\"item-0 active\"><a href=\"link3.html\"><span class=\"bold\">third item</span></a></li>\n",
      "         <li class=\"item-1 active\"><a href=\"link4.html\">fourth item</a></li>\n",
      "         <li class=\"item-0\"><a href=\"link5.html\">fifth item</a></li>\n",
      "     </ul>\n",
      " </div>\n",
      "         <li class=\"item-1\"><a href=\"link2.html\">second item</a></li>\n",
      "         <li class=\"item-0 active\"><a href=\"link3.html\"><span class=\"bold\">third item</span></a></li>\n",
      "         <li class=\"item-1 active\"><a href=\"link4.html\">fourth item</a></li>\n",
      "         <li class=\"item-0\"><a href=\"link5.html\">fifth item</a></li>\n",
      "     </ul>\n",
      " </div>\n",
      "         <li class=\"item-0 active\"><a href=\"link3.html\"><span class=\"bold\">third item</span></a></li>\n",
      "         <li class=\"item-1 active\"><a href=\"link4.html\">fourth item</a></li>\n",
      "         <li class=\"item-0\"><a href=\"link5.html\">fifth item</a></li>\n",
      "     </ul>\n",
      " </div>\n",
      "         <li class=\"item-1 active\"><a href=\"link4.html\">fourth item</a></li>\n",
      "         <li class=\"item-0\"><a href=\"link5.html\">fifth item</a></li>\n",
      "     </ul>\n",
      " </div>\n",
      "         <li class=\"item-0\"><a href=\"link5.html\">fifth item</a></li>\n",
      "     </ul>\n",
      " </div>\n",
      "     \n"
     ]
    }
   ],
   "source": [
    "print(type(doc), '\\n')\n",
    "ul = doc('.list')       # ul 的类型为 <class 'pyquery.pyquery.PyQuery'>\n",
    "print(type(ul), '\\n')\n",
    "print(ul, '\\n')\n",
    "\n",
    "lis = ul.find('li')     # ul 的类型为 <class 'pyquery.pyquery.PyQuery'>\n",
    "print(type(lis))\n",
    "print(lis)"
   ]
  },
  {
   "cell_type": "markdown",
   "metadata": {},
   "source": [
    "##### 子节点\n",
    "\n",
    "`children()`"
   ]
  },
  {
   "cell_type": "code",
   "execution_count": 16,
   "metadata": {},
   "outputs": [
    {
     "data": {
      "text/plain": [
       "[]"
      ]
     },
     "execution_count": 16,
     "metadata": {},
     "output_type": "execute_result"
    }
   ],
   "source": [
    "doc.children('li')"
   ]
  },
  {
   "cell_type": "code",
   "execution_count": 15,
   "metadata": {},
   "outputs": [
    {
     "data": {
      "text/plain": [
       "[<li.item-0>, <li.item-1>, <li.item-0.active>, <li.item-1.active>, <li.item-0>]"
      ]
     },
     "execution_count": 15,
     "metadata": {},
     "output_type": "execute_result"
    }
   ],
   "source": [
    "doc('.list').children('li')"
   ]
  },
  {
   "cell_type": "code",
   "execution_count": 20,
   "metadata": {},
   "outputs": [
    {
     "data": {
      "text/plain": [
       "[<li.item-0>, <li.item-1>, <li.item-0.active>, <li.item-1.active>, <li.item-0>]"
      ]
     },
     "execution_count": 20,
     "metadata": {},
     "output_type": "execute_result"
    }
   ],
   "source": [
    "items = doc('.list')\n",
    "items.children()"
   ]
  },
  {
   "cell_type": "code",
   "execution_count": 21,
   "metadata": {},
   "outputs": [
    {
     "data": {
      "text/plain": [
       "[<li.item-0.active>, <li.item-1.active>]"
      ]
     },
     "execution_count": 21,
     "metadata": {},
     "output_type": "execute_result"
    }
   ],
   "source": [
    "items.children('.active')"
   ]
  },
  {
   "cell_type": "markdown",
   "metadata": {},
   "source": [
    "##### 父节点"
   ]
  },
  {
   "cell_type": "code",
   "execution_count": 22,
   "metadata": {},
   "outputs": [
    {
     "data": {
      "text/plain": [
       "[<div#container>]"
      ]
     },
     "execution_count": 22,
     "metadata": {},
     "output_type": "execute_result"
    }
   ],
   "source": [
    "items.parent()"
   ]
  },
  {
   "cell_type": "markdown",
   "metadata": {},
   "source": [
    "##### 祖先节点"
   ]
  },
  {
   "cell_type": "code",
   "execution_count": 26,
   "metadata": {},
   "outputs": [
    {
     "data": {
      "text/plain": [
       "[<div#container>, <ul.list>]"
      ]
     },
     "execution_count": 26,
     "metadata": {},
     "output_type": "execute_result"
    }
   ],
   "source": [
    "doc.find('li').parents()"
   ]
  },
  {
   "cell_type": "code",
   "execution_count": 29,
   "metadata": {},
   "outputs": [
    {
     "data": {
      "text/plain": [
       "[<div#container>]"
      ]
     },
     "execution_count": 29,
     "metadata": {},
     "output_type": "execute_result"
    }
   ],
   "source": [
    "doc.find('li').parents('#container')"
   ]
  },
  {
   "cell_type": "markdown",
   "metadata": {},
   "source": [
    "##### 兄弟节点"
   ]
  },
  {
   "cell_type": "code",
   "execution_count": 37,
   "metadata": {},
   "outputs": [
    {
     "data": {
      "text/plain": [
       "[<li.item-0.active>]"
      ]
     },
     "execution_count": 37,
     "metadata": {},
     "output_type": "execute_result"
    }
   ],
   "source": [
    "doc.find('li.active.item-0')"
   ]
  },
  {
   "cell_type": "code",
   "execution_count": 42,
   "metadata": {},
   "outputs": [
    {
     "data": {
      "text/plain": [
       "[<a>, <a>, <a>]"
      ]
     },
     "execution_count": 42,
     "metadata": {},
     "output_type": "execute_result"
    }
   ],
   "source": [
    "doc.find('li.active.item-0').siblings()"
   ]
  },
  {
   "cell_type": "code",
   "execution_count": 47,
   "metadata": {},
   "outputs": [
    {
     "data": {
      "text/plain": [
       "'link2.html'"
      ]
     },
     "execution_count": 47,
     "metadata": {},
     "output_type": "execute_result"
    }
   ],
   "source": [
    "doc.find('li.active.item-0').siblings()('a').attr('href')"
   ]
  },
  {
   "cell_type": "markdown",
   "metadata": {},
   "source": [
    "### 遍历"
   ]
  },
  {
   "cell_type": "markdown",
   "metadata": {},
   "source": [
    "##### 单个节点"
   ]
  },
  {
   "cell_type": "code",
   "execution_count": 48,
   "metadata": {},
   "outputs": [
    {
     "data": {
      "text/plain": [
       "[<li.item-0.active>]"
      ]
     },
     "execution_count": 48,
     "metadata": {},
     "output_type": "execute_result"
    }
   ],
   "source": [
    "doc('.item-0.active')"
   ]
  },
  {
   "cell_type": "code",
   "execution_count": 52,
   "metadata": {},
   "outputs": [
    {
     "name": "stdout",
     "output_type": "stream",
     "text": [
      "<li class=\"item-0 active\"><a href=\"link3.html\"><span class=\"bold\">third item</span></a></li>\n",
      "         <li class=\"item-1 active\"><a href=\"link4.html\">fourth item</a></li>\n",
      "         <li class=\"item-0\"><a href=\"link5.html\">fifth item</a></li>\n",
      "     </ul>\n",
      " </div>\n",
      "         \n",
      "<li class=\"item-0 active\"><a href=\"link3.html\"><span class=\"bold\">third item</span></a></li>\n",
      "         <li class=\"item-1 active\"><a href=\"link4.html\">fourth item</a></li>\n",
      "         <li class=\"item-0\"><a href=\"link5.html\">fifth item</a></li>\n",
      "     </ul>\n",
      " </div>\n",
      "         \n"
     ]
    }
   ],
   "source": [
    "print(doc('.item-0.active'))\n",
    "print(str(doc('.item-0.active')))"
   ]
  },
  {
   "cell_type": "markdown",
   "metadata": {},
   "source": [
    "##### 多个节点"
   ]
  },
  {
   "cell_type": "code",
   "execution_count": 54,
   "metadata": {},
   "outputs": [
    {
     "data": {
      "text/plain": [
       "[<li.item-0>, <li.item-1>, <li.item-0.active>, <li.item-1.active>, <li.item-0>]"
      ]
     },
     "execution_count": 54,
     "metadata": {},
     "output_type": "execute_result"
    }
   ],
   "source": [
    "doc('li')"
   ]
  },
  {
   "cell_type": "code",
   "execution_count": 56,
   "metadata": {},
   "outputs": [
    {
     "data": {
      "text/plain": [
       "<generator object PyQuery.items at 0x000001A3927AF190>"
      ]
     },
     "execution_count": 56,
     "metadata": {},
     "output_type": "execute_result"
    }
   ],
   "source": [
    "doc('li').items()"
   ]
  },
  {
   "cell_type": "code",
   "execution_count": 58,
   "metadata": {},
   "outputs": [
    {
     "name": "stdout",
     "output_type": "stream",
     "text": [
      "<class 'pyquery.pyquery.PyQuery'> <li class=\"item-0\">first item</li>\n",
      "         <li class=\"item-1\"><a href=\"link2.html\">second item</a></li>\n",
      "         <li class=\"item-0 active\"><a href=\"link3.html\"><span class=\"bold\">third item</span></a></li>\n",
      "         <li class=\"item-1 active\"><a href=\"link4.html\">fourth item</a></li>\n",
      "         <li class=\"item-0\"><a href=\"link5.html\">fifth item</a></li>\n",
      "     </ul>\n",
      " </div>\n",
      "         \n",
      "<class 'pyquery.pyquery.PyQuery'> <li class=\"item-1\"><a href=\"link2.html\">second item</a></li>\n",
      "         <li class=\"item-0 active\"><a href=\"link3.html\"><span class=\"bold\">third item</span></a></li>\n",
      "         <li class=\"item-1 active\"><a href=\"link4.html\">fourth item</a></li>\n",
      "         <li class=\"item-0\"><a href=\"link5.html\">fifth item</a></li>\n",
      "     </ul>\n",
      " </div>\n",
      "         \n",
      "<class 'pyquery.pyquery.PyQuery'> <li class=\"item-0 active\"><a href=\"link3.html\"><span class=\"bold\">third item</span></a></li>\n",
      "         <li class=\"item-1 active\"><a href=\"link4.html\">fourth item</a></li>\n",
      "         <li class=\"item-0\"><a href=\"link5.html\">fifth item</a></li>\n",
      "     </ul>\n",
      " </div>\n",
      "         \n",
      "<class 'pyquery.pyquery.PyQuery'> <li class=\"item-1 active\"><a href=\"link4.html\">fourth item</a></li>\n",
      "         <li class=\"item-0\"><a href=\"link5.html\">fifth item</a></li>\n",
      "     </ul>\n",
      " </div>\n",
      "         \n",
      "<class 'pyquery.pyquery.PyQuery'> <li class=\"item-0\"><a href=\"link5.html\">fifth item</a></li>\n",
      "     </ul>\n",
      " </div>\n",
      "     \n"
     ]
    }
   ],
   "source": [
    "for li in doc('li').items():\n",
    "    print(type(li), li)"
   ]
  },
  {
   "cell_type": "markdown",
   "metadata": {},
   "source": [
    "### 获取信息"
   ]
  },
  {
   "cell_type": "markdown",
   "metadata": {},
   "source": [
    "##### 获取属性"
   ]
  },
  {
   "cell_type": "markdown",
   "metadata": {},
   "source": [
    "###### 单个节点"
   ]
  },
  {
   "cell_type": "code",
   "execution_count": 60,
   "metadata": {},
   "outputs": [
    {
     "data": {
      "text/plain": [
       "[<a>]"
      ]
     },
     "execution_count": 60,
     "metadata": {},
     "output_type": "execute_result"
    }
   ],
   "source": [
    "doc('.item-0.active a')"
   ]
  },
  {
   "cell_type": "code",
   "execution_count": 62,
   "metadata": {},
   "outputs": [
    {
     "data": {
      "text/plain": [
       "'link3.html'"
      ]
     },
     "execution_count": 62,
     "metadata": {},
     "output_type": "execute_result"
    }
   ],
   "source": [
    "doc('.item-0.active a').attr('href')"
   ]
  },
  {
   "cell_type": "code",
   "execution_count": 64,
   "metadata": {},
   "outputs": [
    {
     "data": {
      "text/plain": [
       "'link3.html'"
      ]
     },
     "execution_count": 64,
     "metadata": {},
     "output_type": "execute_result"
    }
   ],
   "source": [
    "doc('.item-0.active a').attr.href"
   ]
  },
  {
   "cell_type": "markdown",
   "metadata": {},
   "source": [
    "###### 多个节点"
   ]
  },
  {
   "cell_type": "code",
   "execution_count": 66,
   "metadata": {},
   "outputs": [
    {
     "data": {
      "text/plain": [
       "[<a>, <a>, <a>, <a>]"
      ]
     },
     "execution_count": 66,
     "metadata": {},
     "output_type": "execute_result"
    }
   ],
   "source": [
    "doc('a')"
   ]
  },
  {
   "cell_type": "code",
   "execution_count": 68,
   "metadata": {},
   "outputs": [
    {
     "data": {
      "text/plain": [
       "'link2.html'"
      ]
     },
     "execution_count": 68,
     "metadata": {},
     "output_type": "execute_result"
    }
   ],
   "source": [
    "doc('a').attr('href')"
   ]
  },
  {
   "cell_type": "code",
   "execution_count": 71,
   "metadata": {},
   "outputs": [
    {
     "ename": "AttributeError",
     "evalue": "'lxml.etree._Element' object has no attribute 'attr'",
     "output_type": "error",
     "traceback": [
      "\u001b[1;31m---------------------------------------------------------------------------\u001b[0m",
      "\u001b[1;31mAttributeError\u001b[0m                            Traceback (most recent call last)",
      "\u001b[1;32m~\\AppData\\Local\\Temp/ipykernel_15584/2333463124.py\u001b[0m in \u001b[0;36m<module>\u001b[1;34m\u001b[0m\n\u001b[0;32m      1\u001b[0m \u001b[1;32mfor\u001b[0m \u001b[0ma\u001b[0m \u001b[1;32min\u001b[0m \u001b[0mdoc\u001b[0m\u001b[1;33m(\u001b[0m\u001b[1;34m'a'\u001b[0m\u001b[1;33m)\u001b[0m\u001b[1;33m:\u001b[0m\u001b[1;33m\u001b[0m\u001b[1;33m\u001b[0m\u001b[0m\n\u001b[1;32m----> 2\u001b[1;33m     \u001b[0mprint\u001b[0m\u001b[1;33m(\u001b[0m\u001b[0ma\u001b[0m\u001b[1;33m.\u001b[0m\u001b[0mattr\u001b[0m\u001b[1;33m.\u001b[0m\u001b[0mtext\u001b[0m\u001b[1;33m(\u001b[0m\u001b[1;33m)\u001b[0m\u001b[1;33m)\u001b[0m\u001b[1;33m\u001b[0m\u001b[1;33m\u001b[0m\u001b[0m\n\u001b[0m",
      "\u001b[1;31mAttributeError\u001b[0m: 'lxml.etree._Element' object has no attribute 'attr'"
     ]
    }
   ],
   "source": [
    "for a in doc('a'):\n",
    "    print(a.attr.text())"
   ]
  },
  {
   "cell_type": "code",
   "execution_count": 76,
   "metadata": {},
   "outputs": [
    {
     "name": "stdout",
     "output_type": "stream",
     "text": [
      "link2.html\n",
      "link3.html\n",
      "link4.html\n",
      "link5.html\n"
     ]
    }
   ],
   "source": [
    "for a in doc('a').items():\n",
    "    print(a.attr.href)"
   ]
  },
  {
   "cell_type": "markdown",
   "metadata": {},
   "source": [
    "##### 获取文本"
   ]
  },
  {
   "cell_type": "code",
   "execution_count": 78,
   "metadata": {},
   "outputs": [
    {
     "data": {
      "text/plain": [
       "'third item'"
      ]
     },
     "execution_count": 78,
     "metadata": {},
     "output_type": "execute_result"
    }
   ],
   "source": [
    "doc('.item-0.active a').text()  # 标准写法"
   ]
  },
  {
   "cell_type": "code",
   "execution_count": 79,
   "metadata": {},
   "outputs": [
    {
     "data": {
      "text/plain": [
       "'third item'"
      ]
     },
     "execution_count": 79,
     "metadata": {},
     "output_type": "execute_result"
    }
   ],
   "source": [
    "doc('.item-0.active').text()"
   ]
  },
  {
   "cell_type": "code",
   "execution_count": 83,
   "metadata": {},
   "outputs": [
    {
     "name": "stdout",
     "output_type": "stream",
     "text": [
      "<a href=\"link3.html\"><span class=\"bold\">third item</span></a></li>\n",
      "         <li class=\"item-1 active\"><a href=\"link4.html\">fourth item</a></li>\n",
      "         <li class=\"item-0\"><a href=\"link5.html\">fifth item</a></li>\n",
      "     </ul>\n",
      " </div>\n"
     ]
    }
   ],
   "source": [
    "print(doc('.item-0.active').html())"
   ]
  },
  {
   "cell_type": "code",
   "execution_count": 84,
   "metadata": {},
   "outputs": [
    {
     "name": "stdout",
     "output_type": "stream",
     "text": [
      "second item third item fourth item fifth item\n",
      "second item\n"
     ]
    }
   ],
   "source": [
    "print(doc('a').text())  # text() 会返回所有，中间用空格隔开\n",
    "print(doc('a').html())  # html() 只会返回 1 个"
   ]
  }
 ],
 "metadata": {
  "kernelspec": {
   "display_name": "Python 3 (ipykernel)",
   "language": "python",
   "name": "python3"
  },
  "language_info": {
   "codemirror_mode": {
    "name": "ipython",
    "version": 3
   },
   "file_extension": ".py",
   "mimetype": "text/x-python",
   "name": "python",
   "nbconvert_exporter": "python",
   "pygments_lexer": "ipython3",
   "version": "3.9.7"
  },
  "vscode": {
   "interpreter": {
    "hash": "6a018d3a992d78c184ccc94ab54168c7b26325ed3c2283926339c3edbf5487e7"
   }
  }
 },
 "nbformat": 4,
 "nbformat_minor": 2
}
