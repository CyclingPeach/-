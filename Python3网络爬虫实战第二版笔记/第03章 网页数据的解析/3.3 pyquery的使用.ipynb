{
 "cells": [
  {
   "cell_type": "markdown",
   "metadata": {
    "pycharm": {
     "name": "#%% md\n"
    }
   },
   "source": [
    "# ✍️笔记\n",
    "\n",
    "- [《Python3 网络爬虫开发实战》 4.3 - 使用 pyquery](https://cuiqingcai.com/5551.html)\n",
    "\n",
    "- [CSS 教程](https://www.w3school.com.cn/css/index.asp)\n",
    "\n",
    "- [pyquery 的官方文档](https://pyquery.readthedocs.io/en/latest/)"
   ]
  },
  {
   "cell_type": "markdown",
   "metadata": {
    "pycharm": {
     "name": "#%% md\n"
    }
   },
   "source": [
    "|单词|释义|说明|\n",
    "|:-:|:-:|:-:|\n",
    "|`generator`|打算复读|df|\n",
    "|`siblings`|df|df|\n",
    "\n",
    "传入字符串，传入 URL，传入文件名\n",
    "\n",
    "### 查找节点（子、父节点）\n",
    "\n",
    "- 子节点\n",
    "  - `find()` 子孙节点\n",
    "  - `children()` 子节点\n",
    "- 父节点\n",
    "  - `parent()` 父节点\n",
    "  - `parents()` 祖先节点\n",
    "- 兄弟节点\n",
    "  - `siblings()` 兄弟节点（不包含自身）\n",
    "\n",
    "### 遍历\n",
    "\n",
    "### 信息获取【`attr() text() html()`】\n",
    "\n",
    "- 属性获取\n",
    "  - 单个节点属性获取——`attr()`\n",
    "  ```Python\n",
    "  print(a.attr('href'))\n",
    "  print(a.attr.href)\n",
    "  ```\n",
    "  - 多个节点属性获取——`遍历`\n",
    "  ```Python\n",
    "  a = doc('a')\n",
    "  for item in a.items():\n",
    "    print(item.attr.href)\n",
    "  ```\n",
    "- 文本获取\n",
    "  - 单个节点\n",
    "    - 文本信息 `text()`\n",
    "    - HTML文本 `html()`\n",
    "  - ***多个节点***\n",
    "    - HTML文本——`遍历`+`html()`\n",
    "    - 文本信息——`text()`\n",
    "\n",
    "### 节点操作\n",
    "`addClass()`、`removeClass()`\n",
    "\n",
    "`attr()` 增加 class属性\n",
    "\n",
    "`text()` 修改 文本\n",
    "\n",
    "`html()` 修改 HTML\n",
    "\n",
    "`remove()···`\n",
    "\n",
    "### 伪类选择器\n",
    "\n",
    "- 第一个节点\n",
    "- 第二个节点\n",
    "- 最后一个节点\n",
    "- 第三个及之后的节点\n",
    "- 偶数节点\n",
    "- 包含某内容文本的节点"
   ]
  },
  {
   "cell_type": "markdown",
   "metadata": {
    "pycharm": {
     "name": "#%% md\n"
    }
   },
   "source": [
    "# 📝草稿纸"
   ]
  },
  {
   "cell_type": "markdown",
   "metadata": {
    "pycharm": {
     "name": "#%% md\n"
    }
   },
   "source": [
    "### 初始化"
   ]
  },
  {
   "cell_type": "markdown",
   "metadata": {
    "pycharm": {
     "name": "#%% md\n"
    }
   },
   "source": [
    "##### 字符串初始化"
   ]
  },
  {
   "cell_type": "code",
   "execution_count": 37,
   "metadata": {
    "pycharm": {
     "name": "#%%\n"
    }
   },
   "outputs": [
    {
     "name": "stdout",
     "output_type": "stream",
     "text": [
      "<li class=\"item-0\">first item</li>\n",
      "         <li class=\"item-1\"><a href=\"link2.html\">second item</a></li>\n",
      "         <li class=\"item-0 active\"><a href=\"link3.html\"><span class=\"bold\">third item</span></a></li>\n",
      "         <li class=\"item-1 active\"><a href=\"link4.html\">fourth item</a></li>\n",
      "         <li class=\"item-0\"><a href=\"link5.html\">fifth item</a></li>\n",
      "     </ul>\n",
      " </div>\n",
      "         <li class=\"item-1\"><a href=\"link2.html\">second item</a></li>\n",
      "         <li class=\"item-0 active\"><a href=\"link3.html\"><span class=\"bold\">third item</span></a></li>\n",
      "         <li class=\"item-1 active\"><a href=\"link4.html\">fourth item</a></li>\n",
      "         <li class=\"item-0\"><a href=\"link5.html\">fifth item</a></li>\n",
      "     </ul>\n",
      " </div>\n",
      "         <li class=\"item-0 active\"><a href=\"link3.html\"><span class=\"bold\">third item</span></a></li>\n",
      "         <li class=\"item-1 active\"><a href=\"link4.html\">fourth item</a></li>\n",
      "         <li class=\"item-0\"><a href=\"link5.html\">fifth item</a></li>\n",
      "     </ul>\n",
      " </div>\n",
      "         <li class=\"item-1 active\"><a href=\"link4.html\">fourth item</a></li>\n",
      "         <li class=\"item-0\"><a href=\"link5.html\">fifth item</a></li>\n",
      "     </ul>\n",
      " </div>\n",
      "         <li class=\"item-0\"><a href=\"link5.html\">fifth item</a></li>\n",
      "     </ul>\n",
      " </div>\n",
      "     \n"
     ]
    }
   ],
   "source": [
    "html = '''\n",
    "<div>\n",
    "    <ul>\n",
    "         <li class=\"item-0\">first item</li>\n",
    "         <li class=\"item-1\"><a href=\"link2.html\">second item</a></li>\n",
    "         <li class=\"item-0 active\"><a href=\"link3.html\"><span class=\"bold\">third item</span></a></li>\n",
    "         <li class=\"item-1 active\"><a href=\"link4.html\">fourth item</a></li>\n",
    "         <li class=\"item-0\"><a href=\"link5.html\">fifth item</a></li>\n",
    "     </ul>\n",
    " </div>\n",
    "'''\n",
    "from pyquery import PyQuery as pq\n",
    "doc = pq(html)\n",
    "print(doc('li'))    # 将初始化的对象传入 CSS 选择器"
   ]
  },
  {
   "cell_type": "code",
   "execution_count": 38,
   "metadata": {
    "pycharm": {
     "name": "#%%\n"
    }
   },
   "outputs": [
    {
     "data": {
      "text/plain": [
       "[<li.item-0>, <li.item-1>, <li.item-0.active>, <li.item-1.active>, <li.item-0>]"
      ]
     },
     "execution_count": 38,
     "metadata": {},
     "output_type": "execute_result"
    }
   ],
   "source": [
    "doc('li')"
   ]
  },
  {
   "cell_type": "markdown",
   "metadata": {
    "pycharm": {
     "name": "#%% md\n"
    }
   },
   "source": [
    "##### URL 初始化"
   ]
  },
  {
   "cell_type": "code",
   "execution_count": 52,
   "metadata": {
    "pycharm": {
     "name": "#%%\n"
    }
   },
   "outputs": [
    {
     "name": "stdout",
     "output_type": "stream",
     "text": [
      "<title>ç¾åº¦ä¸ä¸ï¼ä½ å°±ç¥é</title></head> <body link=\"#0000cc\"> <div id=\"wrapper\"> <div id=\"head\"> <div class=\"head_wrapper\"> <div class=\"s_form\"> <div class=\"s_form_wrapper\"> <div id=\"lg\"> <img hidefocus=\"true\" src=\"//www.baidu.com/img/bd_logo1.png\" width=\"270\" height=\"129\"/> </div> <form id=\"form\" name=\"f\" action=\"//www.baidu.com/s\" class=\"fm\"> <input type=\"hidden\" name=\"bdorz_come\" value=\"1\"/> <input type=\"hidden\" name=\"ie\" value=\"utf-8\"/> <input type=\"hidden\" name=\"f\" value=\"8\"/> <input type=\"hidden\" name=\"rsv_bp\" value=\"1\"/> <input type=\"hidden\" name=\"rsv_idx\" value=\"1\"/> <input type=\"hidden\" name=\"tn\" value=\"baidu\"/><span class=\"bg s_ipt_wr\"><input id=\"kw\" name=\"wd\" class=\"s_ipt\" value=\"\" maxlength=\"255\" autocomplete=\"off\" autofocus=\"autofocus\"/></span><span class=\"bg s_btn_wr\"><input type=\"submit\" id=\"su\" value=\"ç¾åº¦ä¸ä¸\" class=\"bg s_btn\" autofocus=\"\"/></span> </form> </div> </div> <div id=\"u1\"> <a href=\"http://news.baidu.com\" name=\"tj_trnews\" class=\"mnav\">æ°é»</a> <a href=\"https://www.hao123.com\" name=\"tj_trhao123\" class=\"mnav\">hao123</a> <a href=\"http://map.baidu.com\" name=\"tj_trmap\" class=\"mnav\">å°å¾</a> <a href=\"http://v.baidu.com\" name=\"tj_trvideo\" class=\"mnav\">è§é¢</a> <a href=\"http://tieba.baidu.com\" name=\"tj_trtieba\" class=\"mnav\">è´´å§</a> <noscript> <a href=\"http://www.baidu.com/bdorz/login.gif?login&amp;tpl=mn&amp;u=http%3A%2F%2Fwww.baidu.com%2f%3fbdorz_come%3d1\" name=\"tj_login\" class=\"lb\">ç»å½</a> </noscript> <script>document.write('&lt;a href=\"http://www.baidu.com/bdorz/login.gif?login&amp;tpl=mn&amp;u='+ encodeURIComponent(window.location.href+ (window.location.search === \"\" ? \"?\" : \"&amp;\")+ \"bdorz_come=1\")+ '\" name=\"tj_login\" class=\"lb\"&gt;ç»å½&lt;/a&gt;');&#13;\n",
      "                </script> <a href=\"//www.baidu.com/more/\" name=\"tj_briicon\" class=\"bri\" style=\"display: block;\">æ´å¤äº§å</a> </div> </div> </div> <div id=\"ftCon\"> <div id=\"ftConw\"> <p id=\"lh\"> <a href=\"http://home.baidu.com\">å³äºç¾åº¦</a> <a href=\"http://ir.baidu.com\">About Baidu</a> </p> <p id=\"cp\">©2017 Baidu <a href=\"http://www.baidu.com/duty/\">ä½¿ç¨ç¾åº¦åå¿è¯»</a>  <a href=\"http://jianyi.baidu.com/\" class=\"cp-feedback\">æè§åé¦</a> äº¬ICPè¯030173å·  <img src=\"//www.baidu.com/img/gs.gif\"/> </p> </div> </div> </div> </body> </html>\n"
     ]
    }
   ],
   "source": [
    "from pyquery import PyQuery as pq\n",
    "doc = pq(url='https://www.baidu.com')\n",
    "print(doc('title'))"
   ]
  },
  {
   "cell_type": "code",
   "execution_count": 58,
   "metadata": {
    "pycharm": {
     "name": "#%%\n"
    }
   },
   "outputs": [
    {
     "data": {
      "text/plain": [
       "[<title>]"
      ]
     },
     "execution_count": 58,
     "metadata": {},
     "output_type": "execute_result"
    }
   ],
   "source": [
    "doc = pq(requests.get('https://www.baidu.com').text)\n",
    "doc('title')"
   ]
  },
  {
   "cell_type": "markdown",
   "metadata": {
    "pycharm": {
     "name": "#%% md\n"
    }
   },
   "source": [
    "##### 文件初始化"
   ]
  },
  {
   "cell_type": "markdown",
   "metadata": {
    "pycharm": {
     "name": "#%% md\n"
    }
   },
   "source": [
    "```Python\n",
    "from pyquery import PyQuery as pq\n",
    "doc = pq(filename='demo.html')\n",
    "print(doc('li'))\n",
    "```"
   ]
  },
  {
   "cell_type": "markdown",
   "metadata": {
    "pycharm": {
     "name": "#%% md\n"
    }
   },
   "source": [
    "### CSS基本选择器"
   ]
  },
  {
   "cell_type": "code",
   "execution_count": 60,
   "metadata": {
    "pycharm": {
     "name": "#%%\n"
    }
   },
   "outputs": [
    {
     "name": "stdout",
     "output_type": "stream",
     "text": [
      "<class 'pyquery.pyquery.PyQuery'>\n",
      "<li class=\"item-0\">first item</li>\n",
      "         <li class=\"item-1\"><a href=\"link2.html\">second item</a></li>\n",
      "         <li class=\"item-0 active\"><a href=\"link3.html\"><span class=\"bold\">third item</span></a></li>\n",
      "         <li class=\"item-1 active\"><a href=\"link4.html\">fourth item</a></li>\n",
      "         <li class=\"item-0\"><a href=\"link5.html\">fifth item</a></li>\n",
      "     </ul>\n",
      " </div>\n",
      "         <li class=\"item-1\"><a href=\"link2.html\">second item</a></li>\n",
      "         <li class=\"item-0 active\"><a href=\"link3.html\"><span class=\"bold\">third item</span></a></li>\n",
      "         <li class=\"item-1 active\"><a href=\"link4.html\">fourth item</a></li>\n",
      "         <li class=\"item-0\"><a href=\"link5.html\">fifth item</a></li>\n",
      "     </ul>\n",
      " </div>\n",
      "         <li class=\"item-0 active\"><a href=\"link3.html\"><span class=\"bold\">third item</span></a></li>\n",
      "         <li class=\"item-1 active\"><a href=\"link4.html\">fourth item</a></li>\n",
      "         <li class=\"item-0\"><a href=\"link5.html\">fifth item</a></li>\n",
      "     </ul>\n",
      " </div>\n",
      "         <li class=\"item-1 active\"><a href=\"link4.html\">fourth item</a></li>\n",
      "         <li class=\"item-0\"><a href=\"link5.html\">fifth item</a></li>\n",
      "     </ul>\n",
      " </div>\n",
      "         <li class=\"item-0\"><a href=\"link5.html\">fifth item</a></li>\n",
      "     </ul>\n",
      " </div>\n",
      "      \n",
      "\n"
     ]
    },
    {
     "data": {
      "text/plain": [
       "[<li.item-0>, <li.item-1>, <li.item-0.active>, <li.item-1.active>, <li.item-0>]"
      ]
     },
     "execution_count": 60,
     "metadata": {},
     "output_type": "execute_result"
    }
   ],
   "source": [
    "html = '''\n",
    "<div id=\"container\">\n",
    "    <ul class=\"list\">\n",
    "         <li class=\"item-0\">first item</li>\n",
    "         <li class=\"item-1\"><a href=\"link2.html\">second item</a></li>\n",
    "         <li class=\"item-0 active\"><a href=\"link3.html\"><span class=\"bold\">third item</span></a></li>\n",
    "         <li class=\"item-1 active\"><a href=\"link4.html\">fourth item</a></li>\n",
    "         <li class=\"item-0\"><a href=\"link5.html\">fifth item</a></li>\n",
    "     </ul>\n",
    " </div>\n",
    "'''\n",
    "\n",
    "from pyquery import PyQuery as pq\n",
    "doc = pq(html)\n",
    "print(type(doc('#container .list li')))\n",
    "print(doc('#container .list li'), '\\n')\n",
    "doc('#container .list li')"
   ]
  },
  {
   "cell_type": "markdown",
   "metadata": {
    "pycharm": {
     "name": "#%% md\n"
    }
   },
   "source": [
    "### 查找节点"
   ]
  },
  {
   "cell_type": "markdown",
   "metadata": {
    "pycharm": {
     "name": "#%% md\n"
    }
   },
   "source": [
    "##### 子节点"
   ]
  },
  {
   "cell_type": "code",
   "execution_count": 63,
   "metadata": {
    "pycharm": {
     "name": "#%%\n"
    }
   },
   "outputs": [
    {
     "name": "stdout",
     "output_type": "stream",
     "text": [
      "<class 'pyquery.pyquery.PyQuery'>\n",
      "<ul class=\"list\">\n",
      "         <li class=\"item-0\">first item</li>\n",
      "         <li class=\"item-1\"><a href=\"link2.html\">second item</a></li>\n",
      "         <li class=\"item-0 active\"><a href=\"link3.html\"><span class=\"bold\">third item</span></a></li>\n",
      "         <li class=\"item-1 active\"><a href=\"link4.html\">fourth item</a></li>\n",
      "         <li class=\"item-0\"><a href=\"link5.html\">fifth item</a></li>\n",
      "     </ul>\n",
      " </div>\n",
      "  \n",
      "\n",
      "<class 'pyquery.pyquery.PyQuery'>\n",
      "<li class=\"item-0\">first item</li>\n",
      "         <li class=\"item-1\"><a href=\"link2.html\">second item</a></li>\n",
      "         <li class=\"item-0 active\"><a href=\"link3.html\"><span class=\"bold\">third item</span></a></li>\n",
      "         <li class=\"item-1 active\"><a href=\"link4.html\">fourth item</a></li>\n",
      "         <li class=\"item-0\"><a href=\"link5.html\">fifth item</a></li>\n",
      "     </ul>\n",
      " </div>\n",
      "         <li class=\"item-1\"><a href=\"link2.html\">second item</a></li>\n",
      "         <li class=\"item-0 active\"><a href=\"link3.html\"><span class=\"bold\">third item</span></a></li>\n",
      "         <li class=\"item-1 active\"><a href=\"link4.html\">fourth item</a></li>\n",
      "         <li class=\"item-0\"><a href=\"link5.html\">fifth item</a></li>\n",
      "     </ul>\n",
      " </div>\n",
      "         <li class=\"item-0 active\"><a href=\"link3.html\"><span class=\"bold\">third item</span></a></li>\n",
      "         <li class=\"item-1 active\"><a href=\"link4.html\">fourth item</a></li>\n",
      "         <li class=\"item-0\"><a href=\"link5.html\">fifth item</a></li>\n",
      "     </ul>\n",
      " </div>\n",
      "         <li class=\"item-1 active\"><a href=\"link4.html\">fourth item</a></li>\n",
      "         <li class=\"item-0\"><a href=\"link5.html\">fifth item</a></li>\n",
      "     </ul>\n",
      " </div>\n",
      "         <li class=\"item-0\"><a href=\"link5.html\">fifth item</a></li>\n",
      "     </ul>\n",
      " </div>\n",
      "     \n"
     ]
    }
   ],
   "source": [
    "ul = doc('.list')\n",
    "print(type(ul))\n",
    "print(ul, '\\n')\n",
    "lis = ul.find('li')\n",
    "print(type(lis))\n",
    "print(lis)"
   ]
  }
 ],
 "metadata": {
  "kernelspec": {
   "display_name": "Python 3 (ipykernel)",
   "language": "python",
   "name": "python3"
  },
  "language_info": {
   "codemirror_mode": {
    "name": "ipython",
    "version": 3
   },
   "file_extension": ".py",
   "mimetype": "text/x-python",
   "name": "python",
   "nbconvert_exporter": "python",
   "pygments_lexer": "ipython3",
   "version": "3.9.7"
  },
  "vscode": {
   "interpreter": {
    "hash": "6a018d3a992d78c184ccc94ab54168c7b26325ed3c2283926339c3edbf5487e7"
   }
  }
 },
 "nbformat": 4,
 "nbformat_minor": 2
}