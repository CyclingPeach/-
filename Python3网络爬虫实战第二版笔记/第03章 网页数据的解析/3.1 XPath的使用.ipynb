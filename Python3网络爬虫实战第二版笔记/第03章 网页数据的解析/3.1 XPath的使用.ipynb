{
 "cells": [
  {
   "cell_type": "markdown",
   "metadata": {},
   "source": [
    "# 说明\n",
    "\n",
    "\n",
    "### 教程来源\n",
    "  [【2022 年】Python3 爬虫教程 - 网页解析利器 XPath](https://cuiqingcai.com/202231.html)\n",
    "\n",
    "### 目录"
   ]
  },
  {
   "cell_type": "markdown",
   "metadata": {},
   "source": [
    "# 笔记\n",
    "\n",
    "\n",
    "### 1.介绍\n",
    "\n",
    "XPath，全称是 XML Path Language，即 XML 路径语言，它是一门在 XML 文档中查找信息的语言。它最初是用来搜寻 XML 文档的，但是它同样适用于 HTML 文档的搜索。\n",
    "\n",
    "<div align=center>\n",
    "<img alt=\"图 1\" src=\"../../images/cd95a45a2283e26667f0b9d3c46f10997d69fa7dba5e340cc7d89b9fb5ca33ee.png\" width=75% />  \n"
   ]
  },
  {
   "cell_type": "markdown",
   "metadata": {},
   "source": [
    "### 2.实例"
   ]
  },
  {
   "cell_type": "code",
   "execution_count": 10,
   "metadata": {
    "vscode": {
     "languageId": "html"
    }
   },
   "outputs": [],
   "source": [
    "text = '''\n",
    "<div>\n",
    "    <ul>\n",
    "         <li class=\"item-0\"><a href=\"link1.html\">first item</a></li>\n",
    "         <li class=\"item-1\"><a href=\"link2.html\">second item</a></li>\n",
    "         <li class=\"item-inactive\"><a href=\"link3.html\">third item</a></li>\n",
    "         <li class=\"item-1\"><a href=\"link4.html\">fourth item</a></li>\n",
    "         <li class=\"item-0\"><a href=\"link5.html\">fifth item</a>\n",
    "     </ul>\n",
    " </div>\n",
    "'''"
   ]
  },
  {
   "cell_type": "code",
   "execution_count": 15,
   "metadata": {},
   "outputs": [
    {
     "name": "stdout",
     "output_type": "stream",
     "text": [
      "<html><body><div>\n",
      "    <ul>\n",
      "         <li class=\"item-0\"><a href=\"link1.html\">first item</a></li>\n",
      "         <li class=\"item-1\"><a href=\"link2.html\">second item</a></li>\n",
      "         <li class=\"item-inactive\"><a href=\"link3.html\">third item</a></li>\n",
      "         <li class=\"item-1\"><a href=\"link4.html\">fourth item</a></li>\n",
      "         <li class=\"item-0\"><a href=\"link5.html\">fifth item</a>\n",
      "     </li></ul>\n",
      " </div>\n",
      "</body></html>\n",
      "<class 'bytes'>\n",
      "<class 'str'>\n"
     ]
    }
   ],
   "source": [
    "from lxml import etree      # 导入 lxml 库的 etree 模块\n",
    "\n",
    "# 调用 HTML 类进行初始化，这样就成功构造了一个 XPath 解析对象。\n",
    "# etree 模块可以自动修正 HTML 文本，补齐 li 节点\n",
    "html = etree.HTML(text)\n",
    "result = etree.tostring(html)   # 调用 tostring 方法即可输出修正后的 HTML 代码\n",
    "print(result.decode('utf-8'))   # decode 方法将 bytes 类型转为 str 类型\n",
    "print(type(result))\n",
    "print(type(result.decode('utf-8')))"
   ]
  },
  {
   "cell_type": "markdown",
   "metadata": {},
   "source": [
    "直接读取文本文件进行解析"
   ]
  },
  {
   "cell_type": "code",
   "execution_count": null,
   "metadata": {},
   "outputs": [],
   "source": [
    "from lxml import etree\n",
    "\n",
    "html = etree.parse('./test.html', etree.HTMLParser())\n",
    "result = etree.tostring(html)\n",
    "print(result.decode('utf-8'))"
   ]
  },
  {
   "cell_type": "markdown",
   "metadata": {},
   "source": [
    "### 3.所有节点\n",
    "\n",
    "一般用 **`//`** 开头的 XPath 规则来选取所有符合要求的节点。\n",
    "\n",
    "**`*`** 代表匹配所有节点\n",
    "\n",
    "返回列表形式，元素为 `Element` 类型，后跟节点名称（如 `html`、`body`、`div`...)"
   ]
  },
  {
   "cell_type": "code",
   "execution_count": 22,
   "metadata": {},
   "outputs": [
    {
     "name": "stdout",
     "output_type": "stream",
     "text": [
      "<Element html at 0x1b563144140>\n",
      "\n",
      "所有节点:\n",
      " [<Element html at 0x1b563144140>, <Element body at 0x1b563144400>, <Element div at 0x1b563144180>, <Element ul at 0x1b563144740>, <Element li at 0x1b563144700>, <Element a at 0x1b563144900>, <Element li at 0x1b563144440>, <Element a at 0x1b5631446c0>, <Element li at 0x1b563144600>, <Element a at 0x1b563144880>, <Element li at 0x1b5631444c0>, <Element a at 0x1b563144980>, <Element li at 0x1b5631448c0>, <Element a at 0x1b563144a00>]\n",
      "\n",
      "所有 li 节点:\n",
      " [<Element li at 0x1b563144700>, <Element li at 0x1b563144440>, <Element li at 0x1b563144600>, <Element li at 0x1b5631444c0>, <Element li at 0x1b5631448c0>]\n"
     ]
    }
   ],
   "source": [
    "from lxml import etree\n",
    "\n",
    "html = etree.HTML(text)\n",
    "print(html)\n",
    "\n",
    "### 获取所有节点\n",
    "result = html.xpath('//*')\n",
    "print('\\n所有节点:\\n', result)\n",
    "\n",
    "### 获取指定节点名称\n",
    "result = html.xpath('//li')\n",
    "print('\\n所有 li 节点:\\n', result)"
   ]
  },
  {
   "cell_type": "markdown",
   "metadata": {},
   "source": [
    "### 子节点\n",
    "\n",
    "通过 **`//`** 或 **`//`** 即可查找元素的子节点或子孙节点"
   ]
  },
  {
   "cell_type": "code",
   "execution_count": 23,
   "metadata": {},
   "outputs": [
    {
     "name": "stdout",
     "output_type": "stream",
     "text": [
      "li 节点的所有直接子节点 a\n",
      " [<Element a at 0x1b563144340>, <Element a at 0x1b563144cc0>, <Element a at 0x1b563144640>, <Element a at 0x1b563144040>, <Element a at 0x1b5631440c0>]\n"
     ]
    }
   ],
   "source": [
    "### 选择 li 节点的所有直接子节点 a\n",
    "\n",
    "html = etree.HTML(text)\n",
    "result = html.xpath('//li/a')\n",
    "print('li 节点的所有直接子节点 a\\n', result)"
   ]
  }
 ],
 "metadata": {
  "kernelspec": {
   "display_name": "Python 3.9.7 ('base')",
   "language": "python",
   "name": "python3"
  },
  "language_info": {
   "codemirror_mode": {
    "name": "ipython",
    "version": 3
   },
   "file_extension": ".py",
   "mimetype": "text/x-python",
   "name": "python",
   "nbconvert_exporter": "python",
   "pygments_lexer": "ipython3",
   "version": "3.9.7"
  },
  "orig_nbformat": 4,
  "vscode": {
   "interpreter": {
    "hash": "6a018d3a992d78c184ccc94ab54168c7b26325ed3c2283926339c3edbf5487e7"
   }
  }
 },
 "nbformat": 4,
 "nbformat_minor": 2
}
