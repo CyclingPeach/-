{
 "cells": [
  {
   "cell_type": "markdown",
   "metadata": {},
   "source": [
    "# 说明\n",
    "\n",
    "\n",
    "### 教程来源\n",
    "- [【2022 年】Python3 爬虫教程 - 网页解析利器 XPath](https://cuiqingcai.com/202231.html)\n",
    "\n",
    "- [Python 爬虫利器三之 Xpath 语法与 lxml 库的用法](https://cuiqingcai.com/2621.html)\n",
    "\n",
    "### 目录"
   ]
  },
  {
   "cell_type": "markdown",
   "metadata": {},
   "source": [
    "# 笔记\n",
    "\n",
    "\n",
    "### 1.介绍\n",
    "\n",
    "XPath，全称是 XML Path Language，即 XML 路径语言，它是一门在 XML 文档中查找信息的语言。它最初是用来搜寻 XML 文档的，但是它同样适用于 HTML 文档的搜索。\n",
    "\n",
    "<div align=center>\n",
    "<img alt=\"图 1\" src=\"../../images/cd95a45a2283e26667f0b9d3c46f10997d69fa7dba5e340cc7d89b9fb5ca33ee.png\" width=65% />  \n"
   ]
  },
  {
   "cell_type": "markdown",
   "metadata": {},
   "source": [
    "### 2.实例"
   ]
  },
  {
   "cell_type": "code",
   "execution_count": 14,
   "metadata": {},
   "outputs": [
    {
     "name": "stdout",
     "output_type": "stream",
     "text": [
      "<class 'lxml.etree._Element'>\n",
      "<Element html at 0x19a0e0d5a80> \n",
      "\n",
      "<class 'bytes'>\n",
      "b'<html><body><div>\\n    <ul>\\n         <li class=\"item-0\"><a href=\"link1.html\">first item</a></li>\\n         <li class=\"item-1\"><a href=\"link2.html\">second item</a></li>\\n         <li class=\"item-inactive\"><a href=\"link3.html\">third item</a></li>\\n         <li class=\"item-1\"><a href=\"link4.html\">fourth item</a></li>\\n         <li class=\"item-0\"><a href=\"link5.html\">fifth item</a>\\n     </li></ul>\\n </div>\\n</body></html>' \n",
      "\n",
      "<class 'str'>\n",
      "<html><body><div>\n",
      "    <ul>\n",
      "         <li class=\"item-0\"><a href=\"link1.html\">first item</a></li>\n",
      "         <li class=\"item-1\"><a href=\"link2.html\">second item</a></li>\n",
      "         <li class=\"item-inactive\"><a href=\"link3.html\">third item</a></li>\n",
      "         <li class=\"item-1\"><a href=\"link4.html\">fourth item</a></li>\n",
      "         <li class=\"item-0\"><a href=\"link5.html\">fifth item</a>\n",
      "     </li></ul>\n",
      " </div>\n",
      "</body></html> \n",
      "\n"
     ]
    }
   ],
   "source": [
    "text = '''\n",
    "<div>\n",
    "    <ul>\n",
    "         <li class=\"item-0\"><a href=\"link1.html\">first item</a></li>\n",
    "         <li class=\"item-1\"><a href=\"link2.html\">second item</a></li>\n",
    "         <li class=\"item-inactive\"><a href=\"link3.html\">third item</a></li>\n",
    "         <li class=\"item-1\"><a href=\"link4.html\">fourth item</a></li>\n",
    "         <li class=\"item-0\"><a href=\"link5.html\">fifth item</a>\n",
    "     </ul>\n",
    " </div>\n",
    "'''\n",
    "\n",
    "from lxml import etree      # 导入 lxml 库的 etree 模块\n",
    "\n",
    "# 调用 HTML 类进行初始化，这样就成功构造了一个 XPath 解析对象。\n",
    "# etree 模块可以自动修正 HTML 文本，补齐 li 节点\n",
    "html = etree.HTML(text)\n",
    "print(type(html))\n",
    "print(html, '\\n')\n",
    "\n",
    "result = etree.tostring(html)   # 调用 tostring 方法即可输出修正后的 HTML 代码\n",
    "print(type(result))\n",
    "print(result, '\\n')\n",
    "\n",
    "print(type(result.decode('utf-8')))\n",
    "print(result.decode('utf-8'), '\\n')   # decode 方法将 bytes 类型转为 str 类型"
   ]
  },
  {
   "cell_type": "markdown",
   "metadata": {},
   "source": [
    "直接读取文本文件进行解析"
   ]
  },
  {
   "cell_type": "code",
   "execution_count": null,
   "metadata": {},
   "outputs": [],
   "source": [
    "from lxml import etree\n",
    "\n",
    "html = etree.parse('./test.html', etree.HTMLParser())\n",
    "result = etree.tostring(html)\n",
    "print(result.decode('utf-8'))"
   ]
  },
  {
   "cell_type": "markdown",
   "metadata": {},
   "source": [
    "### 3.所有节点\n",
    "\n",
    "一般用 **`//`** 开头的 XPath 规则来选取所有符合要求的节点。\n",
    "\n",
    "**`*`** 代表匹配所有节点\n",
    "\n",
    "返回列表形式，元素为 `Element` 类型，后跟节点名称（如 `html`、`body`、`div`...)"
   ]
  },
  {
   "cell_type": "code",
   "execution_count": 25,
   "metadata": {},
   "outputs": [
    {
     "name": "stdout",
     "output_type": "stream",
     "text": [
      "<Element html at 0x19a0f716d00>\n",
      "\n",
      "所有节点:\n",
      " [<Element body at 0x19a0f718800>, <Element div at 0x19a0f718fc0>, <Element ul at 0x19a0f718d00>, <Element li at 0x19a0e0d5e80>, <Element a at 0x19a0e0d5c80>, <Element li at 0x19a0e0d5bc0>, <Element a at 0x19a0e0d5d40>, <Element li at 0x19a0e0d5f40>, <Element a at 0x19a0e0d5d00>, <Element li at 0x19a0e0d5b00>, <Element a at 0x19a0e0d5c00>, <Element li at 0x19a0e0d5e00>, <Element a at 0x19a0e0d5940>]\n",
      "\n",
      "所有 li 节点:\n",
      " [<Element li at 0x19a0f718d00>, <Element li at 0x19a0f718ac0>, <Element li at 0x19a0e0d5e80>, <Element li at 0x19a0e0d5c80>, <Element li at 0x19a0e0d5bc0>]\n"
     ]
    }
   ],
   "source": [
    "from lxml import etree\n",
    "html = etree.HTML(text)\n",
    "print(html)\n",
    "\n",
    "### 获取所有节点\n",
    "print('\\n所有节点:\\n', html.xpath('.//*'))\n",
    "\n",
    "### 获取指定节点名称\n",
    "print('\\n所有 li 节点:\\n', html.xpath('.//li'))"
   ]
  },
  {
   "cell_type": "markdown",
   "metadata": {},
   "source": [
    "### 4.子节点\n",
    "\n",
    "- **`/`**  用于获取直接子节点\n",
    "\n",
    "- **`//`** 用于获取子孙节点"
   ]
  },
  {
   "cell_type": "code",
   "execution_count": 33,
   "metadata": {},
   "outputs": [
    {
     "name": "stdout",
     "output_type": "stream",
     "text": [
      "li 节点的所有直接子节点 a\n",
      " [<Element a at 0x19a0da2e300>, <Element a at 0x19a0d9fca00>, <Element a at 0x19a0d9fcac0>, <Element a at 0x19a0f709100>, <Element a at 0x19a0f709880>]\n",
      "\n",
      "获取 ul 节点的所有子孙节点 a\n",
      " [<Element a at 0x19a0da2e300>, <Element a at 0x19a0da2e4c0>, <Element a at 0x19a0da2e080>, <Element a at 0x19a0da2ebc0>, <Element a at 0x19a0da2ed80>]\n",
      "\n",
      "使用 //ul/a 便无法获取任何结果\n",
      " []\n"
     ]
    }
   ],
   "source": [
    "html = etree.HTML(text)\n",
    "\n",
    "### 获取 li 节点的所有直接子节点 a\n",
    "print('li 节点的所有直接子节点 a\\n', html.xpath('//li/a'))\n",
    "\n",
    "### 获取 ul 节点的所有子孙节点 a\n",
    "print('\\n获取 ul 节点的所有子孙节点 a\\n', html.xpath('//ul//a'))\n",
    "\n",
    "# 注意：使用 //ul/a 便无法获取任何结果\n",
    "print('\\n使用 //ul/a 便无法获取任何结果\\n', html.xpath('//ul/a'))"
   ]
  },
  {
   "cell_type": "markdown",
   "metadata": {},
   "source": [
    "### 5.父节点\n",
    "\n",
    "- 获取父节点\n",
    "  - **`..`** \n",
    "  - **`parent::`**"
   ]
  },
  {
   "cell_type": "code",
   "execution_count": 40,
   "metadata": {},
   "outputs": [
    {
     "data": {
      "text/plain": [
       "[<Element a at 0x19a0daad180>,\n",
       " <Element a at 0x19a0d9fcac0>,\n",
       " <Element a at 0x19a0f7ef6c0>,\n",
       " <Element a at 0x19a0f7ef740>,\n",
       " <Element a at 0x19a0f7ef780>]"
      ]
     },
     "execution_count": 40,
     "metadata": {},
     "output_type": "execute_result"
    }
   ],
   "source": [
    "html.xpath('//a')                               # 所有 a 节点"
   ]
  },
  {
   "cell_type": "code",
   "execution_count": 42,
   "metadata": {},
   "outputs": [
    {
     "data": {
      "text/plain": [
       "[<Element a at 0x19a0f7ef740>]"
      ]
     },
     "execution_count": 42,
     "metadata": {},
     "output_type": "execute_result"
    }
   ],
   "source": [
    "html.xpath('//a[@href=\"link4.html\"]')           # 目标 a 节点"
   ]
  },
  {
   "cell_type": "code",
   "execution_count": 45,
   "metadata": {},
   "outputs": [
    {
     "name": "stdout",
     "output_type": "stream",
     "text": [
      "[<Element li at 0x19a0f7fab80>, <Element li at 0x19a0f7fadc0>, <Element li at 0x19a0f7fab00>, <Element li at 0x19a0f812440>, <Element li at 0x19a0f80f6c0>]\n"
     ]
    },
    {
     "data": {
      "text/plain": [
       "[<Element li at 0x19a0f812440>]"
      ]
     },
     "execution_count": 45,
     "metadata": {},
     "output_type": "execute_result"
    }
   ],
   "source": [
    "print(html.xpath('//li'))                       # li 节点\n",
    "html.xpath('//a[@href=\"link4.html\"]/..')        # 目标 a 节点的父节点"
   ]
  },
  {
   "cell_type": "code",
   "execution_count": 48,
   "metadata": {},
   "outputs": [
    {
     "data": {
      "text/plain": [
       "['item-1']"
      ]
     },
     "execution_count": 48,
     "metadata": {},
     "output_type": "execute_result"
    }
   ],
   "source": [
    "html.xpath('//a[@href=\"link4.html\"]/../@class') # 目标 a 节点的父节点的 class 属性"
   ]
  },
  {
   "cell_type": "code",
   "execution_count": 53,
   "metadata": {},
   "outputs": [
    {
     "name": "stdout",
     "output_type": "stream",
     "text": [
      "[<Element li at 0x19a0f812440>]\n"
     ]
    },
    {
     "ename": "XPathEvalError",
     "evalue": "Invalid expression",
     "output_type": "error",
     "traceback": [
      "\u001b[1;31m---------------------------------------------------------------------------\u001b[0m",
      "\u001b[1;31mXPathEvalError\u001b[0m                            Traceback (most recent call last)",
      "\u001b[1;32m~\\AppData\\Local\\Temp/ipykernel_19784/3959434850.py\u001b[0m in \u001b[0;36m<module>\u001b[1;34m\u001b[0m\n\u001b[0;32m      1\u001b[0m \u001b[1;31m# 使用 parent:: 方法必须在后面加上 *\u001b[0m\u001b[1;33m\u001b[0m\u001b[1;33m\u001b[0m\u001b[0m\n\u001b[0;32m      2\u001b[0m \u001b[0mprint\u001b[0m\u001b[1;33m(\u001b[0m\u001b[0mhtml\u001b[0m\u001b[1;33m.\u001b[0m\u001b[0mxpath\u001b[0m\u001b[1;33m(\u001b[0m\u001b[1;34m'//a[@href=\"link4.html\"]/parent::*'\u001b[0m\u001b[1;33m)\u001b[0m\u001b[1;33m)\u001b[0m\u001b[1;33m\u001b[0m\u001b[1;33m\u001b[0m\u001b[0m\n\u001b[1;32m----> 3\u001b[1;33m \u001b[0mprint\u001b[0m\u001b[1;33m(\u001b[0m\u001b[0mhtml\u001b[0m\u001b[1;33m.\u001b[0m\u001b[0mxpath\u001b[0m\u001b[1;33m(\u001b[0m\u001b[1;34m'//a[@href=\"link4.html\"]/parent::'\u001b[0m\u001b[1;33m)\u001b[0m\u001b[1;33m)\u001b[0m\u001b[1;33m\u001b[0m\u001b[1;33m\u001b[0m\u001b[0m\n\u001b[0m",
      "\u001b[1;32msrc/lxml/etree.pyx\u001b[0m in \u001b[0;36mlxml.etree._Element.xpath\u001b[1;34m()\u001b[0m\n",
      "\u001b[1;32msrc/lxml/xpath.pxi\u001b[0m in \u001b[0;36mlxml.etree.XPathElementEvaluator.__call__\u001b[1;34m()\u001b[0m\n",
      "\u001b[1;32msrc/lxml/xpath.pxi\u001b[0m in \u001b[0;36mlxml.etree._XPathEvaluatorBase._handle_result\u001b[1;34m()\u001b[0m\n",
      "\u001b[1;31mXPathEvalError\u001b[0m: Invalid expression"
     ]
    }
   ],
   "source": [
    "# 使用 parent:: 方法必须在后面加上 * \n",
    "print(html.xpath('//a[@href=\"link4.html\"]/parent::*'))\n",
    "print(html.xpath('//a[@href=\"link4.html\"]/parent::'))"
   ]
  },
  {
   "cell_type": "code",
   "execution_count": 54,
   "metadata": {},
   "outputs": [
    {
     "name": "stdout",
     "output_type": "stream",
     "text": [
      "常规方式 .. 获取父节点\n",
      " ['item-1']\n",
      "\n",
      "通过 parent:: 获取父节点\n",
      " ['item-1']\n"
     ]
    }
   ],
   "source": [
    "'''\n",
    "    首先选中 href 属性为 link4.html 的 a 节点\n",
    "    然后获取其父节点\n",
    "    再获取其 class 属性\n",
    "'''\n",
    "\n",
    "result = html.xpath('//a[@href=\"link4.html\"]/../@class')\n",
    "print('常规方式 .. 获取父节点\\n', result)\n",
    "\n",
    "result = html.xpath('//a[@href=\"link4.html\"]/parent::*/@class')\n",
    "print('\\n通过 parent:: 获取父节点\\n', result)"
   ]
  },
  {
   "cell_type": "code",
   "execution_count": 42,
   "metadata": {},
   "outputs": [
    {
     "name": "stdout",
     "output_type": "stream",
     "text": [
      "查看所有li 和 a 节点\n",
      " [<Element li at 0x1b563155dc0>, <Element a at 0x1b56313dd40>, <Element li at 0x1b563155740>, <Element a at 0x1b56313d900>, <Element li at 0x1b5631551c0>, <Element a at 0x1b56313de00>, <Element li at 0x1b563120d40>, <Element a at 0x1b56313d180>, <Element li at 0x1b563155440>, <Element a at 0x1b56313d140>]\n",
      "\n",
      "获取所有a节点\n",
      " [<Element a at 0x1b56313dd40>, <Element a at 0x1b56313d900>, <Element a at 0x1b56313de00>, <Element a at 0x1b56313d180>, <Element a at 0x1b56313d140>]\n",
      "\n",
      "获取所有a节点中href属性为link4.html的 a 节点\n",
      " [<Element a at 0x1b56313d180>]\n",
      "\n",
      "再获取其父节点\n",
      " [<Element li at 0x1b563120d40>]\n",
      "\n",
      "再获取其class属性\n",
      " ['item-1']\n"
     ]
    }
   ],
   "source": [
    "### 分解\n",
    "result = html.xpath('//ul//*')\n",
    "print('查看所有li 和 a 节点\\n', result)\n",
    "\n",
    "result1 = html.xpath('//a')\n",
    "print('\\n获取所有a节点\\n', result1)\n",
    "\n",
    "result2 = html.xpath('//a[@href=\"link4.html\"]')\n",
    "print('\\n获取所有a节点中href属性为link4.html的 a 节点\\n', result2)\n",
    "11111112\n",
    "result3 = html.xpath('//a[@href=\"link4.html\"]/..')\n",
    "print('\\n再获取其父节点\\n', result3)\n",
    "\n",
    "result4 = html.xpath('//a[@href=\"link4.html\"]/../@class')\n",
    "print('\\n再获取其class属性\\n', result4)"
   ]
  },
  {
   "cell_type": "markdown",
   "metadata": {},
   "source": [
    "### 6.属性匹配\n",
    "\n",
    "利用 **`@`** 进行属性过滤"
   ]
  },
  {
   "cell_type": "code",
   "execution_count": 47,
   "metadata": {},
   "outputs": [
    {
     "name": "stdout",
     "output_type": "stream",
     "text": [
      "[<Element li at 0x1b56313d3c0>, <Element li at 0x1b56313d540>]\n"
     ]
    }
   ],
   "source": [
    "### 获取 所有 class 属性为 item-0 的 li 节点\n",
    "\n",
    "result = html.xpath('//li[@class=\"item-0\"]')\n",
    "print(result)"
   ]
  },
  {
   "cell_type": "markdown",
   "metadata": {},
   "source": [
    "### 7.**文本获取【重点】**\n",
    "\n"
   ]
  },
  {
   "cell_type": "code",
   "execution_count": 50,
   "metadata": {},
   "outputs": [
    {
     "name": "stdout",
     "output_type": "stream",
     "text": [
      "[<Element li at 0x1b563207ec0>, <Element li at 0x1b563207740>] \n",
      "\n",
      "['\\n     '] \n",
      "\n"
     ]
    }
   ],
   "source": [
    "result = html.xpath('//li[@class=\"item-0\"]')\n",
    "print(result, '\\n')\n",
    "\n",
    "result = html.xpath('//li[@class=\"item-0\"]/text()')     # 直接子节点\n",
    "print(result, '\\n')"
   ]
  },
  {
   "cell_type": "markdown",
   "metadata": {},
   "source": [
    "##### 获取 li 节点内部文本的两种方式\n",
    "\n",
    "- 先选取 a 节点 再获取文本"
   ]
  },
  {
   "cell_type": "code",
   "execution_count": 51,
   "metadata": {},
   "outputs": [
    {
     "name": "stdout",
     "output_type": "stream",
     "text": [
      "['first item', 'fifth item'] \n",
      "\n"
     ]
    }
   ],
   "source": [
    "result = html.xpath('//li[@class=\"item-0\"]/a/text()')\n",
    "print(result, '\\n')"
   ]
  },
  {
   "cell_type": "markdown",
   "metadata": {},
   "source": [
    "- 直接使用 **`//`**"
   ]
  },
  {
   "cell_type": "code",
   "execution_count": 52,
   "metadata": {},
   "outputs": [
    {
     "name": "stdout",
     "output_type": "stream",
     "text": [
      "['first item', 'fifth item', '\\n     '] \n",
      "\n"
     ]
    }
   ],
   "source": [
    "result = html.xpath('//li[@class=\"item-0\"]//text()')\n",
    "print(result, '\\n')"
   ]
  },
  {
   "cell_type": "markdown",
   "metadata": {},
   "source": [
    "### 8.属性获取"
   ]
  },
  {
   "cell_type": "code",
   "execution_count": 59,
   "metadata": {},
   "outputs": [
    {
     "name": "stdout",
     "output_type": "stream",
     "text": [
      "【所有 a 节点】\n",
      "[<Element a at 0x1b56313dd40>, <Element a at 0x1b56313d900>, <Element a at 0x1b56313de00>, <Element a at 0x1b56313d180>, <Element a at 0x1b56313d140>]\n",
      "\n",
      "【所有 a 节点 的 href 属性】\n",
      "['link1.html', 'link2.html', 'link3.html', 'link4.html', 'link5.html']\n"
     ]
    }
   ],
   "source": [
    "print('【所有 a 节点】')\n",
    "print(html.xpath('//li/a'))\n",
    "\n",
    "print('\\n【所有 a 节点 的 href 属性】')\n",
    "print(html.xpath('//li/a/@href'))\n"
   ]
  },
  {
   "cell_type": "markdown",
   "metadata": {},
   "source": [
    "### 9.属性多值匹配"
   ]
  },
  {
   "cell_type": "markdown",
   "metadata": {},
   "source": [
    "contains 方法\n",
    "\n",
    "第一个参数传入属性名称，第二个参数传入属性值，只要此属性包含所传入的属性值，就可以完成匹配了。"
   ]
  },
  {
   "cell_type": "code",
   "execution_count": 70,
   "metadata": {},
   "outputs": [
    {
     "name": "stdout",
     "output_type": "stream",
     "text": [
      "[]\n",
      "[<Element li at 0x19a0f7e2740>]\n",
      "['first item']\n"
     ]
    }
   ],
   "source": [
    "text = '''\n",
    "<li class=\"li li-first\">\n",
    "    <a href=\"link.html\">first item</a>\n",
    "</li>\n",
    "'''\n",
    "html = etree.HTML(text)\n",
    "\n",
    "print(html.xpath('//li'))\n",
    "\n",
    "print(html.xpath('//li[@class=\"li\"]'))\n",
    "print(html.xpath('//li[contains(@class, \"li\")]/a/text()'))"
   ]
  },
  {
   "cell_type": "markdown",
   "metadata": {},
   "source": [
    "### 10.多属性匹配\n",
    "\n",
    "- 使用 **`XPath 运算符`** **`and`** 来连接\n",
    "\n",
    "> 更多的 **`XPath 运算符`** 详见:\n",
    ">\n",
    "> [XPath 运算符](https://www.w3school.com.cn/xpath/xpath_operators.asp)"
   ]
  },
  {
   "cell_type": "code",
   "execution_count": 83,
   "metadata": {},
   "outputs": [
    {
     "data": {
      "text/plain": [
       "['first item']"
      ]
     },
     "execution_count": 83,
     "metadata": {},
     "output_type": "execute_result"
    }
   ],
   "source": [
    "text = '''\n",
    "<li class=\"li li-first\" name=\"item\">\n",
    "    <a href=\"link.html\">first item</a>\n",
    "</li>\n",
    "'''\n",
    "html = etree.HTML(text)\n",
    "\n",
    "# 第一个属性  contains(@class, \"li\")\n",
    "# 第二个属性  @name=\"item\"\n",
    "html.xpath('//li[contains(@class, \"li\") and @name=\"item\"]/a/text()')"
   ]
  },
  {
   "cell_type": "markdown",
   "metadata": {},
   "source": [
    "### 11.按序选择"
   ]
  },
  {
   "cell_type": "markdown",
   "metadata": {},
   "source": [
    "有时候，我们在选择的时候某些属性可能同时匹配了多个节点，但是只想要其中的某个节点，如第二个节点或者最后一个节点，这时该怎么办呢？\n",
    "\n",
    "这时可以利用中括号传入索引的方法获取特定次序的节点"
   ]
  },
  {
   "cell_type": "code",
   "execution_count": 117,
   "metadata": {},
   "outputs": [
    {
     "name": "stdout",
     "output_type": "stream",
     "text": [
      "<Element li at 0x19a0f8125c0> ['first item']\n",
      "<Element li at 0x19a0f812880> ['second item']\n",
      "<Element li at 0x19a0f812640> ['third item']\n",
      "<Element li at 0x19a0f8128c0> ['fourth item']\n",
      "<Element li at 0x19a0f812c00> ['fifth item']\n",
      "\n",
      "['first item']\n",
      "['fifth item']\n",
      "['first item', 'second item', 'third item']\n",
      "['third item']\n"
     ]
    }
   ],
   "source": [
    "html = etree.parse('./data/test.html', etree.HTMLParser())\n",
    "\n",
    "for i in html.xpath('//li'):\n",
    "    print(i, i.xpath('a/text()'))\n",
    "print()\n",
    "print(html.xpath('//li[1]/a/text()'))               # 第 1 个\n",
    "print(html.xpath('//li[last()]/a/text()'))          # 最后 1 个（倒数第 1 个）\n",
    "print(html.xpath('//li[position()<=3]/a/text()'))   # 前三个\n",
    "print(html.xpath('//li[last()-2]/a/text()'))        # 倒数第 3 个"
   ]
  },
  {
   "cell_type": "markdown",
   "metadata": {},
   "source": [
    "> 更多 方法见:\n",
    "> \n",
    "> [XPath、XQuery 以及 XSLT 函数](https://www.w3school.com.cn/xpath/xpath_functions.asp)"
   ]
  },
  {
   "cell_type": "markdown",
   "metadata": {},
   "source": [
    "### 12.节点轴选择\n",
    "\n",
    "包括获取子元素、兄弟元素、父元素、祖先元素等\n",
    "\n"
   ]
  },
  {
   "cell_type": "code",
   "execution_count": 119,
   "metadata": {},
   "outputs": [],
   "source": [
    "from lxml import etree\n",
    "\n",
    "# html = etree.HTML(text)\n",
    "html = etree.parse('./data/test.html', etree.HTMLParser())"
   ]
  },
  {
   "cell_type": "code",
   "execution_count": 121,
   "metadata": {},
   "outputs": [
    {
     "name": "stdout",
     "output_type": "stream",
     "text": [
      "[<Element html at 0x19a0f7f6f40>, <Element body at 0x19a0f715280>, <Element div at 0x19a0f7f6180>, <Element ul at 0x19a0f80a2c0>]\n",
      "[<Element div at 0x19a0f80a500>]\n",
      "\n",
      "['item-0']\n",
      "['item-0']\n",
      "直接子节点\n",
      "[<Element a at 0x19a0f80a0c0>]\n",
      "[<Element a at 0x19a0f80a480>]\n",
      "后代、后裔（子孙节点）\n",
      "[<Element a at 0x19a0f80a200>]\n",
      "[]\n",
      "\n",
      "[<Element li at 0x19a0f80a300>, <Element a at 0x19a0f80a080>, <Element li at 0x19a0f80a380>, <Element a at 0x19a0f80a040>, <Element li at 0x19a0f80a140>, <Element a at 0x19a0f80a600>, <Element li at 0x19a0f80a280>, <Element a at 0x19a0f80a580>]\n",
      "[<Element a at 0x19a0f80a380>]\n",
      "['second item']\n",
      "\n",
      "[<Element li at 0x19a0f80a200>, <Element li at 0x19a0f80a640>, <Element li at 0x19a0f80a040>, <Element li at 0x19a0f80a140>]\n"
     ]
    }
   ],
   "source": [
    "print(html.xpath('//li[1]/ancestor::*'))        # 祖先节点\n",
    "print(html.xpath('//li[1]/ancestor::div'))\n",
    "print()\n",
    "print(html.xpath('//li[1]/attribute::*'))       # 属性值\n",
    "print(html.xpath('//li[1]/attribute::class')) \n",
    "print('直接子节点')\n",
    "print(html.xpath('//li[1]/child::*'))           # 直接子节点\n",
    "print(html.xpath('//li[1]/child::a[@href=\"link1.html\"]'))\n",
    "print('后代、后裔（子孙节点）')\n",
    "print(html.xpath('//li[1]/descendant::*'))      # 后代、后裔（子孙节点）\n",
    "print(html.xpath('//li[1]/descendant::span'))   \n",
    "print()\n",
    "print(html.xpath('//li[1]/following::*'))       # 当前节点之后的所有节点(子孙)\n",
    "print(html.xpath('//li[1]/following::*[2]'))    # 把 li 和 a 节点都算进去了，再选择\n",
    "print(html.xpath('//li[1]/following::*[2]/text()')) \n",
    "print()\n",
    "print(html.xpath('//li[1]/following-sibling::*'))   # 当前节点之后的所有同级节点"
   ]
  },
  {
   "cell_type": "markdown",
   "metadata": {},
   "source": [
    "> 更多轴用法参考:\n",
    "> \n",
    "> [XPath Axes（轴）](https://www.w3school.com.cn/xpath/xpath_axes.asp)\n",
    "> \n",
    "> 更多 Python lxml 库的用法参考:\n",
    "> \n",
    "> [lxml - XML and HTML with Python](http://lxml.de/)"
   ]
  }
 ],
 "metadata": {
  "kernelspec": {
   "display_name": "Python 3.9.7 ('base')",
   "language": "python",
   "name": "python3"
  },
  "language_info": {
   "codemirror_mode": {
    "name": "ipython",
    "version": 3
   },
   "file_extension": ".py",
   "mimetype": "text/x-python",
   "name": "python",
   "nbconvert_exporter": "python",
   "pygments_lexer": "ipython3",
   "version": "3.9.7"
  },
  "orig_nbformat": 4,
  "vscode": {
   "interpreter": {
    "hash": "6a018d3a992d78c184ccc94ab54168c7b26325ed3c2283926339c3edbf5487e7"
   }
  }
 },
 "nbformat": 4,
 "nbformat_minor": 2
}
