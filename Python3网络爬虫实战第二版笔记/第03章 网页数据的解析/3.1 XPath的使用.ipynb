{
 "cells": [
  {
   "cell_type": "markdown",
   "metadata": {},
   "source": [
    "# 说明\n",
    "\n",
    "\n",
    "### 教程来源\n",
    "- [【2022 年】Python3 爬虫教程 - 网页解析利器 XPath](https://cuiqingcai.com/202231.html)\n",
    "\n",
    "- [Python 爬虫利器三之 Xpath 语法与 lxml 库的用法](https://cuiqingcai.com/2621.html)\n",
    "\n",
    "### 目录"
   ]
  },
  {
   "cell_type": "markdown",
   "metadata": {},
   "source": [
    "# 笔记\n",
    "\n",
    "\n",
    "### 1.介绍\n",
    "\n",
    "XPath，全称是 XML Path Language，即 XML 路径语言，它是一门在 XML 文档中查找信息的语言。它最初是用来搜寻 XML 文档的，但是它同样适用于 HTML 文档的搜索。\n",
    "\n",
    "<div align=center>\n",
    "<img alt=\"图 1\" src=\"../../images/cd95a45a2283e26667f0b9d3c46f10997d69fa7dba5e340cc7d89b9fb5ca33ee.png\" width=65% />  \n"
   ]
  },
  {
   "cell_type": "markdown",
   "metadata": {},
   "source": [
    "### 2.实例"
   ]
  },
  {
   "cell_type": "code",
   "execution_count": 7,
   "metadata": {},
   "outputs": [
    {
     "name": "stdout",
     "output_type": "stream",
     "text": [
      "<class 'lxml.etree._Element'>\n",
      "<Element html at 0x2aaff5e8cc0> \n",
      " --------------------------------------------------\n",
      "<class 'bytes'>\n",
      "b'<html><body><div>\\n    <ul>\\n         <li class=\"item-0\"><a href=\"link1.html\">first item</a></li>\\n         <li class=\"item-1\"><a href=\"link2.html\">second item</a></li>\\n         <li class=\"item-inactive\"><a href=\"link3.html\">third item</a></li>\\n         <li class=\"item-1\"><a href=\"link4.html\">fourth item</a></li>\\n         <li class=\"item-0\"><a href=\"link5.html\">fifth item</a>\\n     </li></ul>\\n </div>\\n</body></html>' \n",
      " --------------------------------------------------\n",
      "<class 'str'>\n",
      "<html><body><div>\n",
      "    <ul>\n",
      "         <li class=\"item-0\"><a href=\"link1.html\">first item</a></li>\n",
      "         <li class=\"item-1\"><a href=\"link2.html\">second item</a></li>\n",
      "         <li class=\"item-inactive\"><a href=\"link3.html\">third item</a></li>\n",
      "         <li class=\"item-1\"><a href=\"link4.html\">fourth item</a></li>\n",
      "         <li class=\"item-0\"><a href=\"link5.html\">fifth item</a>\n",
      "     </li></ul>\n",
      " </div>\n",
      "</body></html>\n"
     ]
    }
   ],
   "source": [
    "text = '''\n",
    "<div>\n",
    "    <ul>\n",
    "         <li class=\"item-0\"><a href=\"link1.html\">first item</a></li>\n",
    "         <li class=\"item-1\"><a href=\"link2.html\">second item</a></li>\n",
    "         <li class=\"item-inactive\"><a href=\"link3.html\">third item</a></li>\n",
    "         <li class=\"item-1\"><a href=\"link4.html\">fourth item</a></li>\n",
    "         <li class=\"item-0\"><a href=\"link5.html\">fifth item</a>\n",
    "     </ul>\n",
    " </div>\n",
    "'''\n",
    "\n",
    "from lxml import etree      # 导入 lxml 库的 etree 模块\n",
    "\n",
    "# 调用 HTML 类进行初始化，这样就成功构造了一个 XPath 解析对象。\n",
    "# etree 模块可以自动修正 HTML 文本，补齐 li 节点\n",
    "html = etree.HTML(text)\n",
    "print(type(html))\n",
    "print(html, '\\n', '-'*50)\n",
    "\n",
    "result = etree.tostring(html)   # 调用 tostring 方法即可输出修正后的 HTML 代码\n",
    "print(type(result))\n",
    "print(result, '\\n', '-'*50)\n",
    "\n",
    "print(type(result.decode('utf-8')))\n",
    "print(result.decode('utf-8'))   # decode 方法将 bytes 类型转为 str 类型"
   ]
  },
  {
   "cell_type": "markdown",
   "metadata": {},
   "source": [
    "直接读取文本文件进行解析"
   ]
  },
  {
   "cell_type": "code",
   "execution_count": null,
   "metadata": {},
   "outputs": [],
   "source": [
    "from lxml import etree\n",
    "\n",
    "html = etree.parse('./test.html', etree.HTMLParser())\n",
    "result = etree.tostring(html)\n",
    "print(result.decode('utf-8'))"
   ]
  },
  {
   "cell_type": "markdown",
   "metadata": {},
   "source": [
    "### 3.所有节点\n",
    "\n",
    "一般用 **`//`** 开头的 XPath 规则来选取所有符合要求的节点。\n",
    "\n",
    "**`*`** 代表匹配所有节点\n",
    "\n",
    "**返回列表形式**，元素为 `Element` 类型，后跟节点名称（如 `html`、`body`、`div`...)"
   ]
  },
  {
   "cell_type": "code",
   "execution_count": 12,
   "metadata": {},
   "outputs": [
    {
     "name": "stdout",
     "output_type": "stream",
     "text": [
      "<Element html at 0x2aaff5e8c00> \n",
      " --------------------------------------------------\n",
      "所有节点:\n",
      " [<Element html at 0x2aaff5e8c00>, <Element body at 0x2aaff5e68c0>, <Element div at 0x2aaff5e6240>, <Element ul at 0x2aaff5e6640>, <Element li at 0x2aaff5e6100>, <Element a at 0x2aaff5e6940>, <Element li at 0x2aaff5e6b40>, <Element a at 0x2aaff5e6c80>, <Element li at 0x2aaff5e6b80>, <Element a at 0x2aaff5e6340>, <Element li at 0x2aaff5e62c0>, <Element a at 0x2aaff5e6740>, <Element li at 0x2aaff5e6a00>, <Element a at 0x2aaff5e6580>] \n",
      " --------------------------------------------------\n",
      "所有节点:\n",
      " [<Element body at 0x2aaff4b7d00>, <Element div at 0x2aaff5e6480>, <Element ul at 0x2aaff5e6100>, <Element li at 0x2aaff5e6dc0>, <Element a at 0x2aaff5e6940>, <Element li at 0x2aaff5e6c80>, <Element a at 0x2aaff5e6b80>, <Element li at 0x2aaff5e6340>, <Element a at 0x2aaff5e62c0>, <Element li at 0x2aaff5e6b40>, <Element a at 0x2aaff5e6740>, <Element li at 0x2aaff5e6a00>, <Element a at 0x2aaff5e6580>] \n",
      " --------------------------------------------------\n",
      "所有 li 节点:\n",
      " [<Element li at 0x2aaff5e4d80>, <Element li at 0x2aaff5e6240>, <Element li at 0x2aaff5e6c00>, <Element li at 0x2aaff5e6100>, <Element li at 0x2aaff5e6dc0>]\n"
     ]
    }
   ],
   "source": [
    "from lxml import etree\n",
    "html = etree.HTML(text)\n",
    "print(html, '\\n', '-'*50)\n",
    "\n",
    "### 获取所有节点\n",
    "print('所有节点:\\n', html.xpath('//*') , '\\n', '-'*50)\n",
    "print('所有节点:\\n', html.xpath('.//*'), '\\n', '-'*50)\n",
    "\n",
    "### 获取指定节点名称\n",
    "print('所有 li 节点:\\n', html.xpath('//li'))"
   ]
  },
  {
   "cell_type": "markdown",
   "metadata": {},
   "source": [
    "### 4.子节点\n",
    "\n",
    "- **`/`**  用于获取直接子节点\n",
    "\n",
    "- **`//`** 用于获取子孙节点"
   ]
  },
  {
   "cell_type": "code",
   "execution_count": 15,
   "metadata": {},
   "outputs": [
    {
     "name": "stdout",
     "output_type": "stream",
     "text": [
      "li 节点的所有直接子节点 a\n",
      " [<Element a at 0x2aa81027f40>, <Element a at 0x2aaff5a6140>, <Element a at 0x2aaff5a6a40>, <Element a at 0x2aaff5a6740>, <Element a at 0x2aaff5a67c0>] \n",
      " --------------------------------------------------\n",
      "获取 ul 节点的所有子孙节点 a\n",
      " [<Element a at 0x2aa814e4080>, <Element a at 0x2aa81027440>, <Element a at 0x2aaff57bd80>, <Element a at 0x2aaff5fbd80>, <Element a at 0x2aaff5fb880>] \n",
      " --------------------------------------------------\n",
      "使用 //ul/a 便无法获取任何结果\n",
      " []\n"
     ]
    }
   ],
   "source": [
    "html = etree.HTML(text)\n",
    "\n",
    "### 获取 所有 li 节点的直接子节点 a\n",
    "print('li 节点的所有直接子节点 a\\n', html.xpath('//li/a'), '\\n', '-'*50)\n",
    "\n",
    "### 获取 ul 节点的所有子孙节点 a\n",
    "print('获取 ul 节点的所有子孙节点 a\\n', html.xpath('//ul//a'), '\\n', '-'*50)\n",
    "\n",
    "# 注意：使用 //ul/a 便无法获取任何结果\n",
    "print('使用 //ul/a 便无法获取任何结果\\n', html.xpath('//ul/a'))"
   ]
  },
  {
   "cell_type": "markdown",
   "metadata": {},
   "source": [
    "### 5.父节点\n",
    "\n",
    "- 获取父节点\n",
    "  - **`..`** \n",
    "  - **`parent::`**"
   ]
  },
  {
   "cell_type": "code",
   "execution_count": 40,
   "metadata": {},
   "outputs": [
    {
     "data": {
      "text/plain": [
       "[<Element a at 0x19a0daad180>,\n",
       " <Element a at 0x19a0d9fcac0>,\n",
       " <Element a at 0x19a0f7ef6c0>,\n",
       " <Element a at 0x19a0f7ef740>,\n",
       " <Element a at 0x19a0f7ef780>]"
      ]
     },
     "execution_count": 40,
     "metadata": {},
     "output_type": "execute_result"
    }
   ],
   "source": [
    "html.xpath('//a')                               # 所有 a 节点"
   ]
  },
  {
   "cell_type": "code",
   "execution_count": 50,
   "metadata": {},
   "outputs": [
    {
     "data": {
      "text/plain": [
       "[<Element a at 0x2aa81637fc0>]"
      ]
     },
     "execution_count": 50,
     "metadata": {},
     "output_type": "execute_result"
    }
   ],
   "source": [
    "html.xpath('//a[@href=\"link3.html\"]')           # 目标 a 节点"
   ]
  },
  {
   "cell_type": "code",
   "execution_count": 46,
   "metadata": {},
   "outputs": [
    {
     "name": "stdout",
     "output_type": "stream",
     "text": [
      "[<Element li at 0x2aa815ebdc0>, <Element li at 0x2aa815eb800>, <Element li at 0x2aa815eb940>, <Element li at 0x2aa815ebc00>, <Element li at 0x2aa815eb680>] \n",
      " --------------------------------------------------\n"
     ]
    },
    {
     "data": {
      "text/plain": [
       "[<Element li at 0x2aa815eb940>]"
      ]
     },
     "execution_count": 46,
     "metadata": {},
     "output_type": "execute_result"
    }
   ],
   "source": [
    "print(html.xpath('//li'), '\\n', '-'*50)                       # li 节点\n",
    "html.xpath('//a[@href=\"link3.html\"]/..')        # 目标 a 节点的父节点"
   ]
  },
  {
   "cell_type": "code",
   "execution_count": 29,
   "metadata": {},
   "outputs": [
    {
     "data": {
      "text/plain": [
       "['item-inactive']"
      ]
     },
     "execution_count": 29,
     "metadata": {},
     "output_type": "execute_result"
    }
   ],
   "source": [
    "html.xpath('//a[@href=\"link3.html\"]/../@class') # 目标 a 节点的父节点的 class 属性"
   ]
  },
  {
   "cell_type": "code",
   "execution_count": 30,
   "metadata": {},
   "outputs": [
    {
     "name": "stdout",
     "output_type": "stream",
     "text": [
      "[<Element li at 0x2aa815eb940>]\n"
     ]
    },
    {
     "ename": "XPathEvalError",
     "evalue": "Invalid expression",
     "output_type": "error",
     "traceback": [
      "\u001b[1;31m---------------------------------------------------------------------------\u001b[0m",
      "\u001b[1;31mXPathEvalError\u001b[0m                            Traceback (most recent call last)",
      "\u001b[1;32me:\\Code\\Crawler-Project\\Python3网络爬虫实战第二版笔记\\第03章 网页数据的解析\\3.1 XPath的使用.ipynb Cell 16\u001b[0m in \u001b[0;36m<cell line: 3>\u001b[1;34m()\u001b[0m\n\u001b[0;32m      <a href='vscode-notebook-cell:/e%3A/Code/Crawler-Project/Python3%E7%BD%91%E7%BB%9C%E7%88%AC%E8%99%AB%E5%AE%9E%E6%88%98%E7%AC%AC%E4%BA%8C%E7%89%88%E7%AC%94%E8%AE%B0/%E7%AC%AC03%E7%AB%A0%20%E7%BD%91%E9%A1%B5%E6%95%B0%E6%8D%AE%E7%9A%84%E8%A7%A3%E6%9E%90/3.1%20XPath%E7%9A%84%E4%BD%BF%E7%94%A8.ipynb#X21sZmlsZQ%3D%3D?line=0'>1</a>\u001b[0m \u001b[39m# 【注意】使用 parent:: 方法必须在后面加上 * \u001b[39;00m\n\u001b[0;32m      <a href='vscode-notebook-cell:/e%3A/Code/Crawler-Project/Python3%E7%BD%91%E7%BB%9C%E7%88%AC%E8%99%AB%E5%AE%9E%E6%88%98%E7%AC%AC%E4%BA%8C%E7%89%88%E7%AC%94%E8%AE%B0/%E7%AC%AC03%E7%AB%A0%20%E7%BD%91%E9%A1%B5%E6%95%B0%E6%8D%AE%E7%9A%84%E8%A7%A3%E6%9E%90/3.1%20XPath%E7%9A%84%E4%BD%BF%E7%94%A8.ipynb#X21sZmlsZQ%3D%3D?line=1'>2</a>\u001b[0m \u001b[39mprint\u001b[39m(html\u001b[39m.\u001b[39mxpath(\u001b[39m'\u001b[39m\u001b[39m//a[@href=\u001b[39m\u001b[39m\"\u001b[39m\u001b[39mlink3.html\u001b[39m\u001b[39m\"\u001b[39m\u001b[39m]/parent::*\u001b[39m\u001b[39m'\u001b[39m))\n\u001b[1;32m----> <a href='vscode-notebook-cell:/e%3A/Code/Crawler-Project/Python3%E7%BD%91%E7%BB%9C%E7%88%AC%E8%99%AB%E5%AE%9E%E6%88%98%E7%AC%AC%E4%BA%8C%E7%89%88%E7%AC%94%E8%AE%B0/%E7%AC%AC03%E7%AB%A0%20%E7%BD%91%E9%A1%B5%E6%95%B0%E6%8D%AE%E7%9A%84%E8%A7%A3%E6%9E%90/3.1%20XPath%E7%9A%84%E4%BD%BF%E7%94%A8.ipynb#X21sZmlsZQ%3D%3D?line=2'>3</a>\u001b[0m \u001b[39mprint\u001b[39m(html\u001b[39m.\u001b[39;49mxpath(\u001b[39m'\u001b[39;49m\u001b[39m//a[@href=\u001b[39;49m\u001b[39m\"\u001b[39;49m\u001b[39mlink3.html\u001b[39;49m\u001b[39m\"\u001b[39;49m\u001b[39m]/parent::\u001b[39;49m\u001b[39m'\u001b[39;49m))\n",
      "File \u001b[1;32msrc/lxml/etree.pyx:1597\u001b[0m, in \u001b[0;36mlxml.etree._Element.xpath\u001b[1;34m()\u001b[0m\n",
      "File \u001b[1;32msrc/lxml/xpath.pxi:305\u001b[0m, in \u001b[0;36mlxml.etree.XPathElementEvaluator.__call__\u001b[1;34m()\u001b[0m\n",
      "File \u001b[1;32msrc/lxml/xpath.pxi:225\u001b[0m, in \u001b[0;36mlxml.etree._XPathEvaluatorBase._handle_result\u001b[1;34m()\u001b[0m\n",
      "\u001b[1;31mXPathEvalError\u001b[0m: Invalid expression"
     ]
    }
   ],
   "source": [
    "# 【注意】使用 parent:: 方法必须在后面加上 * 否则会报错\n",
    "print(html.xpath('//a[@href=\"link3.html\"]/parent::*'))\n",
    "print(html.xpath('//a[@href=\"link3.html\"]/parent::'))"
   ]
  },
  {
   "cell_type": "code",
   "execution_count": 45,
   "metadata": {},
   "outputs": [
    {
     "name": "stdout",
     "output_type": "stream",
     "text": [
      "..        获取父节点 ['item-inactive'] \n",
      " --------------------------------------------------\n",
      "parent::  获取父节点 ['item-inactive']\n"
     ]
    }
   ],
   "source": [
    "result = html.xpath('//a[@href=\"link3.html\"]/../@class')\n",
    "print('..        获取父节点', result, '\\n', '-'*50)\n",
    "\n",
    "result = html.xpath('//a[@href=\"link3.html\"]/parent::*/@class')\n",
    "print('parent::  获取父节点', result)"
   ]
  },
  {
   "cell_type": "markdown",
   "metadata": {},
   "source": [
    "### 6.属性匹配\n",
    "\n",
    "利用 **`@`** 进行属性过滤"
   ]
  },
  {
   "cell_type": "code",
   "execution_count": 51,
   "metadata": {},
   "outputs": [
    {
     "name": "stdout",
     "output_type": "stream",
     "text": [
      "[<Element li at 0x2aa815ebdc0>, <Element li at 0x2aa815eb680>]\n"
     ]
    }
   ],
   "source": [
    "### 获取 所有 class 属性为 item-0 的 li 节点\n",
    "\n",
    "result = html.xpath('//li[@class=\"item-0\"]')\n",
    "print(result)"
   ]
  },
  {
   "cell_type": "markdown",
   "metadata": {},
   "source": [
    "### 7.**文本获取【重点】**"
   ]
  },
  {
   "cell_type": "code",
   "execution_count": 59,
   "metadata": {},
   "outputs": [
    {
     "name": "stdout",
     "output_type": "stream",
     "text": [
      "[<Element li at 0x2aa815ebdc0>, <Element li at 0x2aa815eb680>] \n",
      " ------------------------------------------------------------\n",
      "['\\n     ']\n"
     ]
    }
   ],
   "source": [
    "result = html.xpath('//li[@class=\"item-0\"]')\n",
    "print(result, '\\n', '-'*60)\n",
    "\n",
    "result = html.xpath('//li[@class=\"item-0\"]/text()')     # 直接子节点\n",
    "print(result)"
   ]
  },
  {
   "cell_type": "markdown",
   "metadata": {},
   "source": [
    "##### **获取 li 节点内部文本的两种方式**\n",
    "\n",
    "- 先选取 a 节点 再获取文本\n",
    "\n",
    "    ```Python\n",
    "    result = html.xpath('//li[@class=\"item-0\"]/a/text()')\n",
    "    print(result, '\\n')\n",
    "\n",
    "    >>> ['first item', 'fifth item'] \n",
    "    ```\n",
    "\n",
    "- 直接使用 **`//`**\n",
    "\n",
    "    ```Python\n",
    "    result = html.xpath('//li[@class=\"item-0\"]//text()')\n",
    "    print(result, '\\n')\n",
    "\n",
    "    >>> ['first item', 'fifth item', '\\n     '] \n",
    "    ```"
   ]
  },
  {
   "cell_type": "markdown",
   "metadata": {},
   "source": [
    "### 8.属性值获取"
   ]
  },
  {
   "cell_type": "code",
   "execution_count": 63,
   "metadata": {},
   "outputs": [
    {
     "name": "stdout",
     "output_type": "stream",
     "text": [
      "【所有 a 节点】\n",
      "[<Element a at 0x2aa815eb880>, <Element a at 0x2aaff611440>, <Element a at 0x2aa81637fc0>, <Element a at 0x2aa81637540>, <Element a at 0x2aaff611480>] \n",
      " --------------------------------------------------\n",
      "【所有 a 节点 的 href 属性】\n",
      "['link1.html', 'link2.html', 'link3.html', 'link4.html', 'link5.html'] \n",
      " --------------------------------------------------\n",
      "【所有 li 节点 的 href 属性】\n",
      "['link1.html', 'link2.html', 'link3.html', 'link4.html', 'link5.html']\n"
     ]
    }
   ],
   "source": [
    "print('【所有 a 节点】')\n",
    "print(html.xpath('//li/a'), '\\n', '-'*50)\n",
    "\n",
    "print('【所有 a 节点 的 href 属性】')\n",
    "print(html.xpath('//li/a/@href'), '\\n', '-'*50)\n",
    "\n",
    "print('【所有 li 节点 的 href 属性】')\n",
    "print(html.xpath('//li//@href'))\n"
   ]
  },
  {
   "cell_type": "markdown",
   "metadata": {},
   "source": [
    "### 9.属性多值匹配"
   ]
  },
  {
   "cell_type": "markdown",
   "metadata": {},
   "source": [
    "**`contains`** 方法\n",
    "\n",
    "第一个参数传入属性名称，第二个参数传入属性值，只要此属性包含所传入的属性值，就可以完成匹配了。"
   ]
  },
  {
   "cell_type": "code",
   "execution_count": 74,
   "metadata": {},
   "outputs": [
    {
     "name": "stdout",
     "output_type": "stream",
     "text": [
      "[<Element li at 0x2aa816a00c0>]\n",
      "[] \n",
      " --------------------------------------------------\n",
      "['\\n    ', 'first item', '\\n']\n",
      "['link.html']\n"
     ]
    }
   ],
   "source": [
    "text = '''\n",
    "<li class=\"li li-first\">\n",
    "    <a href=\"link.html\">first item</a>\n",
    "</li>\n",
    "'''\n",
    "html = etree.HTML(text)\n",
    "\n",
    "print(html.xpath('//li'))\n",
    "\n",
    "print(html.xpath('//li[@class=\"li\"]'), '\\n', '-'*50)\n",
    "print(html.xpath('//li[contains(@class, \"li\")]//text()'))\n",
    "print(html.xpath('//li[contains(@class, \"li\")]//@href'))"
   ]
  },
  {
   "cell_type": "markdown",
   "metadata": {},
   "source": [
    "### 10.多属性匹配\n",
    "\n",
    "- 使用 **`XPath 运算符`** **`and`** 来连接\n",
    "\n",
    "> 更多的 **`XPath 运算符`** 详见:\n",
    ">\n",
    "> [XPath 运算符](https://www.w3school.com.cn/xpath/xpath_operators.asp)"
   ]
  },
  {
   "cell_type": "code",
   "execution_count": 75,
   "metadata": {},
   "outputs": [
    {
     "data": {
      "text/plain": [
       "['\\n    ', 'first item', '\\n']"
      ]
     },
     "execution_count": 75,
     "metadata": {},
     "output_type": "execute_result"
    }
   ],
   "source": [
    "text = '''\n",
    "<li class=\"li li-first\" name=\"item\">\n",
    "    <a href=\"link.html\">first item</a>\n",
    "</li>\n",
    "'''\n",
    "html = etree.HTML(text)\n",
    "html.xpath('//li[contains(@class, \"li\") and @name=\"item\"]//text()')"
   ]
  },
  {
   "cell_type": "markdown",
   "metadata": {},
   "source": [
    "### 11.按序选择"
   ]
  },
  {
   "cell_type": "markdown",
   "metadata": {},
   "source": [
    "有时候，我们在选择的时候某些属性可能同时匹配了多个节点，但是只想要其中的某个节点，如第二个节点或者最后一个节点，这时该怎么办呢？\n",
    "\n",
    "这时可以利用中括号传入索引的方法获取特定次序的节点"
   ]
  },
  {
   "cell_type": "code",
   "execution_count": 117,
   "metadata": {},
   "outputs": [
    {
     "name": "stdout",
     "output_type": "stream",
     "text": [
      "<Element li at 0x19a0f8125c0> ['first item']\n",
      "<Element li at 0x19a0f812880> ['second item']\n",
      "<Element li at 0x19a0f812640> ['third item']\n",
      "<Element li at 0x19a0f8128c0> ['fourth item']\n",
      "<Element li at 0x19a0f812c00> ['fifth item']\n",
      "\n",
      "['first item']\n",
      "['fifth item']\n",
      "['first item', 'second item', 'third item']\n",
      "['third item']\n"
     ]
    }
   ],
   "source": [
    "html = etree.parse('./data/test.html', etree.HTMLParser())\n",
    "\n",
    "for i in html.xpath('//li'):\n",
    "    print(i, i.xpath('a/text()'))\n",
    "print()\n",
    "print(html.xpath('//li[1]/a/text()'))               # 第 1 个\n",
    "print(html.xpath('//li[last()]/a/text()'))          # 最后 1 个（倒数第 1 个）\n",
    "print(html.xpath('//li[position()<=3]/a/text()'))   # 前三个\n",
    "print(html.xpath('//li[last()-2]/a/text()'))        # 倒数第 3 个"
   ]
  },
  {
   "cell_type": "markdown",
   "metadata": {},
   "source": [
    "> 更多 方法见:\n",
    "> \n",
    "> [XPath、XQuery 以及 XSLT 函数](https://www.w3school.com.cn/xpath/xpath_functions.asp)"
   ]
  },
  {
   "cell_type": "markdown",
   "metadata": {},
   "source": [
    "### 12.节点轴选择\n",
    "\n",
    "包括获取子元素、兄弟元素、父元素、祖先元素等\n",
    "\n"
   ]
  },
  {
   "cell_type": "code",
   "execution_count": 119,
   "metadata": {},
   "outputs": [],
   "source": [
    "from lxml import etree\n",
    "\n",
    "# html = etree.HTML(text)\n",
    "html = etree.parse('./data/test.html', etree.HTMLParser())"
   ]
  },
  {
   "cell_type": "code",
   "execution_count": 121,
   "metadata": {},
   "outputs": [
    {
     "name": "stdout",
     "output_type": "stream",
     "text": [
      "[<Element html at 0x19a0f7f6f40>, <Element body at 0x19a0f715280>, <Element div at 0x19a0f7f6180>, <Element ul at 0x19a0f80a2c0>]\n",
      "[<Element div at 0x19a0f80a500>]\n",
      "\n",
      "['item-0']\n",
      "['item-0']\n",
      "直接子节点\n",
      "[<Element a at 0x19a0f80a0c0>]\n",
      "[<Element a at 0x19a0f80a480>]\n",
      "后代、后裔（子孙节点）\n",
      "[<Element a at 0x19a0f80a200>]\n",
      "[]\n",
      "\n",
      "[<Element li at 0x19a0f80a300>, <Element a at 0x19a0f80a080>, <Element li at 0x19a0f80a380>, <Element a at 0x19a0f80a040>, <Element li at 0x19a0f80a140>, <Element a at 0x19a0f80a600>, <Element li at 0x19a0f80a280>, <Element a at 0x19a0f80a580>]\n",
      "[<Element a at 0x19a0f80a380>]\n",
      "['second item']\n",
      "\n",
      "[<Element li at 0x19a0f80a200>, <Element li at 0x19a0f80a640>, <Element li at 0x19a0f80a040>, <Element li at 0x19a0f80a140>]\n"
     ]
    }
   ],
   "source": [
    "print(html.xpath('//li[1]/ancestor::*'))        # 祖先节点\n",
    "print(html.xpath('//li[1]/ancestor::div'))\n",
    "print()\n",
    "print(html.xpath('//li[1]/attribute::*'))       # 属性值\n",
    "print(html.xpath('//li[1]/attribute::class')) \n",
    "print('直接子节点')\n",
    "print(html.xpath('//li[1]/child::*'))           # 直接子节点\n",
    "print(html.xpath('//li[1]/child::a[@href=\"link1.html\"]'))\n",
    "print('后代、后裔（子孙节点）')\n",
    "print(html.xpath('//li[1]/descendant::*'))      # 后代、后裔（子孙节点）\n",
    "print(html.xpath('//li[1]/descendant::span'))   \n",
    "print()\n",
    "print(html.xpath('//li[1]/following::*'))       # 当前节点之后的所有节点(子孙)\n",
    "print(html.xpath('//li[1]/following::*[2]'))    # 把 li 和 a 节点都算进去了，再选择\n",
    "print(html.xpath('//li[1]/following::*[2]/text()')) \n",
    "print()\n",
    "print(html.xpath('//li[1]/following-sibling::*'))   # 当前节点之后的所有同级节点"
   ]
  },
  {
   "cell_type": "markdown",
   "metadata": {},
   "source": [
    "> 更多轴用法参考:\n",
    "> \n",
    "> [XPath Axes（轴）](https://www.w3school.com.cn/xpath/xpath_axes.asp)\n",
    "> \n",
    "> 更多 Python lxml 库的用法参考:\n",
    "> \n",
    "> [lxml - XML and HTML with Python](http://lxml.de/)"
   ]
  }
 ],
 "metadata": {
  "kernelspec": {
   "display_name": "Python 3.9.7 ('base')",
   "language": "python",
   "name": "python3"
  },
  "language_info": {
   "codemirror_mode": {
    "name": "ipython",
    "version": 3
   },
   "file_extension": ".py",
   "mimetype": "text/x-python",
   "name": "python",
   "nbconvert_exporter": "python",
   "pygments_lexer": "ipython3",
   "version": "3.9.12"
  },
  "orig_nbformat": 4,
  "vscode": {
   "interpreter": {
    "hash": "6a018d3a992d78c184ccc94ab54168c7b26325ed3c2283926339c3edbf5487e7"
   }
  }
 },
 "nbformat": 4,
 "nbformat_minor": 2
}
