{
 "cells": [
  {
   "cell_type": "markdown",
   "metadata": {},
   "source": [
    "# ✍️笔记\n",
    "\n"
   ]
  },
  {
   "cell_type": "markdown",
   "metadata": {},
   "source": [
    "[【2022 年】Python3 爬虫教程 - parsel 的使用](https://cuiqingcai.com/202232.html)\n",
    "\n",
    "[parsel官方文档](https://parsel.readthedocs.io/en/latest/)\n",
    "\n",
    "-  lxml 使用 XPath\n",
    "-  pyquery 使用 CSS selector\n",
    "-  parsel 使用 XPath 、 CSS 、 正则表达式\n",
    "\n",
    "> parsel 是一个解析库\n",
    "\n",
    "> parsel 这个库可以对 HTML 和 XML 进行解析，并支持使用 XPath 和 CSS Selector 对内容进行提取和修改，同时它还融合了正则表达式提取的功能。功能灵活而又强大，同时它也是 Python 最流行爬虫框架 Scrapy 的底层支持。"
   ]
  },
  {
   "cell_type": "markdown",
   "metadata": {},
   "source": [
    "# 📝草稿纸"
   ]
  },
  {
   "cell_type": "code",
   "execution_count": 1,
   "metadata": {},
   "outputs": [],
   "source": [
    "html = '''\n",
    "<div>\n",
    "    <ul>\n",
    "         <li class=\"item-0\">first item</li>\n",
    "         <li class=\"item-1\"><a href=\"link2.html\">second item</a></li>\n",
    "         <li class=\"item-0 active\"><a href=\"link3.html\"><span class=\"bold\">third item</span></a></li>\n",
    "         <li class=\"item-1 active\"><a href=\"link4.html\">fourth item</a></li>\n",
    "         <li class=\"item-0\"><a href=\"link5.html\">fifth item</a></li>\n",
    "     </ul>\n",
    " </div>\n",
    "'''\n",
    "\n",
    "import re\n",
    "from parsel import Selector\n",
    "selector = Selector(text = html)"
   ]
  },
  {
   "cell_type": "code",
   "execution_count": 11,
   "metadata": {},
   "outputs": [
    {
     "name": "stdout",
     "output_type": "stream",
     "text": [
      "<Selector xpath=\"descendant-or-self::*[@class and contains(concat(' ', normalize-space(@class), ' '), ' item-0 ')]\" data='<li class=\"item-0\">first item</li>\\n  ...'>\n",
      "--------------------------------------------------\n",
      "[<Selector xpath='.//text()' data='first item'>]\n",
      "--------------------------------------------------\n",
      "first item\n",
      "--------------------------------------------------\n"
     ]
    }
   ],
   "source": [
    "print(selector.css('.item-0')[0], '\\n', '-'*50, sep='')\n",
    "print(selector.css('.item-0')[0].xpath('.//text()'), '\\n', '-'*50, sep='')\n",
    "print(selector.css('.item-0')[0].xpath('.//text()').get(), '\\n', '-'*50, sep='')"
   ]
  },
  {
   "cell_type": "markdown",
   "metadata": {},
   "source": [
    "- `*` 用来提取所有子节点（包括纯文本节点）\n",
    "- 提取文本需要再加上 `::text` ，最终的运行结果是一样的。"
   ]
  },
  {
   "cell_type": "code",
   "execution_count": 74,
   "metadata": {},
   "outputs": [
    {
     "name": "stdout",
     "output_type": "stream",
     "text": [
      "third item\n",
      "third item\n",
      "third item\n",
      "third item \n",
      "\n",
      "\n",
      "link3.html\n",
      "link3.html \n",
      "\n",
      "\n",
      "[<Selector xpath=\"descendant-or-self::*[@class and contains(concat(' ', normalize-space(@class), ' '), ' item-0 ') and (@class and contains(concat(' ', normalize-space(@class), ' '), ' active '))]\" data='<li class=\"item-0 active\"><a href=\"li...'>]\n",
      "['link3.html\"><span class=\"bold\">third item</span></a></li>', 'link4.html\">fourth item</a></li>', 'link5.html\">fifth item</a></li>']\n",
      "['third item']\n"
     ]
    }
   ],
   "source": [
    "print(selector.css('.item-0.active')[0].xpath('.//text()').get())\n",
    "print(selector.css('.item-0.active')[0].xpath('.//a/span/text()').get())\n",
    "print(selector.css('.item-0.active')[0].css('.item-0 *::text').get())\n",
    "print(selector.css('.item-0.active')[0].css('.item-0 a span::text').get(), '\\n\\n')\n",
    "\n",
    "\n",
    "print(selector.css('.item-0.active')[0].xpath('.//a/@href').get())\n",
    "print(selector.css('.item-0.active')[0].css('a::attr(href)').get(), '\\n\\n')\n",
    "\n",
    "\n",
    "print(selector.css('.item-0.active'))\n",
    "print(selector.css('.item-0.active').re('link.*'))\n",
    "print(selector.css('.item-0.active a span::text').re('.*item'))"
   ]
  },
  {
   "cell_type": "code",
   "execution_count": 67,
   "metadata": {},
   "outputs": [
    {
     "data": {
      "text/plain": [
       "['link3.html\"><span class=\"bold\">third item</span></a></li>',\n",
       " 'link4.html\">fourth item</a></li>',\n",
       " 'link5.html\">fifth item</a></li>']"
      ]
     },
     "execution_count": 67,
     "metadata": {},
     "output_type": "execute_result"
    }
   ],
   "source": [
    "selector.css('.item-0.active').re('link.*')"
   ]
  },
  {
   "cell_type": "code",
   "execution_count": 26,
   "metadata": {},
   "outputs": [
    {
     "data": {
      "text/plain": [
       "['first item']"
      ]
     },
     "execution_count": 26,
     "metadata": {},
     "output_type": "execute_result"
    }
   ],
   "source": [
    "selector.css('.item-0')[0].xpath('.//text()').getall()"
   ]
  },
  {
   "cell_type": "markdown",
   "metadata": {},
   "source": [
    "# 分割线"
   ]
  },
  {
   "cell_type": "code",
   "execution_count": 39,
   "metadata": {},
   "outputs": [
    {
     "name": "stdout",
     "output_type": "stream",
     "text": [
      "link2.html\">second item</a></li>\n",
      "link3.html\"><span class=\"bold\">third item</span></a></li>\n",
      "link4.html\">fourth item</a></li>\n",
      "link5.html\">fifth item</a></li>\n",
      "link3.html\"><span class=\"bold\">third item</span></a></li>\n",
      "link4.html\">fourth item</a></li>\n",
      "link5.html\">fifth item</a></li>\n",
      "link5.html\">fifth item</a></li>\n",
      "\n",
      "<Selector xpath=\"descendant-or-self::*[@class and contains(concat(' ', normalize-space(@class), ' '), ' item-0 ')]/descendant-or-self::text()\" data='first item'>\n",
      "['first item']\n",
      "\n",
      "<Selector xpath=\"descendant-or-self::*[@class and contains(concat(' ', normalize-space(@class), ' '), ' item-0 ')]/descendant-or-self::text()\" data='third item'>\n",
      "['third item']\n",
      "\n",
      "<Selector xpath=\"descendant-or-self::*[@class and contains(concat(' ', normalize-space(@class), ' '), ' item-0 ')]/descendant-or-self::text()\" data='fifth item'>\n",
      "['fifth item']\n",
      "\n",
      "['first item', 'third item', 'fifth item']\n"
     ]
    }
   ],
   "source": [
    "result = selector.css('.item-0').re('link.*')\n",
    "for res in result:\n",
    "    print(res)\n",
    "\n",
    "print()\n",
    "for i in selector.css('.item-0 *::text'):\n",
    "    print(i)\n",
    "    print(i.re('.*item'))\n",
    "    print()\n",
    "\n",
    "result = selector.css('.item-0 *::text').re('.*item')\n",
    "print(result)"
   ]
  },
  {
   "cell_type": "code",
   "execution_count": 22,
   "metadata": {},
   "outputs": [
    {
     "name": "stdout",
     "output_type": "stream",
     "text": [
      "link3.html\n",
      "link3.html\n"
     ]
    }
   ],
   "source": [
    "from parsel import Selector\n",
    "selector = Selector(text=html)\n",
    "result = selector.css('.item-0.active a::attr(href)').get()\n",
    "print(result)\n",
    "result = selector.xpath('//li[contains(@class, \"item-0\") and contains(@class, \"active\")]/a/@href').get()\n",
    "print(result)"
   ]
  },
  {
   "cell_type": "code",
   "execution_count": 21,
   "metadata": {},
   "outputs": [
    {
     "name": "stdout",
     "output_type": "stream",
     "text": [
      "first item\n",
      "['first item', 'third item', 'fifth item']\n"
     ]
    }
   ],
   "source": [
    "result = selector.css('.item-0 *::text').get()\n",
    "print(result)\n",
    "result = selector.css('.item-0 *::text').getall()\n",
    "print(result)"
   ]
  },
  {
   "cell_type": "code",
   "execution_count": 19,
   "metadata": {},
   "outputs": [
    {
     "name": "stdout",
     "output_type": "stream",
     "text": [
      "first item \n",
      "\n",
      "['first item', 'third item', 'fifth item']\n"
     ]
    }
   ],
   "source": [
    "result = selector.xpath('//li[contains(@class, \"item-0\")]//text()').get()\n",
    "print(result, '\\n')\n",
    "\n",
    "result = selector.xpath('//li[contains(@class, \"item-0\")]//text()').getall()\n",
    "print(result)"
   ]
  },
  {
   "cell_type": "code",
   "execution_count": 16,
   "metadata": {},
   "outputs": [
    {
     "name": "stdout",
     "output_type": "stream",
     "text": [
      "[<Selector xpath='.//text()' data='first item'>]\n",
      "[<Selector xpath='.//text()' data='third item'>]\n",
      "[<Selector xpath='.//text()' data='fifth item'>]\n",
      "\n",
      "first item\n",
      "third item\n",
      "fifth item\n"
     ]
    }
   ],
   "source": [
    "from parsel import Selector\n",
    "selector = Selector(text=html)\n",
    "items = selector.css('.item-0')\n",
    "for item in items:\n",
    "    text = item.xpath('.//text()')\n",
    "    print(text)\n",
    "\n",
    "print()\n",
    "for item in items:\n",
    "    text = item.xpath('.//text()').get()\n",
    "    print(text)"
   ]
  },
  {
   "cell_type": "code",
   "execution_count": 10,
   "metadata": {},
   "outputs": [
    {
     "name": "stdout",
     "output_type": "stream",
     "text": [
      "3 <class 'parsel.selector.SelectorList'>\n",
      "<Selector xpath=\"descendant-or-self::*[@class and contains(concat(' ', normalize-space(@class), ' '), ' item-0 ')]\" data='<li class=\"item-0\">first item</li>\\n  ...'>\n",
      "<Selector xpath=\"descendant-or-self::*[@class and contains(concat(' ', normalize-space(@class), ' '), ' item-0 ')]\" data='<li class=\"item-0 active\"><a href=\"li...'>\n",
      "<Selector xpath=\"descendant-or-self::*[@class and contains(concat(' ', normalize-space(@class), ' '), ' item-0 ')]\" data='<li class=\"item-0\"><a href=\"link5.htm...'>\n",
      "\n",
      "3 <class 'parsel.selector.SelectorList'>\n",
      "<Selector xpath='//li[contains(@class, \"item-0\")]' data='<li class=\"item-0\">first item</li>\\n  ...'>\n",
      "<Selector xpath='//li[contains(@class, \"item-0\")]' data='<li class=\"item-0 active\"><a href=\"li...'>\n",
      "<Selector xpath='//li[contains(@class, \"item-0\")]' data='<li class=\"item-0\"><a href=\"link5.htm...'>\n"
     ]
    }
   ],
   "source": [
    "items = selector.css('.item-0')\n",
    "print(len(items), type(items))\n",
    "for item in items:\n",
    "    print(item)\n",
    "\n",
    "print()\n",
    "items2 = selector.xpath('//li[contains(@class, \"item-0\")]')\n",
    "print(len(items2), type(items2))\n",
    "for item2 in items2:\n",
    "    print(item2)"
   ]
  }
 ],
 "metadata": {
  "kernelspec": {
   "display_name": "Python 3.9.7 ('base')",
   "language": "python",
   "name": "python3"
  },
  "language_info": {
   "codemirror_mode": {
    "name": "ipython",
    "version": 3
   },
   "file_extension": ".py",
   "mimetype": "text/x-python",
   "name": "python",
   "nbconvert_exporter": "python",
   "pygments_lexer": "ipython3",
   "version": "3.9.12"
  },
  "orig_nbformat": 4,
  "vscode": {
   "interpreter": {
    "hash": "6a018d3a992d78c184ccc94ab54168c7b26325ed3c2283926339c3edbf5487e7"
   }
  }
 },
 "nbformat": 4,
 "nbformat_minor": 2
}
