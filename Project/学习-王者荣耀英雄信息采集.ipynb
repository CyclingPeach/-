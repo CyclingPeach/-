{
 "cells": [
  {
   "cell_type": "markdown",
   "metadata": {},
   "source": [
    "----\n",
    "\n",
    "- xpath、css 选择器\n",
    "\n",
    "  对于网页的节点来说，它可以定义 id、class 或其他属性。而且节点之间还有层次关系，***`在网页中可以通过 XPath 或 CSS 选择器来定位一个或多个节点`***。那么，在页面解析时，利用 XPath 或 CSS 选择器来提取某个节点，然后再调用相应方法获取它的正文内容或者属性，不就可以提取我们想要的任意信息了吗？\n",
    "\n",
    "- Beautiful、lxml、pyquery、parsel 解析库\n",
    "\n",
    "- re 提前页面信息\n",
    "\n",
    "----\n",
    "\n",
    "lxml 配合 xpath\n",
    "\n",
    "pyquery 配合 css selector\n",
    "\n",
    "parsel 配合 xpath & css selector\n",
    "\n",
    "----\n",
    "\n",
    "BeautifulSoup - 两种获取信息的方法\n",
    "  1. `find()` & `find_all()`【前者返回第一个匹配结果，后者返回所有匹配到的结果列表】\n",
    "  2. CSS选择器 `soup.select(<css selector>)`【返回所有匹配到的结果列表】\n",
    "\n",
    "----"
   ]
  },
  {
   "cell_type": "markdown",
   "metadata": {},
   "source": [
    "# 各种采集数据的方式"
   ]
  },
  {
   "cell_type": "markdown",
   "metadata": {},
   "source": [
    "## 一、BeautifulSoup \n",
    "\n",
    "\n",
    "<img alt=\"图 1\" src=\"../images/92a6956d27084bccba5ca2a65a02aa8f7955d6ed1b9da560b1b3acd46a1e1db3.png\" width=75%>  \n",
    "\n",
    "> [[Python3 网络爬虫开发实战] 4.2 - 使用 Beautiful Soup](https://cuiqingcai.com/5548.html)\n",
    "\n",
    "简单来说，***`Beautiful Soup 就是 Python 的一个 HTML 或 XML 的解析库`***，可以用它来方便地从网页中提取数据。\n"
   ]
  },
  {
   "cell_type": "code",
   "execution_count": 54,
   "metadata": {},
   "outputs": [
    {
     "data": {
      "text/plain": [
       "[{'name': '云中君', 'url': 'https://pvp.qq.com/web201605/herolist.shtml'},\n",
       " {'name': '瑶', 'url': 'https://pvp.qq.com/web201605/herolist.shtml'},\n",
       " {'name': '盘古', 'url': 'https://pvp.qq.com/web201605/herolist.shtml'},\n",
       " {'name': '猪八戒', 'url': 'https://pvp.qq.com/web201605/herolist.shtml'},\n",
       " {'name': '嫦娥', 'url': 'https://pvp.qq.com/web201605/herolist.shtml'}]"
      ]
     },
     "execution_count": 54,
     "metadata": {},
     "output_type": "execute_result"
    }
   ],
   "source": [
    "import json\n",
    "import requests\n",
    "from bs4 import BeautifulSoup\n",
    "\n",
    "url = 'https://pvp.qq.com/web201605/herolist.shtml'\n",
    "\n",
    "res = requests.get(url)\n",
    "res.encoding = 'gbk'    # 改变编码格式\n",
    "html = res.text\n",
    "with open('./王者荣耀/data.html', 'w', encoding = 'utf-8') as f:\n",
    "    f.write(html)\n",
    "soup = BeautifulSoup(html, 'lxml')\n",
    "hero_url_list = []\n",
    "\n",
    "'''\n",
    "### 通过 CSS 选择器\n",
    "for item in soup.select('.herolist.clearfix a'):\n",
    "    name = item.get_text()\n",
    "    url = 'https://pvp.qq.com/web201605/' + item.attrs['href']\n",
    "    # soup.select('.herolist.clearfix a')[0]['href']\n",
    "    hero_url_list.append({'name':name, 'url':url})\n",
    "hero_url_list[:5]\n",
    "'''\n",
    "\n",
    "### 通过 find_all 寻找节点\n",
    "### 两种方法均可正常使用，根据习惯选择某一种方法即可\n",
    "for a in soup.find(class_=\"herolist\").find_all('a'):\n",
    "    href = 'https://pvp.qq.com/web201605/' + a.attrs['href']\n",
    "    name = a.get_text()\n",
    "    hero_url_list.append({'name':name, 'url':url})\n",
    "# 数据预览\n",
    "hero_url_list[:5]"
   ]
  },
  {
   "cell_type": "markdown",
   "metadata": {},
   "source": [
    "**JSON 格式存储**"
   ]
  },
  {
   "cell_type": "code",
   "execution_count": 53,
   "metadata": {},
   "outputs": [],
   "source": [
    "with open('./王者荣耀/data.json', 'w', encoding='utf-8') as file:\n",
    "    file.write(json.dumps(hero_url_list, indent = 4, ensure_ascii=False))\n",
    "\n",
    "# 关联知识\n",
    "# 文件读取写入的 r w a ...的意思"
   ]
  },
  {
   "cell_type": "markdown",
   "metadata": {},
   "source": [
    "## 二、lxml & XPath\n",
    "\n",
    "> 乱码问题\n",
    "> \n",
    "> [requests+lxml+xpath爬取豆瓣电影](https://cloud.tencent.com/developer/article/1686201)"
   ]
  },
  {
   "cell_type": "markdown",
   "metadata": {},
   "source": [
    "```Python\n",
    "print(len(html.xpath('.//*')))\n",
    "print(len(html.xpath('//*')))\n",
    "\n",
    ">>> 469\n",
    ">>> 470\n",
    "```\n",
    "\n",
    "`.//` 当前节点下的所有节点\n",
    "`//` 自动补齐的所有节点（如果是从 ul 节点获取所有节点 则包括 补齐的 html body head 等节点"
   ]
  },
  {
   "cell_type": "code",
   "execution_count": 17,
   "metadata": {},
   "outputs": [],
   "source": [
    "import requests\n",
    "from lxml import etree\n",
    "url = 'https://pvp.qq.com/web201605/herolist.shtml'\n",
    "res = requests.get(url)\n",
    "res.encoding = 'gbk'    # 改变编码格式\n",
    "html = etree.HTML(res.text)\n",
    "# result = etree.tostring(html, encoding='utf-8') # 注意 encoding\n",
    "# print(result.decode('utf-8'))"
   ]
  },
  {
   "cell_type": "code",
   "execution_count": 25,
   "metadata": {},
   "outputs": [
    {
     "name": "stdout",
     "output_type": "stream",
     "text": [
      "93\n"
     ]
    },
    {
     "data": {
      "text/plain": [
       "[{'name': '云中君', 'url': 'https://pvp.qq.com/web201605/herodetail/506.shtml'},\n",
       " {'name': '瑶', 'url': 'https://pvp.qq.com/web201605/herodetail/505.shtml'},\n",
       " {'name': '盘古', 'url': 'https://pvp.qq.com/web201605/herodetail/529.shtml'},\n",
       " {'name': '猪八戒', 'url': 'https://pvp.qq.com/web201605/herodetail/511.shtml'},\n",
       " {'name': '嫦娥', 'url': 'https://pvp.qq.com/web201605/herodetail/515.shtml'}]"
      ]
     },
     "execution_count": 25,
     "metadata": {},
     "output_type": "execute_result"
    }
   ],
   "source": [
    "# 不知道有没有什么优化方法\n",
    "result = html.xpath('//ul[contains(@class, \"herolist\") and contains(@class, \"clearfix\")]')[0].xpath('.//li/a')\n",
    "print(len(result))\n",
    "\n",
    "hero_url_list = []\n",
    "for a in result:\n",
    "    url = 'https://pvp.qq.com/web201605/' + a.xpath('./@href')[0]\n",
    "    name = a.xpath('./text()')[0]\n",
    "    hero_url_list.append({'name':name, 'url':url})\n",
    "hero_url_list[:5]       # 数据预览"
   ]
  },
  {
   "cell_type": "markdown",
   "metadata": {},
   "source": [
    "## 三、PyQuery & CSS selector"
   ]
  },
  {
   "cell_type": "code",
   "execution_count": null,
   "metadata": {},
   "outputs": [],
   "source": []
  },
  {
   "cell_type": "markdown",
   "metadata": {},
   "source": [
    "## 四、Parsel & XPath + CSS Selector"
   ]
  },
  {
   "cell_type": "markdown",
   "metadata": {},
   "source": [
    "## 五、re 正则表达式"
   ]
  },
  {
   "cell_type": "markdown",
   "metadata": {},
   "source": [
    "## 六、Selenium & "
   ]
  },
  {
   "cell_type": "markdown",
   "metadata": {},
   "source": [
    "# 项目"
   ]
  },
  {
   "cell_type": "markdown",
   "metadata": {},
   "source": [
    "通过以上几种方式获得英雄信息有所缺失，王者荣耀官网中现有 120 名英雄，但是以上几种方式获得的英雄数量均为 93 ，所有可以判断网页可能存在 **动态内容**\n",
    "\n",
    "> 注\n",
    "> 一至五的五种方法均是通过 `requests` 库获取网页源代码，返回的 HTML内容 和 网页展现给我们的内容是不同的\n",
    "> 第六种方法暂未测速判断是否可以获取正常数量的英雄信息"
   ]
  },
  {
   "cell_type": "code",
   "execution_count": 34,
   "metadata": {},
   "outputs": [
    {
     "data": {
      "text/plain": [
       "(110,\n",
       " [{'name': '廉颇', 'url': 'https://pvp.qq.com/web201605/herodetail/105.shtml'},\n",
       "  {'name': '小乔', 'url': 'https://pvp.qq.com/web201605/herodetail/106.shtml'},\n",
       "  {'name': '赵云', 'url': 'https://pvp.qq.com/web201605/herodetail/107.shtml'},\n",
       "  {'name': '墨子', 'url': 'https://pvp.qq.com/web201605/herodetail/108.shtml'},\n",
       "  {'name': '妲己', 'url': 'https://pvp.qq.com/web201605/herodetail/109.shtml'}])"
      ]
     },
     "execution_count": 34,
     "metadata": {},
     "output_type": "execute_result"
    }
   ],
   "source": [
    "import requests\n",
    "res = requests.get('https://pvp.qq.com/web201605/js/herolist.json')\n",
    "herolist_json = res.json()\n",
    "\n",
    "hero_url_list = []\n",
    "for item in herolist_json:\n",
    "    herourl  = 'https://pvp.qq.com/web201605/herodetail/{}.shtml'.format(item['ename'])\n",
    "    heroname = item['cname']\n",
    "    hero_url_list.append({'name':heroname, 'url':herourl})\n",
    "len(hero_url_list), hero_url_list[:5]   # 数据预览"
   ]
  },
  {
   "cell_type": "code",
   "execution_count": 30,
   "metadata": {},
   "outputs": [
    {
     "data": {
      "text/plain": [
       "[{'ename': 105,\n",
       "  'cname': '廉颇',\n",
       "  'title': '正义爆轰',\n",
       "  'new_type': 0,\n",
       "  'hero_type': 3,\n",
       "  'skin_name': '正义爆轰|地狱岩魂',\n",
       "  'moss_id': 3627},\n",
       " {'ename': 106,\n",
       "  'cname': '小乔',\n",
       "  'title': '恋之微风',\n",
       "  'new_type': 0,\n",
       "  'hero_type': 2,\n",
       "  'skin_name': '恋之微风|万圣前夜|天鹅之梦|纯白花嫁|缤纷独角兽',\n",
       "  'moss_id': 3644}]"
      ]
     },
     "execution_count": 30,
     "metadata": {},
     "output_type": "execute_result"
    }
   ],
   "source": [
    "herolist_json[:2]"
   ]
  }
 ],
 "metadata": {
  "kernelspec": {
   "display_name": "Python 3.10.5 64-bit",
   "language": "python",
   "name": "python3"
  },
  "language_info": {
   "codemirror_mode": {
    "name": "ipython",
    "version": 3
   },
   "file_extension": ".py",
   "mimetype": "text/x-python",
   "name": "python",
   "nbconvert_exporter": "python",
   "pygments_lexer": "ipython3",
   "version": "3.10.5"
  },
  "orig_nbformat": 4,
  "vscode": {
   "interpreter": {
    "hash": "f2a5bf28d355fe521ed3f64872e16602c78af8be39336b89786eaf09e9544d21"
   }
  }
 },
 "nbformat": 4,
 "nbformat_minor": 2
}
