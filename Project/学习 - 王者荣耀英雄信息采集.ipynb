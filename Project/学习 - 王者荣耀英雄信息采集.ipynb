{
 "cells": [
  {
   "cell_type": "markdown",
   "metadata": {},
   "source": [
    "----\n",
    "\n",
    "- xpath、css 选择器\n",
    "\n",
    "  对于网页的节点来说，它可以定义 id、class 或其他属性。而且节点之间还有层次关系，***`在网页中可以通过 XPath 或 CSS 选择器来定位一个或多个节点`***。那么，在页面解析时，利用 XPath 或 CSS 选择器来提取某个节点，然后再调用相应方法获取它的正文内容或者属性，不就可以提取我们想要的任意信息了吗？\n",
    "\n",
    "- Beautiful、lxml、pyquery、parsel 解析库\n",
    "\n",
    "- re 提前页面信息\n",
    "\n",
    "----\n",
    "\n",
    "lxml 配合 xpath\n",
    "\n",
    "pyquery 配合 css selector\n",
    "\n",
    "parsel 配合 xpath & css selector"
   ]
  },
  {
   "cell_type": "markdown",
   "metadata": {},
   "source": [
    "# 一、通过 BeautifulSoup \n",
    "\n",
    "\n",
    "<img alt=\"图 1\" src=\"../images/92a6956d27084bccba5ca2a65a02aa8f7955d6ed1b9da560b1b3acd46a1e1db3.png\" width=75%>  \n",
    "\n",
    "> [[Python3 网络爬虫开发实战] 4.2 - 使用 Beautiful Soup](https://cuiqingcai.com/5548.html)\n",
    "\n",
    "简单来说，***`Beautiful Soup 就是 Python 的一个 HTML 或 XML 的解析库`***，可以用它来方便地从网页中提取数据。\n"
   ]
  },
  {
   "cell_type": "code",
   "execution_count": 54,
   "metadata": {},
   "outputs": [
    {
     "data": {
      "text/plain": [
       "[{'name': '云中君', 'url': 'https://pvp.qq.com/web201605/herolist.shtml'},\n",
       " {'name': '瑶', 'url': 'https://pvp.qq.com/web201605/herolist.shtml'},\n",
       " {'name': '盘古', 'url': 'https://pvp.qq.com/web201605/herolist.shtml'},\n",
       " {'name': '猪八戒', 'url': 'https://pvp.qq.com/web201605/herolist.shtml'},\n",
       " {'name': '嫦娥', 'url': 'https://pvp.qq.com/web201605/herolist.shtml'}]"
      ]
     },
     "execution_count": 54,
     "metadata": {},
     "output_type": "execute_result"
    }
   ],
   "source": [
    "import json\n",
    "import requests\n",
    "from bs4 import BeautifulSoup\n",
    "\n",
    "url = 'https://pvp.qq.com/web201605/herolist.shtml'\n",
    "\n",
    "res = requests.get(url)\n",
    "res.encoding = 'gbk'    # 改变编码格式\n",
    "html = res.text\n",
    "with open('./王者荣耀/data.html', 'w', encoding = 'utf-8') as f:\n",
    "    f.write(html)\n",
    "soup = BeautifulSoup(html, 'lxml')\n",
    "hero_url_list = []\n",
    "\n",
    "'''\n",
    "### 通过 CSS 选择器\n",
    "for item in soup.select('.herolist.clearfix a'):\n",
    "    name = item.get_text()\n",
    "    url = 'https://pvp.qq.com/web201605/' + item.attrs['href']\n",
    "    # soup.select('.herolist.clearfix a')[0]['href']\n",
    "    hero_url_list.append({'name':name, 'url':url})\n",
    "hero_url_list[:5]\n",
    "'''\n",
    "\n",
    "### 通过 find_all 寻找节点\n",
    "### 两种方法均可正常使用，根据习惯选择某一种方法即可\n",
    "for a in soup.find(class_=\"herolist\").find_all('a'):\n",
    "    href = 'https://pvp.qq.com/web201605/' + a.attrs['href']\n",
    "    name = a.get_text()\n",
    "    hero_url_list.append({'name':name, 'url':url})\n",
    "# 数据预览\n",
    "hero_url_list[:5]"
   ]
  },
  {
   "cell_type": "markdown",
   "metadata": {},
   "source": [
    "**JSON 格式存储**"
   ]
  },
  {
   "cell_type": "code",
   "execution_count": 53,
   "metadata": {},
   "outputs": [],
   "source": [
    "with open('./王者荣耀/data.json', 'w', encoding='utf-8') as file:\n",
    "    file.write(json.dumps(hero_url_list, indent = 4, ensure_ascii=False))\n",
    "\n",
    "# 关联知识\n",
    "# 文件读取写入的 w r a ...的意思"
   ]
  },
  {
   "cell_type": "markdown",
   "metadata": {},
   "source": [
    "# XPath"
   ]
  },
  {
   "cell_type": "markdown",
   "metadata": {},
   "source": [
    "# Ajax"
   ]
  },
  {
   "cell_type": "markdown",
   "metadata": {},
   "source": [
    "# 正则表达式"
   ]
  },
  {
   "cell_type": "markdown",
   "metadata": {},
   "source": [
    "# Parser"
   ]
  },
  {
   "cell_type": "code",
   "execution_count": null,
   "metadata": {},
   "outputs": [],
   "source": []
  }
 ],
 "metadata": {
  "kernelspec": {
   "display_name": "Python 3.10.5 64-bit",
   "language": "python",
   "name": "python3"
  },
  "language_info": {
   "codemirror_mode": {
    "name": "ipython",
    "version": 3
   },
   "file_extension": ".py",
   "mimetype": "text/x-python",
   "name": "python",
   "nbconvert_exporter": "python",
   "pygments_lexer": "ipython3",
   "version": "3.10.5"
  },
  "orig_nbformat": 4,
  "vscode": {
   "interpreter": {
    "hash": "f2a5bf28d355fe521ed3f64872e16602c78af8be39336b89786eaf09e9544d21"
   }
  }
 },
 "nbformat": 4,
 "nbformat_minor": 2
}
