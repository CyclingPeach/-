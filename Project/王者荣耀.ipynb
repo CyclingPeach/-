{
 "cells": [
  {
   "cell_type": "markdown",
   "metadata": {},
   "source": [
    "### 一、每个英雄的链接采集"
   ]
  },
  {
   "cell_type": "code",
   "execution_count": 34,
   "metadata": {},
   "outputs": [
    {
     "data": {
      "text/plain": [
       "{'ename': 'https://pvp.qq.com/web201605/herodetail/105.shtml',\n",
       " 'cname': '廉颇',\n",
       " 'title': '正义爆轰',\n",
       " 'new_type': 0,\n",
       " 'hero_type': 3,\n",
       " 'skin_name': '正义爆轰|地狱岩魂',\n",
       " 'moss_id': 3627}"
      ]
     },
     "execution_count": 34,
     "metadata": {},
     "output_type": "execute_result"
    }
   ],
   "source": [
    "import requests\n",
    "res = requests.get('https://pvp.qq.com/web201605/js/herolist.json')\n",
    "herolist_json = res.json()\n",
    "for i in range(len(herolist_json)):\n",
    "    herolist_json[i]['ename'] = 'https://pvp.qq.com/web201605/herodetail/{}.shtml'.format(herolist_json[i]['ename'])\n",
    "\n",
    "herolist_json[0]"
   ]
  },
  {
   "cell_type": "markdown",
   "metadata": {},
   "source": [
    "|herodetail-sort|类型|\n",
    "|:-:|:-:|\n",
    "|1|战士|\n",
    "|2|法师|\n",
    "|3|坦克|\n",
    "|4|刺客|\n",
    "|5|射手|\n",
    "|6|辅助|"
   ]
  },
  {
   "cell_type": "markdown",
   "metadata": {},
   "source": [
    "### 存入 MongoDB 数据库"
   ]
  },
  {
   "cell_type": "code",
   "execution_count": 39,
   "metadata": {},
   "outputs": [
    {
     "data": {
      "text/plain": [
       "<pymongo.results.InsertManyResult at 0x1ecc59a8460>"
      ]
     },
     "execution_count": 39,
     "metadata": {},
     "output_type": "execute_result"
    }
   ],
   "source": [
    "import pymongo\n",
    "client = pymongo.MongoClient(host='localhost', port=27017)\n",
    "db = client['HonorOfKings']     # 指定数据库\n",
    "collection = db['herolist']     # 指定集合\n",
    "collection.insert_many(herolist_json)   # 插入文档"
   ]
  },
  {
   "cell_type": "markdown",
   "metadata": {},
   "source": [
    "<div align=center>\n",
    "<img alt=\"图 1\" src=\"../images/2b51d0a655a9a13bf8bf78c88a38bb75babffa4986031ba2ec4e25d0bd0153c0.png\" width=75%/>  \n",
    "</div>"
   ]
  },
  {
   "cell_type": "markdown",
   "metadata": {},
   "source": [
    "### 采集每个英雄的详细信息"
   ]
  },
  {
   "cell_type": "code",
   "execution_count": 51,
   "metadata": {},
   "outputs": [],
   "source": [
    "# 读取数据库\n",
    "from unittest import result\n",
    "\n",
    "\n",
    "client = pymongo.MongoClient(host='localhost', port=27017)\n",
    "db = client['HonorOfKings']\n",
    "collection = db['herolist']\n",
    "\n",
    "results = collection.find({})"
   ]
  },
  {
   "cell_type": "code",
   "execution_count": 58,
   "metadata": {},
   "outputs": [
    {
     "name": "stdout",
     "output_type": "stream",
     "text": [
      "https://pvp.qq.com/web201605/herodetail/106.shtml\n"
     ]
    }
   ],
   "source": [
    "for result in results:\n",
    "    # print(result)\n",
    "    print(result['ename'])\n",
    "    break"
   ]
  },
  {
   "cell_type": "code",
   "execution_count": 55,
   "metadata": {},
   "outputs": [],
   "source": [
    "import requests\n",
    "url = 'https://pvp.qq.com/web201605/herodetail/105.shtml'\n",
    "res = requests.get(url)\n",
    "res.encoding = 'gbk'\n",
    "from lxml import etree\n",
    "html = etree.HTML(res.text)"
   ]
  },
  {
   "cell_type": "markdown",
   "metadata": {},
   "source": [
    "#### 英雄基本信息【完成】"
   ]
  },
  {
   "cell_type": "code",
   "execution_count": 8,
   "metadata": {},
   "outputs": [
    {
     "data": {
      "text/plain": [
       "{'cover_name': '廉颇',\n",
       " 'herodetail_sort': '3',\n",
       " 'cover_list': [{'cover_list_name': '生存能力', 'cover_list_bar': 'width:100%'},\n",
       "  {'cover_list_name': '攻击伤害', 'cover_list_bar': 'width:30%'},\n",
       "  {'cover_list_name': '技能效果', 'cover_list_bar': 'width:40%'},\n",
       "  {'cover_list_name': '上手难度', 'cover_list_bar': 'width:30%'}]}"
      ]
     },
     "execution_count": 8,
     "metadata": {},
     "output_type": "execute_result"
    }
   ],
   "source": [
    "# 英雄基本信息\n",
    "def get_cover_info(html):\n",
    "    # 英雄基本信息\n",
    "    cover      = html.xpath('//div[@class=\"cover\"]')[0]\n",
    "    \n",
    "    cover_name = cover.xpath('./h2/text()')[0]      # 英雄名\n",
    "    herodetail_sort = cover.xpath('./span/i/@class')[0]     # 英雄类型\n",
    "    cover_list = []\n",
    "    for li in cover.xpath('.//ul/li'):\n",
    "        cover_list_name = li.xpath('./em/text()')[0]\n",
    "        cover_list_bar  = li.xpath('./span/i/@style')[0]\n",
    "        cover_list.append({'cover_list_name':cover_list_name, 'cover_list_bar':cover_list_bar})\n",
    "    cover_info = {\n",
    "        'cover_name':cover_name, \n",
    "        'herodetail_sort':herodetail_sort[-1:], \n",
    "        'cover_list':cover_list\n",
    "        }\n",
    "    return cover_info\n",
    "\n",
    "get_cover_info(html)"
   ]
  },
  {
   "cell_type": "markdown",
   "metadata": {},
   "source": [
    "#### 技能介绍【完成】"
   ]
  },
  {
   "cell_type": "code",
   "execution_count": 3,
   "metadata": {},
   "outputs": [
    {
     "data": {
      "text/plain": [
       "[{'skill_name': '勇士之魂',\n",
       "  'skill_time': ['0'],\n",
       "  'skill_need': '0',\n",
       "  'skill_desc': ['被动：廉颇释放技能过程中会处于霸体状态。进入战斗后廉颇的战意会逐渐提升，战意越高减伤越多，最多获得20%所受到的伤害。当战意充盈时，廉颇提升自身30%攻击速度。脱战后战意逐渐降低。']},\n",
       " {'skill_name': '爆裂冲撞',\n",
       "  'skill_time': ['9'],\n",
       "  'skill_need': '0',\n",
       "  'skill_desc': ['廉颇向指定方向发起冲锋，对敌人造成150/170/190/210/230/250（+65%物理攻击）点物理伤害并将其击飞0.5秒。 被动：第三次普攻为直拳重击，对敌人造成额外200/260/320/380/440/500（+15%物理加成）点物理伤害。']},\n",
       " {'skill_name': '熔岩重击',\n",
       "  'skill_time': ['11', '10.4', '9.8', '9.2', '8.6', '8'],\n",
       "  'skill_need': '0',\n",
       "  'skill_desc': ['廉颇迸发狂暴力量并通过臂甲传入地面，获得350点护盾，1秒后地面会崩裂，对区域内的敌人造成100/125/150/175/200/225（+100%物理加成）（+4%最大生命加成）物理伤害，距离中心越近伤害越高，最高提升100%。技能范围内有敌人时会重置爆裂冲撞的冷却时间，并减少范围内敌人30%移动速度，非英雄单位会被拉向范围中心。技能释放期间可以使用其他技能。']},\n",
       " {'skill_name': '天崩地裂',\n",
       "  'skill_time': ['54', '45', '36'],\n",
       "  'skill_need': '0',\n",
       "  'skill_desc': ['廉颇跳向指定区域连续锤击地面三次，第一次：造成60/90/120（+60%物理加成）（+3%最大生命）点物理伤害和30%减速。第二次：造成90（+90%物理加成）（+4%最大生命）点物理伤害和50%减速。第三次：造成120（+150%物理加成）（+6%最大生命）点物理伤害和1秒击飞。']}]"
      ]
     },
     "execution_count": 3,
     "metadata": {},
     "output_type": "execute_result"
    }
   ],
   "source": [
    "# 技能介绍\n",
    "def get_skill_info_details(html):\n",
    "    # 技能介绍\n",
    "    skill_info = html.xpath('//div[contains(@class, \"skill-show\")]')[0]\n",
    "    \n",
    "    skill_info_details = []\n",
    "    for div in skill_info.xpath('./div'):\n",
    "        if len(div.xpath('./p[1]/b/text()')) == 0:\n",
    "            pass\n",
    "        else:\n",
    "            skill_name = div.xpath('./p[1]/b/text()')[0]            # 技能名\n",
    "            skill_time = div.xpath('./p[1]/span[1]/text()')[0][4:].split('/')  # 技能冷却值\n",
    "            skill_need = div.xpath('./p[1]/span[2]/text()')[0][3:]  # 技能消耗\n",
    "            skill_desc = div.xpath('./p[2]/text()')                 # 技能描述\n",
    "            skill_info_details.append({\n",
    "                'skill_name' : skill_name,\n",
    "                'skill_time' : skill_time,\n",
    "                'skill_need' : skill_need,\n",
    "                'skill_desc' : skill_desc,\n",
    "            })\n",
    "\n",
    "    return skill_info_details\n",
    "\n",
    "get_skill_info_details(html)"
   ]
  },
  {
   "cell_type": "markdown",
   "metadata": {},
   "source": [
    "#### 铭文搭配建议【❌】"
   ]
  },
  {
   "cell_type": "code",
   "execution_count": 56,
   "metadata": {},
   "outputs": [
    {
     "data": {
      "text/plain": [
       "[]"
      ]
     },
     "execution_count": 56,
     "metadata": {},
     "output_type": "execute_result"
    }
   ],
   "source": [
    "# 铭文搭配建议【暂时】\n",
    "sugg_info  = html.xpath('//ul[@class=\"sugg-u1\"]')[0]\n",
    "sugg_tips  = html.xpath('//p[@class=\"sugg_tips\"]')\n",
    "sugg_tips"
   ]
  },
  {
   "cell_type": "markdown",
   "metadata": {},
   "source": [
    "<img alt=\"图 1\" src=\"../images/a3e77f5ee5dd0ecdc7d6cc5383f41337531a48368d799d2d75dbd43b993c17a5.png\" />  \n",
    "\n",
    "<img alt=\"图 2\" src=\"../images/080b6774185623978cdbcdb74d361241f77fa8b118abae82c454097d9c8bbd42.png\" />  \n"
   ]
  },
  {
   "cell_type": "markdown",
   "metadata": {},
   "source": [
    "#### 技能加点建议【完成】"
   ]
  },
  {
   "cell_type": "code",
   "execution_count": 72,
   "metadata": {},
   "outputs": [
    {
     "data": {
      "text/plain": [
       "{'major_skill_sugg': '火焰三尖枪',\n",
       " 'minor_skill_sugg': '混天绫.束',\n",
       " 'hero_skill_sugg': ['闪现', '斩杀']}"
      ]
     },
     "execution_count": 72,
     "metadata": {},
     "output_type": "execute_result"
    }
   ],
   "source": [
    "# 技能加点建议\n",
    "def get_skill_upgrade_sugg(html):\n",
    "    sugg_info2 = html.xpath('//div[contains(@class, \"sugg-info2\")]/p[contains(@class, \"sugg-name\")]')\n",
    "\n",
    "    major_skill_sugg = sugg_info2[0].xpath('./span/text()')[0]\n",
    "    minor_skill_sugg = sugg_info2[1].xpath('./span/text()')[0]\n",
    "    hero_skill_sugg  = sugg_info2[2].xpath('./span/text()')[0].split('/')\n",
    "\n",
    "    skill_upgrade_sugg = {\n",
    "        'major_skill_sugg' : major_skill_sugg,\n",
    "        'minor_skill_sugg' : minor_skill_sugg,\n",
    "        'hero_skill_sugg' : hero_skill_sugg,\n",
    "    }\n",
    "\n",
    "    return skill_upgrade_sugg\n",
    "\n",
    "get_skill_upgrade_sugg(html)"
   ]
  },
  {
   "cell_type": "markdown",
   "metadata": {},
   "source": [
    "#### 英雄关系【完成】"
   ]
  },
  {
   "cell_type": "code",
   "execution_count": 130,
   "metadata": {},
   "outputs": [
    {
     "data": {
      "text/plain": [
       "{'最佳搭档': [{'id': '116',\n",
       "   'tip': '阿轲：廉颇拥有比较强的坦克能力，在团战和对线时都可以主动利用1技能开团后2技能消耗找敌方英雄换血，等到敌方英雄交出关键技能后，可以利用自己的13技能控制配合阿轲完成击杀和收割。'},\n",
       "  {'id': '132',\n",
       "   'tip': '马可波罗：马可波罗拥有比较强的远程poke能力，2技能的突进也可以快速跟上廉颇的1技能突进，对线时廉颇可以利用1技能和3技能控制限制敌方刺客对己方马可波罗的刺杀，也可以主动利用1技能开团，3技能配合闪现打出双段控制，为马可波罗创造良好的输出环境。'}],\n",
       " '压制英雄': [{'id': '156',\n",
       "   'tip': '张良：张良作为一个比较依赖控制效果的法师，1技能的控制和大招的控制，对拥有免伤的廉颇来说效果甚微，而且廉颇的1技能和3技能都可以很好的打断张良的大招技能对己方进行保护，为队友提供良好的生存环境。'},\n",
       "  {'id': '152',\n",
       "   'tip': '王昭君：作为一个比较依赖2技能控制效果的英雄，面对廉颇时会很尴尬，因为廉颇本身拥有比较强的坦克能力，即使被王昭君大到也很难一套秒杀，王昭君开大后廉颇1技能和3技能都可以轻松打断，进攻时利用控制技能也配合队友黏住王昭君轻松将其击杀。'}],\n",
       " '被压制英雄': [{'id': '169', 'tip': '后羿普攻有减速效果，很容易风筝廉颇'},\n",
       "  {'id': '141', 'tip': '廉颇不能很容易控制到灵活的貂蝉'}]}"
      ]
     },
     "execution_count": 130,
     "metadata": {},
     "output_type": "execute_result"
    }
   ],
   "source": [
    "# 英雄关系\n",
    "def get_hero_relationship(html):\n",
    "    hero_info_box = html.xpath('//div[@class=\"hero-info-box\"]/div/div')\n",
    "\n",
    "    def hero_info(xpath_):\n",
    "        ids = [i.split('.')[0] for i in xpath_.xpath('./div[2]/ul/li/a/@href')]\n",
    "        tips = xpath_.xpath('./div[3]/p/text()')\n",
    "        \n",
    "        relationship_dict = []\n",
    "        for item in list(zip(ids, tips)):\n",
    "            relationship_dict.append({\n",
    "                'id':item[0],\n",
    "                'tip':item[1]\n",
    "            })\n",
    "        return relationship_dict\n",
    "    \n",
    "    hero_relationship = {}\n",
    "    for i in range(len(hero_info_box)):\n",
    "        if i == 0:\n",
    "            hero_relationship['最佳搭档'] = hero_info(xpath_=hero_info_box[i])\n",
    "        elif i == 1:\n",
    "            hero_relationship['压制英雄'] = hero_info(xpath_=hero_info_box[i])\n",
    "        else:\n",
    "            hero_relationship['被压制英雄'] = hero_info(xpath_=hero_info_box[i])\n",
    "      \n",
    "    return hero_relationship\n",
    "\n",
    "get_hero_relationship(html)"
   ]
  },
  {
   "cell_type": "markdown",
   "metadata": {},
   "source": [
    "#### 出装建议【❌】\n",
    "\n",
    "<img alt=\"图 1\" src=\"../images/f7558dc6ac5f39a66851bbba2b9b953c100b15e8aaaffd8417f64104775d5172.png\" />  \n"
   ]
  },
  {
   "cell_type": "code",
   "execution_count": 146,
   "metadata": {},
   "outputs": [
    {
     "name": "stdout",
     "output_type": "stream",
     "text": [
      "提高生存能力，在团战中控制敌人为队友提供更多的操作空间。\n",
      "抓准时间进入战场利用位移技能接近敌方英雄并释放范围技能可以打出更多的伤害。\n"
     ]
    }
   ],
   "source": [
    "# 出装建议\n",
    "\n",
    "equips_bd = html.xpath('//div[@class=\"equip-bd\"]/div')\n",
    "\n",
    "equip_list = []\n",
    "for equip_bd in equips_bd:\n",
    "    # equip_info\n",
    "    for li in equip_bd.xpath('./ul/li'):\n",
    "        # print(li)\n",
    "        break\n",
    "\n",
    "    # tips\n",
    "    tips = equip_bd.xpath('./p/text()')[0][5:]\n",
    "    '''\n",
    "    # 合并成字典加入列表\n",
    "    equip_list.append({\n",
    "        'equip_info':,\n",
    "        'equip_tips':tips\n",
    "    })\n",
    "    '''\n",
    "    break"
   ]
  },
  {
   "cell_type": "code",
   "execution_count": 149,
   "metadata": {},
   "outputs": [
    {
     "data": {
      "text/plain": [
       "['\\n                            ',\n",
       " '\\n                                ',\n",
       " '\\n                            ',\n",
       " '\\n                            ',\n",
       " 'Tips：提高生存能力，在团战中控制敌人为队友提供更多的操作空间。',\n",
       " '\\n                        ']"
      ]
     },
     "execution_count": 149,
     "metadata": {},
     "output_type": "execute_result"
    }
   ],
   "source": [
    "a = equips_bd[0]\n",
    "a.xpath('')"
   ]
  }
 ],
 "metadata": {
  "kernelspec": {
   "display_name": "Python 3.10.5 64-bit",
   "language": "python",
   "name": "python3"
  },
  "language_info": {
   "codemirror_mode": {
    "name": "ipython",
    "version": 3
   },
   "file_extension": ".py",
   "mimetype": "text/x-python",
   "name": "python",
   "nbconvert_exporter": "python",
   "pygments_lexer": "ipython3",
   "version": "3.10.5"
  },
  "orig_nbformat": 4,
  "vscode": {
   "interpreter": {
    "hash": "f2a5bf28d355fe521ed3f64872e16602c78af8be39336b89786eaf09e9544d21"
   }
  }
 },
 "nbformat": 4,
 "nbformat_minor": 2
}
