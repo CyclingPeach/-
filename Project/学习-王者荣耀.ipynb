{
 "cells": [
  {
   "cell_type": "markdown",
   "metadata": {},
   "source": [
    "## 一、每个英雄的链接采集"
   ]
  },
  {
   "cell_type": "code",
   "execution_count": 1,
   "metadata": {},
   "outputs": [
    {
     "data": {
      "text/plain": [
       "{'ename': 'https://pvp.qq.com/web201605/herodetail/105.shtml',\n",
       " 'cname': '廉颇',\n",
       " 'title': '正义爆轰',\n",
       " 'new_type': 0,\n",
       " 'hero_type': 3,\n",
       " 'skin_name': '正义爆轰|地狱岩魂',\n",
       " 'moss_id': 3627}"
      ]
     },
     "execution_count": 1,
     "metadata": {},
     "output_type": "execute_result"
    }
   ],
   "source": [
    "import requests\n",
    "res = requests.get('https://pvp.qq.com/web201605/js/herolist.json')\n",
    "herolist_json = res.json()\n",
    "for i in range(len(herolist_json)):\n",
    "    herolist_json[i]['ename'] = 'https://pvp.qq.com/web201605/herodetail/{}.shtml'.format(herolist_json[i]['ename'])\n",
    "\n",
    "herolist_json[0]"
   ]
  },
  {
   "cell_type": "markdown",
   "metadata": {},
   "source": [
    "|herodetail-sort|类型|\n",
    "|:-:|:-:|\n",
    "|1|战士|\n",
    "|2|法师|\n",
    "|3|坦克|\n",
    "|4|刺客|\n",
    "|5|射手|\n",
    "|6|辅助|"
   ]
  },
  {
   "cell_type": "markdown",
   "metadata": {},
   "source": [
    "## 存入 MongoDB "
   ]
  },
  {
   "cell_type": "code",
   "execution_count": 39,
   "metadata": {},
   "outputs": [
    {
     "data": {
      "text/plain": [
       "<pymongo.results.InsertManyResult at 0x1ecc59a8460>"
      ]
     },
     "execution_count": 39,
     "metadata": {},
     "output_type": "execute_result"
    }
   ],
   "source": [
    "import pymongo\n",
    "client = pymongo.MongoClient(host='localhost', port=27017)\n",
    "db = client['HonorOfKings']     # 指定数据库\n",
    "collection = db['herolist']     # 指定集合\n",
    "collection.insert_many(herolist_json)   # 插入文档"
   ]
  },
  {
   "cell_type": "markdown",
   "metadata": {},
   "source": [
    "<div align=center>\n",
    "<img alt=\"图 1\" src=\"../images/2b51d0a655a9a13bf8bf78c88a38bb75babffa4986031ba2ec4e25d0bd0153c0.png\" width=75%/>  \n",
    "</div>"
   ]
  },
  {
   "cell_type": "markdown",
   "metadata": {},
   "source": [
    "## 采集每个英雄的详细信息"
   ]
  },
  {
   "cell_type": "markdown",
   "metadata": {},
   "source": [
    "> 说明\n",
    "\n",
    "1. **`lxml & XPath`** 采集的数据包括\n",
    " - 英雄基本信息\n",
    " - 技能介绍\n",
    " - 技能加点建议\n",
    " - 英雄关系\n",
    "\n",
    "2. **`Selenium & XPath`** 采集的数据包括\n",
    "\n",
    "    该部分内容被HTML注释，且`注释内容`与`页面展示（即肉眼所见内容）`不同\n",
    "- 铭文搭配建议\n",
    "- 出装建议"
   ]
  },
  {
   "cell_type": "markdown",
   "metadata": {},
   "source": [
    "### 准备工作"
   ]
  },
  {
   "cell_type": "code",
   "execution_count": 51,
   "metadata": {},
   "outputs": [],
   "source": [
    "# 读取数据库\n",
    "from unittest import result\n",
    "\n",
    "client = pymongo.MongoClient(host='localhost', port=27017)\n",
    "db = client['HonorOfKings']\n",
    "collection = db['herolist']\n",
    "\n",
    "results = collection.find({})"
   ]
  },
  {
   "cell_type": "code",
   "execution_count": 58,
   "metadata": {},
   "outputs": [
    {
     "name": "stdout",
     "output_type": "stream",
     "text": [
      "https://pvp.qq.com/web201605/herodetail/106.shtml\n"
     ]
    }
   ],
   "source": [
    "for result in results:\n",
    "    # print(result)\n",
    "    print(result['ename'])\n",
    "    break"
   ]
  },
  {
   "cell_type": "code",
   "execution_count": 12,
   "metadata": {},
   "outputs": [],
   "source": [
    "import re\n",
    "import requests\n",
    "from lxml import etree\n",
    "\n",
    "url = 'https://pvp.qq.com/web201605/herodetail/105.shtml'\n",
    "res = requests.get(url)\n",
    "res.encoding = 'gbk'\n",
    "html = etree.HTML(res.text)"
   ]
  },
  {
   "cell_type": "markdown",
   "metadata": {},
   "source": [
    "#### 英雄基本信息【✅】"
   ]
  },
  {
   "cell_type": "code",
   "execution_count": 8,
   "metadata": {},
   "outputs": [
    {
     "data": {
      "text/plain": [
       "{'cover_name': '廉颇',\n",
       " 'herodetail_sort': '3',\n",
       " 'cover_list': [{'cover_list_name': '生存能力', 'cover_list_bar': 'width:100%'},\n",
       "  {'cover_list_name': '攻击伤害', 'cover_list_bar': 'width:30%'},\n",
       "  {'cover_list_name': '技能效果', 'cover_list_bar': 'width:40%'},\n",
       "  {'cover_list_name': '上手难度', 'cover_list_bar': 'width:30%'}]}"
      ]
     },
     "execution_count": 8,
     "metadata": {},
     "output_type": "execute_result"
    }
   ],
   "source": [
    "# 英雄基本信息\n",
    "def get_cover_info(html):\n",
    "    # 英雄基本信息\n",
    "    cover      = html.xpath('//div[@class=\"cover\"]')[0]\n",
    "    \n",
    "    cover_name = cover.xpath('./h2/text()')[0]      # 英雄名\n",
    "    herodetail_sort = cover.xpath('./span/i/@class')[0]     # 英雄类型\n",
    "    cover_list = []\n",
    "    for li in cover.xpath('.//ul/li'):\n",
    "        cover_list_name = li.xpath('./em/text()')[0]\n",
    "        cover_list_bar  = li.xpath('./span/i/@style')[0]\n",
    "        cover_list.append({'cover_list_name':cover_list_name, 'cover_list_bar':cover_list_bar})\n",
    "    cover_info = {\n",
    "        'cover_name':cover_name, \n",
    "        'herodetail_sort':herodetail_sort[-1:], \n",
    "        'cover_list':cover_list\n",
    "        }\n",
    "    return cover_info\n",
    "\n",
    "get_cover_info(html)"
   ]
  },
  {
   "cell_type": "markdown",
   "metadata": {},
   "source": [
    "#### 技能介绍【✅】"
   ]
  },
  {
   "cell_type": "code",
   "execution_count": 3,
   "metadata": {},
   "outputs": [
    {
     "data": {
      "text/plain": [
       "[{'skill_name': '勇士之魂',\n",
       "  'skill_time': ['0'],\n",
       "  'skill_need': '0',\n",
       "  'skill_desc': ['被动：廉颇释放技能过程中会处于霸体状态。进入战斗后廉颇的战意会逐渐提升，战意越高减伤越多，最多获得20%所受到的伤害。当战意充盈时，廉颇提升自身30%攻击速度。脱战后战意逐渐降低。']},\n",
       " {'skill_name': '爆裂冲撞',\n",
       "  'skill_time': ['9'],\n",
       "  'skill_need': '0',\n",
       "  'skill_desc': ['廉颇向指定方向发起冲锋，对敌人造成150/170/190/210/230/250（+65%物理攻击）点物理伤害并将其击飞0.5秒。 被动：第三次普攻为直拳重击，对敌人造成额外200/260/320/380/440/500（+15%物理加成）点物理伤害。']},\n",
       " {'skill_name': '熔岩重击',\n",
       "  'skill_time': ['11', '10.4', '9.8', '9.2', '8.6', '8'],\n",
       "  'skill_need': '0',\n",
       "  'skill_desc': ['廉颇迸发狂暴力量并通过臂甲传入地面，获得350点护盾，1秒后地面会崩裂，对区域内的敌人造成100/125/150/175/200/225（+100%物理加成）（+4%最大生命加成）物理伤害，距离中心越近伤害越高，最高提升100%。技能范围内有敌人时会重置爆裂冲撞的冷却时间，并减少范围内敌人30%移动速度，非英雄单位会被拉向范围中心。技能释放期间可以使用其他技能。']},\n",
       " {'skill_name': '天崩地裂',\n",
       "  'skill_time': ['54', '45', '36'],\n",
       "  'skill_need': '0',\n",
       "  'skill_desc': ['廉颇跳向指定区域连续锤击地面三次，第一次：造成60/90/120（+60%物理加成）（+3%最大生命）点物理伤害和30%减速。第二次：造成90（+90%物理加成）（+4%最大生命）点物理伤害和50%减速。第三次：造成120（+150%物理加成）（+6%最大生命）点物理伤害和1秒击飞。']}]"
      ]
     },
     "execution_count": 3,
     "metadata": {},
     "output_type": "execute_result"
    }
   ],
   "source": [
    "# 技能介绍\n",
    "def get_skill_info_details(html):\n",
    "    # 技能介绍\n",
    "    skill_info = html.xpath('//div[contains(@class, \"skill-show\")]')[0]\n",
    "    \n",
    "    skill_info_details = []\n",
    "    for div in skill_info.xpath('./div'):\n",
    "        if len(div.xpath('./p[1]/b/text()')) == 0:\n",
    "            pass\n",
    "        else:\n",
    "            skill_name = div.xpath('./p[1]/b/text()')[0]            # 技能名\n",
    "            skill_time = div.xpath('./p[1]/span[1]/text()')[0][4:].split('/')  # 技能冷却值\n",
    "            skill_need = div.xpath('./p[1]/span[2]/text()')[0][3:]  # 技能消耗\n",
    "            skill_desc = div.xpath('./p[2]/text()')                 # 技能描述\n",
    "            skill_info_details.append({\n",
    "                'skill_name' : skill_name,\n",
    "                'skill_time' : skill_time,\n",
    "                'skill_need' : skill_need,\n",
    "                'skill_desc' : skill_desc,\n",
    "            })\n",
    "\n",
    "    return skill_info_details\n",
    "\n",
    "get_skill_info_details(html)"
   ]
  },
  {
   "cell_type": "markdown",
   "metadata": {},
   "source": [
    "#### 铭文搭配建议【✅】"
   ]
  },
  {
   "cell_type": "markdown",
   "metadata": {},
   "source": [
    "> 采用 **`Selenium`**"
   ]
  },
  {
   "cell_type": "code",
   "execution_count": 1,
   "metadata": {},
   "outputs": [],
   "source": [
    "from selenium import webdriver\n",
    "from selenium.webdriver.common.by import By\n",
    "\n",
    "browser = webdriver.Chrome()\n",
    "url = 'https://pvp.qq.com/web201605/herodetail/105.shtml'\n",
    "browser.get(url)"
   ]
  },
  {
   "cell_type": "code",
   "execution_count": 33,
   "metadata": {},
   "outputs": [
    {
     "name": "stdout",
     "output_type": "stream",
     "text": [
      "[('异变', '物理攻击力+2', '物理穿透+3.6'), ('鹰眼', '物理攻击力+0.9', '物理穿透+6.4'), ('隐匿', '物理攻击力+1.6', '移速+1%')]\n",
      "Tips：若廉颇是辅助位，则携带坦克铭文：宿命、虚空、调和；若走对抗路则携带百穿铭文：异变、鹰眼、隐匿。 廉颇团战要先手开团，利用一三技能的突进效果，可对敌方后排造成较大威胁。\n"
     ]
    }
   ],
   "source": [
    "sugg_info = browser.find_element(By.CSS_SELECTOR, '.sugg-info.info')\n",
    "\n",
    "sugg_ming_tips = sugg_info.find_element(By.XPATH, './p').text\n",
    "lis = sugg_info.find_elements(By.XPATH, './ul/li')\n",
    "sugg_ming = []\n",
    "for li in lis:\n",
    "    name = li.find_element(By.XPATH, './p[1]/em').text\n",
    "    physical_attack = li.find_element(By.XPATH, './p[2]').text\n",
    "    physical_penetration = li.find_element(By.XPATH, './p[3]').text\n",
    "    sugg_ming.append((name, physical_attack, physical_penetration))\n",
    "print(sugg_ming)\n",
    "print(sugg_ming_tips)"
   ]
  },
  {
   "cell_type": "markdown",
   "metadata": {},
   "source": [
    "#### 技能加点建议【✅】"
   ]
  },
  {
   "cell_type": "code",
   "execution_count": 72,
   "metadata": {},
   "outputs": [
    {
     "data": {
      "text/plain": [
       "{'major_skill_sugg': '火焰三尖枪',\n",
       " 'minor_skill_sugg': '混天绫.束',\n",
       " 'hero_skill_sugg': ['闪现', '斩杀']}"
      ]
     },
     "execution_count": 72,
     "metadata": {},
     "output_type": "execute_result"
    }
   ],
   "source": [
    "# 技能加点建议\n",
    "def get_skill_upgrade_sugg(html):\n",
    "    sugg_info2 = html.xpath('//div[contains(@class, \"sugg-info2\")]/p[contains(@class, \"sugg-name\")]')\n",
    "\n",
    "    major_skill_sugg = sugg_info2[0].xpath('./span/text()')[0]\n",
    "    minor_skill_sugg = sugg_info2[1].xpath('./span/text()')[0]\n",
    "    hero_skill_sugg  = sugg_info2[2].xpath('./span/text()')[0].split('/')\n",
    "\n",
    "    skill_upgrade_sugg = {\n",
    "        'major_skill_sugg' : major_skill_sugg,\n",
    "        'minor_skill_sugg' : minor_skill_sugg,\n",
    "        'hero_skill_sugg' : hero_skill_sugg,\n",
    "    }\n",
    "\n",
    "    return skill_upgrade_sugg\n",
    "\n",
    "get_skill_upgrade_sugg(html)"
   ]
  },
  {
   "cell_type": "markdown",
   "metadata": {},
   "source": [
    "#### 英雄关系【✅】"
   ]
  },
  {
   "cell_type": "code",
   "execution_count": 130,
   "metadata": {},
   "outputs": [
    {
     "data": {
      "text/plain": [
       "{'最佳搭档': [{'id': '116',\n",
       "   'tip': '阿轲：廉颇拥有比较强的坦克能力，在团战和对线时都可以主动利用1技能开团后2技能消耗找敌方英雄换血，等到敌方英雄交出关键技能后，可以利用自己的13技能控制配合阿轲完成击杀和收割。'},\n",
       "  {'id': '132',\n",
       "   'tip': '马可波罗：马可波罗拥有比较强的远程poke能力，2技能的突进也可以快速跟上廉颇的1技能突进，对线时廉颇可以利用1技能和3技能控制限制敌方刺客对己方马可波罗的刺杀，也可以主动利用1技能开团，3技能配合闪现打出双段控制，为马可波罗创造良好的输出环境。'}],\n",
       " '压制英雄': [{'id': '156',\n",
       "   'tip': '张良：张良作为一个比较依赖控制效果的法师，1技能的控制和大招的控制，对拥有免伤的廉颇来说效果甚微，而且廉颇的1技能和3技能都可以很好的打断张良的大招技能对己方进行保护，为队友提供良好的生存环境。'},\n",
       "  {'id': '152',\n",
       "   'tip': '王昭君：作为一个比较依赖2技能控制效果的英雄，面对廉颇时会很尴尬，因为廉颇本身拥有比较强的坦克能力，即使被王昭君大到也很难一套秒杀，王昭君开大后廉颇1技能和3技能都可以轻松打断，进攻时利用控制技能也配合队友黏住王昭君轻松将其击杀。'}],\n",
       " '被压制英雄': [{'id': '169', 'tip': '后羿普攻有减速效果，很容易风筝廉颇'},\n",
       "  {'id': '141', 'tip': '廉颇不能很容易控制到灵活的貂蝉'}]}"
      ]
     },
     "execution_count": 130,
     "metadata": {},
     "output_type": "execute_result"
    }
   ],
   "source": [
    "# 英雄关系\n",
    "def get_hero_relationship(html):\n",
    "    hero_info_box = html.xpath('//div[@class=\"hero-info-box\"]/div/div')\n",
    "\n",
    "    def hero_info(xpath_):\n",
    "        ids = [i.split('.')[0] for i in xpath_.xpath('./div[2]/ul/li/a/@href')]\n",
    "        tips = xpath_.xpath('./div[3]/p/text()')\n",
    "        \n",
    "        relationship_dict = []\n",
    "        for item in list(zip(ids, tips)):\n",
    "            relationship_dict.append({\n",
    "                'id':item[0],\n",
    "                'tip':item[1]\n",
    "            })\n",
    "        return relationship_dict\n",
    "    \n",
    "    hero_relationship = {}\n",
    "    for i in range(len(hero_info_box)):\n",
    "        if i == 0:\n",
    "            hero_relationship['最佳搭档'] = hero_info(xpath_=hero_info_box[i])\n",
    "        elif i == 1:\n",
    "            hero_relationship['压制英雄'] = hero_info(xpath_=hero_info_box[i])\n",
    "        else:\n",
    "            hero_relationship['被压制英雄'] = hero_info(xpath_=hero_info_box[i])\n",
    "      \n",
    "    return hero_relationship\n",
    "\n",
    "get_hero_relationship(html)"
   ]
  },
  {
   "cell_type": "markdown",
   "metadata": {},
   "source": [
    "#### 出装建议【✅】\n"
   ]
  },
  {
   "cell_type": "markdown",
   "metadata": {},
   "source": [
    "<img alt=\"图 3\" src=\"../images/897a9f090ff7ae553acd97846d75ef2488d133f7206e03958f1533e4964a7610.png\" width=45%/> \n",
    "\n",
    "<img alt=\"图 1\" src=\"../images/f7558dc6ac5f39a66851bbba2b9b953c100b15e8aaaffd8417f64104775d5172.png\" />   \n",
    "\n",
    "<img alt=\"图 1\" src=\"../images/eb4ac22c8208663032888e990b2d27ff4093ffa7b2a103406f05a74d64f4b94e.png\" />  "
   ]
  },
  {
   "cell_type": "markdown",
   "metadata": {},
   "source": [
    "##### ✅方法一：html注释中提取装备\n",
    "\n",
    "> 获取注释对应的HTML过于繁琐\n",
    ">\n",
    "> 将XPath定位的元素转换为HTML源码，然后利用正则表达式提取装备"
   ]
  },
  {
   "cell_type": "code",
   "execution_count": 217,
   "metadata": {},
   "outputs": [
    {
     "name": "stdout",
     "output_type": "stream",
     "text": [
      "['近卫荣耀', '冷静之靴', '圣杯', '极寒风暴', '梦魇之牙', '贤者之书']\n",
      "['Tips：提高生存能力，在团战中控制敌人为队友提供更多的操作空间。']\n"
     ]
    }
   ],
   "source": [
    "import requests\n",
    "from lxml import etree\n",
    "\n",
    "url = 'https://pvp.qq.com/web201605/herodetail/105.shtml'\n",
    "res = requests.get(url)\n",
    "res.encoding = 'gbk'\n",
    "html = etree.HTML(res.text)\n",
    "\n",
    "# 出装建议\n",
    "equips = html.xpath('//div[@class=\"equip-bd\"]')[0]\n",
    "equip_1 = equips.xpath('./div[1]/ul')[0]\n",
    "\n",
    "# 装备\n",
    "content_html_str = etree.tostring(equip_1, encoding='utf-8').decode('utf-8')  # 转为字符串\n",
    "results = re.findall('<p>(.*?)</p>', content_html_str)\n",
    "print(results)\n",
    "\n",
    "# Tips\n",
    "equip_1_tips = equips.xpath('./div[1]/p/text()')\n",
    "print(equip_1_tips)"
   ]
  },
  {
   "cell_type": "markdown",
   "metadata": {},
   "source": [
    "##### ✅方法二、**`pyquery`**\n"
   ]
  },
  {
   "cell_type": "code",
   "execution_count": 266,
   "metadata": {},
   "outputs": [
    {
     "name": "stdout",
     "output_type": "stream",
     "text": [
      "['近卫荣耀', '冷静之靴', '圣杯', '极寒风暴', '梦魇之牙', '贤者之书']\n",
      "----------------------------------------------------------------------------------------------------\n",
      "Tips：提高生存能力，在团战中控制敌人为队友提供更多的操作空间。\n",
      "Tips：抓准时间进入战场利用位移技能接近敌方英雄并释放范围技能可以打出更多的伤害。\n",
      "----------------------------------------------------------------------------------------------------\n",
      "Tips：提高生存能力，在团战中控制敌人为队友提供更多的操作空间。 Tips：抓准时间进入战场利用位移技能接近敌方英雄并释放范围技能可以打出更多的伤害。\n"
     ]
    }
   ],
   "source": [
    "from pyquery import PyQuery as pq\n",
    "doc = pq(html)\n",
    "\n",
    "# 装备\n",
    "for i in doc('.equip-bd div:nth-child(1) ul').items():\n",
    "    print(re.findall('<p>(.*?)</p>', str(i), re.S))\n",
    "\n",
    "# Tips\n",
    "print('-'*100)\n",
    "for tip in doc('.equip-bd div p').items():\n",
    "    print(tip.text())\n",
    "print('-'*100)\n",
    "print(doc('.equip-bd div p').text())    # 中间用空格隔开"
   ]
  },
  {
   "cell_type": "markdown",
   "metadata": {},
   "source": [
    "##### ✅方法三、**`Parsel`**"
   ]
  },
  {
   "cell_type": "code",
   "execution_count": 277,
   "metadata": {},
   "outputs": [
    {
     "name": "stdout",
     "output_type": "stream",
     "text": [
      "['近卫荣耀', '冷静之靴', '圣杯', '极寒风暴', '梦魇之牙', '贤者之书']\n",
      "----------------------------------------------------------------------------------------------------\n",
      "['Tips：提高生存能力，在团战中控制敌人为队友提供更多的操作空间。', 'Tips：抓准时间进入战场利用位移技能接近敌方英雄并释放范围技能可以打出更多的伤害。']\n"
     ]
    }
   ],
   "source": [
    "import re\n",
    "import requests\n",
    "from parsel import Selector\n",
    "\n",
    "url = 'https://pvp.qq.com/web201605/herodetail/105.shtml'\n",
    "res = requests.get(url)\n",
    "res.encoding = 'gbk'\n",
    "html = res.text\n",
    "selector = Selector(text = html)\n",
    "\n",
    "# 装备\n",
    "s = selector.css('.equip-bd div:nth-child(1) ul').get()\n",
    "print(re.findall('<p>(.*?)</p>', s, re.S))\n",
    "\n",
    "# Tips\n",
    "print('-'*100)\n",
    "# * 用来选取所有子节点，提取文本需要加上 ::text\n",
    "print(selector.css('.equip-bd div p *::text').getall())"
   ]
  },
  {
   "cell_type": "markdown",
   "metadata": {},
   "source": [
    "##### ✅方法四、**`selenium`**"
   ]
  },
  {
   "cell_type": "markdown",
   "metadata": {},
   "source": [
    "<div align=center>\n",
    "<img alt=\"图 3\" src=\"../images/717822031e35851289abe1fa42727c66ff27a2483e88392e114b7f246fd907dc.png\" width=75%/>  \n",
    "</div>"
   ]
  },
  {
   "cell_type": "code",
   "execution_count": 401,
   "metadata": {},
   "outputs": [
    {
     "data": {
      "text/plain": [
       "([{'装备名': '极寒风暴',\n",
       "   '售价': 1260,\n",
       "   '总价': 2100,\n",
       "   '特性': '+20%冷却缩减+500最大法力+360物理防御',\n",
       "   '描述/被动': '唯一被动-冰心：受到单次伤害超过当前生命值10%时触发寒冰冲击，对周围敌人造成（50+英雄等级*10）点法术伤害并降低其30%攻击和移动速度，持续2秒，这个效果有2秒内置CD'},\n",
       "  {'装备名': '影忍之足',\n",
       "   '售价': 426,\n",
       "   '总价': 710,\n",
       "   '特性': '+110物理防御',\n",
       "   '描述/被动': '唯一被动：+60移动速度（所有鞋类装备的移速加成效果不叠加）唯一被动：减少15%受到普通攻击的伤害'},\n",
       "  {'装备名': '红莲斗篷',\n",
       "   '售价': 1080,\n",
       "   '总价': 1800,\n",
       "   '特性': '+240物理防御+1000最大生命',\n",
       "   '描述/被动': '唯一被动-业炎：每秒对身边300范围内的敌人造成使用者最大生命值2%的法术伤害，对小兵额外造成100%伤害'},\n",
       "  {'装备名': '不祥征兆',\n",
       "   '售价': 1308,\n",
       "   '总价': 2180,\n",
       "   '特性': '+270物理防御+1200最大生命',\n",
       "   '描述/被动': '唯一被动-寒铁：受到攻击会减少攻击者30%攻击速度与15%移动速度，持续3秒'},\n",
       "  {'装备名': '魔女斗篷',\n",
       "   '售价': 1272,\n",
       "   '总价': 2080,\n",
       "   '特性': '+200法术防御+1000最大生命+100每5秒回血',\n",
       "   '描述/被动': '唯一被动-迷雾：脱战后立即获得一个吸收（100+英雄等级*100）点法术伤害的护盾被动-御魔：获得8~120点法术防御'},\n",
       "  {'装备名': '霸者重装',\n",
       "   '售价': 1242,\n",
       "   '总价': 2070,\n",
       "   '特性': '+2000最大生命+100每5秒回血',\n",
       "   '描述/被动': '唯一被动-复苏：脱离战斗后每秒回复3%最大生命值'}],\n",
       " [{'装备名': '红莲斗篷',\n",
       "   '售价': 1080,\n",
       "   '总价': 1800,\n",
       "   '特性': '+240物理防御+1000最大生命',\n",
       "   '描述/被动': '唯一被动-业炎：每秒对身边300范围内的敌人造成使用者最大生命值2%的法术伤害，对小兵额外造成100%伤害'},\n",
       "  {'装备名': '影忍之足',\n",
       "   '售价': 426,\n",
       "   '总价': 710,\n",
       "   '特性': '+110物理防御',\n",
       "   '描述/被动': '唯一被动：+60移动速度（所有鞋类装备的移速加成效果不叠加）唯一被动：减少15%受到普通攻击的伤害'},\n",
       "  {'装备名': '魔女斗篷',\n",
       "   '售价': 1272,\n",
       "   '总价': 2080,\n",
       "   '特性': '+200法术防御+1000最大生命+100每5秒回血',\n",
       "   '描述/被动': '唯一被动-迷雾：脱战后立即获得一个吸收（100+英雄等级*100）点法术伤害的护盾被动-御魔：获得8~120点法术防御'},\n",
       "  {'装备名': '暗影战斧',\n",
       "   '售价': 1254,\n",
       "   '总价': 2090,\n",
       "   '特性': '+85物理攻击+15%冷却缩减+500最大生命',\n",
       "   '描述/被动': '唯一被动-切割：增加(50+英雄等级*8)点护甲穿透唯一被动-残废：技能对首个命中的敌方英雄造成10%减速，持续3秒，该效果有8秒冷却时间'},\n",
       "  {'装备名': '霸者重装',\n",
       "   '售价': 1242,\n",
       "   '总价': 2070,\n",
       "   '特性': '+2000最大生命+100每5秒回血',\n",
       "   '描述/被动': '唯一被动-复苏：脱离战斗后每秒回复3%最大生命值'},\n",
       "  {'装备名': '暴烈之甲',\n",
       "   '售价': 1170,\n",
       "   '总价': 1950,\n",
       "   '特性': '+220物理防御+900最大生命+5%移速+30物理攻击',\n",
       "   '描述/被动': '唯一被动-无畏：每次受到伤害后，自身造成的所有伤害提升2%并增加2%的移速，这个效果最高可以叠加5层，最多提升10%的伤害输出和10%移速，持续3秒'}])"
      ]
     },
     "execution_count": 401,
     "metadata": {},
     "output_type": "execute_result"
    }
   ],
   "source": [
    "import requests\n",
    "from selenium import webdriver\n",
    "from selenium.webdriver.common.by import By\n",
    "from selenium.webdriver import ChromeOptions\n",
    "\n",
    "class SeleniumMode:\n",
    "    def __init__(self, url):\n",
    "        option = ChromeOptions()\n",
    "        option.add_argument('--headless')\n",
    "        self.browser = webdriver.Chrome(options = option)\n",
    "        self.browser.get(url)\n",
    "\n",
    "    # 出装建议\n",
    "    def get_equip_sugg(self):\n",
    "        equip_suggs  = self.browser.find_elements(By.CSS_SELECTOR, '.equip-bd > div')\n",
    "        equip_1_info = []\n",
    "        equip_2_info = []\n",
    "        i = 0\n",
    "        for equip_sugg in equip_suggs:\n",
    "            i += 1\n",
    "            for equip in equip_sugg.find_elements(By.XPATH, './ul/li/a/div'):\n",
    "                name       = equip.find_element(By.XPATH, './div[1]/div/h4').get_attribute('textContent')\n",
    "                sale_price = int(equip.find_element(By.XPATH, './div[1]/div/p[1]').get_attribute('textContent')[3:])\n",
    "                price      = int(equip.find_element(By.XPATH, './div[1]/div/p[2]').get_attribute('textContent')[3:])\n",
    "                features   = equip.find_element(By.XPATH, './div[2]/p[1]').get_attribute('textContent')\n",
    "                desc       = equip.find_element(By.XPATH, './div[2]/p[2]').get_attribute('textContent')\n",
    "                equip_info_dict = {\n",
    "                    '装备名' : name,\n",
    "                    '售价' : sale_price,\n",
    "                    '总价' : price,\n",
    "                    '特性' : features,\n",
    "                    '描述/被动' : desc,\n",
    "                }\n",
    "                if i == 1:\n",
    "                    equip_1_info.append(equip_info_dict)\n",
    "                else:\n",
    "                    equip_2_info.append(equip_info_dict)\n",
    "        \n",
    "        return (equip_1_info, equip_2_info)\n",
    "\n",
    "url = 'https://pvp.qq.com/web201605/herodetail/105.shtml'\n",
    "SeleniumMode(url).get_equip_sugg()"
   ]
  }
 ],
 "metadata": {
  "kernelspec": {
   "display_name": "Python 3.10.5 64-bit",
   "language": "python",
   "name": "python3"
  },
  "language_info": {
   "codemirror_mode": {
    "name": "ipython",
    "version": 3
   },
   "file_extension": ".py",
   "mimetype": "text/x-python",
   "name": "python",
   "nbconvert_exporter": "python",
   "pygments_lexer": "ipython3",
   "version": "3.10.5"
  },
  "orig_nbformat": 4,
  "vscode": {
   "interpreter": {
    "hash": "f2a5bf28d355fe521ed3f64872e16602c78af8be39336b89786eaf09e9544d21"
   }
  }
 },
 "nbformat": 4,
 "nbformat_minor": 2
}
