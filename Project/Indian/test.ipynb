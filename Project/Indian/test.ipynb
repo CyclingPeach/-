{
 "cells": [
  {
   "cell_type": "code",
   "execution_count": 93,
   "metadata": {},
   "outputs": [
    {
     "name": "stdout",
     "output_type": "stream",
     "text": [
      "第1页\n",
      "200\n",
      "http://www.tomarorthopaedics.com\n",
      "http://amarjyothiclinic.org/index.html\n",
      "http://dentalclinicdelhi.com\n",
      "\n",
      "http://www.vitalradiology.com\n",
      "http://www.pune-dentist.com\n",
      "http://www.rescuehealthcare.in/\n",
      "http://www.sankaraeye.com/\n",
      "http://www.ratandeep.com\n",
      "http://boneandjointcare.co.in/\n",
      "第2页\n",
      "200\n",
      "http://www.andrology.com/sponsor.htm\n",
      "http://www.apollohospitals.com\n",
      "http://www.vellorecmc.org\n",
      "http://www.choithram.org\n",
      "http://www.sitalakshmi.com/hospital\n",
      "http://www.dragarwal.com\n",
      "http://www.jillahospital.com\n",
      "http://www.kanti.com\n",
      "http://www.kghospital.org\n",
      "http://www.kotharimedical.com\n",
      "第3页\n",
      "200\n",
      "http://members.tripod.com/\n",
      "http://www.miothospitals.com/\n",
      "http://www.mvdsc.org\n",
      "http://www.dynacs.com/\n",
      "http://www.sgpgi.ac.in\n",
      "http://www.sksh.org\n",
      "http://www.speechfoundation.com\n",
      "http://www.smfhospital.org\n",
      "http://www.tatamemorialcentre.com\n",
      "http://www.vardaan.net\n",
      "第4页\n",
      "200\n",
      "http://www.sahajdental.com\n"
     ]
    },
    {
     "ename": "IndexError",
     "evalue": "list index out of range",
     "output_type": "error",
     "traceback": [
      "\u001b[1;31m---------------------------------------------------------------------------\u001b[0m",
      "\u001b[1;31mIndexError\u001b[0m                                Traceback (most recent call last)",
      "Cell \u001b[1;32mIn [93], line 15\u001b[0m\n\u001b[0;32m     13\u001b[0m \u001b[38;5;28;01mfor\u001b[39;00m article \u001b[38;5;129;01min\u001b[39;00m articles:\n\u001b[0;32m     14\u001b[0m     name \u001b[38;5;241m=\u001b[39m article\u001b[38;5;241m.\u001b[39mxpath(\u001b[38;5;124m'\u001b[39m\u001b[38;5;124m./div/h4/text()\u001b[39m\u001b[38;5;124m'\u001b[39m)[\u001b[38;5;241m0\u001b[39m]\u001b[38;5;241m.\u001b[39mstrip()\u001b[38;5;241m.\u001b[39mreplace(\u001b[38;5;124m'\u001b[39m\u001b[38;5;130;01m\\r\u001b[39;00m\u001b[38;5;124m'\u001b[39m, \u001b[38;5;124m'\u001b[39m\u001b[38;5;124m'\u001b[39m)\n\u001b[1;32m---> 15\u001b[0m     url  \u001b[38;5;241m=\u001b[39m \u001b[43marticle\u001b[49m\u001b[38;5;241;43m.\u001b[39;49m\u001b[43mxpath\u001b[49m\u001b[43m(\u001b[49m\u001b[38;5;124;43m'\u001b[39;49m\u001b[38;5;124;43m./div/span/text()\u001b[39;49m\u001b[38;5;124;43m'\u001b[39;49m\u001b[43m)\u001b[49m\u001b[43m[\u001b[49m\u001b[38;5;241;43m0\u001b[39;49m\u001b[43m]\u001b[49m\u001b[38;5;241m.\u001b[39mstrip()\n\u001b[0;32m     16\u001b[0m     \u001b[38;5;28mprint\u001b[39m(url)\n\u001b[0;32m     17\u001b[0m     \u001b[38;5;28;01mif\u001b[39;00m \u001b[38;5;124m'\u001b[39m\u001b[38;5;124mhttp\u001b[39m\u001b[38;5;124m'\u001b[39m \u001b[38;5;129;01mnot\u001b[39;00m \u001b[38;5;129;01min\u001b[39;00m url:\n",
      "\u001b[1;31mIndexError\u001b[0m: list index out of range"
     ]
    }
   ],
   "source": [
    "import requests\n",
    "from lxml import etree\n",
    "\n",
    "article_list = []\n",
    "for page in range(1,6):\n",
    "    print(f'第{page}页')\n",
    "    url = f'https://www.medindia.net/medicalwebsite/indian_healthcategory.asp?alpha=&page={page}&categoryid=9&subcategoryid=42'\n",
    "    res = requests.get(url)\n",
    "    html = etree.HTML(res.text)\n",
    "\n",
    "    articles = html.xpath('//div[@class=\"report-content\"]/article')\n",
    "    for article in articles:\n",
    "        name = article.xpath('./div/h4/text()')[0].strip().replace('\\r', '')\n",
    "        url  = article.xpath('./div/span/text()')[0].strip()\n",
    "        print(url)\n",
    "        if 'http' not in url:\n",
    "            continue\n",
    "        if name == '':\n",
    "            name = 'Null'\n",
    "        article_list.append({'NAME':name, 'URL':url})\n",
    "article_list"
   ]
  }
 ],
 "metadata": {
  "kernelspec": {
   "display_name": "Python 3.10.7 64-bit",
   "language": "python",
   "name": "python3"
  },
  "language_info": {
   "codemirror_mode": {
    "name": "ipython",
    "version": 3
   },
   "file_extension": ".py",
   "mimetype": "text/x-python",
   "name": "python",
   "nbconvert_exporter": "python",
   "pygments_lexer": "ipython3",
   "version": "3.10.7"
  },
  "orig_nbformat": 4,
  "vscode": {
   "interpreter": {
    "hash": "c7a2c57dd8fa1beacd4b54a192872601175e26d7f310ef80f9ea3a51d91ad3bb"
   }
  }
 },
 "nbformat": 4,
 "nbformat_minor": 2
}
