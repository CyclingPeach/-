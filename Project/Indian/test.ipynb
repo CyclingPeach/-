{
 "cells": [
  {
   "cell_type": "markdown",
   "metadata": {},
   "source": [
    "# 准备"
   ]
  },
  {
   "cell_type": "code",
   "execution_count": 2,
   "metadata": {},
   "outputs": [
    {
     "data": {
      "text/plain": [
       "('http://186.5.94.202:999', {'http': 'http://147.28.155.79:3128'})"
      ]
     },
     "execution_count": 2,
     "metadata": {},
     "output_type": "execute_result"
    }
   ],
   "source": [
    "import asyncio\n",
    "import aiohttp\n",
    "import time\n",
    "import random\n",
    "import requests\n",
    "import pymongo\n",
    "from lxml import etree\n",
    "from parsel import Selector\n",
    "\n",
    "client = pymongo.MongoClient(host='localhost', port=27017)\n",
    "db = client['indianhospital']\n",
    "all_page_col          = db['all_page']\n",
    "hospital_col          = db['hospital']\n",
    "hospital_detail_info  = db['hospital_detail_info']\n",
    "headers = {\n",
    "    'sec-ch-ua' : '\"Google Chrome\";v=\"105\", \"Not)A;Brand\";v=\"8\", \"Chromium\";v=\"105\"',\n",
    "    'sec-ch-ua-mobile'  : '?0',\n",
    "    'sec-ch-ua-platform': '\"Windows\"',\n",
    "    'User-Agent':'Mozilla/5.0 (Windows NT 10.0; Win64; x64) AppleWebKit/537.36 (KHTML, like Gecko) Chrome/105.0.0.0 Safari/537.36'\n",
    "}\n",
    "\n",
    "def random_proxy():\n",
    "    proxy = 'http://' + requests.get('http://127.0.0.1:5555/random').text.strip()\n",
    "    return proxy\n",
    "\n",
    "def random_proxies():\n",
    "    proxies = {\n",
    "        'http' : 'http://' + requests.get('http://127.0.0.1:5555/random').text.strip()\n",
    "    }\n",
    "    return proxies\n",
    "random_proxy(), random_proxies()"
   ]
  },
  {
   "cell_type": "markdown",
   "metadata": {},
   "source": [
    "# 采集"
   ]
  },
  {
   "cell_type": "markdown",
   "metadata": {},
   "source": [
    "### 1、 **`requests`** 采集测试"
   ]
  },
  {
   "cell_type": "code",
   "execution_count": 7,
   "metadata": {},
   "outputs": [],
   "source": [
    "i = 0\n",
    "for hospital in hospital_col.find()[0:10]:\n",
    "    try:\n",
    "        hospital_res = requests.get(\n",
    "            url     = hospital['hospital_href'],\n",
    "            headers = headers,\n",
    "            proxies = random_proxies(),\n",
    "        )\n",
    "        i += 1\n",
    "    except:\n",
    "        continue\n",
    "print(i)\n",
    "# 采集十个医院耗时 53秒"
   ]
  },
  {
   "cell_type": "markdown",
   "metadata": {},
   "source": [
    "### 2、**`aiohttp`** 测试"
   ]
  },
  {
   "cell_type": "code",
   "execution_count": 9,
   "metadata": {},
   "outputs": [
    {
     "name": "stdout",
     "output_type": "stream",
     "text": [
      "【ERROR】 Cannot connect to host 20.87.47.204:8000 ssl:default [Connect call failed ('20.87.47.204', 8000)]\n",
      "200\n",
      "200\n",
      "【ERROR】 \n",
      "【ERROR】 \n"
     ]
    },
    {
     "data": {
      "text/plain": [
       "[None, None, None, None, None]"
      ]
     },
     "execution_count": 9,
     "metadata": {},
     "output_type": "execute_result"
    }
   ],
   "source": [
    "import nest_asyncio\n",
    "nest_asyncio.apply()\n",
    "\n",
    "async def request(hospital):\n",
    "    hospital_name   = hospital['hospital_name']\n",
    "    hospital_href   = hospital['hospital_href']\n",
    "    hospital_status = hospital['hospital_status']\n",
    "    if hospital_status == 1:\n",
    "        pass\n",
    "    else:\n",
    "        async with aiohttp.ClientSession(connector=aiohttp.TCPConnector(ssl=False)) as session:\n",
    "            condition = {'hospital_href':hospital_href}\n",
    "            update_hospital = hospital_col.find_one(condition)\n",
    "            try:\n",
    "                async with session.get(url=hospital_href, headers=headers, proxy=random_proxy(), timeout=10) as response:\n",
    "                    print(response.status)\n",
    "                    # html = await response.text()\n",
    "                    # selector = Selector(text = html)\n",
    "                    # hospital_name = selector.xpath('//div[@class=\"mi-bg-1\"]/../h2/text()').re_first('Address of (.*)')\n",
    "                    # hospital_address       = ', '.join(selector.xpath('//div[@class=\"mi-bg-1\"]/div/div/div[contains(@class, \"report-content\")]/p[1]//text()').re('\\s*(\\w.*\\w)\\s*,*'))\n",
    "                    # hospital_director      = selector.xpath('//div[@class=\"mi-bg-1\"]/div/div/div[contains(@class, \"report-content\")]/p/b[contains(text(), \"Director\")]/../text()').re_first('\\s*(\\w.*\\w)\\s*')\n",
    "                    # hospital_email         = selector.xpath('//div[@class=\"mi-bg-1\"]/div/div/div[contains(@class, \"report-content\")]/p/b[contains(text(), \"Email\")]/../span/text()').re_first('\\s*(\\w.*\\w)\\s*')\n",
    "                    # hospital_phone         = selector.xpath('//div[@class=\"mi-bg-1\"]/div/div/div[contains(@class, \"report-content\")]/p/b[contains(text(), \"Phone\")]/../span/text()').re_first('\\s*(\\w.*\\w)\\s*')\n",
    "                    # hospital_mobile        = selector.xpath('//div[@class=\"mi-bg-1\"]/div/div/div[contains(@class, \"report-content\")]/p/b[contains(text(), \"Mobile\")]/../span/text()').re_first('\\s*(\\w.*\\s)\\s*')\n",
    "\n",
    "                    # print(hospital_name)\n",
    "                    # hospital_detail_info = {\n",
    "                    #     'hospital_name'    : hospital_name,\n",
    "                    #     'hospital_address' : hospital_address,\n",
    "                    #     'hospital_director': hospital_director,\n",
    "                    #     'hospital_email'   : hospital_email,\n",
    "                    #     'hospital_phone'   : hospital_phone,\n",
    "                    #     'hospital_mobile'  : hospital_mobile,\n",
    "                    #     'hospital_href' : None,\n",
    "                    #     'hospital_html' : None,\n",
    "                    # }\n",
    "                    # # 入库\n",
    "                    # hospital_detail_info.insert_one(hospital_detail_info)\n",
    "                    # # 更新状态\n",
    "                    # update_hospital['hospital_status'] = 1\n",
    "                    # hospital_col.update(condition, {'$set':update_hospital})\n",
    "            except Exception as e:\n",
    "                # 更新状态\n",
    "                \n",
    "                # update_hospital['hospital_status'] = 0\n",
    "                # hospital_col.update(condition, {'$set':update_hospital})\n",
    "                print('【ERROR】', e)\n",
    "\n",
    "hospitals = hospital_col.find()[0:5]\n",
    "tasks = [asyncio.ensure_future(request(hospital)) for hospital in hospitals]\n",
    "loop = asyncio.get_event_loop()\n",
    "loop.run_until_complete(asyncio.gather(*tasks))"
   ]
  },
  {
   "cell_type": "code",
   "execution_count": 3,
   "metadata": {},
   "outputs": [
    {
     "data": {
      "text/plain": [
       "ClientTimeout(total=1, connect=None, sock_read=None, sock_connect=None)"
      ]
     },
     "execution_count": 3,
     "metadata": {},
     "output_type": "execute_result"
    }
   ],
   "source": [
    "timeout = aiohttp.ClientTimeout(total=1)\n",
    "timeout"
   ]
  }
 ],
 "metadata": {
  "kernelspec": {
   "display_name": "Python 3.10.7 64-bit",
   "language": "python",
   "name": "python3"
  },
  "language_info": {
   "codemirror_mode": {
    "name": "ipython",
    "version": 3
   },
   "file_extension": ".py",
   "mimetype": "text/x-python",
   "name": "python",
   "nbconvert_exporter": "python",
   "pygments_lexer": "ipython3",
   "version": "3.10.7"
  },
  "orig_nbformat": 4,
  "vscode": {
   "interpreter": {
    "hash": "c7a2c57dd8fa1beacd4b54a192872601175e26d7f310ef80f9ea3a51d91ad3bb"
   }
  }
 },
 "nbformat": 4,
 "nbformat_minor": 2
}
