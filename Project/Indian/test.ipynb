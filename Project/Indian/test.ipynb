{
 "cells": [
  {
   "cell_type": "code",
   "execution_count": 93,
   "metadata": {},
   "outputs": [
    {
     "name": "stdout",
     "output_type": "stream",
     "text": [
      "第1页\n",
      "200\n",
      "http://www.tomarorthopaedics.com\n",
      "http://amarjyothiclinic.org/index.html\n",
      "http://dentalclinicdelhi.com\n",
      "\n",
      "http://www.vitalradiology.com\n",
      "http://www.pune-dentist.com\n",
      "http://www.rescuehealthcare.in/\n",
      "http://www.sankaraeye.com/\n",
      "http://www.ratandeep.com\n",
      "http://boneandjointcare.co.in/\n",
      "第2页\n",
      "200\n",
      "http://www.andrology.com/sponsor.htm\n",
      "http://www.apollohospitals.com\n",
      "http://www.vellorecmc.org\n",
      "http://www.choithram.org\n",
      "http://www.sitalakshmi.com/hospital\n",
      "http://www.dragarwal.com\n",
      "http://www.jillahospital.com\n",
      "http://www.kanti.com\n",
      "http://www.kghospital.org\n",
      "http://www.kotharimedical.com\n",
      "第3页\n",
      "200\n",
      "http://members.tripod.com/\n",
      "http://www.miothospitals.com/\n",
      "http://www.mvdsc.org\n",
      "http://www.dynacs.com/\n",
      "http://www.sgpgi.ac.in\n",
      "http://www.sksh.org\n",
      "http://www.speechfoundation.com\n",
      "http://www.smfhospital.org\n",
      "http://www.tatamemorialcentre.com\n",
      "http://www.vardaan.net\n",
      "第4页\n",
      "200\n",
      "http://www.sahajdental.com\n"
     ]
    },
    {
     "ename": "IndexError",
     "evalue": "list index out of range",
     "output_type": "error",
     "traceback": [
      "\u001b[1;31m---------------------------------------------------------------------------\u001b[0m",
      "\u001b[1;31mIndexError\u001b[0m                                Traceback (most recent call last)",
      "Cell \u001b[1;32mIn [93], line 15\u001b[0m\n\u001b[0;32m     13\u001b[0m \u001b[38;5;28;01mfor\u001b[39;00m article \u001b[38;5;129;01min\u001b[39;00m articles:\n\u001b[0;32m     14\u001b[0m     name \u001b[38;5;241m=\u001b[39m article\u001b[38;5;241m.\u001b[39mxpath(\u001b[38;5;124m'\u001b[39m\u001b[38;5;124m./div/h4/text()\u001b[39m\u001b[38;5;124m'\u001b[39m)[\u001b[38;5;241m0\u001b[39m]\u001b[38;5;241m.\u001b[39mstrip()\u001b[38;5;241m.\u001b[39mreplace(\u001b[38;5;124m'\u001b[39m\u001b[38;5;130;01m\\r\u001b[39;00m\u001b[38;5;124m'\u001b[39m, \u001b[38;5;124m'\u001b[39m\u001b[38;5;124m'\u001b[39m)\n\u001b[1;32m---> 15\u001b[0m     url  \u001b[38;5;241m=\u001b[39m \u001b[43marticle\u001b[49m\u001b[38;5;241;43m.\u001b[39;49m\u001b[43mxpath\u001b[49m\u001b[43m(\u001b[49m\u001b[38;5;124;43m'\u001b[39;49m\u001b[38;5;124;43m./div/span/text()\u001b[39;49m\u001b[38;5;124;43m'\u001b[39;49m\u001b[43m)\u001b[49m\u001b[43m[\u001b[49m\u001b[38;5;241;43m0\u001b[39;49m\u001b[43m]\u001b[49m\u001b[38;5;241m.\u001b[39mstrip()\n\u001b[0;32m     16\u001b[0m     \u001b[38;5;28mprint\u001b[39m(url)\n\u001b[0;32m     17\u001b[0m     \u001b[38;5;28;01mif\u001b[39;00m \u001b[38;5;124m'\u001b[39m\u001b[38;5;124mhttp\u001b[39m\u001b[38;5;124m'\u001b[39m \u001b[38;5;129;01mnot\u001b[39;00m \u001b[38;5;129;01min\u001b[39;00m url:\n",
      "\u001b[1;31mIndexError\u001b[0m: list index out of range"
     ]
    }
   ],
   "source": [
    "import requests\n",
    "from lxml import etree\n",
    "\n",
    "article_list = []\n",
    "for page in range(1,6):\n",
    "    print(f'第{page}页')\n",
    "    url = f'https://www.medindia.net/medicalwebsite/indian_healthcategory.asp?alpha=&page={page}&categoryid=9&subcategoryid=42'\n",
    "    res = requests.get(url)\n",
    "    html = etree.HTML(res.text)\n",
    "    \n",
    "    articles = html.xpath('//div[@class=\"report-content\"]/article')\n",
    "    for article in articles:\n",
    "        name = article.xpath('./div/h4/text()')[0].strip().replace('\\r', '')\n",
    "        url  = article.xpath('./div/span/text()')[0].strip()\n",
    "        print(url)\n",
    "        if 'http' not in url:\n",
    "            continue\n",
    "        if name == '':\n",
    "            name = 'Null'\n",
    "        article_list.append({'NAME':name, 'URL':url})\n",
    "article_list"
   ]
  },
  {
   "cell_type": "markdown",
   "metadata": {},
   "source": [
    "# 八万所诊所测试"
   ]
  },
  {
   "cell_type": "markdown",
   "metadata": {},
   "source": [
    "## 找出所有州"
   ]
  },
  {
   "cell_type": "markdown",
   "metadata": {},
   "source": [
    "<img alt=\"图 1\" src=\"../../images/fb079143228ea80523eee9dabf4c478e771c24373d6181f7275559671f85898d.png\" />  \n"
   ]
  },
  {
   "cell_type": "code",
   "execution_count": 15,
   "metadata": {},
   "outputs": [
    {
     "name": "stdout",
     "output_type": "stream",
     "text": [
      "('andaman and nicobar islands', 'https://www.medindia.net/patients/hospital_search/hospitals-andaman-and-nicobar-islands.htm')\n",
      "('andhra pradesh', 'https://www.medindia.net/patients/hospital_search/hospitals-andhra-pradesh.htm')\n",
      "('arunachal pradesh', 'https://www.medindia.net/patients/hospital_search/hospitals-arunachal-pradesh.htm')\n",
      "('assam', 'https://www.medindia.net/patients/hospital_search/hospitals-assam.htm')\n",
      "('bihar', 'https://www.medindia.net/patients/hospital_search/hospitals-bihar.htm')\n",
      "('chandigarh', 'https://www.medindia.net/patients/hospital_search/hospitals-chandigarh.htm')\n",
      "('chhattisgarh', 'https://www.medindia.net/patients/hospital_search/hospitals-chhattisgarh.htm')\n",
      "('dadra and nagar haveli', 'https://www.medindia.net/patients/hospital_search/hospitals-dadra-and-nagar-haveli.htm')\n",
      "('daman and diu', 'https://www.medindia.net/patients/hospital_search/hospitals-daman-and-diu.htm')\n",
      "('delhi', 'https://www.medindia.net/patients/hospital_search/hospitals-delhi.htm')\n",
      "('goa', 'https://www.medindia.net/patients/hospital_search/hospitals-goa.htm')\n",
      "('gujarat', 'https://www.medindia.net/patients/hospital_search/hospitals-gujarat.htm')\n",
      "('haryana', 'https://www.medindia.net/patients/hospital_search/hospitals-haryana.htm')\n",
      "('himachal pradesh', 'https://www.medindia.net/patients/hospital_search/hospitals-himachal-pradesh.htm')\n",
      "('jammu and kashmir', 'https://www.medindia.net/patients/hospital_search/hospitals-jammu-and-kashmir.htm')\n",
      "('jharkhand', 'https://www.medindia.net/patients/hospital_search/hospitals-jharkhand.htm')\n",
      "('karnataka', 'https://www.medindia.net/patients/hospital_search/hospitals-karnataka.htm')\n",
      "('kerala', 'https://www.medindia.net/patients/hospital_search/hospitals-kerala.htm')\n",
      "('lakshadweep', 'https://www.medindia.net/patients/hospital_search/hospitals-lakshadweep.htm')\n",
      "('madhya pradesh', 'https://www.medindia.net/patients/hospital_search/hospitals-madhya-pradesh.htm')\n",
      "('maharashtra', 'https://www.medindia.net/patients/hospital_search/hospitals-maharashtra.htm')\n",
      "('manipur', 'https://www.medindia.net/patients/hospital_search/hospitals-manipur.htm')\n",
      "('meghalaya', 'https://www.medindia.net/patients/hospital_search/hospitals-meghalaya.htm')\n",
      "('mizoram', 'https://www.medindia.net/patients/hospital_search/hospitals-mizoram.htm')\n",
      "('nagaland', 'https://www.medindia.net/patients/hospital_search/hospitals-nagaland.htm')\n",
      "('odisha', 'https://www.medindia.net/patients/hospital_search/hospitals-odisha.htm')\n",
      "('pondicherry', 'https://www.medindia.net/patients/hospital_search/hospitals-pondicherry.htm')\n",
      "('puducherry', 'https://www.medindia.net/patients/hospital_search/hospitals-puducherry.htm')\n",
      "('punjab', 'https://www.medindia.net/patients/hospital_search/hospitals-punjab.htm')\n",
      "('rajasthan', 'https://www.medindia.net/patients/hospital_search/hospitals-rajasthan.htm')\n",
      "('sikkim', 'https://www.medindia.net/patients/hospital_search/hospitals-sikkim.htm')\n",
      "('tamil nadu', 'https://www.medindia.net/patients/hospital_search/hospitals-tamil-nadu.htm')\n",
      "('telangana', 'https://www.medindia.net/patients/hospital_search/hospitals-telangana.htm')\n",
      "('tripura', 'https://www.medindia.net/patients/hospital_search/hospitals-tripura.htm')\n",
      "('uttar pradesh', 'https://www.medindia.net/patients/hospital_search/hospitals-uttar-pradesh.htm')\n",
      "('uttarakhand', 'https://www.medindia.net/patients/hospital_search/hospitals-uttarakhand.htm')\n",
      "('west bengal', 'https://www.medindia.net/patients/hospital_search/hospitals-west-bengal.htm')\n"
     ]
    }
   ],
   "source": [
    "import requests\n",
    "from lxml import etree\n",
    "\n",
    "url = 'https://www.medindia.net/patients/hospital_search/hospital_list.asp?utm_source=topnavigation&utm_medium=desktop&utm_content=&utm_campaign=medindia'\n",
    "res = requests.get(url)\n",
    "print(res.status_code)\n",
    "print(res.text)\n",
    "html = etree.HTML(res.text)\n",
    "lis = html.xpath('//ul[@class=\"list-inline\"]/div/div/li/a')\n",
    "for li in lis:\n",
    "    name = li.xpath('./span/text()')[0]\n",
    "    href = li.xpath('./@href')[0]\n",
    "    print((name, href))"
   ]
  },
  {
   "cell_type": "markdown",
   "metadata": {},
   "source": [
    "## 按地区划分（找出所有医院）"
   ]
  },
  {
   "cell_type": "code",
   "execution_count": 42,
   "metadata": {},
   "outputs": [
    {
     "name": "stdout",
     "output_type": "stream",
     "text": [
      "200\n",
      "Name: al-hayat multispeciality hospital & gynae care, \n",
      "Href: https://www.medindia.net/patients/hospital_search/al-hayat-multispeciality-hospital-gynae-care-delhi-delhi-84868-1.htm\n",
      "----------------------------------------------------------------------------------------------------\n",
      "Name: american laser & skin clinic, \n",
      "Href: https://www.medindia.net/patients/hospital_search/american-laser-skin-clinic-delhi-delhi-86079-1.htm\n",
      "----------------------------------------------------------------------------------------------------\n",
      "Name: bhagwati homeopathic clinic, \n",
      "Href: https://www.medindia.net/patients/hospital_search/bhagwati-homeopathic-clinic-delhi-delhi-88994-1.htm\n",
      "----------------------------------------------------------------------------------------------------\n",
      "Name: brij hormone lab and thyroid center, \n",
      "Href: https://www.medindia.net/patients/hospital_search/brij-hormone-lab-and-thyroid-center-delhi-delhi-86633-1.htm\n",
      "----------------------------------------------------------------------------------------------------\n",
      "Name: chopra homeopathic clinic, \n",
      "Href: https://www.medindia.net/patients/hospital_search/chopra-homeopathic-clinic-delhi-delhi-86207-1.htm\n",
      "----------------------------------------------------------------------------------------------------\n",
      "Name: homeo care clinic, \n",
      "Href: https://www.medindia.net/patients/hospital_search/homeo-care-clinic-delhi-delhi-85132-1.htm\n",
      "----------------------------------------------------------------------------------------------------\n",
      "Name: ilakkiya homeopathic clinic, \n",
      "Href: https://www.medindia.net/patients/hospital_search/ilakkiya-homeopathic-clinic-delhi-delhi-83503-1.htm\n",
      "----------------------------------------------------------------------------------------------------\n",
      "Name: jeevan herbal clinic & research centre, \n",
      "Href: https://www.medindia.net/patients/hospital_search/jeevan-herbal-clinic-research-centre-delhi-delhi-87653-1.htm\n",
      "----------------------------------------------------------------------------------------------------\n",
      "Name: liberal clinic, \n",
      "Href: https://www.medindia.net/patients/hospital_search/liberal-clinic-delhi-delhi-85123-1.htm\n",
      "----------------------------------------------------------------------------------------------------\n",
      "Name: malik clinic, \n",
      "Href: https://www.medindia.net/patients/hospital_search/malik-clinic-delhi-delhi-85154-1.htm\n",
      "----------------------------------------------------------------------------------------------------\n",
      "Name: neurotherapy clinic, \n",
      "Href: https://www.medindia.net/patients/hospital_search/neurotherapy-clinic-delhi-delhi-87018-1.htm\n",
      "----------------------------------------------------------------------------------------------------\n",
      "Name: new alpha physiotherapy clinic & slimming world, \n",
      "Href: https://www.medindia.net/patients/hospital_search/new-alpha-physiotherapy-clinic-slimming-world-delhi-delhi-86533-1.htm\n",
      "----------------------------------------------------------------------------------------------------\n",
      "Name: omkar homeo clinic, \n",
      "Href: https://www.medindia.net/patients/hospital_search/omkar-homeo-clinic-delhi-delhi-87322-1.htm\n",
      "----------------------------------------------------------------------------------------------------\n",
      "Name: shah's clinic, \n",
      "Href: https://www.medindia.net/patients/hospital_search/shahs-clinic-delhi-delhi-83509-1.htm\n",
      "----------------------------------------------------------------------------------------------------\n",
      "Name: shreya dental & gynae clinic, \n",
      "Href: https://www.medindia.net/patients/hospital_search/shreya-dental-gynae-clinic-delhi-delhi-86513-1.htm\n",
      "----------------------------------------------------------------------------------------------------\n",
      "Name: shukla family clinic physiotherapy centre, \n",
      "Href: https://www.medindia.net/patients/hospital_search/shukla-family-clinic-physiotherapy-centre-delhi-delhi-86647-1.htm\n",
      "----------------------------------------------------------------------------------------------------\n",
      "Name: 32 pearls multi speciality dental clinic, \n",
      "Href: https://www.medindia.net/patients/hospital_search/32-pearls-multi-speciality-dental-clinic-delhi-72706-1.htm\n",
      "----------------------------------------------------------------------------------------------------\n",
      "Name: 32 pearls multispeciality dental clinic, \n",
      "Href: https://www.medindia.net/patients/hospital_search/32-pearls-multispeciality-dental-clinic-delhi-48749-1.htm\n",
      "----------------------------------------------------------------------------------------------------\n",
      "Name: 32 white pearls dental clinic, \n",
      "Href: https://www.medindia.net/patients/hospital_search/32-white-pearls-dental-clinic-delhi-69166-1.htm\n",
      "----------------------------------------------------------------------------------------------------\n",
      "Name: 34 heart care, \n",
      "Href: https://www.medindia.net/patients/hospital_search/34-heart-care-delhi-7376-1.htm\n",
      "----------------------------------------------------------------------------------------------------\n",
      "Name: 4 factory rd. nr. safdarjung hospital, \n",
      "Href: https://www.medindia.net/patients/hospital_search/4-factory-rd-nr-safdarjung-hospital-delhi-62142-1.htm\n",
      "----------------------------------------------------------------------------------------------------\n",
      "Name: 7 med clinic, \n",
      "Href: https://www.medindia.net/patients/hospital_search/7-med-clinic-delhi-delhi-95151-1.htm\n",
      "----------------------------------------------------------------------------------------------------\n",
      "Name: a b g hospital, \n",
      "Href: https://www.medindia.net/patients/hospital_search/a-b-g-hospital-delhi-45412-1.htm\n",
      "----------------------------------------------------------------------------------------------------\n",
      "Name: a beautiful mind clinic, \n",
      "Href: https://www.medindia.net/patients/hospital_search/a-beautiful-mind-clinic-delhi-delhi-87389-1.htm\n",
      "----------------------------------------------------------------------------------------------------\n",
      "Name: a c n hospital, \n",
      "Href: https://www.medindia.net/patients/hospital_search/a-c-n-hospital-delhi-39948-1.htm\n",
      "----------------------------------------------------------------------------------------------------\n"
     ]
    }
   ],
   "source": [
    "url = 'https://www.medindia.net/patients/hospital_search/hospitals-delhi.htm'\n",
    "\n",
    "res = requests.get(url)\n",
    "print(res.status_code)\n",
    "html = etree.HTML(res.text)\n",
    "h3s = html.xpath('//h3[@class=\"vert-small-margin\"]')\n",
    "for h3 in h3s:\n",
    "    print('Name:', h3.xpath('./a/text()')[0])\n",
    "    print('Href:', h3.xpath('./a/@href')[0])\n",
    "    print('-'*100)"
   ]
  },
  {
   "cell_type": "markdown",
   "metadata": {},
   "source": [
    "## 具体的某一个医院"
   ]
  },
  {
   "cell_type": "markdown",
   "metadata": {},
   "source": [
    "<img alt=\"图 4\" src=\"../../images/3cb6a4f67cf67e98ef2ad4eb9971cccdfd58f5059867cabe4c8830fd033ad887.png\" />  \n",
    "\n"
   ]
  },
  {
   "cell_type": "code",
   "execution_count": 81,
   "metadata": {},
   "outputs": [
    {
     "name": "stdout",
     "output_type": "stream",
     "text": [
      "200\n",
      "('S R Hospital & Surgical Center', ' Nh-21, Vill. Kalheli- P. O Bajaura- Tehshil, Kullu - 175125, Himachal Pradesh', '1903-266564', None)\n"
     ]
    }
   ],
   "source": [
    "url = 'https://www.medindia.net/patients/hospital_search/s-r-hospital-kullu-himachal-pradesh-27430-1.htm'\n",
    "\n",
    "res = requests.get(url)\n",
    "print(res.status_code)\n",
    "html = etree.HTML(res.text)\n",
    "\n",
    "name              = html.xpath('//div[@class=\"report-content\"]/b/text()')[0]\n",
    "addressinfo       = html.xpath('//div[contains(@class, \"xs-horiz-medium-padding\")]/div[1]/div[contains(@class, \"report-content\")]')[0]\n",
    "# 拼接地址\n",
    "address_join      = ''.join(addressinfo.xpath('./p[1]/text()'))\n",
    "# 详细地址（具体地址、市-邮编、省（邦）\n",
    "detail_address    = addressinfo.xpath('./p[1]/text()')[0]    # 包含地址、邮编、市\n",
    "town_and_postcode = addressinfo.xpath('./p[1]/text()')[1]\n",
    "province          = addressinfo.xpath('./p[1]/text()')[2]\n",
    "try:\n",
    "    phone         = addressinfo.xpath('./p[2]/span/text()')[0]\n",
    "except:\n",
    "    phone         = None\n",
    "try:\n",
    "    mobile        = addressinfo.xpath('./p[3]/span/text()')[0]\n",
    "except:\n",
    "    mobile        = None\n",
    "\n",
    "print((name, address_join, phone, mobile))"
   ]
  },
  {
   "cell_type": "markdown",
   "metadata": {},
   "source": [
    "# 随机UA"
   ]
  },
  {
   "cell_type": "code",
   "execution_count": 7,
   "metadata": {},
   "outputs": [
    {
     "data": {
      "text/plain": [
       "'Mozilla/5.0 (X11; Linux x86_64) AppleWebKit/537.36 (KHTML, like Gecko) Chrome/63.0.3248.140 Safari/537.36'"
      ]
     },
     "execution_count": 7,
     "metadata": {},
     "output_type": "execute_result"
    }
   ],
   "source": [
    "# 构造随机函数\n",
    "def get_ua():\n",
    "    import random\n",
    "    first_num = random.randint(55, 76)\n",
    "    third_num = random.randint(0, 3800)\n",
    "    fourth_num = random.randint(0, 140)\n",
    "    os_type = ['(Windows NT 6.1; WOW64)', '(Windows NT 10.0; WOW64)', '(X11; Linux x86_64)', '(Macintosh; Intel Mac OS X 10_14_5)']\n",
    "    chrome_version = 'Chrome/{}.0.{}.{}'.format(first_num, third_num, fourth_num)\n",
    "    ua = ' '.join(['Mozilla/5.0', random.choice(os_type), 'AppleWebKit/537.36', '(KHTML, like Gecko)', chrome_version, 'Safari/537.36'])\n",
    "    return ua\n",
    "\n",
    "# 调用\n",
    "get_ua()"
   ]
  },
  {
   "cell_type": "code",
   "execution_count": 2,
   "metadata": {},
   "outputs": [
    {
     "data": {
      "text/plain": [
       "['Cath LabGroundfloorCn Centre']"
      ]
     },
     "execution_count": 2,
     "metadata": {},
     "output_type": "execute_result"
    }
   ],
   "source": [
    "import re\n",
    "\n",
    "str = ' Cath LabGroundfloorCn Centre   , '\n",
    "re.findall('\\s*(\\w.*\\w)\\s*,', str)"
   ]
  },
  {
   "cell_type": "code",
   "execution_count": 33,
   "metadata": {},
   "outputs": [
    {
     "name": "stdout",
     "output_type": "stream",
     "text": [
      "{\n",
      "  \"args\": {}, \n",
      "  \"headers\": {\n",
      "    \"Accept\": \"*/*\", \n",
      "    \"Accept-Encoding\": \"gzip, deflate\", \n",
      "    \"Host\": \"httpbin.org\", \n",
      "    \"User-Agent\": \"python-requests/2.28.1\", \n",
      "    \"X-Amzn-Trace-Id\": \"Root=1-632199a9-7734a14242a59c366b396379\"\n",
      "  }, \n",
      "  \"origin\": \"3.101.19.232\", \n",
      "  \"url\": \"http://httpbin.org/get\"\n",
      "}\n",
      "\n"
     ]
    }
   ],
   "source": [
    "import requests\n",
    "\n",
    "html = requests.get('http://httpbin.org/get').text\n",
    "print(html)"
   ]
  },
  {
   "cell_type": "markdown",
   "metadata": {},
   "source": [
    "# 代理"
   ]
  },
  {
   "cell_type": "code",
   "execution_count": 34,
   "metadata": {},
   "outputs": [],
   "source": [
    "ips = [\n",
    "    \"218.102.244.20\",\n",
    "    \"54.255.242.142\",\n",
    "    \"13.231.127.120\",\n",
    "    \"18.143.171.176\",\n",
    "    \"16.162.122.38\",\n",
    "    \"52.53.174.236\",\n",
    "    \"35.78.169.15\",\n",
    "    \"13.125.240.237\",\n",
    "    \"18.162.152.81\",\n",
    "    \"54.67.99.11\",\n",
    "    \"35.78.201.245\",\n",
    "    \"3.38.203.98\",\n",
    "    \"13.212.83.105\",\n",
    "    \"16.162.87.109\",\n",
    "    \"3.101.19.232\",\n",
    "]"
   ]
  },
  {
   "cell_type": "code",
   "execution_count": 38,
   "metadata": {},
   "outputs": [
    {
     "name": "stdout",
     "output_type": "stream",
     "text": [
      "{\n",
      "  \"args\": {}, \n",
      "  \"headers\": {\n",
      "    \"Accept\": \"*/*\", \n",
      "    \"Accept-Encoding\": \"gzip, deflate\", \n",
      "    \"Host\": \"httpbin.org\", \n",
      "    \"User-Agent\": \"python-requests/2.28.1\", \n",
      "    \"X-Amzn-Trace-Id\": \"Root=1-63219c18-37af74ab1a450d1059b0a085\"\n",
      "  }, \n",
      "  \"origin\": \"13.212.83.105\", \n",
      "  \"url\": \"http://httpbin.org/get\"\n",
      "}\n",
      "\n"
     ]
    }
   ],
   "source": [
    "import requests\n",
    "\n",
    "proxy = '127.0.0.1:7890'\n",
    "proxies = {\n",
    "    'http': 'http://' + proxy,\n",
    "    'https': 'https://' + proxy,\n",
    "}\n",
    "try:\n",
    "    response = requests.get('http://httpbin.org/get', proxies=proxies)\n",
    "    print(response.text)\n",
    "except requests.exceptions.ConnectionError as e:\n",
    "    print('Error', e.args)"
   ]
  },
  {
   "cell_type": "markdown",
   "metadata": {},
   "source": [
    "# 日志"
   ]
  },
  {
   "cell_type": "code",
   "execution_count": 1,
   "metadata": {},
   "outputs": [
    {
     "name": "stderr",
     "output_type": "stream",
     "text": [
      "WARNING:root:This is a warning\n"
     ]
    }
   ],
   "source": [
    "import logging\n",
    "logging.warning(\"This is a warning\")"
   ]
  },
  {
   "cell_type": "markdown",
   "metadata": {},
   "source": [
    "# 代理"
   ]
  },
  {
   "cell_type": "code",
   "execution_count": 4,
   "metadata": {},
   "outputs": [
    {
     "name": "stdout",
     "output_type": "stream",
     "text": [
      "{\n",
      "  \"args\": {}, \n",
      "  \"headers\": {\n",
      "    \"Accept\": \"*/*\", \n",
      "    \"Accept-Encoding\": \"gzip, deflate\", \n",
      "    \"Host\": \"httpbin.org\", \n",
      "    \"User-Agent\": \"python-requests/2.28.1\", \n",
      "    \"X-Amzn-Trace-Id\": \"Root=1-6322c03e-7706141122beef0e2e7eb931\"\n",
      "  }, \n",
      "  \"origin\": \"61.150.96.27\", \n",
      "  \"url\": \"https://httpbin.org/get\"\n",
      "}\n",
      "\n"
     ]
    }
   ],
   "source": [
    "import requests\n",
    "\n",
    "# proxy = '127.0.0.1:7890'\n",
    "# proxy = '47.106.105.236:80'\n",
    "# \n",
    "proxies = {\n",
    "    'http': 'http://' + proxy,\n",
    "    'https': 'http://' + proxy,\n",
    "}\n",
    "try:\n",
    "    response = requests.get('https://httpbin.org/get', proxies=proxies)\n",
    "    print(response.text)\n",
    "except requests.exceptions.ConnectionError as e:\n",
    "    print('Error', e.args)"
   ]
  },
  {
   "cell_type": "markdown",
   "metadata": {},
   "source": [
    "## 快代理"
   ]
  },
  {
   "cell_type": "markdown",
   "metadata": {},
   "source": [
    "### 筛选可用代理"
   ]
  },
  {
   "cell_type": "code",
   "execution_count": 22,
   "metadata": {},
   "outputs": [
    {
     "name": "stdout",
     "output_type": "stream",
     "text": [
      "正则抓取第1页\n",
      "【Error】61.150.96.27:36880\n",
      "【Error】61.216.185.88:60808\n",
      "【Error】47.106.105.236:80\n",
      "【Error】122.9.101.6:8888\n",
      "【Error】223.82.60.202:8060\n",
      "【Error】61.216.156.222:60808\n",
      "【Error】47.105.91.226:8118\n",
      "【Error】223.82.60.202:8060\n",
      "【Error】60.170.204.30:8060\n",
      "【Error】122.9.101.6:8888\n",
      "【Error】47.106.105.236:80\n",
      "【Error】47.106.105.236:80\n",
      "【Error】47.106.105.236:80\n",
      "【Error】47.106.105.236:80\n",
      "【Error】150.109.32.166:80\n",
      "正则抓取第2页\n",
      "【Error】47.105.91.226:8118\n",
      "【Error】223.82.60.202:8060\n",
      "【Error】61.216.185.88:60808\n",
      "120.194.55.139:6969\n",
      "【Error】122.9.101.6:8888\n",
      "101.200.127.149:3129\n",
      "【Error】112.14.47.6:52024\n",
      "101.200.127.149:3129\n",
      "【Error】122.9.101.6:8888\n",
      "【Error】122.9.101.6:8888\n",
      "【Error】120.220.220.95:8085\n",
      "【Error】47.105.91.226:8118\n",
      "【Error】60.170.204.30:8060\n",
      "【Error】223.82.60.202:8060\n",
      "【Error】223.82.60.202:8060\n",
      "正则抓取第3页\n",
      "120.194.55.139:6969\n",
      "【Error】47.106.105.236:80\n",
      "【Error】120.194.55.139:6969\n",
      "【Error】27.42.168.46:55481\n",
      "【Error】223.96.90.216:8085\n",
      "【Error】223.96.90.216:8085\n",
      "【Error】210.5.10.87:53281\n",
      "101.200.127.149:3129\n",
      "【Error】47.106.105.236:80\n",
      "【Error】47.113.90.161:83\n",
      "【Error】122.9.101.6:8888\n",
      "【Error】27.42.168.46:55481\n",
      "【Error】122.9.101.6:8888\n",
      "【Error】223.96.90.216:8085\n",
      "101.200.127.149:3129\n",
      "正则抓取第4页\n",
      "【Error】183.247.199.215:30001\n",
      "【Error】61.216.156.222:60808\n",
      "【Error】47.106.105.236:80\n",
      "【Error】47.56.69.11:8000\n",
      "【Error】150.109.32.166:80\n",
      "【Error】120.220.220.95:8085\n",
      "【Error】112.14.47.6:52024\n",
      "【Error】183.247.199.215:30001\n",
      "【Error】223.96.90.216:8085\n",
      "【Error】120.220.220.95:8085\n",
      "【Error】120.220.220.95:8085\n",
      "【Error】120.220.220.95:8085\n",
      "【Error】120.220.220.95:8085\n",
      "【Error】61.216.185.88:60808\n",
      "【Error】223.96.90.216:8085\n",
      "正则抓取第5页\n",
      "【Error】47.106.105.236:80\n",
      "【Error】61.216.185.88:60808\n",
      "【Error】61.216.156.222:60808\n",
      "【Error】223.96.90.216:8085\n",
      "【Error】122.9.101.6:8888\n",
      "【Error】47.113.90.161:83\n",
      "【Error】47.106.105.236:80\n",
      "【Error】122.9.101.6:8888\n",
      "【Error】223.96.90.216:8085\n",
      "101.200.127.149:3129\n",
      "【Error】223.96.90.216:8085\n",
      "120.194.55.139:6969\n",
      "【Error】223.96.90.216:8085\n",
      "【Error】122.9.101.6:8888\n",
      "【Error】122.9.101.6:8888\n"
     ]
    }
   ],
   "source": [
    "import requests\n",
    "from lxml import etree\n",
    "from time import sleep\n",
    "\n",
    "great_proxy = []\n",
    "for page in range(1, 6):\n",
    "    print(f'正在抓取第{page}页')\n",
    "    url = f'https://free.kuaidaili.com/free/inha/{page}/'\n",
    "    try:\n",
    "        html = etree.HTML(requests.get(url).text)\n",
    "        table = html.xpath('//table[contains(@class, \"table-bordered\")]/tbody/tr')\n",
    "        for td in table:\n",
    "            ip   = td.xpath('./td[@data-title=\"IP\"]/text()')[0]\n",
    "            port = td.xpath('./td[@data-title=\"PORT\"]/text()')[0]\n",
    "            proxy = f'{ip}:{port}'\n",
    "\n",
    "            proxies = {\n",
    "                'http': 'http://' + proxy,\n",
    "                'https': 'http://' + proxy,\n",
    "            }\n",
    "            try:\n",
    "                response = requests.get('https://httpbin.org/get', proxies=proxies)\n",
    "                great_proxy.append(proxy)\n",
    "                print(proxy)\n",
    "            except requests.exceptions.ConnectionError as e:\n",
    "                print(f'【Error】{proxy}')\n",
    "                continue  \n",
    "    except:\n",
    "        continue\n"
   ]
  },
  {
   "cell_type": "markdown",
   "metadata": {},
   "source": [
    "# 崔庆才大佬的IP代理项目"
   ]
  },
  {
   "cell_type": "code",
   "execution_count": 19,
   "metadata": {},
   "outputs": [
    {
     "name": "stdout",
     "output_type": "stream",
     "text": [
      "{'http': 'http://89.208.219.121:8080'}\n",
      "{\n",
      "  \"origin\": \"121.225.205.14, 89.208.219.121\"\n",
      "}\n",
      "\n"
     ]
    }
   ],
   "source": [
    "import requests\n",
    "\n",
    "proxypool_url = 'http://127.0.0.1:5555/random'\n",
    "target_url = 'http://httpbin.org/ip'\n",
    "\n",
    "def get_random_proxy():\n",
    "    return requests.get(proxypool_url).text.strip()\n",
    "\n",
    "def crawl(url, proxy):\n",
    "    proxies = {'http': 'http://' + proxy}\n",
    "    print(proxies)\n",
    "    return requests.get(url, proxies=proxies).text\n",
    "\n",
    "def main():\n",
    "    proxy = get_random_proxy()\n",
    "    html = crawl(target_url, proxy)\n",
    "    print(html)\n",
    "\n",
    "main()"
   ]
  },
  {
   "cell_type": "code",
   "execution_count": 17,
   "metadata": {},
   "outputs": [
    {
     "data": {
      "text/plain": [
       "'http://157.100.23.244:999'"
      ]
     },
     "execution_count": 17,
     "metadata": {},
     "output_type": "execute_result"
    }
   ],
   "source": [
    "'http://' + requests.get('http://127.0.0.1:5555/random').text.strip()"
   ]
  }
 ],
 "metadata": {
  "kernelspec": {
   "display_name": "Python 3.10.7 64-bit",
   "language": "python",
   "name": "python3"
  },
  "language_info": {
   "codemirror_mode": {
    "name": "ipython",
    "version": 3
   },
   "file_extension": ".py",
   "mimetype": "text/x-python",
   "name": "python",
   "nbconvert_exporter": "python",
   "pygments_lexer": "ipython3",
   "version": "3.10.7"
  },
  "orig_nbformat": 4,
  "vscode": {
   "interpreter": {
    "hash": "c7a2c57dd8fa1beacd4b54a192872601175e26d7f310ef80f9ea3a51d91ad3bb"
   }
  }
 },
 "nbformat": 4,
 "nbformat_minor": 2
}
