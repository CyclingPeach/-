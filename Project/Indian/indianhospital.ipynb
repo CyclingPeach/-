{
 "cells": [
  {
   "cell_type": "code",
   "execution_count": 6,
   "metadata": {},
   "outputs": [],
   "source": [
    "\"\"\"\n",
    "设置\n",
    "    1、随机请求头\n",
    "    2、随机IP\n",
    "试错机制\n",
    "    1、出错继续执行下一条链接\n",
    "    2、并将该出错的链接存入列表中，留后续执行完所有链接后从新执行\n",
    "    3、出错后返回\n",
    "        （1）出错时的链接\n",
    "        （2）出错时的IP代理\n",
    "        （3）出错时的请求头\n",
    "        （4）出错时的错误 exception \n",
    "\"\"\"\n",
    "import random\n",
    "import requests\n",
    "import pymongo\n",
    "from lxml import etree\n",
    "from parsel import Selector\n",
    "client = pymongo.MongoClient(host='localhost', port=27017)\n",
    "db     = client['indianhospital']\n",
    "col    = db['hospital']\n",
    "\n",
    "all_hospital_href  = db['all_hospital_href']\n",
    "error_province_col = db['error_province']\n",
    "error_hospital_col = db['error_hospital']\n",
    "\n",
    "headers = {\n",
    "    'User-Agent':'Mozilla/5.0 (Windows NT 10.0; Win64; x64) AppleWebKit/537.36 (KHTML, like Gecko) Chrome/105.0.0.0 Safari/537.36'\n",
    "}"
   ]
  },
  {
   "cell_type": "code",
   "execution_count": 7,
   "metadata": {},
   "outputs": [],
   "source": [
    "\"\"\"\n",
    "一、获取 37 个省份的链接\n",
    "返回一个包含 37 个省份链接的列表\n",
    "\"\"\"\n",
    "first_layer_url = 'https://www.medindia.net/patients/hospital_search/hospital_list.asp?utm_source=topnavigation&utm_medium=desktop&utm_content=&utm_campaign=medindia'\n",
    "proxies = {'http' : 'http://' + requests.get('http://127.0.0.1:5555/random').text.strip()}\n",
    "try:\n",
    "    first_layer_res = requests.get(\n",
    "        url     = first_layer_url,\n",
    "        headers = headers,\n",
    "        proxies = proxies\n",
    "    )\n",
    "    html = etree.HTML(first_layer_res.text)\n",
    "    province_href_list = html.xpath('//ul[@class=\"list-inline\"]/div/div/li/a/@href')\n",
    "    print(province_href_list)  \n",
    "except:\n",
    "    print('【ERROR】')\n",
    "    print('\\t获取省份失败')"
   ]
  },
  {
   "cell_type": "code",
   "execution_count": null,
   "metadata": {},
   "outputs": [
    {
     "ename": "NameError",
     "evalue": "name 'province_href_list' is not defined",
     "output_type": "error",
     "traceback": [
      "\u001b[1;31m---------------------------------------------------------------------------\u001b[0m",
      "\u001b[1;31mNameError\u001b[0m                                 Traceback (most recent call last)",
      "Cell \u001b[1;32mIn [5], line 5\u001b[0m\n\u001b[0;32m      1\u001b[0m \u001b[38;5;124;03m\"\"\"\u001b[39;00m\n\u001b[0;32m      2\u001b[0m \u001b[38;5;124;03m二、遍历上面的 37 个省份的链接（通过 上面的列表），\u001b[39;00m\n\u001b[0;32m      3\u001b[0m \u001b[38;5;124;03m返回每个省份包含的所有医院链接（暂时不设置翻页）的列表\u001b[39;00m\n\u001b[0;32m      4\u001b[0m \u001b[38;5;124;03m\"\"\"\u001b[39;00m\n\u001b[1;32m----> 5\u001b[0m \u001b[38;5;28;01mfor\u001b[39;00m province \u001b[38;5;129;01min\u001b[39;00m \u001b[43mprovince_href_list\u001b[49m:\n\u001b[0;32m      6\u001b[0m     proxies \u001b[38;5;241m=\u001b[39m {\u001b[38;5;124m'\u001b[39m\u001b[38;5;124mhttp\u001b[39m\u001b[38;5;124m'\u001b[39m : \u001b[38;5;124m'\u001b[39m\u001b[38;5;124mhttp://\u001b[39m\u001b[38;5;124m'\u001b[39m \u001b[38;5;241m+\u001b[39m requests\u001b[38;5;241m.\u001b[39mget(\u001b[38;5;124m'\u001b[39m\u001b[38;5;124mhttp://127.0.0.1:5555/random\u001b[39m\u001b[38;5;124m'\u001b[39m)\u001b[38;5;241m.\u001b[39mtext\u001b[38;5;241m.\u001b[39mstrip()}\n\u001b[0;32m      7\u001b[0m     \u001b[38;5;28;01mtry\u001b[39;00m:\n",
      "\u001b[1;31mNameError\u001b[0m: name 'province_href_list' is not defined"
     ]
    }
   ],
   "source": [
    "\"\"\"\n",
    "二、遍历上面的 37 个省份的链接（通过 上面的列表），\n",
    "返回每个省份包含的所有医院链接（暂时不设置翻页）的列表\n",
    "\"\"\"\n",
    "for province in province_href_list:\n",
    "    proxies = {'http' : 'http://' + requests.get('http://127.0.0.1:5555/random').text.strip()}\n",
    "    try:\n",
    "        res = requests.get(\n",
    "            url = province,\n",
    "            headers=headers,\n",
    "            proxies = proxies\n",
    "        )\n",
    "        html = etree.HTML(res.text)\n",
    "        hospital_href_list = html.xpath('//h3[@class=\"vert-small-margin\"]/a/@href')\n",
    "        print('【SUCCDDE hospital_href_list】')\n",
    "        \"\"\"测试 hospital_href_list\"\"\"\n",
    "        for hospital in hospital_href_list:\n",
    "            all_hospital_href.insert_one({\n",
    "                'hospital_herf':hospital\n",
    "            })\n",
    "            # proxies = {'http' : 'http://' + requests.get('http://127.0.0.1:5555/random').text.strip()}\n",
    "            # try:\n",
    "            #     res = requests.get(\n",
    "            #         url=hospital,\n",
    "            #         headers=headers,\n",
    "            #         proxies=proxies\n",
    "            #     )\n",
    "            #     print('【SUCCEED hospital】')\n",
    "            #     selector = Selector(text = res.text)\n",
    "            #     hospital_name = selector.xpath('//div[@class=\"mi-bg-1\"]/../h2/text()').re_first('Address of (.*)')\n",
    "            #     address       = ', '.join(selector.xpath('//div[@class=\"mi-bg-1\"]/div/div/div[contains(@class, \"report-content\")]/p[1]//text()').re('\\s*(\\w.*\\w)\\s*,*'))\n",
    "            #     director      = selector.xpath('//div[@class=\"mi-bg-1\"]/div/div/div[contains(@class, \"report-content\")]/p/b[contains(text(), \"Director\")]/../text()').re_first('\\s*(\\w.*\\w)\\s*')\n",
    "            #     email         = selector.xpath('//div[@class=\"mi-bg-1\"]/div/div/div[contains(@class, \"report-content\")]/p/b[contains(text(), \"Email\")]/../span/text()').re_first('\\s*(\\w.*\\w)\\s*')\n",
    "            #     phone         = selector.xpath('//div[@class=\"mi-bg-1\"]/div/div/div[contains(@class, \"report-content\")]/p/b[contains(text(), \"Phone\")]/../span/text()').re_first('\\s*(\\w.*\\w)\\s*')\n",
    "            #     mobile        = selector.xpath('//div[@class=\"mi-bg-1\"]/div/div/div[contains(@class, \"report-content\")]/p/b[contains(text(), \"Mobile\")]/../span/text()').re_first('\\s*(\\w.*\\s)\\s*')\n",
    "            #     hospital_info = {\n",
    "            #         'name'    : hospital_name,\n",
    "            #         'address' : address,\n",
    "            #         'director': director,\n",
    "            #         'email'   : email,\n",
    "            #         'phone'   : phone,\n",
    "            #         'mobile'  : mobile,\n",
    "            #         'self_url'        : res.url,\n",
    "            #         'self_status_code': res.status_code,\n",
    "            #         'self_res_text'   : res.text,\n",
    "            #         'self_proxies'    : proxies\n",
    "            #     }\n",
    "                \n",
    "            #     col.insert_one(hospital_info)   # 医院信息入库\n",
    "            # except:\n",
    "            #     print('【ERROR hospital】')\n",
    "            #     error_hospital_col.insert_one({\n",
    "            #         'province':province,\n",
    "            #         'hospital':hospital,\n",
    "            #         'proxies' :proxies\n",
    "            #     })   # 错误医院信息入库\n",
    "    except:\n",
    "        print('【ERROR hospital_href_list】')\n",
    "        error_province_col.insert_many({\n",
    "            'province':province,\n",
    "            'proxies' :proxies\n",
    "        })           # 错误省份入库"
   ]
  },
  {
   "cell_type": "markdown",
   "metadata": {},
   "source": [
    "# 原因"
   ]
  },
  {
   "cell_type": "code",
   "execution_count": 2,
   "metadata": {},
   "outputs": [
    {
     "data": {
      "text/plain": [
       "{'_id': ObjectId('632988a1e58dac385e3d564f'),\n",
       " 'name': None,\n",
       " 'address': '',\n",
       " 'director': None,\n",
       " 'email': None,\n",
       " 'phone': None,\n",
       " 'mobile': None,\n",
       " 'self_url': 'https://www.medindia.net/captcha/checkspammer.asp?fromurl=https://www.medindia.net/patients/hospital_search/chakraborty-hospital-port-blair-andaman-nicobar-95591-1.htm',\n",
       " 'self_status_code': 200,\n",
       " 'self_res_text': '<input name=\"names1\" id=\"idnames1\" type=\"hidden\" value=\"\">\\r\\n<script>\\r\\nvar xmlHttp\\r\\nvar imgpath,image\\r\\n\\r\\nfunction RefreshImage(ImageId)\\r\\n{\\r\\nimage=document.getElementById(ImageId);\\r\\n//alert(ImageId);\\r\\nxmlHttp=GetXmlHttpObject();\\r\\nif (xmlHttp==null)\\r\\n  {\\r\\n  alert (\"Your browser does not support AJAX!\");\\r\\n  return;\\r\\n  } \\r\\nvar url=\"/captcha/captcha.asp\";\\r\\nurl=url+\"?x=\"+Math.random();\\r\\nimgpath=url;\\r\\nxmlHttp.onreadystatechange=stateChangedReg;\\r\\nxmlHttp.open(\"GET\",url,true);\\r\\nxmlHttp.send(null);\\r\\n} \\r\\nfunction stateChangedReg()\\r\\n{\\r\\nif (xmlHttp.readyState==4)\\r\\n{\\r\\nimage.src = imgpath;\\r\\n}\\r\\n}\\r\\n\\r\\nfunction RequestCode()\\r\\n{\\r\\nxmlHttp=GetXmlHttpObject();\\r\\nif (xmlHttp==null)\\r\\n  {\\r\\n  alert (\"Your browser does not support AJAX!\");\\r\\n  return;\\r\\n  } \\r\\nvar url=\"/captcha/reqimgvalue.asp\";\\r\\nurl=url+\"?x=\"+Math.random();\\r\\nxmlHttp.onreadystatechange=stateChangedReq;\\r\\nxmlHttp.open(\"GET\",url,true);\\r\\nxmlHttp.send(null);\\r\\n} \\r\\nfunction stateChangedReq()\\r\\n{\\r\\n\\tif (xmlHttp.readyState==4)\\r\\n\\t{\\r\\n\\t\\r\\n\\t\\t//var seccode=xmlHttp.responseText;\\r\\n\\t\\tvar lnseccode = xmlHttp.responseText.split(\"$$\");\\r\\n\\t\\tvar seccode = lnseccode[1];\\r\\n\\t\\tif(seccode==document.getElementById(\"scode\").value)\\r\\n\\t\\t{\\r\\n\\t\\t//alert(seccode + \"same value\");\\r\\n\\t\\t}\\r\\n\\t\\telse\\r\\n\\t\\t{\\r\\n\\t\\tdocument.getElementById(\"scode\").value=seccode;\\r\\n\\t\\t}\\r\\n\\t}\\r\\n}\\r\\n\\r\\nfunction GetXmlHttpObject()\\r\\n{\\r\\nvar xmlHttpNew=null;\\r\\ntry\\r\\n  {\\r\\n  // Firefox, Opera 8.0+, Safari\\r\\n  xmlHttpNew=new XMLHttpRequest();\\r\\n  }\\r\\ncatch (e)\\r\\n  {\\r\\n  // Internet Explorer\\r\\n  try\\r\\n    {\\r\\n    xmlHttpNew=new ActiveXObject(\"Msxml2.XMLHTTP\");\\r\\n    }\\r\\n  catch (e)\\r\\n    {\\r\\n    xmlHttpNew=new ActiveXObject(\"Microsoft.XMLHTTP\");\\r\\n    }\\r\\n  }\\r\\nreturn xmlHttpNew;\\r\\n}\\r\\nfunction GetXmlHttpObject()\\r\\n{\\r\\nvar xmlHttp=null;\\r\\ntry\\r\\n  {\\r\\n  // Firefox, Opera 8.0+, Safari\\r\\n  xmlHttp=new XMLHttpRequest();\\r\\n  }\\r\\ncatch (e)\\r\\n  {\\r\\n  // Internet Explorer\\r\\n  try\\r\\n    {\\r\\n    xmlHttp=new ActiveXObject(\"Msxml2.XMLHTTP\");\\r\\n    }\\r\\n  catch (e)\\r\\n    {\\r\\n    xmlHttp=new ActiveXObject(\"Microsoft.XMLHTTP\");\\r\\n    }\\r\\n  }\\r\\nreturn xmlHttp;\\r\\n}\\r\\n\\r\\n\\r\\n</script> \\r\\n<!DOCTYPE html>\\r\\n<html data-env=\"health-information\" lang=\"en\">\\r\\n\\r\\n<head>\\r\\n<title>Captcha | Medindia</title>\\r\\n<link rel=\"stylesheet\" type=\"text/css\" href=\"https://www.medindia.net/includes-rwd/css/main-v2.css\" />\\r\\n<script language=\"JavaScript\">\\r\\nfunction ValidForm()\\r\\n\\t{\\r\\n\\t\\r\\n\\tif(document.capfrm.code.value==\"\")\\r\\n\\t{\\r\\n\\t\\talert(\"Security Code is required\");\\r\\n\\t\\tdocument.capfrm.code.focus();\\r\\n\\t\\treturn false;\\r\\n\\t}\\r\\n\\t\\r\\n\\tif(document.capfrm.code.value!=document.capfrm.scode.value)\\r\\n\\t{\\r\\n\\t\\talert(\"Please Enter Valid Security Code!\");\\r\\n\\t\\tdocument.capfrm.code.focus();\\r\\n\\t\\treturn false;\\r\\n\\t}   \\r\\n\\tcapfrm.action=document.capfrm.fromurl.value \\r\\n    capfrm.submit();\\r\\n}\\r\\n\\r\\n</script>\\r\\n</head>\\r\\n<body>\\r\\n\\r\\n\\t<div class=\"captcha\">\\r\\n\\t\\t  <form name=\"capfrm\" method=\"post\" class=\"simple-form form-style\"> \\r\\n\\t\\t\\t\\t\\t\\r\\n\\t\\t\\t\\t\\t\\t<p class=\"center\"><img src=\"../images/logo.jpg\"></p>\\r\\n\\t\\t\\t\\t\\t    <div class=\"form-group\">\\r\\n\\t\\t\\t\\t\\t\\t<p class=\"center blue\">Type the numbers you see in this picture</p>\\r\\n\\t\\t\\t\\t\\t\\t<p class=\"center\"><span id=\"capImg\"> <img id=\"imgCaptcha\" align=\"absmiddle\" src=\"https://www.medindia.net/captcha/captcha.asp\" style=\"border:2px solid #0f0; padding:10px; background:#fff\" /></span>\\t\\t\\t </p>\\t\\t\\t\\t\\t\\r\\n\\t\\t\\t\\t\\t\\t<p class=\"center\">This helps us prevent automatic programs from sending spam.</p>\\r\\n\\t\\t\\t\\t\\t\\t<p class=\"center\"><a href=\"javascript:void(0)\" onClick=\"RefreshImage(\\'imgCaptcha\\');\" class=\"blue\" style=\"font-size:14px;\">Click here to Load Another Image </a></p>\\r\\n\\t\\t\\t\\t\\t   </div>\\r\\n\\t\\t\\t\\t\\t   <div class=\"form-inline center\">\\r\\n\\t\\t\\t\\t         <div class=\"form-group\">\\r\\n\\t\\t\\t\\t\\t\\t\\t <p class=\"center\">\\r\\n\\t\\t\\t\\t\\t\\t\\t\\t<input type=\"text\" name=\"code\"  id=\"code\"  class=\"form-control\" onpaste=\"return false\" onFocus=\"RequestCode()\" style=\"width:220px; margin-bottom:0;\">\\r\\n\\t\\t\\t\\t\\t\\t\\t\\t<button type=\"button\" name=\"cmdSubmit\" class=\"btn btn-primary btn-lg\"  onClick=\"return ValidForm();\">Submit</button>\\r\\n\\t\\t\\t\\t\\t\\t\\t</p>\\r\\n\\t\\t\\t\\t\\t\\t</div>\\t\\t \\r\\n\\t\\t\\t\\t\\t</div>\\r\\n\\t\\t\\t\\t\\t<input type=\"hidden\" name=\"validated\" value=\"Yes\">\\r\\n\\t\\t\\t\\t\\t<input type=\"hidden\" name=\"fromurl\" value=\"https://www.medindia.net/patients/hospital_search/chakraborty-hospital-port-blair-andaman-nicobar-95591-1.htm\">\\r\\n\\t\\t\\t\\t\\t<input type=\"hidden\" name=\"scode\" id=\"scode\" value=\"\">\\t\\r\\n\\t\\t\\t\\t </form>\\r\\n\\t\\t</div>\\r\\n\\t<style>\\r\\n\\t\\t\\r\\n\\t\\t.form-style{width:500px; margin:10% auto 0; background:#fff; border:3px solid #ddd}\\r\\n\\t\\t.captcha p{margin-bottom:15px;}\\r\\n\\t</style>\\r\\n</body>\\r\\n</html>',\n",
       " 'proxies': {'http': 'http://157.100.12.138:999',\n",
       "  'https': 'http://127.0.0.1:7890',\n",
       "  'ftp': 'http://127.0.0.1:7890'}}"
      ]
     },
     "execution_count": 2,
     "metadata": {},
     "output_type": "execute_result"
    }
   ],
   "source": [
    "import random\n",
    "import pymongo\n",
    "client = pymongo.MongoClient(host='localhost', port=27017)\n",
    "db     = client['indianhospital']\n",
    "col    = db['hospital']\n",
    "\n",
    "col.find_one()"
   ]
  },
  {
   "cell_type": "code",
   "execution_count": 4,
   "metadata": {},
   "outputs": [
    {
     "name": "stdout",
     "output_type": "stream",
     "text": [
      "200\n"
     ]
    }
   ],
   "source": [
    "# from selenium import webdriver\n",
    "\n",
    "\n",
    "res = requests.get(\n",
    "    url = 'https://www.medindia.net/captcha/checkspammer.asp?fromurl=https://www.medindia.net/patients/hospital_search/chakraborty-hospital-port-blair-andaman-nicobar-95591-1.htm',\n",
    "    headers= {\n",
    "    'User-Agent':'Mozilla/5.0 (Windows NT 10.0; Win64; x64) AppleWebKit/537.36 (KHTML, like Gecko) Chrome/105.0.0.0 Safari/537.36'\n",
    "    },\n",
    "    proxies={'http': 'http://157.100.12.138:999'}\n",
    ")\n",
    "\n"
   ]
  }
 ],
 "metadata": {
  "kernelspec": {
   "display_name": "Python 3.10.7 64-bit",
   "language": "python",
   "name": "python3"
  },
  "language_info": {
   "codemirror_mode": {
    "name": "ipython",
    "version": 3
   },
   "file_extension": ".py",
   "mimetype": "text/x-python",
   "name": "python",
   "nbconvert_exporter": "python",
   "pygments_lexer": "ipython3",
   "version": "3.10.7"
  },
  "orig_nbformat": 4,
  "vscode": {
   "interpreter": {
    "hash": "c7a2c57dd8fa1beacd4b54a192872601175e26d7f310ef80f9ea3a51d91ad3bb"
   }
  }
 },
 "nbformat": 4,
 "nbformat_minor": 2
}
