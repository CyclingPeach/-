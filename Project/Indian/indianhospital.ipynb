{
 "cells": [
  {
   "cell_type": "markdown",
   "metadata": {},
   "source": [
    "# 前置准备"
   ]
  },
  {
   "cell_type": "markdown",
   "metadata": {},
   "source": [
    "#### 导库"
   ]
  },
  {
   "cell_type": "code",
   "execution_count": 107,
   "metadata": {},
   "outputs": [],
   "source": [
    "import re\n",
    "import asyncio\n",
    "import aiohttp\n",
    "import time\n",
    "import random\n",
    "import requests\n",
    "import pymongo\n",
    "from lxml import etree\n",
    "from parsel import Selector"
   ]
  },
  {
   "cell_type": "markdown",
   "metadata": {},
   "source": [
    "#### MongoDB 连接"
   ]
  },
  {
   "cell_type": "code",
   "execution_count": 12,
   "metadata": {},
   "outputs": [],
   "source": [
    "client = pymongo.MongoClient(host='localhost', port=27017)\n",
    "db = client['indianhospital']\n",
    "\n",
    "province_col          = db['province']\n",
    "hospital_col          = db['hospital']\n",
    "all_page_col          = db['all_page']\n",
    "hospital_detail_info  = db['hospital_detail_info']\n",
    "\n",
    "# error_province_col = db['error_province']\n",
    "# error_hospital_col = db['error_hospital']"
   ]
  },
  {
   "cell_type": "markdown",
   "metadata": {},
   "source": [
    "#### 请求头 & 随机代理"
   ]
  },
  {
   "cell_type": "code",
   "execution_count": 10,
   "metadata": {},
   "outputs": [
    {
     "data": {
      "text/plain": [
       "('http://114.116.2.116:8001', {'http': 'http://114.116.2.116:8001'})"
      ]
     },
     "execution_count": 10,
     "metadata": {},
     "output_type": "execute_result"
    }
   ],
   "source": [
    "headers = {\n",
    "    'sec-ch-ua' : '\"Google Chrome\";v=\"105\", \"Not)A;Brand\";v=\"8\", \"Chromium\";v=\"105\"',\n",
    "    'sec-ch-ua-mobile'  : '?0',\n",
    "    'sec-ch-ua-platform': '\"Windows\"',\n",
    "    'User-Agent':'Mozilla/5.0 (Windows NT 10.0; Win64; x64) AppleWebKit/537.36 (KHTML, like Gecko) Chrome/105.0.0.0 Safari/537.36'\n",
    "}\n",
    "\n",
    "def random_proxy():\n",
    "    proxy = 'http://' + requests.get('http://127.0.0.1:5555/random').text.strip()\n",
    "    return proxy\n",
    "\n",
    "def random_proxies():\n",
    "    proxies = {\n",
    "        'http' : 'http://' + requests.get('http://127.0.0.1:5555/random').text.strip()\n",
    "    }\n",
    "    return proxies\n",
    "random_proxy(), random_proxies()"
   ]
  },
  {
   "cell_type": "markdown",
   "metadata": {},
   "source": [
    "# 正式采集"
   ]
  },
  {
   "cell_type": "markdown",
   "metadata": {},
   "source": [
    "#### 获取 37 个省的信息并存入数据库\n",
    "\n",
    "- 包含：名字、链接"
   ]
  },
  {
   "cell_type": "code",
   "execution_count": 22,
   "metadata": {},
   "outputs": [
    {
     "name": "stdout",
     "output_type": "stream",
     "text": [
      "【SUCCEED -- CRAWL PROVINCE SUCCEED】\n"
     ]
    }
   ],
   "source": [
    "\"\"\"\n",
    "一、获取 37 个省份的链接\n",
    "返回一个包含 37 个省份链接的列表\n",
    "\"\"\"\n",
    "origin_url = 'https://www.medindia.net/patients/hospital_search/hospital_list.asp?utm_source=topnavigation&utm_medium=desktop&utm_content=&utm_campaign=medindia'\n",
    "try:\n",
    "    origin_res = requests.get(\n",
    "        url     = origin_url,\n",
    "        headers = headers,\n",
    "        proxies = random_proxies()\n",
    "    )\n",
    "    selector = Selector(text = origin_res.text)\n",
    "\n",
    "    for div in selector.xpath('//ul[@class=\"list-inline\"]/div/div'):\n",
    "        province_name = div.xpath('./li/a/span/text()').get().title()   # 所有单词首字母大写\n",
    "        province_href = div.xpath('./li/a/@href').get()\n",
    "        if province_col.find_one({'province_name':province_name}) != None:\n",
    "            continue\n",
    "        else:\n",
    "            province_col.insert_one({\n",
    "                'province_name'  :province_name,\n",
    "                'province_href'  :province_href,\n",
    "                'province_status':None\n",
    "            })\n",
    "    print('【SUCCEED -- CRAWL PROVINCE SUCCEED】')\n",
    "except:\n",
    "    print('【ERROR   -- CRAWL PROVINCE FAILED 】')"
   ]
  },
  {
   "cell_type": "markdown",
   "metadata": {},
   "source": [
    "#### 采集医院包含的所有页"
   ]
  },
  {
   "cell_type": "code",
   "execution_count": 25,
   "metadata": {},
   "outputs": [],
   "source": [
    "province_status_list = []\n",
    "\n",
    "for province in province_col.find():\n",
    "    province_name   = province['province_name']\n",
    "    province_href   = province['province_href']\n",
    "    province_status = province['province_status']\n",
    "    # 先判断是否已经采集过某省的医院了\n",
    "    if province_status == 1:    # 如果 1        跳过该省\n",
    "        continue\n",
    "    else:                       # 如果 0 / None 采集该省的页\n",
    "        try:\n",
    "            selector = Selector(text = requests.get(province_href, headers=headers, proxies=random_proxies()).text)\n",
    "            records  = int(selector.xpath('//p[@class=\"searchtext\"][contains(text(), \"Total Records\")]/b[1]/text()').get())\n",
    "            page     = int(selector.xpath('//p[@class=\"searchtext\"][contains(text(), \"Total Records\")]/b[last()]/text()').get())\n",
    "            if records <= 25:   # 如果该省总医院记录（records）小于 25，则该省总页数只有 1 页\n",
    "                total_page_of_province = 1\n",
    "            else:\n",
    "                total_page_of_province = page\n",
    "            total_page_href_of_province = [province_href[:-4] + f'-{str(i)}' + province_href[-4:] for i in range(1, total_page_of_province+1)]\n",
    "            for href in total_page_href_of_province:\n",
    "                all_page_col.insert_one({\n",
    "                    'province_name'          : province_name,\n",
    "                    'page_of_province'       : href,\n",
    "                    'page_of_province_status': None,\n",
    "                })\n",
    "            province_status_list.append({'province_name':province_name,'province_new_status':1})\n",
    "        except Exception as e:\n",
    "            print('错误类型是',e.__class__.__name__)\n",
    "            print('错误明细是',e)\n",
    "            province_status_list.append({'province_name':province_name,'province_new_status':0})\n",
    "\n",
    "# 统一 province_col 数据库的状态\n",
    "for province in province_status_list:\n",
    "    condition        = {'province_name':province['province_name']}\n",
    "    update_status    = province_col.find_one(condition)\n",
    "    update_status['province_status']  = province['province_new_status']\n",
    "    province_col.update_one(condition,{'$set': update_status})"
   ]
  },
  {
   "cell_type": "markdown",
   "metadata": {},
   "source": [
    "#### 采集每页的医院链接"
   ]
  },
  {
   "cell_type": "code",
   "execution_count": 109,
   "metadata": {},
   "outputs": [
    {
     "name": "stdout",
     "output_type": "stream",
     "text": [
      "|【PROVINCE】——Start Province Andaman And Nicobar Islands\n",
      "|✅ Andaman And Nicobar Islands\n",
      "|【PROVINCE】——Start Province Andhra Pradesh\n",
      "|✅ Andhra Pradesh\n",
      "|【PROVINCE】——Start Province Arunachal Pradesh\n",
      "|✅ Arunachal Pradesh\n",
      "|【PROVINCE】——Start Province Assam\n",
      "|✅ Assam\n",
      "|【PROVINCE】——Start Province Bihar\n",
      "|✅ Bihar\n",
      "|【PROVINCE】——Start Province Chandigarh\n",
      "|✅ Chandigarh\n",
      "|【PROVINCE】——Start Province Chhattisgarh\n",
      "|✅ Chhattisgarh\n",
      "|【PROVINCE】——Start Province Dadra And Nagar Haveli\n",
      "|✅ Dadra And Nagar Haveli\n",
      "|【PROVINCE】——Start Province Daman And Diu\n",
      "|✅ Daman And Diu\n",
      "|【PROVINCE】——Start Province Delhi\n",
      "|✅ Delhi\n"
     ]
    }
   ],
   "source": [
    "for province in province_col.find()[0:12]:\n",
    "    province_name = province['province_name']\n",
    "    if province['province_status'] != 1:    \n",
    "        # 如果状态为 0 / Null —— 说明没有这个省的数据（页），就不采集其医院信息\n",
    "        continue\n",
    "    else:           \n",
    "        # 省的状态为 1 —— 采集该省的信息\n",
    "        print(f'|【PROVINCE】——Start Province {province_name}')\n",
    "        for page in all_page_col.find({'province_name':province_name}):\n",
    "            page_of_province        = page['page_of_province']\n",
    "            page_of_province_status = page['page_of_province_status']\n",
    "            \n",
    "            # 更新用\n",
    "            condition   = {'page_of_province':page_of_province}\n",
    "            update_page = all_page_col.find_one(condition)\n",
    "\n",
    "            if page_of_province_status == 1:    # 该页的状态为 1 —— 说明已经采集过了，跳过不采集\n",
    "                continue\n",
    "            else:                               # 该页的状态为 0 / None —— 采集\n",
    "                print('|----|【PAGE】——Start Page', re.search('hospital_search/(.*?).htm', page_of_province).group(1).title())\n",
    "                try:\n",
    "                    page_res = requests.get(url=page_of_province, headers=headers, proxies=random_proxies(),)\n",
    "                    selector = Selector(text = page_res.text)\n",
    "                    hospital_list = selector.xpath('//h3[@class=\"vert-small-margin\"]/a')\n",
    "                    for hospital in hospital_list:\n",
    "                        hospital_belong_province = province_name\n",
    "                        hospital_name   = hospital.xpath('./text()').re_first('(\\w+.*?),').title()\n",
    "                        hospital_href   = hospital.xpath('./@href').get()\n",
    "                        hospital_status = None\n",
    "                        hospital_col.insert_one({\n",
    "                            'hospital_belong_province':hospital_belong_province,\n",
    "                            'hospital_name'  :hospital_name,\n",
    "                            'hospital_href'  :hospital_href,\n",
    "                            'hospital_status':hospital_status,\n",
    "                        })\n",
    "                    # 更新页状态\n",
    "                    update_page['page_of_province_status'] = 1\n",
    "                    all_page_col.update_one(condition, {'$set':update_page})\n",
    "                    # print(f'|----|----|【SCRAW PAGE SUCCEED】{page_of_province}')\n",
    "                except:\n",
    "                    # 更新页状态\n",
    "                    update_page['page_of_province_status'] = 0\n",
    "                    all_page_col.update_one(condition, {'$set':update_page})\n",
    "                    print(f'|----|----|⭕【SCRAW PAGE ERROR】{page_of_province}')\n",
    "                    continue\n",
    "        print(f'|✅ {province_name}')"
   ]
  },
  {
   "cell_type": "markdown",
   "metadata": {},
   "source": [
    "#### 采集医院的详细信息"
   ]
  },
  {
   "cell_type": "code",
   "execution_count": null,
   "metadata": {},
   "outputs": [],
   "source": [
    "hospital_name = selector.xpath('//div[@class=\"mi-bg-1\"]/../h2/text()').re_first('Address of (.*)')\n",
    "hospital_address       = ', '.join(selector.xpath('//div[@class=\"mi-bg-1\"]/div/div/div[contains(@class, \"report-content\")]/p[1]//text()').re('\\s*(\\w.*\\w)\\s*,*'))\n",
    "hospital_director      = selector.xpath('//div[@class=\"mi-bg-1\"]/div/div/div[contains(@class, \"report-content\")]/p/b[contains(text(), \"Director\")]/../text()').re_first('\\s*(\\w.*\\w)\\s*')\n",
    "hospital_email         = selector.xpath('//div[@class=\"mi-bg-1\"]/div/div/div[contains(@class, \"report-content\")]/p/b[contains(text(), \"Email\")]/../span/text()').re_first('\\s*(\\w.*\\w)\\s*')\n",
    "hospital_phone         = selector.xpath('//div[@class=\"mi-bg-1\"]/div/div/div[contains(@class, \"report-content\")]/p/b[contains(text(), \"Phone\")]/../span/text()').re_first('\\s*(\\w.*\\w)\\s*')\n",
    "hospital_mobile        = selector.xpath('//div[@class=\"mi-bg-1\"]/div/div/div[contains(@class, \"report-content\")]/p/b[contains(text(), \"Mobile\")]/../span/text()').re_first('\\s*(\\w.*\\s)\\s*')\n",
    "\n",
    "hospital_detail_info = {\n",
    "    'hospital_name'    : hospital_name,\n",
    "    'hospital_address' : hospital_address,\n",
    "    'hospital_director': hospital_director,\n",
    "    'hospital_email'   : hospital_email,\n",
    "    'hospital_phone'   : hospital_phone,\n",
    "    'hospital_mobile'  : hospital_mobile,\n",
    "    'hospital_href' : None,\n",
    "    'hospital_html' : None,\n",
    "}"
   ]
  },
  {
   "cell_type": "code",
   "execution_count": 95,
   "metadata": {},
   "outputs": [
    {
     "name": "stdout",
     "output_type": "stream",
     "text": [
      "{'_id': ObjectId('632c0acfd46a05f1bf70282c'), 'hospital_belong_province': 'Andaman And Nicobar Islands', 'hospital_name': 'Chakraborty Hospital', 'hospital_href': 'https://www.medindia.net/patients/hospital_search/chakraborty-hospital-port-blair-andaman-nicobar-95591-1.htm', 'hospital_status': None}\n",
      "{'_id': ObjectId('632c0acfd46a05f1bf70282d'), 'hospital_belong_province': 'Andaman And Nicobar Islands', 'hospital_name': 'Chakraborty Multi Speciality Hospital', 'hospital_href': 'https://www.medindia.net/patients/hospital_search/chakraborty-multi-speciality-hospital-south-andaman-andaman-and-nicobar-islands-14966-1.htm', 'hospital_status': None}\n",
      "{'_id': ObjectId('632c0acfd46a05f1bf70282e'), 'hospital_belong_province': 'Andaman And Nicobar Islands', 'hospital_name': \"Dr. Agarwal'S Eye Hospital\", 'hospital_href': 'https://www.medindia.net/patients/hospital_search/dragarwals-eye-hospital-port-blair-andaman-nicobar-68192-1.htm', 'hospital_status': None}\n",
      "{'_id': ObjectId('632c0acfd46a05f1bf70282f'), 'hospital_belong_province': 'Andaman And Nicobar Islands', 'hospital_name': 'Inhs Dhanvantri', 'hospital_href': 'https://www.medindia.net/patients/hospital_search/inhs-dhanvantri-south-andaman-andaman-and-nicobar-islands-21526-1.htm', 'hospital_status': None}\n",
      "{'_id': ObjectId('632c0acfd46a05f1bf702830'), 'hospital_belong_province': 'Andaman And Nicobar Islands', 'hospital_name': 'Maricar Hospital', 'hospital_href': 'https://www.medindia.net/patients/hospital_search/maricar-hospital-port-blair-andaman-and-nicobar-islands-25782-1.htm', 'hospital_status': None}\n",
      "{'_id': ObjectId('632c0acfd46a05f1bf702831'), 'hospital_belong_province': 'Andaman And Nicobar Islands', 'hospital_name': 'Pillar Health Centre', 'hospital_href': 'https://www.medindia.net/patients/hospital_search/pillar-health-centre-port-blair-andaman-and-nicobar-islands-26347-1.htm', 'hospital_status': None}\n",
      "{'_id': ObjectId('632c0acfd46a05f1bf702832'), 'hospital_belong_province': 'Andaman And Nicobar Islands', 'hospital_name': 'Welcare Ayurvedic Hospital', 'hospital_href': 'https://www.medindia.net/patients/hospital_search/welcare-ayurvedic-hospital-port-blair-andaman-nicobar-39346-1.htm', 'hospital_status': None}\n",
      "{'_id': ObjectId('632c0ad8d46a05f1bf702833'), 'hospital_belong_province': 'Andhra Pradesh', 'hospital_name': 'Modern Eye Hospital & Research Centre', 'hospital_href': 'https://www.medindia.net/patients/hospital_search/modern-eye-hospital-research-centre-nellore-andhra-pradesh-25693-1.htm', 'hospital_status': None}\n",
      "{'_id': ObjectId('632c0ad8d46a05f1bf702834'), 'hospital_belong_province': 'Andhra Pradesh', 'hospital_name': 'Radha Krishna Nursing Home', 'hospital_href': 'https://www.medindia.net/patients/hospital_search/radha-krishna-nursing-home-vizianagaram-andhra-pradesh-26957-1.htm', 'hospital_status': None}\n",
      "{'_id': ObjectId('632c0ad8d46a05f1bf702835'), 'hospital_belong_province': 'Andhra Pradesh', 'hospital_name': \"Rainbow Children'S Hospital\", 'hospital_href': 'https://www.medindia.net/patients/hospital_search/rainbow-childrens-hospital-vijayawada-andhra-pradesh-27181-1.htm', 'hospital_status': None}\n"
     ]
    }
   ],
   "source": [
    "for hospital in hospital_col.find()[0:10]:\n",
    "    print(hospital)\n",
    "    # hospital_res = requests.get(\n",
    "    #     url     = \n",
    "    #     headers = headers\n",
    "    #     proxies = random_proxies()\n",
    "    # )"
   ]
  }
 ],
 "metadata": {
  "kernelspec": {
   "display_name": "Python 3.10.7 64-bit",
   "language": "python",
   "name": "python3"
  },
  "language_info": {
   "codemirror_mode": {
    "name": "ipython",
    "version": 3
   },
   "file_extension": ".py",
   "mimetype": "text/x-python",
   "name": "python",
   "nbconvert_exporter": "python",
   "pygments_lexer": "ipython3",
   "version": "3.10.7"
  },
  "orig_nbformat": 4,
  "vscode": {
   "interpreter": {
    "hash": "c7a2c57dd8fa1beacd4b54a192872601175e26d7f310ef80f9ea3a51d91ad3bb"
   }
  }
 },
 "nbformat": 4,
 "nbformat_minor": 2
}
