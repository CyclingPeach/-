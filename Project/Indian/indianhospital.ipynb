{
 "cells": [
  {
   "cell_type": "code",
   "execution_count": 6,
   "metadata": {},
   "outputs": [
    {
     "name": "stdout",
     "output_type": "stream",
     "text": [
      "{'http': 'http://23.26.236.11:3128'}\n",
      "成功验证\n",
      "{'http': 'http://117.157.197.18:3128'}\n",
      "成功验证\n",
      "{'http': 'http://117.157.197.18:3128'}\n",
      "成功验证\n",
      "{'http': 'http://37.112.57.47:8080'}\n",
      "成功验证\n",
      "{'http': 'http://45.160.229.42:9090'}\n",
      "成功验证\n",
      "{'http': 'http://45.42.177.34:3128'}\n",
      "成功验证\n",
      "{'http': 'http://65.21.141.242:10100'}\n",
      "成功验证\n",
      "{'http': 'http://117.157.197.18:3128'}\n",
      "成功验证\n",
      "{'http': 'http://139.9.69.228:8080'}\n",
      "成功验证\n",
      "{'http': 'http://124.71.186.187:3128'}\n",
      "成功验证\n"
     ]
    }
   ],
   "source": [
    "import requests\n",
    "\n",
    "start_url = 'https://www.medindia.net/patients/hospital_search/hospital_list.asp?utm_source=topnavigation&utm_medium=desktop&utm_content=&utm_campaign=medindia'\n",
    "\n",
    "def crawl_province_href(start_url):\n",
    "    proxies = {'http': 'http://' + requests.get('http://127.0.0.1:5555/random').text.strip()}\n",
    "    print(proxies)\n",
    "    try:\n",
    "        res = requests.get(start_url, proxies=proxies)\n",
    "        print('成功验证')\n",
    "        return res.status_code\n",
    "    except:\n",
    "        print('重新执行')\n",
    "        crawl_province_href(start_url)\n",
    "\n",
    "def crawl_hospital_href_of_province(province_href): \n",
    "    # return hospital_href\n",
    "    pass\n",
    "\n",
    "def crawl_hospital_info(hospital_href):\n",
    "    pass\n",
    "\n",
    "for i in range(10):\n",
    "    crawl_province_href(start_url)"
   ]
  }
 ],
 "metadata": {
  "kernelspec": {
   "display_name": "Python 3.10.7 64-bit",
   "language": "python",
   "name": "python3"
  },
  "language_info": {
   "codemirror_mode": {
    "name": "ipython",
    "version": 3
   },
   "file_extension": ".py",
   "mimetype": "text/x-python",
   "name": "python",
   "nbconvert_exporter": "python",
   "pygments_lexer": "ipython3",
   "version": "3.10.7"
  },
  "orig_nbformat": 4,
  "vscode": {
   "interpreter": {
    "hash": "c7a2c57dd8fa1beacd4b54a192872601175e26d7f310ef80f9ea3a51d91ad3bb"
   }
  }
 },
 "nbformat": 4,
 "nbformat_minor": 2
}
