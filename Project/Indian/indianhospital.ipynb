{
 "cells": [
  {
   "cell_type": "markdown",
   "metadata": {},
   "source": [
    "#### 导库"
   ]
  },
  {
   "cell_type": "code",
   "execution_count": 2,
   "metadata": {},
   "outputs": [],
   "source": [
    "import asyncio\n",
    "import aiohttp\n",
    "import time\n",
    "import random\n",
    "import requests\n",
    "import pymongo\n",
    "from lxml import etree\n",
    "from parsel import Selector"
   ]
  },
  {
   "cell_type": "markdown",
   "metadata": {},
   "source": [
    "#### MongoDB 连接"
   ]
  },
  {
   "cell_type": "code",
   "execution_count": 3,
   "metadata": {},
   "outputs": [],
   "source": [
    "client = pymongo.MongoClient(host='localhost', port=27017)\n",
    "db = client['indianhospital']\n",
    "\n",
    "province_col          = db['province']\n",
    "hospital_col          = db['hospital']\n",
    "province_all_href_col = db['province_all_href']\n",
    "hospital_detail_info  = db['hospital_detail_info']\n",
    "\n",
    "# error_province_col = db['error_province']\n",
    "# error_hospital_col = db['error_hospital']"
   ]
  },
  {
   "cell_type": "markdown",
   "metadata": {},
   "source": [
    "#### 请求头 & 随机代理"
   ]
  },
  {
   "cell_type": "code",
   "execution_count": 4,
   "metadata": {},
   "outputs": [
    {
     "data": {
      "text/plain": [
       "'http://85.14.243.31:3128'"
      ]
     },
     "execution_count": 4,
     "metadata": {},
     "output_type": "execute_result"
    }
   ],
   "source": [
    "headers = {\n",
    "    'sec-ch-ua' : '\"Google Chrome\";v=\"105\", \"Not)A;Brand\";v=\"8\", \"Chromium\";v=\"105\"',\n",
    "    'sec-ch-ua-mobile'  : '?0',\n",
    "    'sec-ch-ua-platform': '\"Windows\"',\n",
    "    'User-Agent':'Mozilla/5.0 (Windows NT 10.0; Win64; x64) AppleWebKit/537.36 (KHTML, like Gecko) Chrome/105.0.0.0 Safari/537.36'\n",
    "}\n",
    "\n",
    "def random_proxies():\n",
    "    proxies = {\n",
    "        'http' : 'http://' + requests.get('http://127.0.0.1:5555/random').text.strip()\n",
    "    }\n",
    "    return proxies\n",
    "\n",
    "def random_proxy():\n",
    "    proxy = 'http://' + requests.get('http://127.0.0.1:5555/random').text.strip()\n",
    "    return proxy\n",
    "\n",
    "random_proxy()"
   ]
  },
  {
   "cell_type": "markdown",
   "metadata": {},
   "source": [
    "#### 获取 37 个省的信息\n",
    "\n",
    "- 包含：名字、链接\n",
    "\n",
    "-   "
   ]
  },
  {
   "cell_type": "code",
   "execution_count": 8,
   "metadata": {},
   "outputs": [
    {
     "name": "stdout",
     "output_type": "stream",
     "text": [
      "【SUCCEED -- CRAWL PROVINCE SUCCEED】\n"
     ]
    }
   ],
   "source": [
    "\"\"\"\n",
    "一、获取 37 个省份的链接\n",
    "返回一个包含 37 个省份链接的列表\n",
    "\"\"\"\n",
    "origin_url = 'https://www.medindia.net/patients/hospital_search/hospital_list.asp?utm_source=topnavigation&utm_medium=desktop&utm_content=&utm_campaign=medindia'\n",
    "try:\n",
    "    origin_res = requests.get(\n",
    "        url     = origin_url,\n",
    "        headers = headers,\n",
    "        proxies = random_proxies()\n",
    "    )\n",
    "    selector = Selector(text = origin_res.text)\n",
    "\n",
    "    for div in selector.xpath('//ul[@class=\"list-inline\"]/div/div'):\n",
    "        province_name = div.xpath('./li/a/span/text()').get().title()   # 所有单词首字母大写\n",
    "        province_href = div.xpath('./li/a/@href').get()\n",
    "        if province_col.find_one({'province_name':province_name}) != None:\n",
    "            continue\n",
    "        else:\n",
    "            province_col.insert_one({\n",
    "                'province_name'  :province_name,\n",
    "                'province_href'  :province_href,\n",
    "                'province_status':None\n",
    "            })\n",
    "    print('【SUCCEED -- CRAWL PROVINCE SUCCEED】')\n",
    "except:\n",
    "    print('【ERROR   -- CRAWL PROVINCE FAILED 】')"
   ]
  },
  {
   "cell_type": "markdown",
   "metadata": {},
   "source": [
    "#### 采集医院包含的所有页"
   ]
  },
  {
   "cell_type": "code",
   "execution_count": 5,
   "metadata": {},
   "outputs": [],
   "source": [
    "province_status_list = []\n",
    "\n",
    "for province in province_col.find():\n",
    "    province_name = province['province_name']\n",
    "    province_href = province['province_href']\n",
    "    # 先判断是否存在某省的医院\n",
    "    try:\n",
    "        selector = Selector(text = requests.get(province_href, headers=headers, proxies=random_proxies()).text)\n",
    "        records  = selector.xpath('//p[@class=\"searchtext\"][contains(text(), \"Total Records\")]/b[1]/text()').get()\n",
    "        page     = selector.xpath('//p[@class=\"searchtext\"][contains(text(), \"Total Records\")]/b[last()]/text()').get()\n",
    "        \n",
    "        if records == page:\n",
    "            province_total_page = 1\n",
    "        else:\n",
    "            province_total_page = page\n",
    "        province_total_href = [province_href[:-4] + f'-{str(i)}' + province_href[-4:] for i in range(1, province_total_page+1)]\n",
    "\n",
    "        for href in province_total_href:\n",
    "            province_all_href_col.insert_one({\n",
    "                'province_name'          : province_name,\n",
    "                'province_all_page_href' : href\n",
    "            })\n",
    "        province_status_list.append({'province_name':province_name,'province_new_status':1})\n",
    "    except:\n",
    "        province_status_list.append({'province_name':province_name,'province_new_status':0})"
   ]
  },
  {
   "cell_type": "markdown",
   "metadata": {},
   "source": [
    "#### 更新 **`province_col`** 数据库的状态"
   ]
  },
  {
   "cell_type": "code",
   "execution_count": null,
   "metadata": {},
   "outputs": [],
   "source": [
    "for province in province_status_list:\n",
    "    condition        = {'province_name':province['province_name']}\n",
    "    update_status    = province_col.find_one(condition)\n",
    "    update_status['province_status']  = province['province_new_status']\n",
    "    \n",
    "    province_col.update_one(condition,{'$set': update_status})"
   ]
  },
  {
   "cell_type": "markdown",
   "metadata": {},
   "source": [
    "#### 获取每一个省包含的所有医院信息"
   ]
  },
  {
   "cell_type": "code",
   "execution_count": 29,
   "metadata": {},
   "outputs": [
    {
     "name": "stdout",
     "output_type": "stream",
     "text": [
      "【SUCCDDE -- GET ALL HOSPITAL OF PROVINCE SUCCEED】\n",
      "【SUCCDDE -- GET ALL HOSPITAL OF PROVINCE SUCCEED】\n",
      "【SUCCDDE -- GET ALL HOSPITAL OF PROVINCE SUCCEED】\n",
      "【SUCCDDE -- GET ALL HOSPITAL OF PROVINCE SUCCEED】\n",
      "【SUCCDDE -- GET ALL HOSPITAL OF PROVINCE SUCCEED】\n",
      "【SUCCDDE -- GET ALL HOSPITAL OF PROVINCE SUCCEED】\n",
      "【SUCCDDE -- GET ALL HOSPITAL OF PROVINCE SUCCEED】\n",
      "【SUCCDDE -- GET ALL HOSPITAL OF PROVINCE SUCCEED】\n",
      "【SUCCDDE -- GET ALL HOSPITAL OF PROVINCE SUCCEED】\n",
      "【SUCCDDE -- GET ALL HOSPITAL OF PROVINCE SUCCEED】\n",
      "【SUCCDDE -- GET ALL HOSPITAL OF PROVINCE SUCCEED】\n",
      "【SUCCDDE -- GET ALL HOSPITAL OF PROVINCE SUCCEED】\n",
      "【SUCCDDE -- GET ALL HOSPITAL OF PROVINCE SUCCEED】\n",
      "【ERROR -- GET ALL HOSPITAL OF PROVINCE FAILED\n",
      "【SUCCDDE -- GET ALL HOSPITAL OF PROVINCE SUCCEED】\n",
      "【SUCCDDE -- GET ALL HOSPITAL OF PROVINCE SUCCEED】\n",
      "【ERROR -- GET ALL HOSPITAL OF PROVINCE FAILED\n",
      "【SUCCDDE -- GET ALL HOSPITAL OF PROVINCE SUCCEED】\n",
      "【ERROR -- GET ALL HOSPITAL OF PROVINCE FAILED\n",
      "【SUCCDDE -- GET ALL HOSPITAL OF PROVINCE SUCCEED】\n",
      "【SUCCDDE -- GET ALL HOSPITAL OF PROVINCE SUCCEED】\n",
      "【ERROR -- GET ALL HOSPITAL OF PROVINCE FAILED\n",
      "【SUCCDDE -- GET ALL HOSPITAL OF PROVINCE SUCCEED】\n",
      "【SUCCDDE -- GET ALL HOSPITAL OF PROVINCE SUCCEED】\n",
      "【SUCCDDE -- GET ALL HOSPITAL OF PROVINCE SUCCEED】\n",
      "【SUCCDDE -- GET ALL HOSPITAL OF PROVINCE SUCCEED】\n",
      "【ERROR -- GET ALL HOSPITAL OF PROVINCE FAILED\n",
      "【SUCCDDE -- GET ALL HOSPITAL OF PROVINCE SUCCEED】\n",
      "【SUCCDDE -- GET ALL HOSPITAL OF PROVINCE SUCCEED】\n",
      "【SUCCDDE -- GET ALL HOSPITAL OF PROVINCE SUCCEED】\n",
      "【SUCCDDE -- GET ALL HOSPITAL OF PROVINCE SUCCEED】\n",
      "【SUCCDDE -- GET ALL HOSPITAL OF PROVINCE SUCCEED】\n",
      "【SUCCDDE -- GET ALL HOSPITAL OF PROVINCE SUCCEED】\n",
      "【SUCCDDE -- GET ALL HOSPITAL OF PROVINCE SUCCEED】\n",
      "【SUCCDDE -- GET ALL HOSPITAL OF PROVINCE SUCCEED】\n",
      "【SUCCDDE -- GET ALL HOSPITAL OF PROVINCE SUCCEED】\n",
      "【SUCCDDE -- GET ALL HOSPITAL OF PROVINCE SUCCEED】\n"
     ]
    }
   ],
   "source": [
    "province_status_list = []\n",
    "for province in province_col.find()[9:10]:\n",
    "    province_name = province['province_name']\n",
    "    province_href = province['province_href']\n",
    "    # 先判断是否存在某省的医院\n",
    "    if hospital_col.find_one({'province_name':province_name}) != None:\n",
    "        continue\n",
    "    else:\n",
    "        try:\n",
    "            province_res  = requests.get(\n",
    "                url     = province_href,\n",
    "                headers = headers,\n",
    "                proxies = random_proxies(),\n",
    "                verify  = False,\n",
    "            )\n",
    "            selector = Selector(text = province_res.text)\n",
    "\n",
    "            hospital_list = selector.xpath('//h3[@class=\"vert-small-margin\"]/a')\n",
    "            for hospital in hospital_list:\n",
    "                hospital_name = hospital.xpath('./text()').get().title()\n",
    "                hospital_href = hospital.xpath('./@href').get()\n",
    "                # 判断医院是否已经存入数据库中\n",
    "                if hospital_col.find_one({'hospital_name':hospital_name}) != None:\n",
    "                    continue\n",
    "                else:\n",
    "                    hospital_col.insert_one({\n",
    "                        'province_name'  :province_name,\n",
    "                        'hospital_name'  :hospital_name,\n",
    "                        'hospital_href'  :hospital_href,\n",
    "                        'hospital_status':None\n",
    "                    })\n",
    "            print(f'【SUCCDDE -- GET ALL HOSPITAL OF {province_name} SUCCEED】')\n",
    "            province_status_list.append({'province_name':province_name,'province_new_status':1})\n",
    "        except:\n",
    "            print(f'【ERROR   -- GET ALL HOSPITAL OF {province_name} FAILED 】')\n",
    "            province_status_list.append({'province_name':province_name, 'province_new_status':0})"
   ]
  },
  {
   "cell_type": "markdown",
   "metadata": {},
   "source": [
    "#### 采集所有医院的详细信息"
   ]
  },
  {
   "cell_type": "code",
   "execution_count": null,
   "metadata": {},
   "outputs": [],
   "source": [
    "hospital_name = selector.xpath('//div[@class=\"mi-bg-1\"]/../h2/text()').re_first('Address of (.*)')\n",
    "hospital_address       = ', '.join(selector.xpath('//div[@class=\"mi-bg-1\"]/div/div/div[contains(@class, \"report-content\")]/p[1]//text()').re('\\s*(\\w.*\\w)\\s*,*'))\n",
    "hospital_director      = selector.xpath('//div[@class=\"mi-bg-1\"]/div/div/div[contains(@class, \"report-content\")]/p/b[contains(text(), \"Director\")]/../text()').re_first('\\s*(\\w.*\\w)\\s*')\n",
    "hospital_email         = selector.xpath('//div[@class=\"mi-bg-1\"]/div/div/div[contains(@class, \"report-content\")]/p/b[contains(text(), \"Email\")]/../span/text()').re_first('\\s*(\\w.*\\w)\\s*')\n",
    "hospital_phone         = selector.xpath('//div[@class=\"mi-bg-1\"]/div/div/div[contains(@class, \"report-content\")]/p/b[contains(text(), \"Phone\")]/../span/text()').re_first('\\s*(\\w.*\\w)\\s*')\n",
    "hospital_mobile        = selector.xpath('//div[@class=\"mi-bg-1\"]/div/div/div[contains(@class, \"report-content\")]/p/b[contains(text(), \"Mobile\")]/../span/text()').re_first('\\s*(\\w.*\\s)\\s*')\n",
    "\n",
    "hospital_detail_info = {\n",
    "    'hospital_name'    : hospital_name,\n",
    "    'hospital_address' : hospital_address,\n",
    "    'hospital_director': hospital_director,\n",
    "    'hospital_email'   : hospital_email,\n",
    "    'hospital_phone'   : hospital_phone,\n",
    "    'hospital_mobile'  : hospital_mobile,\n",
    "    'hospital_href' : None,\n",
    "    'hospital_html' : None,\n",
    "}"
   ]
  }
 ],
 "metadata": {
  "kernelspec": {
   "display_name": "Python 3.10.7 64-bit",
   "language": "python",
   "name": "python3"
  },
  "language_info": {
   "codemirror_mode": {
    "name": "ipython",
    "version": 3
   },
   "file_extension": ".py",
   "mimetype": "text/x-python",
   "name": "python",
   "nbconvert_exporter": "python",
   "pygments_lexer": "ipython3",
   "version": "3.10.7"
  },
  "orig_nbformat": 4,
  "vscode": {
   "interpreter": {
    "hash": "c7a2c57dd8fa1beacd4b54a192872601175e26d7f310ef80f9ea3a51d91ad3bb"
   }
  }
 },
 "nbformat": 4,
 "nbformat_minor": 2
}
