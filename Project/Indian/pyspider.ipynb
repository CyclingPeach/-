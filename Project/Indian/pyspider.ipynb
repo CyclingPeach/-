{
 "cells": [
  {
   "cell_type": "code",
   "execution_count": null,
   "metadata": {},
   "outputs": [],
   "source": [
    "#!/usr/bin/env python\n",
    "# -*- encoding: utf-8 -*-\n",
    "# Created on 2022-09-26 16:19:17\n",
    "# Project: indianhospital\n",
    "\n",
    "import json\n",
    "import requests\n",
    "from pyspider.libs.base_handler import *\n",
    "\n",
    "\n",
    "class Handler(BaseHandler):\n",
    "    crawl_config = {\n",
    "        # 'proxy': proxy\n",
    "    }\n",
    "\n",
    "    @every(minutes=24 * 60)\n",
    "    def on_start(self):\n",
    "        self.crawl(\n",
    "            url      = 'https://www.medindia.net/patients/hospital_search/hospital_list.asp?utm_source=topnavigation&utm_medium=desktop&utm_content=&utm_campaign=medindia',\n",
    "            callback = self.index_page,\n",
    "            proxy    = requests.get('http://127.0.0.1:5555/random').text.strip()\n",
    "        )\n",
    "\n",
    "    @config(age=10 * 24 * 60 * 60)\n",
    "    def index_page(self, response):\n",
    "        for each_province in response.doc('a[href^=\"http\"]').items():    # 待修改\n",
    "            self.crawl(\n",
    "                url      = each_province,\n",
    "                callback = self.get_province_hospital,\n",
    "                proxy    = requests.get('http://127.0.0.1:5555/random').text.strip(),\n",
    "                # timeout  = 5,\n",
    "            )\n",
    "\n",
    "    @config(priority=2)\n",
    "    def get_province_hospital(self, response):\n",
    "        # return {\n",
    "        #     \"url\"  : response.url,\n",
    "        #     # \"title\": response.doc('title').text(),\n",
    "        #     \"hospital_name\": hospital_name,\n",
    "        # }\n",
    "        pass\n"
   ]
  },
  {
   "cell_type": "code",
   "execution_count": null,
   "metadata": {},
   "outputs": [],
   "source": [
    "import requests\n",
    "\n",
    "print('hello')"
   ]
  }
 ],
 "metadata": {
  "kernelspec": {
   "display_name": "Python 3.10.7 64-bit",
   "language": "python",
   "name": "python3"
  },
  "language_info": {
   "name": "python",
   "version": "3.10.7"
  },
  "orig_nbformat": 4,
  "vscode": {
   "interpreter": {
    "hash": "c7a2c57dd8fa1beacd4b54a192872601175e26d7f310ef80f9ea3a51d91ad3bb"
   }
  }
 },
 "nbformat": 4,
 "nbformat_minor": 2
}
