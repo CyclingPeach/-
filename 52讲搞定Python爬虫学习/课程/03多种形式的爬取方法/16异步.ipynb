{
 "cells": [
  {
   "cell_type": "markdown",
   "metadata": {},
   "source": [
    "# 说明\n",
    "\n",
    "- 对应[【2022 年】崔庆才 Python3 网络爬虫学习教程](https://cuiqingcai.com/17777.html) 中的 \"异步爬虫和模拟登录-协程的基本原理\"\n",
    "- 对应 \"52讲视频\" 模块三-第16讲：异步爬虫的原理和解析"
   ]
  },
  {
   "cell_type": "markdown",
   "metadata": {},
   "source": [
    "# 笔记"
   ]
  },
  {
   "cell_type": "markdown",
   "metadata": {},
   "source": [
    "- 爬虫是 IO 密集型任务\n",
    "\n",
    "使用 requests 库来爬取某个站点的话，发出一个请求之后，程序必须要等待网站返回响应之后才能接着运行，而在  **等待响应的过程** 中，整个爬虫程序是一直在等待的，实际上没有做任何事情。对于这种情况，我们有没有优化方案呢？"
   ]
  },
  {
   "cell_type": "code",
   "execution_count": null,
   "metadata": {},
   "outputs": [],
   "source": [
    "url = 'https://static4.scrape.cuiqingcai.com/'"
   ]
  },
  {
   "cell_type": "code",
   "execution_count": 2,
   "metadata": {},
   "outputs": [],
   "source": [
    "from time import sleep\n",
    "import requests\n",
    "from selenium import webdriver\n",
    "\n",
    "url = 'https://httpbin.org/delay/5'\n",
    "\n",
    "browser = webdriver.Chrome()\n",
    "browser.get(url)\n",
    "sleep(2)\n",
    "browser.close()\n"
   ]
  },
  {
   "cell_type": "code",
   "execution_count": 4,
   "metadata": {},
   "outputs": [
    {
     "name": "stdout",
     "output_type": "stream",
     "text": [
      "200\n"
     ]
    }
   ],
   "source": [
    "proxies={\n",
    "    'http': 'http://127.0.0.1:7890',\n",
    "    'https': 'http://127.0.0.1:7890'  # https -> http\n",
    "}\n",
    "\n",
    "r = requests.get(url, proxies=proxies)\n",
    "print(r.status_code)"
   ]
  },
  {
   "cell_type": "code",
   "execution_count": 27,
   "metadata": {},
   "outputs": [
    {
     "name": "stderr",
     "output_type": "stream",
     "text": [
      "2022-06-30 15:56:43,534 - INFO: scraping https://httpbin.org/delay/5\n",
      "2022-06-30 15:56:50,038 - INFO: scraping https://httpbin.org/delay/5\n",
      "2022-06-30 15:56:56,173 - INFO: scraping https://httpbin.org/delay/5\n",
      "2022-06-30 15:57:02,280 - INFO: total time 18.746297597885132 second\n"
     ]
    }
   ],
   "source": [
    "import requests\n",
    "import logging\n",
    "import time\n",
    "\n",
    "logging.basicConfig(level = logging.INFO,\n",
    "                    format='%(asctime)s - %(levelname)s: %(message)s')\n",
    "\n",
    "proxies={\n",
    "    'http': 'http://127.0.0.1:7890',\n",
    "    'https': 'http://127.0.0.1:7890'  # https -> http\n",
    "}\n",
    "\n",
    "TOTAL_NUMBER = 1\n",
    "URL = 'https://httpbin.org/delay/5'\n",
    "\n",
    "start_time = time.time()    # 什么意思——返回当前时间的时间戳（1970纪元后经过的浮点秒数）\n",
    "for i in range(1, TOTAL_NUMBER + 1):    # 1~3\n",
    "    logging.info('scraping %s', URL)\n",
    "    response = requests.get(URL, proxies=proxies)\n",
    "end_time = time.time()\n",
    "logging.info('total time %s second', end_time - start_time)"
   ]
  },
  {
   "cell_type": "markdown",
   "metadata": {},
   "source": [
    "> [Python time time()方法](https://www.runoob.com/python/att-time-time.html)\n",
    "\n",
    "```Python\n",
    "import time\n",
    "\n",
    "print(time.time(), '\\n')\n",
    "print(time.localtime(), '\\n')\n",
    "time.sleep(1)\n",
    "print(time.localtime(time.time()), '\\n')\n",
    "print(time.asctime(time.localtime(time.time())), '\\n')\n",
    "```\n",
    "\n",
    "- 输出\n",
    "\n",
    "```\n",
    "1656576002.1171286 \n",
    "\n",
    "time.struct_time(tm_year=2022, tm_mon=6, tm_mday=30, tm_hour=16, tm_min=0, tm_sec=2, tm_wday=3, tm_yday=181, tm_isdst=0) \n",
    "\n",
    "time.struct_time(tm_year=2022, tm_mon=6, tm_mday=30, tm_hour=16, tm_min=0, tm_sec=3, tm_wday=3, tm_yday=181, tm_isdst=0) \n",
    "\n",
    "Thu Jun 30 16:00:03 2022 \n",
    "```"
   ]
  },
  {
   "cell_type": "code",
   "execution_count": 28,
   "metadata": {},
   "outputs": [
    {
     "name": "stdout",
     "output_type": "stream",
     "text": [
      "1656576002.1171286 \n",
      "\n",
      "time.struct_time(tm_year=2022, tm_mon=6, tm_mday=30, tm_hour=16, tm_min=0, tm_sec=2, tm_wday=3, tm_yday=181, tm_isdst=0) \n",
      "\n",
      "time.struct_time(tm_year=2022, tm_mon=6, tm_mday=30, tm_hour=16, tm_min=0, tm_sec=3, tm_wday=3, tm_yday=181, tm_isdst=0) \n",
      "\n",
      "Thu Jun 30 16:00:03 2022 \n",
      "\n"
     ]
    }
   ],
   "source": [
    "import time\n",
    "\n",
    "print(time.time(), '\\n')\n",
    "print(time.localtime(), '\\n')\n",
    "time.sleep(1)\n",
    "print(time.localtime(time.time()), '\\n')\n",
    "print(time.asctime(time.localtime(time.time())), '\\n')"
   ]
  },
  {
   "cell_type": "markdown",
   "metadata": {},
   "source": [
    "## 2.基础知识"
   ]
  }
 ],
 "metadata": {
  "kernelspec": {
   "display_name": "Python 3.9.7 ('base')",
   "language": "python",
   "name": "python3"
  },
  "language_info": {
   "codemirror_mode": {
    "name": "ipython",
    "version": 3
   },
   "file_extension": ".py",
   "mimetype": "text/x-python",
   "name": "python",
   "nbconvert_exporter": "python",
   "pygments_lexer": "ipython3",
   "version": "3.9.7"
  },
  "orig_nbformat": 4,
  "vscode": {
   "interpreter": {
    "hash": "6a018d3a992d78c184ccc94ab54168c7b26325ed3c2283926339c3edbf5487e7"
   }
  }
 },
 "nbformat": 4,
 "nbformat_minor": 2
}
