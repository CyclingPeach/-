{
 "cells": [
  {
   "cell_type": "code",
   "execution_count": 5,
   "metadata": {},
   "outputs": [
    {
     "name": "stderr",
     "output_type": "stream",
     "text": [
      "C:\\Users\\m1595\\AppData\\Local\\Temp/ipykernel_18056/3719627981.py:10: DeprecationWarning: find_element_by_* commands are deprecated. Please use find_element() instead\n",
      "  input = browser.find_element_by_id('kw')\n"
     ]
    },
    {
     "ename": "TimeoutException",
     "evalue": "Message: \nStacktrace:\nBacktrace:\n\tOrdinal0 [0x00CA6463+2188387]\n\tOrdinal0 [0x00C3E461+1762401]\n\tOrdinal0 [0x00B53D78+802168]\n\tOrdinal0 [0x00B81880+989312]\n\tOrdinal0 [0x00B81B1B+989979]\n\tOrdinal0 [0x00BAE912+1173778]\n\tOrdinal0 [0x00B9C824+1099812]\n\tOrdinal0 [0x00BACC22+1166370]\n\tOrdinal0 [0x00B9C5F6+1099254]\n\tOrdinal0 [0x00B76BE0+945120]\n\tOrdinal0 [0x00B77AD6+948950]\n\tGetHandleVerifier [0x00F471F2+2712546]\n\tGetHandleVerifier [0x00F3886D+2652765]\n\tGetHandleVerifier [0x00D3002A+520730]\n\tGetHandleVerifier [0x00D2EE06+516086]\n\tOrdinal0 [0x00C4468B+1787531]\n\tOrdinal0 [0x00C48E88+1805960]\n\tOrdinal0 [0x00C48F75+1806197]\n\tOrdinal0 [0x00C51DF1+1842673]\n\tBaseThreadInitThunk [0x76CC6739+25]\n\tRtlGetFullPathName_UEx [0x77C58FEF+1215]\n\tRtlGetFullPathName_UEx [0x77C58FBD+1165]\n",
     "output_type": "error",
     "traceback": [
      "\u001b[1;31m---------------------------------------------------------------------------\u001b[0m",
      "\u001b[1;31mTimeoutException\u001b[0m                          Traceback (most recent call last)",
      "\u001b[1;32m~\\AppData\\Local\\Temp/ipykernel_18056/3719627981.py\u001b[0m in \u001b[0;36m<module>\u001b[1;34m\u001b[0m\n\u001b[0;32m     12\u001b[0m     \u001b[0minput\u001b[0m\u001b[1;33m.\u001b[0m\u001b[0msend_keys\u001b[0m\u001b[1;33m(\u001b[0m\u001b[0mKeys\u001b[0m\u001b[1;33m.\u001b[0m\u001b[0mENTER\u001b[0m\u001b[1;33m)\u001b[0m\u001b[1;33m\u001b[0m\u001b[1;33m\u001b[0m\u001b[0m\n\u001b[0;32m     13\u001b[0m     \u001b[0mwait\u001b[0m \u001b[1;33m=\u001b[0m \u001b[0mWebDriverWait\u001b[0m\u001b[1;33m(\u001b[0m\u001b[0mbrowser\u001b[0m\u001b[1;33m,\u001b[0m \u001b[1;36m10\u001b[0m\u001b[1;33m)\u001b[0m\u001b[1;33m\u001b[0m\u001b[1;33m\u001b[0m\u001b[0m\n\u001b[1;32m---> 14\u001b[1;33m     \u001b[0mwait\u001b[0m\u001b[1;33m.\u001b[0m\u001b[0muntil\u001b[0m\u001b[1;33m(\u001b[0m\u001b[0mEC\u001b[0m\u001b[1;33m.\u001b[0m\u001b[0mpresence_of_element_located\u001b[0m\u001b[1;33m(\u001b[0m\u001b[1;33m(\u001b[0m\u001b[0mBy\u001b[0m\u001b[1;33m.\u001b[0m\u001b[0mID\u001b[0m\u001b[1;33m,\u001b[0m \u001b[1;34m'content_left'\u001b[0m\u001b[1;33m)\u001b[0m\u001b[1;33m)\u001b[0m\u001b[1;33m)\u001b[0m\u001b[1;33m\u001b[0m\u001b[1;33m\u001b[0m\u001b[0m\n\u001b[0m\u001b[0;32m     15\u001b[0m     \u001b[0mprint\u001b[0m\u001b[1;33m(\u001b[0m\u001b[0mbrowser\u001b[0m\u001b[1;33m.\u001b[0m\u001b[0mcurrent_url\u001b[0m\u001b[1;33m)\u001b[0m\u001b[1;33m\u001b[0m\u001b[1;33m\u001b[0m\u001b[0m\n\u001b[0;32m     16\u001b[0m     \u001b[0mprint\u001b[0m\u001b[1;33m(\u001b[0m\u001b[0mbrowser\u001b[0m\u001b[1;33m.\u001b[0m\u001b[0mget_cookies\u001b[0m\u001b[1;33m(\u001b[0m\u001b[1;33m)\u001b[0m\u001b[1;33m)\u001b[0m\u001b[1;33m\u001b[0m\u001b[1;33m\u001b[0m\u001b[0m\n",
      "\u001b[1;32md:\\Software\\Anaconda3\\lib\\site-packages\\selenium\\webdriver\\support\\wait.py\u001b[0m in \u001b[0;36muntil\u001b[1;34m(self, method, message)\u001b[0m\n\u001b[0;32m     87\u001b[0m             \u001b[1;32mif\u001b[0m \u001b[0mtime\u001b[0m\u001b[1;33m.\u001b[0m\u001b[0mtime\u001b[0m\u001b[1;33m(\u001b[0m\u001b[1;33m)\u001b[0m \u001b[1;33m>\u001b[0m \u001b[0mend_time\u001b[0m\u001b[1;33m:\u001b[0m\u001b[1;33m\u001b[0m\u001b[1;33m\u001b[0m\u001b[0m\n\u001b[0;32m     88\u001b[0m                 \u001b[1;32mbreak\u001b[0m\u001b[1;33m\u001b[0m\u001b[1;33m\u001b[0m\u001b[0m\n\u001b[1;32m---> 89\u001b[1;33m         \u001b[1;32mraise\u001b[0m \u001b[0mTimeoutException\u001b[0m\u001b[1;33m(\u001b[0m\u001b[0mmessage\u001b[0m\u001b[1;33m,\u001b[0m \u001b[0mscreen\u001b[0m\u001b[1;33m,\u001b[0m \u001b[0mstacktrace\u001b[0m\u001b[1;33m)\u001b[0m\u001b[1;33m\u001b[0m\u001b[1;33m\u001b[0m\u001b[0m\n\u001b[0m\u001b[0;32m     90\u001b[0m \u001b[1;33m\u001b[0m\u001b[0m\n\u001b[0;32m     91\u001b[0m     \u001b[1;32mdef\u001b[0m \u001b[0muntil_not\u001b[0m\u001b[1;33m(\u001b[0m\u001b[0mself\u001b[0m\u001b[1;33m,\u001b[0m \u001b[0mmethod\u001b[0m\u001b[1;33m,\u001b[0m \u001b[0mmessage\u001b[0m\u001b[1;33m=\u001b[0m\u001b[1;34m''\u001b[0m\u001b[1;33m)\u001b[0m\u001b[1;33m:\u001b[0m\u001b[1;33m\u001b[0m\u001b[1;33m\u001b[0m\u001b[0m\n",
      "\u001b[1;31mTimeoutException\u001b[0m: Message: \nStacktrace:\nBacktrace:\n\tOrdinal0 [0x00CA6463+2188387]\n\tOrdinal0 [0x00C3E461+1762401]\n\tOrdinal0 [0x00B53D78+802168]\n\tOrdinal0 [0x00B81880+989312]\n\tOrdinal0 [0x00B81B1B+989979]\n\tOrdinal0 [0x00BAE912+1173778]\n\tOrdinal0 [0x00B9C824+1099812]\n\tOrdinal0 [0x00BACC22+1166370]\n\tOrdinal0 [0x00B9C5F6+1099254]\n\tOrdinal0 [0x00B76BE0+945120]\n\tOrdinal0 [0x00B77AD6+948950]\n\tGetHandleVerifier [0x00F471F2+2712546]\n\tGetHandleVerifier [0x00F3886D+2652765]\n\tGetHandleVerifier [0x00D3002A+520730]\n\tGetHandleVerifier [0x00D2EE06+516086]\n\tOrdinal0 [0x00C4468B+1787531]\n\tOrdinal0 [0x00C48E88+1805960]\n\tOrdinal0 [0x00C48F75+1806197]\n\tOrdinal0 [0x00C51DF1+1842673]\n\tBaseThreadInitThunk [0x76CC6739+25]\n\tRtlGetFullPathName_UEx [0x77C58FEF+1215]\n\tRtlGetFullPathName_UEx [0x77C58FBD+1165]\n"
     ]
    }
   ],
   "source": [
    "from selenium import webdriver\n",
    "from selenium.webdriver.common.by import By\n",
    "from selenium.webdriver.common.keys import Keys\n",
    "from selenium.webdriver.support import expected_conditions as EC\n",
    "from selenium.webdriver.support.wait import WebDriverWait\n",
    "\n",
    "browser = webdriver.Chrome()\n",
    "try:\n",
    "    browser.get('https://www.baidu.com')\n",
    "    input = browser.find_element_by_id('kw')\n",
    "    input.send_keys('Python')\n",
    "    input.send_keys(Keys.ENTER)\n",
    "    wait = WebDriverWait(browser, 10)\n",
    "    wait.until(EC.presence_of_element_located((By.ID, 'content_left')))\n",
    "    print(browser.current_url)\n",
    "    print(browser.get_cookies())\n",
    "    print(browser.page_source)\n",
    "finally:\n",
    "    browser.close()"
   ]
  },
  {
   "cell_type": "code",
   "execution_count": 13,
   "metadata": {},
   "outputs": [
    {
     "name": "stderr",
     "output_type": "stream",
     "text": [
      "C:\\Users\\m1595\\AppData\\Local\\Temp/ipykernel_18056/3304422104.py:5: DeprecationWarning: find_element_by_* commands are deprecated. Please use find_element() instead\n",
      "  input_first = browser.find_element_by_id('q')\n",
      "C:\\Users\\m1595\\AppData\\Local\\Temp/ipykernel_18056/3304422104.py:6: DeprecationWarning: find_element_by_* commands are deprecated. Please use find_element() instead\n",
      "  input_second = browser.find_element_by_css_selector('#q')\n",
      "C:\\Users\\m1595\\AppData\\Local\\Temp/ipykernel_18056/3304422104.py:7: DeprecationWarning: find_element_by_* commands are deprecated. Please use find_element() instead\n",
      "  input_third = browser.find_element_by_xpath('//*[@id=\"q\"]')\n"
     ]
    },
    {
     "name": "stdout",
     "output_type": "stream",
     "text": [
      "<selenium.webdriver.remote.webelement.WebElement (session=\"88692d31b00f739cd6f795c4c8235f05\", element=\"63e49e44-a326-4a83-8b6c-27604ac69729\")> <selenium.webdriver.remote.webelement.WebElement (session=\"88692d31b00f739cd6f795c4c8235f05\", element=\"63e49e44-a326-4a83-8b6c-27604ac69729\")> <selenium.webdriver.remote.webelement.WebElement (session=\"88692d31b00f739cd6f795c4c8235f05\", element=\"63e49e44-a326-4a83-8b6c-27604ac69729\")>\n"
     ]
    }
   ],
   "source": [
    "from selenium import webdriver\n",
    "\n",
    "browser = webdriver.Chrome()     # 浏览器对象初始化，并将其复制为 browser 对象\n",
    "browser.get('https://www.taobao.com')\n",
    "input_first = browser.find_element_by_id('q')                   # id\n",
    "input_second = browser.find_element_by_css_selector('#q')       # CSS 选择器\n",
    "input_third = browser.find_element_by_xpath('//*[@id=\"q\"]')     # XPath\n",
    "print(input_first, input_second, input_third)\n",
    "browser.close()"
   ]
  },
  {
   "cell_type": "code",
   "execution_count": null,
   "metadata": {},
   "outputs": [],
   "source": []
  }
 ],
 "metadata": {
  "kernelspec": {
   "display_name": "Python 3.9.7 ('base')",
   "language": "python",
   "name": "python3"
  },
  "language_info": {
   "codemirror_mode": {
    "name": "ipython",
    "version": 3
   },
   "file_extension": ".py",
   "mimetype": "text/x-python",
   "name": "python",
   "nbconvert_exporter": "python",
   "pygments_lexer": "ipython3",
   "version": "3.9.7"
  },
  "orig_nbformat": 4,
  "vscode": {
   "interpreter": {
    "hash": "6a018d3a992d78c184ccc94ab54168c7b26325ed3c2283926339c3edbf5487e7"
   }
  }
 },
 "nbformat": 4,
 "nbformat_minor": 2
}
