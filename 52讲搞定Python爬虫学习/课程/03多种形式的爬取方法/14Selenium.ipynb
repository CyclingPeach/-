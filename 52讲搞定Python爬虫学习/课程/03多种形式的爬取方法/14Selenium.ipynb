{
 "cells": [
  {
   "cell_type": "markdown",
   "metadata": {},
   "source": [
    "# 基础知识"
   ]
  },
  {
   "cell_type": "code",
   "execution_count": 5,
   "metadata": {},
   "outputs": [
    {
     "name": "stderr",
     "output_type": "stream",
     "text": [
      "C:\\Users\\m1595\\AppData\\Local\\Temp/ipykernel_18056/3719627981.py:10: DeprecationWarning: find_element_by_* commands are deprecated. Please use find_element() instead\n",
      "  input = browser.find_element_by_id('kw')\n"
     ]
    },
    {
     "ename": "TimeoutException",
     "evalue": "Message: \nStacktrace:\nBacktrace:\n\tOrdinal0 [0x00CA6463+2188387]\n\tOrdinal0 [0x00C3E461+1762401]\n\tOrdinal0 [0x00B53D78+802168]\n\tOrdinal0 [0x00B81880+989312]\n\tOrdinal0 [0x00B81B1B+989979]\n\tOrdinal0 [0x00BAE912+1173778]\n\tOrdinal0 [0x00B9C824+1099812]\n\tOrdinal0 [0x00BACC22+1166370]\n\tOrdinal0 [0x00B9C5F6+1099254]\n\tOrdinal0 [0x00B76BE0+945120]\n\tOrdinal0 [0x00B77AD6+948950]\n\tGetHandleVerifier [0x00F471F2+2712546]\n\tGetHandleVerifier [0x00F3886D+2652765]\n\tGetHandleVerifier [0x00D3002A+520730]\n\tGetHandleVerifier [0x00D2EE06+516086]\n\tOrdinal0 [0x00C4468B+1787531]\n\tOrdinal0 [0x00C48E88+1805960]\n\tOrdinal0 [0x00C48F75+1806197]\n\tOrdinal0 [0x00C51DF1+1842673]\n\tBaseThreadInitThunk [0x76CC6739+25]\n\tRtlGetFullPathName_UEx [0x77C58FEF+1215]\n\tRtlGetFullPathName_UEx [0x77C58FBD+1165]\n",
     "output_type": "error",
     "traceback": [
      "\u001b[1;31m---------------------------------------------------------------------------\u001b[0m",
      "\u001b[1;31mTimeoutException\u001b[0m                          Traceback (most recent call last)",
      "\u001b[1;32m~\\AppData\\Local\\Temp/ipykernel_18056/3719627981.py\u001b[0m in \u001b[0;36m<module>\u001b[1;34m\u001b[0m\n\u001b[0;32m     12\u001b[0m     \u001b[0minput\u001b[0m\u001b[1;33m.\u001b[0m\u001b[0msend_keys\u001b[0m\u001b[1;33m(\u001b[0m\u001b[0mKeys\u001b[0m\u001b[1;33m.\u001b[0m\u001b[0mENTER\u001b[0m\u001b[1;33m)\u001b[0m\u001b[1;33m\u001b[0m\u001b[1;33m\u001b[0m\u001b[0m\n\u001b[0;32m     13\u001b[0m     \u001b[0mwait\u001b[0m \u001b[1;33m=\u001b[0m \u001b[0mWebDriverWait\u001b[0m\u001b[1;33m(\u001b[0m\u001b[0mbrowser\u001b[0m\u001b[1;33m,\u001b[0m \u001b[1;36m10\u001b[0m\u001b[1;33m)\u001b[0m\u001b[1;33m\u001b[0m\u001b[1;33m\u001b[0m\u001b[0m\n\u001b[1;32m---> 14\u001b[1;33m     \u001b[0mwait\u001b[0m\u001b[1;33m.\u001b[0m\u001b[0muntil\u001b[0m\u001b[1;33m(\u001b[0m\u001b[0mEC\u001b[0m\u001b[1;33m.\u001b[0m\u001b[0mpresence_of_element_located\u001b[0m\u001b[1;33m(\u001b[0m\u001b[1;33m(\u001b[0m\u001b[0mBy\u001b[0m\u001b[1;33m.\u001b[0m\u001b[0mID\u001b[0m\u001b[1;33m,\u001b[0m \u001b[1;34m'content_left'\u001b[0m\u001b[1;33m)\u001b[0m\u001b[1;33m)\u001b[0m\u001b[1;33m)\u001b[0m\u001b[1;33m\u001b[0m\u001b[1;33m\u001b[0m\u001b[0m\n\u001b[0m\u001b[0;32m     15\u001b[0m     \u001b[0mprint\u001b[0m\u001b[1;33m(\u001b[0m\u001b[0mbrowser\u001b[0m\u001b[1;33m.\u001b[0m\u001b[0mcurrent_url\u001b[0m\u001b[1;33m)\u001b[0m\u001b[1;33m\u001b[0m\u001b[1;33m\u001b[0m\u001b[0m\n\u001b[0;32m     16\u001b[0m     \u001b[0mprint\u001b[0m\u001b[1;33m(\u001b[0m\u001b[0mbrowser\u001b[0m\u001b[1;33m.\u001b[0m\u001b[0mget_cookies\u001b[0m\u001b[1;33m(\u001b[0m\u001b[1;33m)\u001b[0m\u001b[1;33m)\u001b[0m\u001b[1;33m\u001b[0m\u001b[1;33m\u001b[0m\u001b[0m\n",
      "\u001b[1;32md:\\Software\\Anaconda3\\lib\\site-packages\\selenium\\webdriver\\support\\wait.py\u001b[0m in \u001b[0;36muntil\u001b[1;34m(self, method, message)\u001b[0m\n\u001b[0;32m     87\u001b[0m             \u001b[1;32mif\u001b[0m \u001b[0mtime\u001b[0m\u001b[1;33m.\u001b[0m\u001b[0mtime\u001b[0m\u001b[1;33m(\u001b[0m\u001b[1;33m)\u001b[0m \u001b[1;33m>\u001b[0m \u001b[0mend_time\u001b[0m\u001b[1;33m:\u001b[0m\u001b[1;33m\u001b[0m\u001b[1;33m\u001b[0m\u001b[0m\n\u001b[0;32m     88\u001b[0m                 \u001b[1;32mbreak\u001b[0m\u001b[1;33m\u001b[0m\u001b[1;33m\u001b[0m\u001b[0m\n\u001b[1;32m---> 89\u001b[1;33m         \u001b[1;32mraise\u001b[0m \u001b[0mTimeoutException\u001b[0m\u001b[1;33m(\u001b[0m\u001b[0mmessage\u001b[0m\u001b[1;33m,\u001b[0m \u001b[0mscreen\u001b[0m\u001b[1;33m,\u001b[0m \u001b[0mstacktrace\u001b[0m\u001b[1;33m)\u001b[0m\u001b[1;33m\u001b[0m\u001b[1;33m\u001b[0m\u001b[0m\n\u001b[0m\u001b[0;32m     90\u001b[0m \u001b[1;33m\u001b[0m\u001b[0m\n\u001b[0;32m     91\u001b[0m     \u001b[1;32mdef\u001b[0m \u001b[0muntil_not\u001b[0m\u001b[1;33m(\u001b[0m\u001b[0mself\u001b[0m\u001b[1;33m,\u001b[0m \u001b[0mmethod\u001b[0m\u001b[1;33m,\u001b[0m \u001b[0mmessage\u001b[0m\u001b[1;33m=\u001b[0m\u001b[1;34m''\u001b[0m\u001b[1;33m)\u001b[0m\u001b[1;33m:\u001b[0m\u001b[1;33m\u001b[0m\u001b[1;33m\u001b[0m\u001b[0m\n",
      "\u001b[1;31mTimeoutException\u001b[0m: Message: \nStacktrace:\nBacktrace:\n\tOrdinal0 [0x00CA6463+2188387]\n\tOrdinal0 [0x00C3E461+1762401]\n\tOrdinal0 [0x00B53D78+802168]\n\tOrdinal0 [0x00B81880+989312]\n\tOrdinal0 [0x00B81B1B+989979]\n\tOrdinal0 [0x00BAE912+1173778]\n\tOrdinal0 [0x00B9C824+1099812]\n\tOrdinal0 [0x00BACC22+1166370]\n\tOrdinal0 [0x00B9C5F6+1099254]\n\tOrdinal0 [0x00B76BE0+945120]\n\tOrdinal0 [0x00B77AD6+948950]\n\tGetHandleVerifier [0x00F471F2+2712546]\n\tGetHandleVerifier [0x00F3886D+2652765]\n\tGetHandleVerifier [0x00D3002A+520730]\n\tGetHandleVerifier [0x00D2EE06+516086]\n\tOrdinal0 [0x00C4468B+1787531]\n\tOrdinal0 [0x00C48E88+1805960]\n\tOrdinal0 [0x00C48F75+1806197]\n\tOrdinal0 [0x00C51DF1+1842673]\n\tBaseThreadInitThunk [0x76CC6739+25]\n\tRtlGetFullPathName_UEx [0x77C58FEF+1215]\n\tRtlGetFullPathName_UEx [0x77C58FBD+1165]\n"
     ]
    }
   ],
   "source": [
    "from selenium import webdriver\n",
    "from selenium.webdriver.common.by import By\n",
    "from selenium.webdriver.common.keys import Keys\n",
    "from selenium.webdriver.support import expected_conditions as EC\n",
    "from selenium.webdriver.support.wait import WebDriverWait\n",
    "\n",
    "browser = webdriver.Chrome()\n",
    "try:\n",
    "    browser.get('https://www.baidu.com')\n",
    "    input = browser.find_element_by_id('kw')\n",
    "    input.send_keys('Python')\n",
    "    input.send_keys(Keys.ENTER)\n",
    "    wait = WebDriverWait(browser, 10)\n",
    "    wait.until(EC.presence_of_element_located((By.ID, 'content_left')))\n",
    "    print(browser.current_url)\n",
    "    print(browser.get_cookies())\n",
    "    print(browser.page_source)\n",
    "finally:\n",
    "    browser.close()"
   ]
  },
  {
   "cell_type": "code",
   "execution_count": 13,
   "metadata": {},
   "outputs": [
    {
     "name": "stderr",
     "output_type": "stream",
     "text": [
      "C:\\Users\\m1595\\AppData\\Local\\Temp/ipykernel_18056/3304422104.py:5: DeprecationWarning: find_element_by_* commands are deprecated. Please use find_element() instead\n",
      "  input_first = browser.find_element_by_id('q')\n",
      "C:\\Users\\m1595\\AppData\\Local\\Temp/ipykernel_18056/3304422104.py:6: DeprecationWarning: find_element_by_* commands are deprecated. Please use find_element() instead\n",
      "  input_second = browser.find_element_by_css_selector('#q')\n",
      "C:\\Users\\m1595\\AppData\\Local\\Temp/ipykernel_18056/3304422104.py:7: DeprecationWarning: find_element_by_* commands are deprecated. Please use find_element() instead\n",
      "  input_third = browser.find_element_by_xpath('//*[@id=\"q\"]')\n"
     ]
    },
    {
     "name": "stdout",
     "output_type": "stream",
     "text": [
      "<selenium.webdriver.remote.webelement.WebElement (session=\"88692d31b00f739cd6f795c4c8235f05\", element=\"63e49e44-a326-4a83-8b6c-27604ac69729\")> <selenium.webdriver.remote.webelement.WebElement (session=\"88692d31b00f739cd6f795c4c8235f05\", element=\"63e49e44-a326-4a83-8b6c-27604ac69729\")> <selenium.webdriver.remote.webelement.WebElement (session=\"88692d31b00f739cd6f795c4c8235f05\", element=\"63e49e44-a326-4a83-8b6c-27604ac69729\")>\n"
     ]
    }
   ],
   "source": [
    "from selenium import webdriver\n",
    "\n",
    "browser = webdriver.Chrome()     # 浏览器对象初始化，并将其复制为 browser 对象\n",
    "browser.get('https://www.taobao.com')\n",
    "input_first = browser.find_element_by_id('q')                   # id\n",
    "input_second = browser.find_element_by_css_selector('#q')       # CSS 选择器\n",
    "input_third = browser.find_element_by_xpath('//*[@id=\"q\"]')     # XPath\n",
    "print(input_first, input_second, input_third)\n",
    "browser.close()"
   ]
  },
  {
   "cell_type": "markdown",
   "metadata": {},
   "source": [
    "> **获取单节点的所有方法**\n",
    "\n",
    "\n",
    "```Python\n",
    "find_element_by_id\n",
    "find_element_by_name\n",
    "find_element_by_xpath\n",
    "find_element_by_link_text\n",
    "find_element_by_partial_link_text\n",
    "find_element_by_tag_name\n",
    "find_element_by_class_name\n",
    "find_element_by_css_selector\n",
    "```"
   ]
  },
  {
   "cell_type": "code",
   "execution_count": 17,
   "metadata": {},
   "outputs": [
    {
     "name": "stderr",
     "output_type": "stream",
     "text": [
      "C:\\Users\\m1595\\AppData\\Local\\Temp/ipykernel_18056/473268246.py:7: DeprecationWarning: find_element_by_* commands are deprecated. Please use find_element() instead\n",
      "  input = browser.find_element_by_id('q')\n",
      "C:\\Users\\m1595\\AppData\\Local\\Temp/ipykernel_18056/473268246.py:12: DeprecationWarning: find_element_by_* commands are deprecated. Please use find_element() instead\n",
      "  button = browser.find_element_by_class_name('btn-search')\n"
     ]
    }
   ],
   "source": [
    "import time\n",
    "from selenium import webdriver\n",
    "\n",
    "browser = webdriver.Chrome()\n",
    "browser.get('https://www.taobao.com/')\n",
    "# lis = browser.find_elements_by_css_selector('.service-bd li')\n",
    "input = browser.find_element_by_id('q')\n",
    "input.send_keys('iPhone')\n",
    "time.sleep(1)\n",
    "input.clear()\n",
    "input.send_keys('iPad')\n",
    "button = browser.find_element_by_class_name('btn-search')\n",
    "button.click()"
   ]
  },
  {
   "cell_type": "markdown",
   "metadata": {},
   "source": [
    "> **拖曳操作**"
   ]
  },
  {
   "cell_type": "code",
   "execution_count": 20,
   "metadata": {},
   "outputs": [
    {
     "name": "stderr",
     "output_type": "stream",
     "text": [
      "C:\\Users\\m1595\\AppData\\Local\\Temp/ipykernel_18056/3165198215.py:10: DeprecationWarning: find_element_by_* commands are deprecated. Please use find_element() instead\n",
      "  source = browser.find_element_by_id('draggable')\n",
      "C:\\Users\\m1595\\AppData\\Local\\Temp/ipykernel_18056/3165198215.py:11: DeprecationWarning: find_element_by_* commands are deprecated. Please use find_element() instead\n",
      "  target = browser.find_element_by_id('droppable')\n"
     ]
    }
   ],
   "source": [
    "from selenium import webdriver\n",
    "from selenium.webdriver import ActionChains\n",
    "import time\n",
    "\n",
    "url = 'http://www.runoob.com/try/try.php?filename=jqueryui-api-droppable'\n",
    "browser = webdriver.Chrome()    # 初始化浏览器，并将其赋值给 browser\n",
    "browser.get(url)\n",
    "\n",
    "browser.switch_to.frame('iframeResult')\n",
    "source = browser.find_element_by_id('draggable')\n",
    "target = browser.find_element_by_id('droppable')\n",
    "\n",
    "actions = ActionChains(browser)\n",
    "actions.drag_and_drop(source, target)\n",
    "actions.perform()"
   ]
  },
  {
   "cell_type": "markdown",
   "metadata": {},
   "source": [
    "> **下拉进度条**"
   ]
  },
  {
   "cell_type": "code",
   "execution_count": 23,
   "metadata": {},
   "outputs": [],
   "source": [
    "from selenium import webdriver\n",
    "\n",
    "browser = webdriver.Chrome()\n",
    "browser.get('https://www.zhihu.com/explore')\n",
    "browser.execute_script('window.scrollTo(0, document.body.scrollHeight)')\n",
    "browser.execute_script('alert(\"拖到底了啊\")')"
   ]
  },
  {
   "cell_type": "code",
   "execution_count": 32,
   "metadata": {},
   "outputs": [
    {
     "name": "stderr",
     "output_type": "stream",
     "text": [
      "C:\\Users\\m1595\\AppData\\Local\\Temp/ipykernel_18056/3496197807.py:6: DeprecationWarning: find_element_by_* commands are deprecated. Please use find_element() instead\n",
      "  logo = browser.find_element_by_class_name('logo-image')\n"
     ]
    },
    {
     "name": "stdout",
     "output_type": "stream",
     "text": [
      "<selenium.webdriver.remote.webelement.WebElement (session=\"5de5a7cecf4cef2df5cda9958b1b1810\", element=\"c4589f68-ad4b-459e-a994-ce1d4cbf96ca\")>\n",
      "https://spa2.scrape.center/img/logo.a508a8f0.png\n"
     ]
    }
   ],
   "source": [
    "from selenium import webdriver\n",
    "\n",
    "browser = webdriver.Chrome()\n",
    "url = 'https://spa2.scrape.center/'\n",
    "browser.get(url)\n",
    "logo = browser.find_element_by_class_name('logo-image')\n",
    "print(logo)\n",
    "print(logo.get_attribute('src'))"
   ]
  },
  {
   "cell_type": "code",
   "execution_count": 34,
   "metadata": {},
   "outputs": [
    {
     "name": "stdout",
     "output_type": "stream",
     "text": [
      "Scrape\n"
     ]
    },
    {
     "name": "stderr",
     "output_type": "stream",
     "text": [
      "C:\\Users\\m1595\\AppData\\Local\\Temp/ipykernel_18056/2098326120.py:6: DeprecationWarning: find_element_by_* commands are deprecated. Please use find_element() instead\n",
      "  input = browser.find_element_by_class_name('logo-title')\n"
     ]
    }
   ],
   "source": [
    "from selenium import webdriver\n",
    "\n",
    "browser = webdriver.Chrome()\n",
    "url = 'https://spa2.scrape.center/'\n",
    "browser.get(url)\n",
    "input = browser.find_element_by_class_name('logo-title')\n",
    "print(input.text)"
   ]
  },
  {
   "cell_type": "code",
   "execution_count": 36,
   "metadata": {},
   "outputs": [
    {
     "name": "stderr",
     "output_type": "stream",
     "text": [
      "C:\\Users\\m1595\\AppData\\Local\\Temp/ipykernel_18056/1569011006.py:6: DeprecationWarning: find_element_by_* commands are deprecated. Please use find_element() instead\n",
      "  input = browser.find_element_by_class_name('logo-title')\n"
     ]
    },
    {
     "name": "stdout",
     "output_type": "stream",
     "text": [
      "0ac8f6e4-68e6-4787-b71b-e2d435acad92\n",
      "{'x': 182, 'y': 13}\n",
      "span\n",
      "{'height': 40, 'width': 77}\n"
     ]
    }
   ],
   "source": [
    "from selenium import webdriver\n",
    "\n",
    "browser = webdriver.Chrome()\n",
    "url = 'https://spa2.scrape.center/'\n",
    "browser.get(url)\n",
    "input = browser.find_element_by_class_name('logo-title')\n",
    "print(input.id)\n",
    "print(input.location)\n",
    "print(input.tag_name)\n",
    "print(input.size)"
   ]
  },
  {
   "cell_type": "code",
   "execution_count": 39,
   "metadata": {},
   "outputs": [
    {
     "name": "stderr",
     "output_type": "stream",
     "text": [
      "C:\\Users\\m1595\\AppData\\Local\\Temp/ipykernel_18056/3135946269.py:10: DeprecationWarning: find_element_by_* commands are deprecated. Please use find_element() instead\n",
      "  logo = browser.find_element_by_class_name('logo')\n",
      "C:\\Users\\m1595\\AppData\\Local\\Temp/ipykernel_18056/3135946269.py:14: DeprecationWarning: find_element_by_* commands are deprecated. Please use find_element() instead\n",
      "  logo = browser.find_element_by_class_name('logo')\n"
     ]
    },
    {
     "name": "stdout",
     "output_type": "stream",
     "text": [
      "No Logo\n",
      "<selenium.webdriver.remote.webelement.WebElement (session=\"80e2eb59b5373b4d717e1d80132e1588\", element=\"353a4bcf-c7f5-4ecd-846a-f92f99b75cd2\")>\n",
      "\n"
     ]
    }
   ],
   "source": [
    "import time\n",
    "from selenium import webdriver\n",
    "from selenium.common.exceptions import NoSuchElementException\n",
    "\n",
    "browser = webdriver.Chrome()\n",
    "url = 'http://www.runoob.com/try/try.php?filename=jqueryui-api-droppable'\n",
    "browser.get(url)\n",
    "browser.switch_to.frame('iframeResult')\n",
    "try:\n",
    "    logo = browser.find_element_by_class_name('logo')\n",
    "except:\n",
    "    print('No Logo')\n",
    "browser.switch_to.parent_frame()\n",
    "logo = browser.find_element_by_class_name('logo')\n",
    "print(logo)\n",
    "print(logo.text)"
   ]
  },
  {
   "cell_type": "code",
   "execution_count": 40,
   "metadata": {},
   "outputs": [
    {
     "name": "stderr",
     "output_type": "stream",
     "text": [
      "C:\\Users\\m1595\\AppData\\Local\\Temp/ipykernel_18056/1267235166.py:6: DeprecationWarning: find_element_by_* commands are deprecated. Please use find_element() instead\n",
      "  input = browser.find_element_by_class_name('logo-image')\n"
     ]
    },
    {
     "name": "stdout",
     "output_type": "stream",
     "text": [
      "<selenium.webdriver.remote.webelement.WebElement (session=\"676355f75c15c297138aa6d0dca11bcc\", element=\"c4732098-6bad-4a9c-b42a-1faa057e653a\")>\n"
     ]
    }
   ],
   "source": [
    "from selenium import webdriver\n",
    "\n",
    "browser = webdriver.Chrome()\n",
    "browser.implicitly_wait(10)\n",
    "browser.get('https://spa2.scrape.center/')\n",
    "input = browser.find_element_by_class_name('logo-image')\n",
    "print(input)"
   ]
  },
  {
   "cell_type": "code",
   "execution_count": 43,
   "metadata": {},
   "outputs": [
    {
     "name": "stdout",
     "output_type": "stream",
     "text": [
      "<selenium.webdriver.remote.webelement.WebElement (session=\"575c161418e63c895fb128b208b993b8\", element=\"bc34f403-eaaf-4401-b95b-e690c2a02bc9\")> <selenium.webdriver.remote.webelement.WebElement (session=\"575c161418e63c895fb128b208b993b8\", element=\"7e47004b-e205-40d3-bd3d-ec099cf85448\")>\n"
     ]
    }
   ],
   "source": [
    "from selenium import webdriver\n",
    "from selenium.webdriver.common.by import By\n",
    "from selenium.webdriver.support.ui import WebDriverWait\n",
    "from selenium.webdriver.support import expected_conditions as expected_conditions\n",
    "browser = webdriver.Chrome()\n",
    "browser.get('https://www.taobao.com/')\n",
    "# 引入 WebDriverWait 对象，指定最长等待时间\n",
    "wait = WebDriverWait(browser, 10)\n",
    "\n",
    "# 调用 until 方法，传入等待条件(expected_conditions)\n",
    "# 传入 presence_of_element_located 条件，代表节点出现\n",
    "input = wait.until(EC.presence_of_element_located((By.ID, 'q')))\n",
    "button = wait.until(EC.element_to_be_clickable((By.CSS_SELECTOR, '.btn-search')))\n",
    "print(input, button)"
   ]
  },
  {
   "cell_type": "code",
   "execution_count": 46,
   "metadata": {},
   "outputs": [],
   "source": [
    "import time\n",
    "from selenium import webdriver\n",
    "\n",
    "browser = webdriver.Chrome()\n",
    "browser.get('https://www.baidu.com')\n",
    "browser.get('https://www.taobao.com/')\n",
    "browser.get('https://www.python.org/')\n",
    "browser.back()\n",
    "time.sleep(1)\n",
    "browser.forward()\n",
    "browser.close()"
   ]
  },
  {
   "cell_type": "markdown",
   "metadata": {},
   "source": [
    "> **`Cookies`**"
   ]
  },
  {
   "cell_type": "code",
   "execution_count": 50,
   "metadata": {},
   "outputs": [
    {
     "name": "stdout",
     "output_type": "stream",
     "text": [
      "[{'domain': '.zhihu.com', 'expiry': 1657188682, 'httpOnly': False, 'name': 'ariaDefaultTheme', 'path': '/', 'secure': False, 'value': 'undefined'}, {'domain': '.zhihu.com', 'httpOnly': False, 'name': 'Hm_lpvt_98beee57fd2ef70ccdd5ca52b9740c49', 'path': '/', 'secure': False, 'value': '1656324682'}, {'domain': '.zhihu.com', 'expiry': 1687860682, 'httpOnly': False, 'name': 'Hm_lvt_98beee57fd2ef70ccdd5ca52b9740c49', 'path': '/', 'secure': False, 'value': '1656324682'}, {'domain': 'www.zhihu.com', 'httpOnly': False, 'name': 'KLBRSID', 'path': '/', 'secure': False, 'value': '57358d62405ef24305120316801fd92a|1656324693|1656324691'}, {'domain': '.zhihu.com', 'expiry': 1750932680, 'httpOnly': False, 'name': 'd_c0', 'path': '/', 'secure': False, 'value': '\"APBeDPE8KRWPTpTGgaw4TRk4Fr7NYfibknE=|1656324691\"'}, {'domain': '.zhihu.com', 'httpOnly': False, 'name': '_xsrf', 'path': '/', 'secure': False, 'value': '684d74cf-e8de-4b64-8f4d-3c97be8d799a'}, {'domain': '.zhihu.com', 'expiry': 1719396680, 'httpOnly': False, 'name': '_zap', 'path': '/', 'secure': False, 'value': '61ed5508-2112-440c-805b-e849be7aa3d6'}] \n",
      "\n",
      "[{'domain': '.www.zhihu.com', 'httpOnly': False, 'name': 'name', 'path': '/', 'secure': True, 'value': 'germey'}, {'domain': '.zhihu.com', 'expiry': 1657188682, 'httpOnly': False, 'name': 'ariaDefaultTheme', 'path': '/', 'secure': False, 'value': 'undefined'}, {'domain': '.zhihu.com', 'httpOnly': False, 'name': 'Hm_lpvt_98beee57fd2ef70ccdd5ca52b9740c49', 'path': '/', 'secure': False, 'value': '1656324682'}, {'domain': '.zhihu.com', 'expiry': 1687860682, 'httpOnly': False, 'name': 'Hm_lvt_98beee57fd2ef70ccdd5ca52b9740c49', 'path': '/', 'secure': False, 'value': '1656324682'}, {'domain': 'www.zhihu.com', 'httpOnly': False, 'name': 'KLBRSID', 'path': '/', 'secure': False, 'value': '57358d62405ef24305120316801fd92a|1656324693|1656324691'}, {'domain': '.zhihu.com', 'expiry': 1750932680, 'httpOnly': False, 'name': 'd_c0', 'path': '/', 'secure': False, 'value': '\"APBeDPE8KRWPTpTGgaw4TRk4Fr7NYfibknE=|1656324691\"'}, {'domain': '.zhihu.com', 'httpOnly': False, 'name': '_xsrf', 'path': '/', 'secure': False, 'value': '684d74cf-e8de-4b64-8f4d-3c97be8d799a'}, {'domain': '.zhihu.com', 'expiry': 1719396680, 'httpOnly': False, 'name': '_zap', 'path': '/', 'secure': False, 'value': '61ed5508-2112-440c-805b-e849be7aa3d6'}] \n",
      "\n",
      "[]\n"
     ]
    }
   ],
   "source": [
    "from selenium import webdriver\n",
    "\n",
    "browser = webdriver.Chrome()\n",
    "browser.get('https://www.zhihu.com/explore')\n",
    "print(browser.get_cookies(), '\\n')\n",
    "browser.add_cookie({'name':'name', 'domain':'www.zhihu.com', 'value':'germey'})\n",
    "print(browser.get_cookies(), '\\n')\n",
    "browser.delete_all_cookies()\n",
    "print(browser.get_cookies())"
   ]
  },
  {
   "cell_type": "code",
   "execution_count": 60,
   "metadata": {},
   "outputs": [
    {
     "name": "stdout",
     "output_type": "stream",
     "text": [
      "['CDwindow-4F05589701430A11F9C27CF8292FE135', 'CDwindow-0D683A755F55D646B0063AE6F37C9A65']\n"
     ]
    }
   ],
   "source": [
    "from selenium import webdriver\n",
    "\n",
    "browser = webdriver.Chrome()\n",
    "browser.get('https://www.baidu.com')\n",
    "browser.execute_script('window.open()')\n",
    "print(browser.window_handles)       # 获取当前开启的所有选项卡\n",
    "browser.switch_to.window(browser.window_handles[1])\n",
    "browser.get('https://www.taobao.com/')\n",
    "time.sleep(1)\n",
    "browser.switch_to.window(browser.window_handles[0])\n",
    "browser.get('https://python.org')\n",
    "time.sleep(1)\n",
    "browser.back()\n",
    "time.sleep(2)\n",
    "browser.close()"
   ]
  },
  {
   "cell_type": "code",
   "execution_count": 64,
   "metadata": {},
   "outputs": [
    {
     "name": "stderr",
     "output_type": "stream",
     "text": [
      "C:\\Users\\m1595\\AppData\\Local\\Temp/ipykernel_18056/2791946967.py:10: DeprecationWarning: find_element_by_* commands are deprecated. Please use find_element() instead\n",
      "  browser.find_element_by_id('hello')\n"
     ]
    },
    {
     "name": "stdout",
     "output_type": "stream",
     "text": [
      "No Element\n"
     ]
    }
   ],
   "source": [
    "from selenium import webdriver\n",
    "from selenium.common.exceptions import TimeoutException, NoSuchElementException\n",
    "browser = webdriver.Chrome()\n",
    "\n",
    "try:\n",
    "    browser.get('https://www.baidu.com/')\n",
    "except TimeoutException:\n",
    "    print('Time out')\n",
    "try:\n",
    "    browser.find_element_by_id('hello')\n",
    "except NoSuchElementException:\n",
    "    print('No Element')\n",
    "finally:\n",
    "    browser.close()"
   ]
  },
  {
   "cell_type": "code",
   "execution_count": 66,
   "metadata": {},
   "outputs": [
    {
     "data": {
      "text/plain": [
       "'<html lang=\"en\"><head><meta charset=\"utf-8\"><meta http-equiv=\"X-UA-Compatible\" content=\"IE=edge\"><meta name=\"viewport\" content=\"width=device-width,initial-scale=1\"><link rel=\"icon\" href=\"/favicon.ico\"><title>Scrape | Movie</title><link href=\"/css/chunk-0fe0faea.f99b79ea.css\" rel=\"prefetch\"><link href=\"/css/chunk-265df391.2d620ccd.css\" rel=\"prefetch\"><link href=\"/js/chunk-0fe0faea.e398db4f.js\" rel=\"prefetch\"><link href=\"/js/chunk-265df391.a705359a.js\" rel=\"prefetch\"><link href=\"/css/app.ea9d802a.css\" rel=\"preload\" as=\"style\"><link href=\"/js/app.4dcf2489.js\" rel=\"preload\" as=\"script\"><link href=\"/js/chunk-vendors.77daf991.js\" rel=\"preload\" as=\"script\"><link href=\"/css/app.ea9d802a.css\" rel=\"stylesheet\"><link rel=\"stylesheet\" type=\"text/css\" href=\"/css/chunk-265df391.2d620ccd.css\"><script charset=\"utf-8\" src=\"/js/chunk-265df391.a705359a.js\"></script></head><body><noscript><strong>We\\'re sorry but portal doesn\\'t work properly without JavaScript enabled. Please enable it to continue.</strong></noscript><div id=\"app\"><div data-v-74e8b908=\"\" class=\"el-row\" id=\"header\"><div data-v-74e8b908=\"\" class=\"container el-col el-col-18 el-col-offset-3\"><div data-v-74e8b908=\"\" class=\"el-row\"><div data-v-74e8b908=\"\" class=\"logo el-col el-col-4\"><a data-v-74e8b908=\"\" href=\"/\" class=\"router-link-exact-active router-link-active\"><img data-v-74e8b908=\"\" src=\"/img/logo.a508a8f0.png\" class=\"logo-image\"><span data-v-74e8b908=\"\" class=\"logo-title\">Scrape</span></a></div></div></div></div><div data-v-527ce99b=\"\" id=\"index\"><div data-v-527ce99b=\"\" class=\"el-row el-loading-parent--relative\"><div data-v-527ce99b=\"\" class=\"el-col el-col-18 el-col-offset-3\"></div><div class=\"el-loading-mask el-loading-fade-enter-active el-loading-fade-enter-to\" style=\"\"><div class=\"el-loading-spinner\"><svg viewBox=\"25 25 50 50\" class=\"circular\"><circle cx=\"50\" cy=\"50\" r=\"20\" fill=\"none\" class=\"path\"></circle></svg><!----></div></div></div><div data-v-527ce99b=\"\" class=\"el-row\"><div data-v-527ce99b=\"\" class=\"el-col el-col-10 el-col-offset-11\"><div data-v-527ce99b=\"\" class=\"pagination m-v-lg\"><div data-v-527ce99b=\"\" class=\"el-pagination is-background\"><!----><button type=\"button\" disabled=\"disabled\" class=\"btn-prev\"><i class=\"el-icon el-icon-arrow-left\"></i></button><ul class=\"el-pager\"><!----><!----><!----><!----></ul><button type=\"button\" class=\"btn-next\"><i class=\"el-icon el-icon-arrow-right\"></i></button></div></div></div></div></div></div><script src=\"/js/chunk-vendors.77daf991.js\"></script><script src=\"/js/app.4dcf2489.js\"></script></body></html>'"
      ]
     },
     "execution_count": 66,
     "metadata": {},
     "output_type": "execute_result"
    }
   ],
   "source": [
    "from selenium import webdriver\n",
    "from selenium.webdriver import ChromeOptions\n",
    "\n",
    "option = ChromeOptions()\n",
    "option.add_experimental_option('excludeSwitches', ['enable-automation'])\n",
    "option.add_experimental_option('useAutomationExtension', False)\n",
    "\n",
    "browser = webdriver.Chrome(options = option)\n",
    "\n",
    "browser.execute_cdp_cmd('Page.addScriptToEvaluateOnNewDocument', {'source':'Object.defineProperty(navigator, \"webdriver\", {get: () => undefined})'})\n",
    "\n",
    "browser.get('https://antispider1.scrape.center/')\n",
    "browser.page_source"
   ]
  },
  {
   "cell_type": "code",
   "execution_count": 70,
   "metadata": {},
   "outputs": [
    {
     "data": {
      "text/plain": [
       "True"
      ]
     },
     "execution_count": 70,
     "metadata": {},
     "output_type": "execute_result"
    }
   ],
   "source": [
    "from selenium import webdriver\n",
    "\n",
    "options = webdriver.ChromeOptions()\n",
    "# 开启无头模式 —— 在 add_argument 方法中添加一个参数 --headless\n",
    "options.add_argument('--headless')\n",
    "\n",
    "browser = webdriver.Chrome(options = options)\n",
    "browser.set_window_size(1920, 1080)\n",
    "browser.get('https://www.baidu.com')\n",
    "browser.get_screenshot_as_file('preview.png')"
   ]
  },
  {
   "cell_type": "markdown",
   "metadata": {},
   "source": [
    "# 案例\n",
    "\n",
    "```Python\n",
    "url = 'https://dynamic2.scrape.cuiqingcai.com/'\n",
    "```"
   ]
  },
  {
   "cell_type": "code",
   "execution_count": 71,
   "metadata": {},
   "outputs": [],
   "source": [
    "from selenium import webdriver\n",
    "from selenium.common.exceptions import TimeoutException\n",
    "from selenium.webdriver.common.by import By\n",
    "from selenium.webdriver.support import expected_conditions as EC\n",
    "from selenium.webdriver.support.wait import WebDriverWait\n",
    "import logging\n",
    "\n",
    "logging.basicConfig(level=logging.INFO, format='%(asctime)s - %(levelname)s: %(message)s')\n",
    "\n",
    "INDEX_URL = 'https://spa1.scrape.center/page/{page}'\n",
    "TIME_OUT = 10\n",
    "TOTAL_PAGE = 10\n",
    "\n",
    "browser = webdriver.Chrome()\n",
    "wait = WebDriverWait(browser, TIME_OUT)"
   ]
  },
  {
   "cell_type": "code",
   "execution_count": 79,
   "metadata": {},
   "outputs": [
    {
     "name": "stderr",
     "output_type": "stream",
     "text": [
      "2022-06-28 21:00:28,712 - INFO: scraping https://spa1.scrape.center/page/1\n",
      "C:\\Users\\m1595\\AppData\\Local\\Temp/ipykernel_18056/2729636836.py:33: DeprecationWarning: find_element_by_* commands are deprecated. Please use find_element() instead\n",
      "  elements = browser.find_element_by_css_selector('#index .item .name')\n"
     ]
    },
    {
     "ename": "NoSuchElementException",
     "evalue": "Message: no such element: Unable to locate element: {\"method\":\"css selector\",\"selector\":\"#index .item .name\"}\n  (Session info: chrome=103.0.5060.53)\nStacktrace:\nBacktrace:\n\tOrdinal0 [0x00CA6463+2188387]\n\tOrdinal0 [0x00C3E461+1762401]\n\tOrdinal0 [0x00B53D78+802168]\n\tOrdinal0 [0x00B81880+989312]\n\tOrdinal0 [0x00B81B1B+989979]\n\tOrdinal0 [0x00BAE912+1173778]\n\tOrdinal0 [0x00B9C824+1099812]\n\tOrdinal0 [0x00BACC22+1166370]\n\tOrdinal0 [0x00B9C5F6+1099254]\n\tOrdinal0 [0x00B76BE0+945120]\n\tOrdinal0 [0x00B77AD6+948950]\n\tGetHandleVerifier [0x00F471F2+2712546]\n\tGetHandleVerifier [0x00F3886D+2652765]\n\tGetHandleVerifier [0x00D3002A+520730]\n\tGetHandleVerifier [0x00D2EE06+516086]\n\tOrdinal0 [0x00C4468B+1787531]\n\tOrdinal0 [0x00C48E88+1805960]\n\tOrdinal0 [0x00C48F75+1806197]\n\tOrdinal0 [0x00C51DF1+1842673]\n\tBaseThreadInitThunk [0x76CC6739+25]\n\tRtlGetFullPathName_UEx [0x77C58FEF+1215]\n\tRtlGetFullPathName_UEx [0x77C58FBD+1165]\n",
     "output_type": "error",
     "traceback": [
      "\u001b[1;31m---------------------------------------------------------------------------\u001b[0m",
      "\u001b[1;31mNoSuchElementException\u001b[0m                    Traceback (most recent call last)",
      "\u001b[1;32m~\\AppData\\Local\\Temp/ipykernel_18056/2729636836.py\u001b[0m in \u001b[0;36m<module>\u001b[1;34m\u001b[0m\n\u001b[0;32m     87\u001b[0m \u001b[1;33m\u001b[0m\u001b[0m\n\u001b[0;32m     88\u001b[0m \u001b[1;32mif\u001b[0m \u001b[0m__name__\u001b[0m \u001b[1;33m==\u001b[0m \u001b[1;34m'__main__'\u001b[0m\u001b[1;33m:\u001b[0m\u001b[1;33m\u001b[0m\u001b[1;33m\u001b[0m\u001b[0m\n\u001b[1;32m---> 89\u001b[1;33m     \u001b[0mmain\u001b[0m\u001b[1;33m(\u001b[0m\u001b[1;33m)\u001b[0m\u001b[1;33m\u001b[0m\u001b[1;33m\u001b[0m\u001b[0m\n\u001b[0m",
      "\u001b[1;32m~\\AppData\\Local\\Temp/ipykernel_18056/2729636836.py\u001b[0m in \u001b[0;36mmain\u001b[1;34m()\u001b[0m\n\u001b[0;32m     77\u001b[0m             \u001b[0mscrape_index\u001b[0m\u001b[1;33m(\u001b[0m\u001b[0mpage\u001b[0m\u001b[1;33m)\u001b[0m\u001b[1;33m\u001b[0m\u001b[1;33m\u001b[0m\u001b[0m\n\u001b[0;32m     78\u001b[0m             \u001b[0mdetail_urls\u001b[0m \u001b[1;33m=\u001b[0m \u001b[0mparse_index\u001b[0m\u001b[1;33m(\u001b[0m\u001b[1;33m)\u001b[0m\u001b[1;33m\u001b[0m\u001b[1;33m\u001b[0m\u001b[0m\n\u001b[1;32m---> 79\u001b[1;33m             \u001b[1;32mfor\u001b[0m \u001b[0mdetail_url\u001b[0m \u001b[1;32min\u001b[0m \u001b[0mlist\u001b[0m\u001b[1;33m(\u001b[0m\u001b[0mdetail_urls\u001b[0m\u001b[1;33m)\u001b[0m\u001b[1;33m:\u001b[0m\u001b[1;33m\u001b[0m\u001b[1;33m\u001b[0m\u001b[0m\n\u001b[0m\u001b[0;32m     80\u001b[0m                 \u001b[0mlogging\u001b[0m\u001b[1;33m.\u001b[0m\u001b[0minfo\u001b[0m\u001b[1;33m(\u001b[0m\u001b[1;34m'Details urls %s'\u001b[0m\u001b[1;33m,\u001b[0m \u001b[0mdetail_url\u001b[0m\u001b[1;33m)\u001b[0m\u001b[1;33m\u001b[0m\u001b[1;33m\u001b[0m\u001b[0m\n\u001b[0;32m     81\u001b[0m                 \u001b[0mscrape_detail\u001b[0m\u001b[1;33m(\u001b[0m\u001b[0mdetail_url\u001b[0m\u001b[1;33m)\u001b[0m\u001b[1;33m\u001b[0m\u001b[1;33m\u001b[0m\u001b[0m\n",
      "\u001b[1;32m~\\AppData\\Local\\Temp/ipykernel_18056/2729636836.py\u001b[0m in \u001b[0;36mparse_index\u001b[1;34m()\u001b[0m\n\u001b[0;32m     31\u001b[0m \u001b[1;33m\u001b[0m\u001b[0m\n\u001b[0;32m     32\u001b[0m \u001b[1;32mdef\u001b[0m \u001b[0mparse_index\u001b[0m\u001b[1;33m(\u001b[0m\u001b[1;33m)\u001b[0m\u001b[1;33m:\u001b[0m\u001b[1;33m\u001b[0m\u001b[1;33m\u001b[0m\u001b[0m\n\u001b[1;32m---> 33\u001b[1;33m     \u001b[0melements\u001b[0m \u001b[1;33m=\u001b[0m \u001b[0mbrowser\u001b[0m\u001b[1;33m.\u001b[0m\u001b[0mfind_element_by_css_selector\u001b[0m\u001b[1;33m(\u001b[0m\u001b[1;34m'#index .item .name'\u001b[0m\u001b[1;33m)\u001b[0m\u001b[1;33m\u001b[0m\u001b[1;33m\u001b[0m\u001b[0m\n\u001b[0m\u001b[0;32m     34\u001b[0m     \u001b[1;32mfor\u001b[0m \u001b[0melement\u001b[0m \u001b[1;32min\u001b[0m \u001b[0melements\u001b[0m\u001b[1;33m:\u001b[0m\u001b[1;33m\u001b[0m\u001b[1;33m\u001b[0m\u001b[0m\n\u001b[0;32m     35\u001b[0m         \u001b[0mhref\u001b[0m \u001b[1;33m=\u001b[0m \u001b[0melement\u001b[0m\u001b[1;33m.\u001b[0m\u001b[0mget_attribute\u001b[0m\u001b[1;33m(\u001b[0m\u001b[1;34m'href'\u001b[0m\u001b[1;33m)\u001b[0m\u001b[1;33m\u001b[0m\u001b[1;33m\u001b[0m\u001b[0m\n",
      "\u001b[1;32md:\\Software\\Anaconda3\\lib\\site-packages\\selenium\\webdriver\\remote\\webdriver.py\u001b[0m in \u001b[0;36mfind_element_by_css_selector\u001b[1;34m(self, css_selector)\u001b[0m\n\u001b[0;32m    806\u001b[0m             \u001b[0mstacklevel\u001b[0m\u001b[1;33m=\u001b[0m\u001b[1;36m2\u001b[0m\u001b[1;33m,\u001b[0m\u001b[1;33m\u001b[0m\u001b[1;33m\u001b[0m\u001b[0m\n\u001b[0;32m    807\u001b[0m         )\n\u001b[1;32m--> 808\u001b[1;33m         \u001b[1;32mreturn\u001b[0m \u001b[0mself\u001b[0m\u001b[1;33m.\u001b[0m\u001b[0mfind_element\u001b[0m\u001b[1;33m(\u001b[0m\u001b[0mby\u001b[0m\u001b[1;33m=\u001b[0m\u001b[0mBy\u001b[0m\u001b[1;33m.\u001b[0m\u001b[0mCSS_SELECTOR\u001b[0m\u001b[1;33m,\u001b[0m \u001b[0mvalue\u001b[0m\u001b[1;33m=\u001b[0m\u001b[0mcss_selector\u001b[0m\u001b[1;33m)\u001b[0m\u001b[1;33m\u001b[0m\u001b[1;33m\u001b[0m\u001b[0m\n\u001b[0m\u001b[0;32m    809\u001b[0m \u001b[1;33m\u001b[0m\u001b[0m\n\u001b[0;32m    810\u001b[0m     \u001b[1;32mdef\u001b[0m \u001b[0mfind_elements_by_css_selector\u001b[0m\u001b[1;33m(\u001b[0m\u001b[0mself\u001b[0m\u001b[1;33m,\u001b[0m \u001b[0mcss_selector\u001b[0m\u001b[1;33m)\u001b[0m \u001b[1;33m->\u001b[0m \u001b[0mWebElement\u001b[0m\u001b[1;33m:\u001b[0m\u001b[1;33m\u001b[0m\u001b[1;33m\u001b[0m\u001b[0m\n",
      "\u001b[1;32md:\\Software\\Anaconda3\\lib\\site-packages\\selenium\\webdriver\\remote\\webdriver.py\u001b[0m in \u001b[0;36mfind_element\u001b[1;34m(self, by, value)\u001b[0m\n\u001b[0;32m   1242\u001b[0m             \u001b[0mvalue\u001b[0m \u001b[1;33m=\u001b[0m \u001b[1;34m'[name=\"%s\"]'\u001b[0m \u001b[1;33m%\u001b[0m \u001b[0mvalue\u001b[0m\u001b[1;33m\u001b[0m\u001b[1;33m\u001b[0m\u001b[0m\n\u001b[0;32m   1243\u001b[0m \u001b[1;33m\u001b[0m\u001b[0m\n\u001b[1;32m-> 1244\u001b[1;33m         return self.execute(Command.FIND_ELEMENT, {\n\u001b[0m\u001b[0;32m   1245\u001b[0m             \u001b[1;34m'using'\u001b[0m\u001b[1;33m:\u001b[0m \u001b[0mby\u001b[0m\u001b[1;33m,\u001b[0m\u001b[1;33m\u001b[0m\u001b[1;33m\u001b[0m\u001b[0m\n\u001b[0;32m   1246\u001b[0m             'value': value})['value']\n",
      "\u001b[1;32md:\\Software\\Anaconda3\\lib\\site-packages\\selenium\\webdriver\\remote\\webdriver.py\u001b[0m in \u001b[0;36mexecute\u001b[1;34m(self, driver_command, params)\u001b[0m\n\u001b[0;32m    422\u001b[0m         \u001b[0mresponse\u001b[0m \u001b[1;33m=\u001b[0m \u001b[0mself\u001b[0m\u001b[1;33m.\u001b[0m\u001b[0mcommand_executor\u001b[0m\u001b[1;33m.\u001b[0m\u001b[0mexecute\u001b[0m\u001b[1;33m(\u001b[0m\u001b[0mdriver_command\u001b[0m\u001b[1;33m,\u001b[0m \u001b[0mparams\u001b[0m\u001b[1;33m)\u001b[0m\u001b[1;33m\u001b[0m\u001b[1;33m\u001b[0m\u001b[0m\n\u001b[0;32m    423\u001b[0m         \u001b[1;32mif\u001b[0m \u001b[0mresponse\u001b[0m\u001b[1;33m:\u001b[0m\u001b[1;33m\u001b[0m\u001b[1;33m\u001b[0m\u001b[0m\n\u001b[1;32m--> 424\u001b[1;33m             \u001b[0mself\u001b[0m\u001b[1;33m.\u001b[0m\u001b[0merror_handler\u001b[0m\u001b[1;33m.\u001b[0m\u001b[0mcheck_response\u001b[0m\u001b[1;33m(\u001b[0m\u001b[0mresponse\u001b[0m\u001b[1;33m)\u001b[0m\u001b[1;33m\u001b[0m\u001b[1;33m\u001b[0m\u001b[0m\n\u001b[0m\u001b[0;32m    425\u001b[0m             response['value'] = self._unwrap_value(\n\u001b[0;32m    426\u001b[0m                 response.get('value', None))\n",
      "\u001b[1;32md:\\Software\\Anaconda3\\lib\\site-packages\\selenium\\webdriver\\remote\\errorhandler.py\u001b[0m in \u001b[0;36mcheck_response\u001b[1;34m(self, response)\u001b[0m\n\u001b[0;32m    245\u001b[0m                 \u001b[0malert_text\u001b[0m \u001b[1;33m=\u001b[0m \u001b[0mvalue\u001b[0m\u001b[1;33m[\u001b[0m\u001b[1;34m'alert'\u001b[0m\u001b[1;33m]\u001b[0m\u001b[1;33m.\u001b[0m\u001b[0mget\u001b[0m\u001b[1;33m(\u001b[0m\u001b[1;34m'text'\u001b[0m\u001b[1;33m)\u001b[0m\u001b[1;33m\u001b[0m\u001b[1;33m\u001b[0m\u001b[0m\n\u001b[0;32m    246\u001b[0m             \u001b[1;32mraise\u001b[0m \u001b[0mexception_class\u001b[0m\u001b[1;33m(\u001b[0m\u001b[0mmessage\u001b[0m\u001b[1;33m,\u001b[0m \u001b[0mscreen\u001b[0m\u001b[1;33m,\u001b[0m \u001b[0mstacktrace\u001b[0m\u001b[1;33m,\u001b[0m \u001b[0malert_text\u001b[0m\u001b[1;33m)\u001b[0m  \u001b[1;31m# type: ignore[call-arg]  # mypy is not smart enough here\u001b[0m\u001b[1;33m\u001b[0m\u001b[1;33m\u001b[0m\u001b[0m\n\u001b[1;32m--> 247\u001b[1;33m         \u001b[1;32mraise\u001b[0m \u001b[0mexception_class\u001b[0m\u001b[1;33m(\u001b[0m\u001b[0mmessage\u001b[0m\u001b[1;33m,\u001b[0m \u001b[0mscreen\u001b[0m\u001b[1;33m,\u001b[0m \u001b[0mstacktrace\u001b[0m\u001b[1;33m)\u001b[0m\u001b[1;33m\u001b[0m\u001b[1;33m\u001b[0m\u001b[0m\n\u001b[0m\u001b[0;32m    248\u001b[0m \u001b[1;33m\u001b[0m\u001b[0m\n\u001b[0;32m    249\u001b[0m     \u001b[1;32mdef\u001b[0m \u001b[0m_value_or_default\u001b[0m\u001b[1;33m(\u001b[0m\u001b[0mself\u001b[0m\u001b[1;33m,\u001b[0m \u001b[0mobj\u001b[0m\u001b[1;33m:\u001b[0m \u001b[0mMapping\u001b[0m\u001b[1;33m[\u001b[0m\u001b[0m_KT\u001b[0m\u001b[1;33m,\u001b[0m \u001b[0m_VT\u001b[0m\u001b[1;33m]\u001b[0m\u001b[1;33m,\u001b[0m \u001b[0mkey\u001b[0m\u001b[1;33m:\u001b[0m \u001b[0m_KT\u001b[0m\u001b[1;33m,\u001b[0m \u001b[0mdefault\u001b[0m\u001b[1;33m:\u001b[0m \u001b[0m_VT\u001b[0m\u001b[1;33m)\u001b[0m \u001b[1;33m->\u001b[0m \u001b[0m_VT\u001b[0m\u001b[1;33m:\u001b[0m\u001b[1;33m\u001b[0m\u001b[1;33m\u001b[0m\u001b[0m\n",
      "\u001b[1;31mNoSuchElementException\u001b[0m: Message: no such element: Unable to locate element: {\"method\":\"css selector\",\"selector\":\"#index .item .name\"}\n  (Session info: chrome=103.0.5060.53)\nStacktrace:\nBacktrace:\n\tOrdinal0 [0x00CA6463+2188387]\n\tOrdinal0 [0x00C3E461+1762401]\n\tOrdinal0 [0x00B53D78+802168]\n\tOrdinal0 [0x00B81880+989312]\n\tOrdinal0 [0x00B81B1B+989979]\n\tOrdinal0 [0x00BAE912+1173778]\n\tOrdinal0 [0x00B9C824+1099812]\n\tOrdinal0 [0x00BACC22+1166370]\n\tOrdinal0 [0x00B9C5F6+1099254]\n\tOrdinal0 [0x00B76BE0+945120]\n\tOrdinal0 [0x00B77AD6+948950]\n\tGetHandleVerifier [0x00F471F2+2712546]\n\tGetHandleVerifier [0x00F3886D+2652765]\n\tGetHandleVerifier [0x00D3002A+520730]\n\tGetHandleVerifier [0x00D2EE06+516086]\n\tOrdinal0 [0x00C4468B+1787531]\n\tOrdinal0 [0x00C48E88+1805960]\n\tOrdinal0 [0x00C48F75+1806197]\n\tOrdinal0 [0x00C51DF1+1842673]\n\tBaseThreadInitThunk [0x76CC6739+25]\n\tRtlGetFullPathName_UEx [0x77C58FEF+1215]\n\tRtlGetFullPathName_UEx [0x77C58FBD+1165]\n"
     ]
    }
   ],
   "source": [
    "from selenium import webdriver\n",
    "from selenium.common.exceptions import TimeoutException\n",
    "from selenium.webdriver.common.by import By\n",
    "from selenium.webdriver.support import expected_conditions as EC\n",
    "from selenium.webdriver.support.wait import WebDriverWait\n",
    "import logging\n",
    "\n",
    "logging.basicConfig(level=logging.INFO, format='%(asctime)s - %(levelname)s: %(message)s')\n",
    "\n",
    "INDEX_URL = 'https://spa1.scrape.center/page/{page}'\n",
    "TIME_OUT = 10\n",
    "TOTAL_PAGE = 10\n",
    "\n",
    "browser = webdriver.Chrome()\n",
    "wait = WebDriverWait(browser, TIME_OUT)\n",
    "\n",
    "def scrape_page(url, condition, locator):\n",
    "    logging.info('scraping %s', url)\n",
    "    try:\n",
    "        browser.get(url)\n",
    "        wait.until(condition(locator))\n",
    "    except TimeoutException:\n",
    "        logging.error('Error occured while scrape %s', url, exc_info=True)\n",
    "\n",
    "def scrape_index(page):\n",
    "    url = INDEX_URL.format(page = page)\n",
    "    scrape_page(url, condition=EC.visibility_of_all_elements_located,     # 代表所有的节点都要加载出来算成功\n",
    "                locator = (By.CSS_SELECTOR, '#index .item'))\n",
    "\n",
    "from urllib.parse import urljoin\n",
    "\n",
    "def parse_index():\n",
    "    elements = browser.find_element_by_css_selector('#index .item .name')\n",
    "    for element in elements:\n",
    "        href = element.get_attribute('href')\n",
    "        yield urljoin(INDEX_URL, href)\n",
    "\n",
    "def scrape_detail(url):\n",
    "    scrape_page(url, condition=EC.visibility_of_element_located, locator=(By.TAG_NAME, 'h2'))\n",
    "    \n",
    "def parse_detail():\n",
    "    url = browser.current_url\n",
    "    name = browser.find_element_by_tag_name('h2').text\n",
    "    categories = [element.text for element in browser.find_elements_by_css_selector('.categories button span')]\n",
    "    cover = browser.find_element_by_css_selector('.cover').get_attribute('src')\n",
    "    score = browser.find_element_by_class_name('score').text\n",
    "    drama = browser.find_element_by_css_selector('.dramp p').text\n",
    "    \n",
    "    return {\n",
    "        'url':url,\n",
    "        'name':name,\n",
    "        'categories':categories,\n",
    "        'cover':cover,\n",
    "        'score':score,\n",
    "        'drama':drama        \n",
    "    }\n",
    "\n",
    "### 数据存储\n",
    "from os import makedirs\n",
    "from os.path import exists\n",
    "\n",
    "RESULTS_DIR = 'results'\n",
    "\n",
    "exists(RESULTS_DIR) or makedirs(RESULTS_DIR)\n",
    "\n",
    "def save_data(data):\n",
    "    name = data.get('name')\n",
    "    data_path = f'{RESULTS_DIR}/{name}.json'\n",
    "    json.dump(data, open(data_path, 'w', encoding='utf-8'), ensure_ascii=False, indent=2)\n",
    "    \n",
    "\n",
    "\n",
    "### 汇总\n",
    "def main():\n",
    "    try:\n",
    "        for page in range(1, TOTAL_PAGE + 1):\n",
    "            scrape_index(page)\n",
    "            detail_urls = parse_index()\n",
    "            for detail_url in list(detail_urls):\n",
    "                logging.info('Details urls %s', detail_url)\n",
    "                scrape_detail(detail_url)\n",
    "                detail_data = parse_detail()\n",
    "                logging.info('detail data %s', detail_data)\n",
    "                save_data(detail_data)\n",
    "    finally:\n",
    "        browser.close()\n",
    "\n",
    "if __name__ == '__main__':\n",
    "    main()"
   ]
  },
  {
   "cell_type": "markdown",
   "metadata": {},
   "source": []
  }
 ],
 "metadata": {
  "kernelspec": {
   "display_name": "Python 3.9.7 ('base')",
   "language": "python",
   "name": "python3"
  },
  "language_info": {
   "codemirror_mode": {
    "name": "ipython",
    "version": 3
   },
   "file_extension": ".py",
   "mimetype": "text/x-python",
   "name": "python",
   "nbconvert_exporter": "python",
   "pygments_lexer": "ipython3",
   "version": "3.9.7"
  },
  "orig_nbformat": 4,
  "vscode": {
   "interpreter": {
    "hash": "6a018d3a992d78c184ccc94ab54168c7b26325ed3c2283926339c3edbf5487e7"
   }
  }
 },
 "nbformat": 4,
 "nbformat_minor": 2
}
