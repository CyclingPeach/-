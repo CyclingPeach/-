{
 "cells": [
  {
   "cell_type": "markdown",
   "metadata": {},
   "source": [
    "# 说明\n",
    "\n",
    "- 对应[【2022 年】崔庆才 Python3 网络爬虫学习教程](https://cuiqingcai.com/17777.html) 中的 \"异步爬虫和模拟登录-协程的基本原理\"\n",
    "- 对应 \"52讲视频\" 模块三-第16讲：异步爬虫的原理和解析"
   ]
  },
  {
   "cell_type": "markdown",
   "metadata": {},
   "source": [
    "# 笔记"
   ]
  },
  {
   "cell_type": "markdown",
   "metadata": {},
   "source": [
    "- 爬虫是 IO 密集型任务\n",
    "\n",
    "使用 requests 库来爬取某个站点的话，发出一个请求之后，程序必须要等待网站返回响应之后才能接着运行，而在  **等待响应的过程** 中，整个爬虫程序是一直在等待的，实际上没有做任何事情。对于这种情况，我们有没有优化方案呢？"
   ]
  },
  {
   "cell_type": "code",
   "execution_count": null,
   "metadata": {},
   "outputs": [],
   "source": [
    "url = 'https://static4.scrape.cuiqingcai.com/'"
   ]
  },
  {
   "cell_type": "code",
   "execution_count": 2,
   "metadata": {},
   "outputs": [],
   "source": [
    "from time import sleep\n",
    "import requests\n",
    "from selenium import webdriver\n",
    "\n",
    "url = 'https://httpbin.org/delay/5'\n",
    "\n",
    "browser = webdriver.Chrome()\n",
    "browser.get(url)\n",
    "sleep(2)\n",
    "browser.close()\n"
   ]
  },
  {
   "cell_type": "code",
   "execution_count": 4,
   "metadata": {},
   "outputs": [
    {
     "name": "stdout",
     "output_type": "stream",
     "text": [
      "200\n"
     ]
    }
   ],
   "source": [
    "proxies={\n",
    "    'http': 'http://127.0.0.1:7890',\n",
    "    'https': 'http://127.0.0.1:7890'  # https -> http\n",
    "}\n",
    "\n",
    "r = requests.get(url, proxies=proxies)\n",
    "print(r.status_code)"
   ]
  },
  {
   "cell_type": "code",
   "execution_count": 27,
   "metadata": {},
   "outputs": [
    {
     "name": "stderr",
     "output_type": "stream",
     "text": [
      "2022-06-30 15:56:43,534 - INFO: scraping https://httpbin.org/delay/5\n",
      "2022-06-30 15:56:50,038 - INFO: scraping https://httpbin.org/delay/5\n",
      "2022-06-30 15:56:56,173 - INFO: scraping https://httpbin.org/delay/5\n",
      "2022-06-30 15:57:02,280 - INFO: total time 18.746297597885132 second\n"
     ]
    }
   ],
   "source": [
    "import requests\n",
    "import logging\n",
    "import time\n",
    "\n",
    "logging.basicConfig(level = logging.INFO,\n",
    "                    format='%(asctime)s - %(levelname)s: %(message)s')\n",
    "\n",
    "proxies={\n",
    "    'http': 'http://127.0.0.1:7890',\n",
    "    'https': 'http://127.0.0.1:7890'  # https -> http\n",
    "}\n",
    "\n",
    "TOTAL_NUMBER = 1\n",
    "URL = 'https://httpbin.org/delay/5'\n",
    "\n",
    "start_time = time.time()    # 什么意思——返回当前时间的时间戳（1970纪元后经过的浮点秒数）\n",
    "for i in range(1, TOTAL_NUMBER + 1):    # 1~3\n",
    "    logging.info('scraping %s', URL)\n",
    "    response = requests.get(URL, proxies=proxies)\n",
    "end_time = time.time()\n",
    "logging.info('total time %s second', end_time - start_time)"
   ]
  },
  {
   "cell_type": "markdown",
   "metadata": {},
   "source": [
    "> [Python time time()方法](https://www.runoob.com/python/att-time-time.html)\n",
    "\n",
    "```Python\n",
    "import time\n",
    "\n",
    "print(time.time(), '\\n')\n",
    "print(time.localtime(), '\\n')\n",
    "time.sleep(1)\n",
    "print(time.localtime(time.time()), '\\n')\n",
    "print(time.asctime(time.localtime(time.time())), '\\n')\n",
    "```\n",
    "\n",
    "- 输出\n",
    "\n",
    "```\n",
    "1656576002.1171286 \n",
    "\n",
    "time.struct_time(tm_year=2022, tm_mon=6, tm_mday=30, tm_hour=16, tm_min=0, tm_sec=2, tm_wday=3, tm_yday=181, tm_isdst=0) \n",
    "\n",
    "time.struct_time(tm_year=2022, tm_mon=6, tm_mday=30, tm_hour=16, tm_min=0, tm_sec=3, tm_wday=3, tm_yday=181, tm_isdst=0) \n",
    "\n",
    "Thu Jun 30 16:00:03 2022 \n",
    "```"
   ]
  },
  {
   "cell_type": "code",
   "execution_count": 28,
   "metadata": {},
   "outputs": [
    {
     "name": "stdout",
     "output_type": "stream",
     "text": [
      "1656576002.1171286 \n",
      "\n",
      "time.struct_time(tm_year=2022, tm_mon=6, tm_mday=30, tm_hour=16, tm_min=0, tm_sec=2, tm_wday=3, tm_yday=181, tm_isdst=0) \n",
      "\n",
      "time.struct_time(tm_year=2022, tm_mon=6, tm_mday=30, tm_hour=16, tm_min=0, tm_sec=3, tm_wday=3, tm_yday=181, tm_isdst=0) \n",
      "\n",
      "Thu Jun 30 16:00:03 2022 \n",
      "\n"
     ]
    }
   ],
   "source": [
    "import time\n",
    "\n",
    "print(time.time(), '\\n')\n",
    "print(time.localtime(), '\\n')\n",
    "time.sleep(1)\n",
    "print(time.localtime(time.time()), '\\n')\n",
    "print(time.asctime(time.localtime(time.time())), '\\n')"
   ]
  },
  {
   "cell_type": "markdown",
   "metadata": {},
   "source": [
    "## 二、基础知识"
   ]
  },
  {
   "cell_type": "code",
   "execution_count": null,
   "metadata": {},
   "outputs": [],
   "source": []
  },
  {
   "cell_type": "code",
   "execution_count": null,
   "metadata": {},
   "outputs": [],
   "source": []
  },
  {
   "cell_type": "markdown",
   "metadata": {},
   "source": [
    "## 三、协程"
   ]
  },
  {
   "cell_type": "markdown",
   "metadata": {},
   "source": [
    "### 1.协程的用法"
   ]
  },
  {
   "cell_type": "markdown",
   "metadata": {},
   "source": [
    "### 2、定义协程"
   ]
  },
  {
   "cell_type": "code",
   "execution_count": 34,
   "metadata": {},
   "outputs": [
    {
     "name": "stdout",
     "output_type": "stream",
     "text": [
      "Coroutine: <coroutine object execute at 0x00000205C88655C0>\n"
     ]
    },
    {
     "name": "stderr",
     "output_type": "stream",
     "text": [
      "C:\\Users\\m1595\\AppData\\Local\\Temp/ipykernel_22952/215964016.py:6: RuntimeWarning: coroutine 'a' was never awaited\n",
      "  coroutine = execute(1)  # 调用 execute()，返回一个协程对象\n",
      "RuntimeWarning: Enable tracemalloc to get the object allocation traceback\n"
     ]
    }
   ],
   "source": [
    "import asyncio\n",
    "\n",
    "async def execute(x):   # 定义一个协程\n",
    "    print('Number', x)\n",
    "\n",
    "coroutine = execute(1)  # 调用 execute()，返回一个协程对象\n",
    "print('Coroutine:', coroutine)"
   ]
  },
  {
   "cell_type": "code",
   "execution_count": 36,
   "metadata": {},
   "outputs": [
    {
     "name": "stdout",
     "output_type": "stream",
     "text": [
      "Coroutine: <coroutine object execute at 0x00000205C891D0C0>\n",
      "After calling execute\n"
     ]
    },
    {
     "ename": "RuntimeError",
     "evalue": "This event loop is already running",
     "output_type": "error",
     "traceback": [
      "\u001b[1;31m---------------------------------------------------------------------------\u001b[0m",
      "\u001b[1;31mRuntimeError\u001b[0m                              Traceback (most recent call last)",
      "\u001b[1;32m~\\AppData\\Local\\Temp/ipykernel_22952/179529528.py\u001b[0m in \u001b[0;36m<module>\u001b[1;34m\u001b[0m\n\u001b[0;32m      9\u001b[0m \u001b[1;33m\u001b[0m\u001b[0m\n\u001b[0;32m     10\u001b[0m \u001b[0mloop\u001b[0m \u001b[1;33m=\u001b[0m \u001b[0masyncio\u001b[0m\u001b[1;33m.\u001b[0m\u001b[0mget_event_loop\u001b[0m\u001b[1;33m(\u001b[0m\u001b[1;33m)\u001b[0m \u001b[1;31m# 利用 get_event_loop() 方法 创建一个事件循环\u001b[0m\u001b[1;33m\u001b[0m\u001b[1;33m\u001b[0m\u001b[0m\n\u001b[1;32m---> 11\u001b[1;33m \u001b[0mloop\u001b[0m\u001b[1;33m.\u001b[0m\u001b[0mrun_until_complete\u001b[0m\u001b[1;33m(\u001b[0m\u001b[0mcoroutine\u001b[0m\u001b[1;33m)\u001b[0m  \u001b[1;31m#\u001b[0m\u001b[1;33m\u001b[0m\u001b[1;33m\u001b[0m\u001b[0m\n\u001b[0m\u001b[0;32m     12\u001b[0m \u001b[0mprint\u001b[0m\u001b[1;33m(\u001b[0m\u001b[1;34m'After calling loop'\u001b[0m\u001b[1;33m)\u001b[0m     \u001b[1;31m# 调用循环后\u001b[0m\u001b[1;33m\u001b[0m\u001b[1;33m\u001b[0m\u001b[0m\n",
      "\u001b[1;32md:\\Software\\Anaconda3\\lib\\asyncio\\base_events.py\u001b[0m in \u001b[0;36mrun_until_complete\u001b[1;34m(self, future)\u001b[0m\n\u001b[0;32m    616\u001b[0m         \"\"\"\n\u001b[0;32m    617\u001b[0m         \u001b[0mself\u001b[0m\u001b[1;33m.\u001b[0m\u001b[0m_check_closed\u001b[0m\u001b[1;33m(\u001b[0m\u001b[1;33m)\u001b[0m\u001b[1;33m\u001b[0m\u001b[1;33m\u001b[0m\u001b[0m\n\u001b[1;32m--> 618\u001b[1;33m         \u001b[0mself\u001b[0m\u001b[1;33m.\u001b[0m\u001b[0m_check_running\u001b[0m\u001b[1;33m(\u001b[0m\u001b[1;33m)\u001b[0m\u001b[1;33m\u001b[0m\u001b[1;33m\u001b[0m\u001b[0m\n\u001b[0m\u001b[0;32m    619\u001b[0m \u001b[1;33m\u001b[0m\u001b[0m\n\u001b[0;32m    620\u001b[0m         \u001b[0mnew_task\u001b[0m \u001b[1;33m=\u001b[0m \u001b[1;32mnot\u001b[0m \u001b[0mfutures\u001b[0m\u001b[1;33m.\u001b[0m\u001b[0misfuture\u001b[0m\u001b[1;33m(\u001b[0m\u001b[0mfuture\u001b[0m\u001b[1;33m)\u001b[0m\u001b[1;33m\u001b[0m\u001b[1;33m\u001b[0m\u001b[0m\n",
      "\u001b[1;32md:\\Software\\Anaconda3\\lib\\asyncio\\base_events.py\u001b[0m in \u001b[0;36m_check_running\u001b[1;34m(self)\u001b[0m\n\u001b[0;32m    576\u001b[0m     \u001b[1;32mdef\u001b[0m \u001b[0m_check_running\u001b[0m\u001b[1;33m(\u001b[0m\u001b[0mself\u001b[0m\u001b[1;33m)\u001b[0m\u001b[1;33m:\u001b[0m\u001b[1;33m\u001b[0m\u001b[1;33m\u001b[0m\u001b[0m\n\u001b[0;32m    577\u001b[0m         \u001b[1;32mif\u001b[0m \u001b[0mself\u001b[0m\u001b[1;33m.\u001b[0m\u001b[0mis_running\u001b[0m\u001b[1;33m(\u001b[0m\u001b[1;33m)\u001b[0m\u001b[1;33m:\u001b[0m\u001b[1;33m\u001b[0m\u001b[1;33m\u001b[0m\u001b[0m\n\u001b[1;32m--> 578\u001b[1;33m             \u001b[1;32mraise\u001b[0m \u001b[0mRuntimeError\u001b[0m\u001b[1;33m(\u001b[0m\u001b[1;34m'This event loop is already running'\u001b[0m\u001b[1;33m)\u001b[0m\u001b[1;33m\u001b[0m\u001b[1;33m\u001b[0m\u001b[0m\n\u001b[0m\u001b[0;32m    579\u001b[0m         \u001b[1;32mif\u001b[0m \u001b[0mevents\u001b[0m\u001b[1;33m.\u001b[0m\u001b[0m_get_running_loop\u001b[0m\u001b[1;33m(\u001b[0m\u001b[1;33m)\u001b[0m \u001b[1;32mis\u001b[0m \u001b[1;32mnot\u001b[0m \u001b[1;32mNone\u001b[0m\u001b[1;33m:\u001b[0m\u001b[1;33m\u001b[0m\u001b[1;33m\u001b[0m\u001b[0m\n\u001b[0;32m    580\u001b[0m             raise RuntimeError(\n",
      "\u001b[1;31mRuntimeError\u001b[0m: This event loop is already running"
     ]
    }
   ],
   "source": [
    "import asyncio\n",
    "\n",
    "async def execute(x):   # 定义一个 execute 方法\n",
    "    print('Number', x)\n",
    "\n",
    "coroutine = execute(1)  # 调用 execute()，返回一个 coroutine 协程对象\n",
    "print('Coroutine:', coroutine)\n",
    "print('After calling execute')  # 调用执行后\n",
    "\n",
    "loop = asyncio.get_event_loop() # 利用 get_event_loop() 方法 创建一个事件循环 \n",
    "loop.run_until_complete(coroutine)  # \n",
    "print('After calling loop')     # 调用循环后"
   ]
  },
  {
   "cell_type": "markdown",
   "metadata": {},
   "source": [
    "理论结果\n",
    "\n",
    "```\n",
    "Coroutine: <coroutine object execute at 0x1034cf830>\n",
    "After calling execute\n",
    "Number: 1\n",
    "After calling loop\n",
    "```"
   ]
  },
  {
   "cell_type": "markdown",
   "metadata": {},
   "source": [
    "> **可见，async 定义的方法就会变成一个无法直接执行的 coroutine 对象，必须将其注册到事件循环中才可以执行。**"
   ]
  },
  {
   "cell_type": "code",
   "execution_count": 1,
   "metadata": {},
   "outputs": [
    {
     "name": "stdout",
     "output_type": "stream",
     "text": [
      "Coroutine: <coroutine object execute at 0x000001712DACD2C0>\n",
      "After calling execute\n",
      "Task: <Task pending name='Task-3' coro=<execute() running at C:\\Users\\m1595\\AppData\\Local\\Temp/ipykernel_21668/1158204210.py:3>>\n"
     ]
    },
    {
     "ename": "RuntimeError",
     "evalue": "This event loop is already running",
     "output_type": "error",
     "traceback": [
      "\u001b[1;31m---------------------------------------------------------------------------\u001b[0m",
      "\u001b[1;31mRuntimeError\u001b[0m                              Traceback (most recent call last)",
      "\u001b[1;32m~\\AppData\\Local\\Temp/ipykernel_21668/1158204210.py\u001b[0m in \u001b[0;36m<module>\u001b[1;34m\u001b[0m\n\u001b[0;32m     13\u001b[0m \u001b[0mtask\u001b[0m \u001b[1;33m=\u001b[0m \u001b[0mloop\u001b[0m\u001b[1;33m.\u001b[0m\u001b[0mcreate_task\u001b[0m\u001b[1;33m(\u001b[0m\u001b[0mcoroutine\u001b[0m\u001b[1;33m)\u001b[0m\u001b[1;33m\u001b[0m\u001b[1;33m\u001b[0m\u001b[0m\n\u001b[0;32m     14\u001b[0m \u001b[0mprint\u001b[0m\u001b[1;33m(\u001b[0m\u001b[1;34m'Task:'\u001b[0m\u001b[1;33m,\u001b[0m \u001b[0mtask\u001b[0m\u001b[1;33m)\u001b[0m\u001b[1;33m\u001b[0m\u001b[1;33m\u001b[0m\u001b[0m\n\u001b[1;32m---> 15\u001b[1;33m \u001b[0mloop\u001b[0m\u001b[1;33m.\u001b[0m\u001b[0mrun_until_complete\u001b[0m\u001b[1;33m(\u001b[0m\u001b[0mtask\u001b[0m\u001b[1;33m)\u001b[0m\u001b[1;33m\u001b[0m\u001b[1;33m\u001b[0m\u001b[0m\n\u001b[0m\u001b[0;32m     16\u001b[0m \u001b[0mprint\u001b[0m\u001b[1;33m(\u001b[0m\u001b[1;34m'Task:'\u001b[0m\u001b[1;33m,\u001b[0m \u001b[0mtask\u001b[0m\u001b[1;33m)\u001b[0m\u001b[1;33m\u001b[0m\u001b[1;33m\u001b[0m\u001b[0m\n\u001b[0;32m     17\u001b[0m \u001b[0mprint\u001b[0m\u001b[1;33m(\u001b[0m\u001b[1;34m'After calling loop'\u001b[0m\u001b[1;33m)\u001b[0m\u001b[1;33m\u001b[0m\u001b[1;33m\u001b[0m\u001b[0m\n",
      "\u001b[1;32md:\\Software\\Anaconda3\\lib\\asyncio\\base_events.py\u001b[0m in \u001b[0;36mrun_until_complete\u001b[1;34m(self, future)\u001b[0m\n\u001b[0;32m    616\u001b[0m         \"\"\"\n\u001b[0;32m    617\u001b[0m         \u001b[0mself\u001b[0m\u001b[1;33m.\u001b[0m\u001b[0m_check_closed\u001b[0m\u001b[1;33m(\u001b[0m\u001b[1;33m)\u001b[0m\u001b[1;33m\u001b[0m\u001b[1;33m\u001b[0m\u001b[0m\n\u001b[1;32m--> 618\u001b[1;33m         \u001b[0mself\u001b[0m\u001b[1;33m.\u001b[0m\u001b[0m_check_running\u001b[0m\u001b[1;33m(\u001b[0m\u001b[1;33m)\u001b[0m\u001b[1;33m\u001b[0m\u001b[1;33m\u001b[0m\u001b[0m\n\u001b[0m\u001b[0;32m    619\u001b[0m \u001b[1;33m\u001b[0m\u001b[0m\n\u001b[0;32m    620\u001b[0m         \u001b[0mnew_task\u001b[0m \u001b[1;33m=\u001b[0m \u001b[1;32mnot\u001b[0m \u001b[0mfutures\u001b[0m\u001b[1;33m.\u001b[0m\u001b[0misfuture\u001b[0m\u001b[1;33m(\u001b[0m\u001b[0mfuture\u001b[0m\u001b[1;33m)\u001b[0m\u001b[1;33m\u001b[0m\u001b[1;33m\u001b[0m\u001b[0m\n",
      "\u001b[1;32md:\\Software\\Anaconda3\\lib\\asyncio\\base_events.py\u001b[0m in \u001b[0;36m_check_running\u001b[1;34m(self)\u001b[0m\n\u001b[0;32m    576\u001b[0m     \u001b[1;32mdef\u001b[0m \u001b[0m_check_running\u001b[0m\u001b[1;33m(\u001b[0m\u001b[0mself\u001b[0m\u001b[1;33m)\u001b[0m\u001b[1;33m:\u001b[0m\u001b[1;33m\u001b[0m\u001b[1;33m\u001b[0m\u001b[0m\n\u001b[0;32m    577\u001b[0m         \u001b[1;32mif\u001b[0m \u001b[0mself\u001b[0m\u001b[1;33m.\u001b[0m\u001b[0mis_running\u001b[0m\u001b[1;33m(\u001b[0m\u001b[1;33m)\u001b[0m\u001b[1;33m:\u001b[0m\u001b[1;33m\u001b[0m\u001b[1;33m\u001b[0m\u001b[0m\n\u001b[1;32m--> 578\u001b[1;33m             \u001b[1;32mraise\u001b[0m \u001b[0mRuntimeError\u001b[0m\u001b[1;33m(\u001b[0m\u001b[1;34m'This event loop is already running'\u001b[0m\u001b[1;33m)\u001b[0m\u001b[1;33m\u001b[0m\u001b[1;33m\u001b[0m\u001b[0m\n\u001b[0m\u001b[0;32m    579\u001b[0m         \u001b[1;32mif\u001b[0m \u001b[0mevents\u001b[0m\u001b[1;33m.\u001b[0m\u001b[0m_get_running_loop\u001b[0m\u001b[1;33m(\u001b[0m\u001b[1;33m)\u001b[0m \u001b[1;32mis\u001b[0m \u001b[1;32mnot\u001b[0m \u001b[1;32mNone\u001b[0m\u001b[1;33m:\u001b[0m\u001b[1;33m\u001b[0m\u001b[1;33m\u001b[0m\u001b[0m\n\u001b[0;32m    580\u001b[0m             raise RuntimeError(\n",
      "\u001b[1;31mRuntimeError\u001b[0m: This event loop is already running"
     ]
    },
    {
     "name": "stdout",
     "output_type": "stream",
     "text": [
      "Number: 1\n"
     ]
    }
   ],
   "source": [
    "import asyncio\n",
    "\n",
    "async def execute(x):\n",
    "    print('Number:', x)\n",
    "    return x\n",
    "\n",
    "coroutine = execute(1)\n",
    "print('Coroutine:', coroutine)\n",
    "print('After calling execute')\n",
    "\n",
    "loop = asyncio.get_event_loop()\n",
    "# 显示声明地 对 coroutine 进行封装 \n",
    "task = loop.create_task(coroutine)\n",
    "print('Task:', task)\n",
    "loop.run_until_complete(task)\n",
    "print('Task:', task)\n",
    "print('After calling loop')"
   ]
  },
  {
   "cell_type": "code",
   "execution_count": 2,
   "metadata": {},
   "outputs": [
    {
     "name": "stdout",
     "output_type": "stream",
     "text": [
      "Coroutine: <coroutine object execute at 0x000001712DA36F40>\n",
      "After calling execute\n",
      "Task: <Task pending name='Task-4' coro=<execute() running at C:\\Users\\m1595\\AppData\\Local\\Temp/ipykernel_21668/578759774.py:3>>\n"
     ]
    },
    {
     "ename": "RuntimeError",
     "evalue": "This event loop is already running",
     "output_type": "error",
     "traceback": [
      "\u001b[1;31m---------------------------------------------------------------------------\u001b[0m",
      "\u001b[1;31mRuntimeError\u001b[0m                              Traceback (most recent call last)",
      "\u001b[1;32m~\\AppData\\Local\\Temp/ipykernel_21668/578759774.py\u001b[0m in \u001b[0;36m<module>\u001b[1;34m\u001b[0m\n\u001b[0;32m     12\u001b[0m \u001b[0mprint\u001b[0m\u001b[1;33m(\u001b[0m\u001b[1;34m'Task:'\u001b[0m\u001b[1;33m,\u001b[0m \u001b[0mtask\u001b[0m\u001b[1;33m)\u001b[0m\u001b[1;33m\u001b[0m\u001b[1;33m\u001b[0m\u001b[0m\n\u001b[0;32m     13\u001b[0m \u001b[0mloop\u001b[0m \u001b[1;33m=\u001b[0m \u001b[0masyncio\u001b[0m\u001b[1;33m.\u001b[0m\u001b[0mget_event_loop\u001b[0m\u001b[1;33m(\u001b[0m\u001b[1;33m)\u001b[0m\u001b[1;33m\u001b[0m\u001b[1;33m\u001b[0m\u001b[0m\n\u001b[1;32m---> 14\u001b[1;33m \u001b[0mloop\u001b[0m\u001b[1;33m.\u001b[0m\u001b[0mrun_until_complete\u001b[0m\u001b[1;33m(\u001b[0m\u001b[0mtask\u001b[0m\u001b[1;33m)\u001b[0m\u001b[1;33m\u001b[0m\u001b[1;33m\u001b[0m\u001b[0m\n\u001b[0m\u001b[0;32m     15\u001b[0m \u001b[0mprint\u001b[0m\u001b[1;33m(\u001b[0m\u001b[1;34m'Task:'\u001b[0m\u001b[1;33m,\u001b[0m \u001b[0mtask\u001b[0m\u001b[1;33m)\u001b[0m\u001b[1;33m\u001b[0m\u001b[1;33m\u001b[0m\u001b[0m\n\u001b[0;32m     16\u001b[0m \u001b[0mprint\u001b[0m\u001b[1;33m(\u001b[0m\u001b[1;34m'After calling loop'\u001b[0m\u001b[1;33m)\u001b[0m\u001b[1;33m\u001b[0m\u001b[1;33m\u001b[0m\u001b[0m\n",
      "\u001b[1;32md:\\Software\\Anaconda3\\lib\\asyncio\\base_events.py\u001b[0m in \u001b[0;36mrun_until_complete\u001b[1;34m(self, future)\u001b[0m\n\u001b[0;32m    616\u001b[0m         \"\"\"\n\u001b[0;32m    617\u001b[0m         \u001b[0mself\u001b[0m\u001b[1;33m.\u001b[0m\u001b[0m_check_closed\u001b[0m\u001b[1;33m(\u001b[0m\u001b[1;33m)\u001b[0m\u001b[1;33m\u001b[0m\u001b[1;33m\u001b[0m\u001b[0m\n\u001b[1;32m--> 618\u001b[1;33m         \u001b[0mself\u001b[0m\u001b[1;33m.\u001b[0m\u001b[0m_check_running\u001b[0m\u001b[1;33m(\u001b[0m\u001b[1;33m)\u001b[0m\u001b[1;33m\u001b[0m\u001b[1;33m\u001b[0m\u001b[0m\n\u001b[0m\u001b[0;32m    619\u001b[0m \u001b[1;33m\u001b[0m\u001b[0m\n\u001b[0;32m    620\u001b[0m         \u001b[0mnew_task\u001b[0m \u001b[1;33m=\u001b[0m \u001b[1;32mnot\u001b[0m \u001b[0mfutures\u001b[0m\u001b[1;33m.\u001b[0m\u001b[0misfuture\u001b[0m\u001b[1;33m(\u001b[0m\u001b[0mfuture\u001b[0m\u001b[1;33m)\u001b[0m\u001b[1;33m\u001b[0m\u001b[1;33m\u001b[0m\u001b[0m\n",
      "\u001b[1;32md:\\Software\\Anaconda3\\lib\\asyncio\\base_events.py\u001b[0m in \u001b[0;36m_check_running\u001b[1;34m(self)\u001b[0m\n\u001b[0;32m    576\u001b[0m     \u001b[1;32mdef\u001b[0m \u001b[0m_check_running\u001b[0m\u001b[1;33m(\u001b[0m\u001b[0mself\u001b[0m\u001b[1;33m)\u001b[0m\u001b[1;33m:\u001b[0m\u001b[1;33m\u001b[0m\u001b[1;33m\u001b[0m\u001b[0m\n\u001b[0;32m    577\u001b[0m         \u001b[1;32mif\u001b[0m \u001b[0mself\u001b[0m\u001b[1;33m.\u001b[0m\u001b[0mis_running\u001b[0m\u001b[1;33m(\u001b[0m\u001b[1;33m)\u001b[0m\u001b[1;33m:\u001b[0m\u001b[1;33m\u001b[0m\u001b[1;33m\u001b[0m\u001b[0m\n\u001b[1;32m--> 578\u001b[1;33m             \u001b[1;32mraise\u001b[0m \u001b[0mRuntimeError\u001b[0m\u001b[1;33m(\u001b[0m\u001b[1;34m'This event loop is already running'\u001b[0m\u001b[1;33m)\u001b[0m\u001b[1;33m\u001b[0m\u001b[1;33m\u001b[0m\u001b[0m\n\u001b[0m\u001b[0;32m    579\u001b[0m         \u001b[1;32mif\u001b[0m \u001b[0mevents\u001b[0m\u001b[1;33m.\u001b[0m\u001b[0m_get_running_loop\u001b[0m\u001b[1;33m(\u001b[0m\u001b[1;33m)\u001b[0m \u001b[1;32mis\u001b[0m \u001b[1;32mnot\u001b[0m \u001b[1;32mNone\u001b[0m\u001b[1;33m:\u001b[0m\u001b[1;33m\u001b[0m\u001b[1;33m\u001b[0m\u001b[0m\n\u001b[0;32m    580\u001b[0m             raise RuntimeError(\n",
      "\u001b[1;31mRuntimeError\u001b[0m: This event loop is already running"
     ]
    },
    {
     "name": "stdout",
     "output_type": "stream",
     "text": [
      "Number: 1\n"
     ]
    }
   ],
   "source": [
    "import asyncio\n",
    "\n",
    "async def execute(x):\n",
    "    print('Number:', x)\n",
    "    return x\n",
    "\n",
    "coroutine = execute(1)\n",
    "print('Coroutine:', coroutine)\n",
    "print('After calling execute')\n",
    "\n",
    "task = asyncio.ensure_future(coroutine)\n",
    "print('Task:', task)\n",
    "loop = asyncio.get_event_loop()\n",
    "loop.run_until_complete(task)\n",
    "print('Task:', task)\n",
    "print('After calling loop')"
   ]
  },
  {
   "cell_type": "markdown",
   "metadata": {},
   "source": [
    "### 3.绑定回调"
   ]
  },
  {
   "cell_type": "markdown",
   "metadata": {},
   "source": [
    " - [python 报错 RuntimeError: This event loop is already running问题解决](https://blog.csdn.net/u014651560/article/details/116980087)\n",
    "\n",
    "- [RuntimeError: This event loop is already running”问题解决](https://blog.csdn.net/wuzhiyao1210/article/details/113114869)"
   ]
  },
  {
   "cell_type": "code",
   "execution_count": 20,
   "metadata": {},
   "outputs": [
    {
     "name": "stdout",
     "output_type": "stream",
     "text": [
      "🚨🚨🚨🚨🚨\n",
      "Task: <Task pending name='Task-10' coro=<request() running at C:\\Users\\m1595\\AppData\\Local\\Temp/ipykernel_16736/2018288130.py:11> cb=[callback() at C:\\Users\\m1595\\AppData\\Local\\Temp/ipykernel_16736/2018288130.py:16]> \n",
      "\n",
      "Task: <Task finished name='Task-10' coro=<request() done, defined at C:\\Users\\m1595\\AppData\\Local\\Temp/ipykernel_16736/2018288130.py:11> result=200> \n",
      "\n"
     ]
    },
    {
     "name": "stdout",
     "output_type": "stream",
     "text": [
      "Status: 200 \n",
      "\n",
      "🔆🔆🔆🔆🔆🔆\n"
     ]
    }
   ],
   "source": [
    "import asyncio\n",
    "import requests\n",
    "import nest_asyncio\n",
    "nest_asyncio.apply()\n",
    "\n",
    "proxies={\n",
    "    'http': 'http://127.0.0.1:7890',\n",
    "    'https': 'http://127.0.0.1:7890'  # https -> http\n",
    "}\n",
    "\n",
    "async def request():\n",
    "    url = 'https://www.baidu.com'\n",
    "    status = requests.get(url)\n",
    "    return status.status_code\n",
    "\n",
    "def callback(task):\n",
    "    print('Status:', task.result(), '\\n')\n",
    "    print('🔆🔆🔆🔆🔆🔆')\n",
    "\n",
    "coroutine = request()\n",
    "task = asyncio.ensure_future(coroutine)\n",
    "task.add_done_callback(callback)\n",
    "print('🚨🚨🚨🚨🚨')\n",
    "print('Task:', task, '\\n')\n",
    "\n",
    "loop = asyncio.get_event_loop()\n",
    "loop.run_until_complete(task)\n",
    "print('Task:', task, '\\n')"
   ]
  },
  {
   "cell_type": "markdown",
   "metadata": {},
   "source": [
    "直接在 task 运行完毕之后，也可以直接调用 result 方法获取结果"
   ]
  },
  {
   "cell_type": "code",
   "execution_count": 33,
   "metadata": {},
   "outputs": [
    {
     "name": "stdout",
     "output_type": "stream",
     "text": [
      "Task: <Task pending name='Task-23' coro=<request() running at C:\\Users\\m1595\\AppData\\Local\\Temp/ipykernel_16736/1714105403.py:4>> \n",
      "\n",
      "🚨🚨🚨🚨🚨 \n",
      "\n",
      "Task: <Task finished name='Task-23' coro=<request() done, defined at C:\\Users\\m1595\\AppData\\Local\\Temp/ipykernel_16736/1714105403.py:4> result='🔆<Response [200]>🔆'> \n",
      "\n",
      "Task Result: 🔆<Response [200]>🔆 \n",
      "\n"
     ]
    }
   ],
   "source": [
    "import asyncio\n",
    "import requests\n",
    "\n",
    "async def request():\n",
    "    url = 'https://www.baidu.com'\n",
    "    status = requests.get(url)\n",
    "    print('🚨🚨🚨🚨🚨', '\\n')\n",
    "    return '🔆' + str(status) + '🔆'\n",
    "\n",
    "# 定义 一个 协程\n",
    "coroutine = request()\n",
    "# ensure_future() 定义 task 对象\n",
    "task = asyncio.ensure_future(coroutine)\n",
    "print('Task:', task, '\\n')\n",
    "\n",
    "# 定义 事件循环 loop\n",
    "loop = asyncio.get_event_loop()\n",
    "# 将 task 注册到 循环事件中, 然后启动（即运行 request 函数）\n",
    "loop.run_until_complete(task)\n",
    "print('Task:', task, '\\n')\n",
    "print('Task Result:', task.result(), '\\n')"
   ]
  },
  {
   "cell_type": "markdown",
   "metadata": {},
   "source": [
    "### 多任务协程"
   ]
  },
  {
   "cell_type": "code",
   "execution_count": 38,
   "metadata": {},
   "outputs": [
    {
     "name": "stdout",
     "output_type": "stream",
     "text": [
      "🔆Tasks🔆 \n",
      " [<Task pending name='Task-48' coro=<request() running at C:\\Users\\m1595\\AppData\\Local\\Temp/ipykernel_16736/2485445310.py:4>>, <Task pending name='Task-49' coro=<request() running at C:\\Users\\m1595\\AppData\\Local\\Temp/ipykernel_16736/2485445310.py:4>>, <Task pending name='Task-50' coro=<request() running at C:\\Users\\m1595\\AppData\\Local\\Temp/ipykernel_16736/2485445310.py:4>>, <Task pending name='Task-51' coro=<request() running at C:\\Users\\m1595\\AppData\\Local\\Temp/ipykernel_16736/2485445310.py:4>>, <Task pending name='Task-52' coro=<request() running at C:\\Users\\m1595\\AppData\\Local\\Temp/ipykernel_16736/2485445310.py:4>>] \n",
      "\n",
      "Task Result: <Response [200]> \n",
      "\n",
      "Task Result: <Response [200]> \n",
      "\n",
      "Task Result: <Response [200]> \n",
      "\n",
      "Task Result: <Response [200]> \n",
      "\n",
      "Task Result: <Response [200]> \n",
      "\n"
     ]
    }
   ],
   "source": [
    "import asyncio\n",
    "import requests\n",
    "\n",
    "async def request():\n",
    "    url = 'https://www.baidu.com'\n",
    "    status = requests.get(url)\n",
    "    return status\n",
    "\n",
    "tasks = [asyncio.ensure_future(request()) for _ in range(5)]\n",
    "print('🔆Tasks🔆', '\\n', tasks, '\\n')\n",
    "\n",
    "loop = asyncio.get_event_loop()\n",
    "loop.run_until_complete(asyncio.wait(tasks))\n",
    "\n",
    "for task in tasks:\n",
    "    print('Task Result:', task.result(), '\\n')"
   ]
  },
  {
   "cell_type": "markdown",
   "metadata": {},
   "source": [
    "### 协程实现"
   ]
  },
  {
   "cell_type": "code",
   "execution_count": 45,
   "metadata": {},
   "outputs": [
    {
     "name": "stdout",
     "output_type": "stream",
     "text": [
      "Tasks: \n",
      " [<Task pending name='Task-90' coro=<request() running at C:\\Users\\m1595\\AppData\\Local\\Temp/ipykernel_16736/1231186109.py:7>>, <Task pending name='Task-91' coro=<request() running at C:\\Users\\m1595\\AppData\\Local\\Temp/ipykernel_16736/1231186109.py:7>>, <Task pending name='Task-92' coro=<request() running at C:\\Users\\m1595\\AppData\\Local\\Temp/ipykernel_16736/1231186109.py:7>>, <Task pending name='Task-93' coro=<request() running at C:\\Users\\m1595\\AppData\\Local\\Temp/ipykernel_16736/1231186109.py:7>>, <Task pending name='Task-94' coro=<request() running at C:\\Users\\m1595\\AppData\\Local\\Temp/ipykernel_16736/1231186109.py:7>>] \n",
      "\n",
      "🔆🔆🔆🔆🔆\n",
      "Waiting for https://httpbin.org/delay/5\n",
      "Get response from https://httpbin.org/delay/5 Response <Response [200]>\n",
      "Waiting for https://httpbin.org/delay/5\n",
      "Get response from https://httpbin.org/delay/5 Response <Response [200]>\n",
      "Waiting for https://httpbin.org/delay/5\n",
      "Get response from https://httpbin.org/delay/5 Response <Response [200]>\n",
      "Waiting for https://httpbin.org/delay/5\n",
      "Get response from https://httpbin.org/delay/5 Response <Response [200]>\n",
      "Waiting for https://httpbin.org/delay/5\n",
      "Get response from https://httpbin.org/delay/5 Response <Response [200]>\n",
      "🚨🚨🚨🚨🚨\n",
      "Cost time: 32.10177803039551\n"
     ]
    }
   ],
   "source": [
    "import asyncio\n",
    "import requests\n",
    "import time\n",
    "\n",
    "start = time.time()\n",
    "\n",
    "async def request():\n",
    "    url = 'https://httpbin.org/delay/5'\n",
    "    print('Waiting for', url)\n",
    "    response = requests.get(url)\n",
    "    print('Get response from', url, 'Response', response)\n",
    "\n",
    "# 定义 tasks 列表\n",
    "tasks = [asyncio.ensure_future(request()) for i in range(5)]\n",
    "print('Tasks:', '\\n', tasks, '\\n')\n",
    "\n",
    "loop = asyncio.get_event_loop()     # 定义 事件循环\n",
    "print('🔆🔆🔆🔆🔆')\n",
    "# 将 tasks 注册到 事件循环 中, 然后启动\n",
    "loop.run_until_complete(asyncio.wait(tasks))\n",
    "print('🚨🚨🚨🚨🚨')\n",
    "\n",
    "end = time.time()\n",
    "print('Cost time:', end - start)"
   ]
  },
  {
   "cell_type": "code",
   "execution_count": 46,
   "metadata": {},
   "outputs": [
    {
     "name": "stdout",
     "output_type": "stream",
     "text": [
      "Tasks: \n",
      " [<Task pending name='Task-96' coro=<request() running at C:\\Users\\m1595\\AppData\\Local\\Temp/ipykernel_16736/1190835316.py:7>>, <Task pending name='Task-97' coro=<request() running at C:\\Users\\m1595\\AppData\\Local\\Temp/ipykernel_16736/1190835316.py:7>>, <Task pending name='Task-98' coro=<request() running at C:\\Users\\m1595\\AppData\\Local\\Temp/ipykernel_16736/1190835316.py:7>>, <Task pending name='Task-99' coro=<request() running at C:\\Users\\m1595\\AppData\\Local\\Temp/ipykernel_16736/1190835316.py:7>>, <Task pending name='Task-100' coro=<request() running at C:\\Users\\m1595\\AppData\\Local\\Temp/ipykernel_16736/1190835316.py:7>>] \n",
      "\n",
      "🔆🔆🔆🔆🔆\n",
      "Waiting for https://httpbin.org/delay/5\n",
      "Waiting for https://httpbin.org/delay/5\n",
      "Waiting for https://httpbin.org/delay/5\n",
      "Waiting for https://httpbin.org/delay/5\n",
      "Waiting for https://httpbin.org/delay/5\n",
      "🚨🚨🚨🚨🚨\n",
      "Cost time: 33.90973949432373\n"
     ]
    }
   ],
   "source": [
    "import asyncio\n",
    "import requests\n",
    "import time\n",
    "\n",
    "start = time.time()\n",
    "\n",
    "async def request():\n",
    "    url = 'https://httpbin.org/delay/5'\n",
    "    print('Waiting for', url)\n",
    "    response = await requests.get(url)\n",
    "    print('Get response from', url, 'Response', response)\n",
    "\n",
    "# 定义 tasks 列表\n",
    "tasks = [asyncio.ensure_future(request()) for i in range(5)]\n",
    "print('Tasks:', '\\n', tasks, '\\n')\n",
    "\n",
    "loop = asyncio.get_event_loop()     # 定义 事件循环\n",
    "print('🔆🔆🔆🔆🔆')\n",
    "# 将 tasks 注册到 事件循环 中, 然后启动\n",
    "loop.run_until_complete(asyncio.wait(tasks))\n",
    "print('🚨🚨🚨🚨🚨')\n",
    "\n",
    "end = time.time()\n",
    "print('Cost time:', end - start)"
   ]
  },
  {
   "cell_type": "code",
   "execution_count": 64,
   "metadata": {},
   "outputs": [
    {
     "name": "stdout",
     "output_type": "stream",
     "text": [
      "🔆🔆🔆🔆🔆\n",
      "Waiting for https://httpbin.org/delay/5\n",
      "Waiting for https://httpbin.org/delay/5\n",
      "Waiting for https://httpbin.org/delay/5\n",
      "等待？\n",
      "等到了？\n",
      "Get response from https://httpbin.org/delay/5 Response <ClientResponse(https://httpbin.org/delay/5) [200 OK]>\n",
      "<CIMultiDictProxy('Date': 'Thu, 30 Jun 2022 15:14:21 GMT', 'Content-Type': 'application/json', 'Content-Length': '358', 'Connection': 'keep-alive', 'Server': 'gunicorn/19.9.0', 'Access-Control-Allow-Origin': '*', 'Access-Control-Allow-Credentials': 'true')>\n",
      "\n",
      "等待？\n",
      "等到了？\n",
      "Get response from https://httpbin.org/delay/5 Response <ClientResponse(https://httpbin.org/delay/5) [200 OK]>\n",
      "<CIMultiDictProxy('Date': 'Thu, 30 Jun 2022 15:14:21 GMT', 'Content-Type': 'application/json', 'Content-Length': '358', 'Connection': 'keep-alive', 'Server': 'gunicorn/19.9.0', 'Access-Control-Allow-Origin': '*', 'Access-Control-Allow-Credentials': 'true')>\n",
      "\n",
      "等待？\n",
      "等到了？\n",
      "Get response from https://httpbin.org/delay/5 Response <ClientResponse(https://httpbin.org/delay/5) [200 OK]>\n",
      "<CIMultiDictProxy('Date': 'Thu, 30 Jun 2022 15:14:21 GMT', 'Content-Type': 'application/json', 'Content-Length': '358', 'Connection': 'keep-alive', 'Server': 'gunicorn/19.9.0', 'Access-Control-Allow-Origin': '*', 'Access-Control-Allow-Credentials': 'true')>\n",
      "\n",
      "🚨🚨🚨🚨🚨\n",
      "Cost time: 6.107785701751709\n"
     ]
    }
   ],
   "source": [
    "import asyncio\n",
    "import aiohttp\n",
    "import requests\n",
    "import time\n",
    "\n",
    "start = time.time()\n",
    "\n",
    "async def get(url):\n",
    "    session = aiohttp.ClientSession()\n",
    "    response = await session.get(url)\n",
    "    print('等待？')\n",
    "    await response.text()\n",
    "    print('等到了？')\n",
    "    await session.close()\n",
    "    \n",
    "    return response\n",
    "\n",
    "async def request():\n",
    "    url = 'https://httpbin.org/delay/5'\n",
    "    print('Waiting for', url)\n",
    "    response = await get(url)\n",
    "    print('Get response from', url, 'Response', response)\n",
    "\n",
    "\n",
    "tasks = [asyncio.ensure_future(request()) for i in range(3)]    # 定义 tasks 列表\n",
    "\n",
    "loop = asyncio.get_event_loop()     # 定义 事件循环\n",
    "print('🔆🔆🔆🔆🔆')\n",
    "# 将 tasks 注册到 事件循环 中, 然后启动\n",
    "loop.run_until_complete(asyncio.wait(tasks))\n",
    "print('🚨🚨🚨🚨🚨')\n",
    "\n",
    "\n",
    "end = time.time()\n",
    "print('Cost time:', end - start)"
   ]
  },
  {
   "cell_type": "markdown",
   "metadata": {},
   "source": [
    "> 测试百度"
   ]
  },
  {
   "cell_type": "code",
   "execution_count": 65,
   "metadata": {},
   "outputs": [
    {
     "name": "stdout",
     "output_type": "stream",
     "text": [
      "🔆🔆🔆🔆🔆\n",
      "Waiting for https://baidu.com/\n",
      "Waiting for https://baidu.com/\n",
      "Waiting for https://baidu.com/\n",
      "Waiting for https://baidu.com/\n",
      "Waiting for https://baidu.com/\n",
      "Waiting for https://baidu.com/\n",
      "Waiting for https://baidu.com/\n",
      "Waiting for https://baidu.com/\n",
      "Waiting for https://baidu.com/\n",
      "Waiting for https://baidu.com/\n",
      "Waiting for https://baidu.com/\n",
      "Waiting for https://baidu.com/\n",
      "Waiting for https://baidu.com/\n",
      "Waiting for https://baidu.com/\n",
      "Waiting for https://baidu.com/\n",
      "Waiting for https://baidu.com/\n",
      "Waiting for https://baidu.com/\n",
      "Waiting for https://baidu.com/\n",
      "Waiting for https://baidu.com/\n",
      "Waiting for https://baidu.com/\n",
      "等待？\n",
      "等到了？\n",
      "Get response from https://baidu.com/ Response <ClientResponse(http://www.baidu.com/) [200 OK]>\n",
      "<CIMultiDictProxy('Bdpagetype': '1', 'Bdqid': '0xc91301b300000615', 'Connection': 'keep-alive', 'Content-Encoding': 'gzip', 'Content-Type': 'text/html; charset=utf-8', 'Date': 'Thu, 30 Jun 2022 15:16:43 GMT', 'P3p': 'CP=\" OTI DSP COR IVA OUR IND COM \"', 'P3p': 'CP=\" OTI DSP COR IVA OUR IND COM \"', 'Server': 'BWS/1.1', 'Set-Cookie': 'BAIDUID=1DF3E6E537DA07660D72ECE36367EB5C:FG=1; expires=Thu, 31-Dec-37 23:55:55 GMT; max-age=2147483647; path=/; domain=.baidu.com', 'Set-Cookie': 'BIDUPSID=1DF3E6E537DA07660D72ECE36367EB5C; expires=Thu, 31-Dec-37 23:55:55 GMT; max-age=2147483647; path=/; domain=.baidu.com', 'Set-Cookie': 'PSTM=1656602203; expires=Thu, 31-Dec-37 23:55:55 GMT; max-age=2147483647; path=/; domain=.baidu.com', 'Set-Cookie': 'BAIDUID=1DF3E6E537DA07662229789F7365762B:FG=1; max-age=31536000; expires=Fri, 30-Jun-23 15:16:43 GMT; domain=.baidu.com; path=/; version=1; comment=bd', 'Set-Cookie': 'BDSVRTM=0; path=/', 'Set-Cookie': 'BD_HOME=1; path=/', 'Set-Cookie': 'H_PS_PSSID=36560_36464_36726_36454_31254_34813_36692_36165_36693_36697_36569_36653_36745_26350_36468; path=/; domain=.baidu.com', 'Traceid': '1656602203041758260214488926294491792917', 'X-Frame-Options': 'sameorigin', 'X-Ua-Compatible': 'IE=Edge,chrome=1', 'Transfer-Encoding': 'chunked')>\n",
      "\n",
      "等待？\n",
      "等到了？\n",
      "Get response from https://baidu.com/ Response <ClientResponse(http://www.baidu.com/) [200 OK]>\n",
      "<CIMultiDictProxy('Bdpagetype': '1', 'Bdqid': '0xd42d5cab0000965d', 'Cache-Control': 'private', 'Connection': 'keep-alive', 'Content-Encoding': 'gzip', 'Content-Type': 'text/html;charset=utf-8', 'Date': 'Thu, 30 Jun 2022 15:16:43 GMT', 'Expires': 'Thu, 30 Jun 2022 15:16:27 GMT', 'P3p': 'CP=\" OTI DSP COR IVA OUR IND COM \"', 'P3p': 'CP=\" OTI DSP COR IVA OUR IND COM \"', 'Server': 'BWS/1.1', 'Set-Cookie': 'BAIDUID=1DF3E6E537DA0766734E3C1710CA964B:FG=1; expires=Thu, 31-Dec-37 23:55:55 GMT; max-age=2147483647; path=/; domain=.baidu.com', 'Set-Cookie': 'BIDUPSID=1DF3E6E537DA0766734E3C1710CA964B; expires=Thu, 31-Dec-37 23:55:55 GMT; max-age=2147483647; path=/; domain=.baidu.com', 'Set-Cookie': 'PSTM=1656602203; expires=Thu, 31-Dec-37 23:55:55 GMT; max-age=2147483647; path=/; domain=.baidu.com', 'Set-Cookie': 'BAIDUID=1DF3E6E537DA0766D212F8D8A46E1900:FG=1; max-age=31536000; expires=Fri, 30-Jun-23 15:16:43 GMT; domain=.baidu.com; path=/; version=1; comment=bd', 'Set-Cookie': 'BDSVRTM=0; path=/', 'Set-Cookie': 'BD_HOME=1; path=/', 'Set-Cookie': 'H_PS_PSSID=36556_36465_36726_36455_34813_36691_36165_36694_36697_36570_36745_26350_36469_36713; path=/; domain=.baidu.com', 'Traceid': '1656602203045100596215288978199501903453', 'X-Frame-Options': 'sameorigin', 'X-Ua-Compatible': 'IE=Edge,chrome=1', 'Transfer-Encoding': 'chunked')>\n",
      "\n",
      "等待？\n",
      "等到了？\n",
      "Get response from https://baidu.com/ Response <ClientResponse(http://www.baidu.com/) [200 OK]>\n",
      "<CIMultiDictProxy('Bdpagetype': '1', 'Bdqid': '0x817b41ce00051106', 'Cache-Control': 'private', 'Connection': 'keep-alive', 'Content-Encoding': 'gzip', 'Content-Type': 'text/html;charset=utf-8', 'Date': 'Thu, 30 Jun 2022 15:16:43 GMT', 'Expires': 'Thu, 30 Jun 2022 15:16:37 GMT', 'P3p': 'CP=\" OTI DSP COR IVA OUR IND COM \"', 'P3p': 'CP=\" OTI DSP COR IVA OUR IND COM \"', 'Server': 'BWS/1.1', 'Set-Cookie': 'BAIDUID=1DF3E6E537DA0766376FA113E970F1F4:FG=1; expires=Thu, 31-Dec-37 23:55:55 GMT; max-age=2147483647; path=/; domain=.baidu.com', 'Set-Cookie': 'BIDUPSID=1DF3E6E537DA0766376FA113E970F1F4; expires=Thu, 31-Dec-37 23:55:55 GMT; max-age=2147483647; path=/; domain=.baidu.com', 'Set-Cookie': 'PSTM=1656602203; expires=Thu, 31-Dec-37 23:55:55 GMT; max-age=2147483647; path=/; domain=.baidu.com', 'Set-Cookie': 'BAIDUID=1DF3E6E537DA0766D2A439FD3F794B36:FG=1; max-age=31536000; expires=Fri, 30-Jun-23 15:16:43 GMT; domain=.baidu.com; path=/; version=1; comment=bd', 'Set-Cookie': 'BDSVRTM=0; path=/', 'Set-Cookie': 'BD_HOME=1; path=/', 'Set-Cookie': 'H_PS_PSSID=36551_36726_36454_36452_36691_36165_36695_36696_36570_36075_36746_26350_36680_36469; path=/; domain=.baidu.com', 'Traceid': '165660220303671198829330123406047514886', 'X-Frame-Options': 'sameorigin', 'X-Ua-Compatible': 'IE=Edge,chrome=1', 'Transfer-Encoding': 'chunked')>\n",
      "\n",
      "等待？\n",
      "等到了？\n",
      "Get response from https://baidu.com/ Response <ClientResponse(http://www.baidu.com/) [200 OK]>\n",
      "<CIMultiDictProxy('Bdpagetype': '1', 'Bdqid': '0xd2f8283500064975', 'Connection': 'keep-alive', 'Content-Encoding': 'gzip', 'Content-Type': 'text/html; charset=utf-8', 'Date': 'Thu, 30 Jun 2022 15:16:43 GMT', 'P3p': 'CP=\" OTI DSP COR IVA OUR IND COM \"', 'P3p': 'CP=\" OTI DSP COR IVA OUR IND COM \"', 'Server': 'BWS/1.1', 'Set-Cookie': 'BAIDUID=1DF3E6E537DA07665BD3E2DDF66504E8:FG=1; expires=Thu, 31-Dec-37 23:55:55 GMT; max-age=2147483647; path=/; domain=.baidu.com', 'Set-Cookie': 'BIDUPSID=1DF3E6E537DA07665BD3E2DDF66504E8; expires=Thu, 31-Dec-37 23:55:55 GMT; max-age=2147483647; path=/; domain=.baidu.com', 'Set-Cookie': 'PSTM=1656602203; expires=Thu, 31-Dec-37 23:55:55 GMT; max-age=2147483647; path=/; domain=.baidu.com', 'Set-Cookie': 'BAIDUID=1DF3E6E537DA0766381583F9A9B4889E:FG=1; max-age=31536000; expires=Fri, 30-Jun-23 15:16:43 GMT; domain=.baidu.com; path=/; version=1; comment=bd', 'Set-Cookie': 'BDSVRTM=0; path=/', 'Set-Cookie': 'BD_HOME=1; path=/', 'Set-Cookie': 'H_PS_PSSID=36544_36726_36455_34813_36692_36167_36693_36698_36569_36746_26350_36469_22159; path=/; domain=.baidu.com', 'Traceid': '1656602203075306138615201944750287898997', 'X-Frame-Options': 'sameorigin', 'X-Ua-Compatible': 'IE=Edge,chrome=1', 'Transfer-Encoding': 'chunked')>\n",
      "\n",
      "等待？\n",
      "等到了？\n",
      "Get response from https://baidu.com/ Response <ClientResponse(http://www.baidu.com/) [200 OK]>\n",
      "<CIMultiDictProxy('Bdpagetype': '1', 'Bdqid': '0xab70ebf7000257dd', 'Cache-Control': 'private', 'Connection': 'keep-alive', 'Content-Encoding': 'gzip', 'Content-Type': 'text/html;charset=utf-8', 'Date': 'Thu, 30 Jun 2022 15:16:43 GMT', 'Expires': 'Thu, 30 Jun 2022 15:16:27 GMT', 'P3p': 'CP=\" OTI DSP COR IVA OUR IND COM \"', 'P3p': 'CP=\" OTI DSP COR IVA OUR IND COM \"', 'Server': 'BWS/1.1', 'Set-Cookie': 'BAIDUID=1DF3E6E537DA07665F8B27F862458EF6:FG=1; expires=Thu, 31-Dec-37 23:55:55 GMT; max-age=2147483647; path=/; domain=.baidu.com', 'Set-Cookie': 'BIDUPSID=1DF3E6E537DA07665F8B27F862458EF6; expires=Thu, 31-Dec-37 23:55:55 GMT; max-age=2147483647; path=/; domain=.baidu.com', 'Set-Cookie': 'PSTM=1656602203; expires=Thu, 31-Dec-37 23:55:55 GMT; max-age=2147483647; path=/; domain=.baidu.com', 'Set-Cookie': 'BAIDUID=1DF3E6E537DA076699343C041BCE0A54:FG=1; max-age=31536000; expires=Fri, 30-Jun-23 15:16:43 GMT; domain=.baidu.com; path=/; version=1; comment=bd', 'Set-Cookie': 'BDSVRTM=0; path=/', 'Set-Cookie': 'BD_HOME=1; path=/', 'Set-Cookie': 'H_PS_PSSID=36547_36462_36726_36455_31254_34813_36691_36166_36693_36698_36570_36073_36746_26350_36469_36714; path=/; domain=.baidu.com', 'Traceid': '1656602203045120257012353633223966873565', 'X-Frame-Options': 'sameorigin', 'X-Ua-Compatible': 'IE=Edge,chrome=1', 'Transfer-Encoding': 'chunked')>\n",
      "\n",
      "等待？\n",
      "等到了？\n",
      "Get response from https://baidu.com/ Response <ClientResponse(http://www.baidu.com/) [200 OK]>\n",
      "<CIMultiDictProxy('Bdpagetype': '1', 'Bdqid': '0xb2f16caf00018311', 'Connection': 'keep-alive', 'Content-Encoding': 'gzip', 'Content-Type': 'text/html; charset=utf-8', 'Date': 'Thu, 30 Jun 2022 15:16:43 GMT', 'P3p': 'CP=\" OTI DSP COR IVA OUR IND COM \"', 'P3p': 'CP=\" OTI DSP COR IVA OUR IND COM \"', 'Server': 'BWS/1.1', 'Set-Cookie': 'BAIDUID=1DF3E6E537DA0766B6BBF8D709E24728:FG=1; expires=Thu, 31-Dec-37 23:55:55 GMT; max-age=2147483647; path=/; domain=.baidu.com', 'Set-Cookie': 'BIDUPSID=1DF3E6E537DA0766B6BBF8D709E24728; expires=Thu, 31-Dec-37 23:55:55 GMT; max-age=2147483647; path=/; domain=.baidu.com', 'Set-Cookie': 'PSTM=1656602203; expires=Thu, 31-Dec-37 23:55:55 GMT; max-age=2147483647; path=/; domain=.baidu.com', 'Set-Cookie': 'BAIDUID=1DF3E6E537DA07661C71878AC69C39EC:FG=1; max-age=31536000; expires=Fri, 30-Jun-23 15:16:43 GMT; domain=.baidu.com; path=/; version=1; comment=bd', 'Set-Cookie': 'BDSVRTM=0; path=/', 'Set-Cookie': 'BD_HOME=1; path=/', 'Set-Cookie': 'H_PS_PSSID=36546_36726_36454_31254_34812_36692_36167_36694_36696_36569_36730_36745_26350_36467_36716; path=/; domain=.baidu.com', 'Traceid': '1656602203019947879412894206707013616401', 'X-Frame-Options': 'sameorigin', 'X-Ua-Compatible': 'IE=Edge,chrome=1', 'Transfer-Encoding': 'chunked')>\n",
      "\n",
      "等待？\n",
      "等到了？\n",
      "Get response from https://baidu.com/ Response <ClientResponse(http://www.baidu.com/) [200 OK]>\n",
      "<CIMultiDictProxy('Bdpagetype': '1', 'Bdqid': '0xdaaeedc80006158f', 'Cache-Control': 'private', 'Connection': 'keep-alive', 'Content-Encoding': 'gzip', 'Content-Type': 'text/html;charset=utf-8', 'Date': 'Thu, 30 Jun 2022 15:16:43 GMT', 'Expires': 'Thu, 30 Jun 2022 15:16:04 GMT', 'P3p': 'CP=\" OTI DSP COR IVA OUR IND COM \"', 'P3p': 'CP=\" OTI DSP COR IVA OUR IND COM \"', 'Server': 'BWS/1.1', 'Set-Cookie': 'BAIDUID=1DF3E6E537DA07664393EFD86F0C993B:FG=1; expires=Thu, 31-Dec-37 23:55:55 GMT; max-age=2147483647; path=/; domain=.baidu.com', 'Set-Cookie': 'BIDUPSID=1DF3E6E537DA07664393EFD86F0C993B; expires=Thu, 31-Dec-37 23:55:55 GMT; max-age=2147483647; path=/; domain=.baidu.com', 'Set-Cookie': 'PSTM=1656602203; expires=Thu, 31-Dec-37 23:55:55 GMT; max-age=2147483647; path=/; domain=.baidu.com', 'Set-Cookie': 'BAIDUID=1DF3E6E537DA0766BE40BA73C1EBEF89:FG=1; max-age=31536000; expires=Fri, 30-Jun-23 15:16:43 GMT; domain=.baidu.com; path=/; version=1; comment=bd', 'Set-Cookie': 'BDSVRTM=0; path=/', 'Set-Cookie': 'BD_HOME=1; path=/', 'Set-Cookie': 'H_PS_PSSID=36559_36726_36454_31253_34813_36692_36165_36694_36696_36570_36075_36745_26350_36469; path=/; domain=.baidu.com', 'Traceid': '1656602203048456039415757793589465585039', 'X-Frame-Options': 'sameorigin', 'X-Ua-Compatible': 'IE=Edge,chrome=1', 'Transfer-Encoding': 'chunked')>\n",
      "\n",
      "等待？\n",
      "等到了？\n",
      "Get response from https://baidu.com/ Response <ClientResponse(http://www.baidu.com/) [200 OK]>\n",
      "<CIMultiDictProxy('Bdpagetype': '1', 'Bdqid': '0xb8066de90006964d', 'Connection': 'keep-alive', 'Content-Encoding': 'gzip', 'Content-Type': 'text/html; charset=utf-8', 'Date': 'Thu, 30 Jun 2022 15:16:43 GMT', 'P3p': 'CP=\" OTI DSP COR IVA OUR IND COM \"', 'P3p': 'CP=\" OTI DSP COR IVA OUR IND COM \"', 'Server': 'BWS/1.1', 'Set-Cookie': 'BAIDUID=1DF3E6E537DA07660F2070BFB01064AB:FG=1; expires=Thu, 31-Dec-37 23:55:55 GMT; max-age=2147483647; path=/; domain=.baidu.com', 'Set-Cookie': 'BIDUPSID=1DF3E6E537DA07660F2070BFB01064AB; expires=Thu, 31-Dec-37 23:55:55 GMT; max-age=2147483647; path=/; domain=.baidu.com', 'Set-Cookie': 'PSTM=1656602203; expires=Thu, 31-Dec-37 23:55:55 GMT; max-age=2147483647; path=/; domain=.baidu.com', 'Set-Cookie': 'BAIDUID=1DF3E6E537DA0766A7BEEC463474CE4A:FG=1; max-age=31536000; expires=Fri, 30-Jun-23 15:16:43 GMT; domain=.baidu.com; path=/; version=1; comment=bd', 'Set-Cookie': 'BDSVRTM=0; path=/', 'Set-Cookie': 'BD_HOME=1; path=/', 'Set-Cookie': 'H_PS_PSSID=36556_36461_36726_36454_36453_36691_36166_36694_36696_36569_36742_26350_36469_36714; path=/; domain=.baidu.com', 'Traceid': '1656602203024981044213260407000334243405', 'X-Frame-Options': 'sameorigin', 'X-Ua-Compatible': 'IE=Edge,chrome=1', 'Transfer-Encoding': 'chunked')>\n",
      "\n",
      "等待？\n",
      "等到了？\n",
      "Get response from https://baidu.com/ Response <ClientResponse(http://www.baidu.com/) [200 OK]>\n",
      "<CIMultiDictProxy('Bdpagetype': '1', 'Bdqid': '0xf4c2c97400066fde', 'Cache-Control': 'private', 'Connection': 'keep-alive', 'Content-Encoding': 'gzip', 'Content-Type': 'text/html;charset=utf-8', 'Date': 'Thu, 30 Jun 2022 15:16:43 GMT', 'Expires': 'Thu, 30 Jun 2022 15:16:42 GMT', 'P3p': 'CP=\" OTI DSP COR IVA OUR IND COM \"', 'P3p': 'CP=\" OTI DSP COR IVA OUR IND COM \"', 'Server': 'BWS/1.1', 'Set-Cookie': 'BAIDUID=1DF3E6E537DA07667CA91EF6B570201D:FG=1; expires=Thu, 31-Dec-37 23:55:55 GMT; max-age=2147483647; path=/; domain=.baidu.com', 'Set-Cookie': 'BIDUPSID=1DF3E6E537DA07667CA91EF6B570201D; expires=Thu, 31-Dec-37 23:55:55 GMT; max-age=2147483647; path=/; domain=.baidu.com', 'Set-Cookie': 'PSTM=1656602203; expires=Thu, 31-Dec-37 23:55:55 GMT; max-age=2147483647; path=/; domain=.baidu.com', 'Set-Cookie': 'BAIDUID=1DF3E6E537DA0766D8818140A90FB534:FG=1; max-age=31536000; expires=Fri, 30-Jun-23 15:16:43 GMT; domain=.baidu.com; path=/; version=1; comment=bd', 'Set-Cookie': 'BDSVRTM=0; path=/', 'Set-Cookie': 'BD_HOME=1; path=/', 'Set-Cookie': 'H_PS_PSSID=36559_36465_36726_36455_34812_36690_36166_36695_36698_36570_36652_36739_26350_36468_36718; path=/; domain=.baidu.com', 'Traceid': '1656602203021625601017636880590790094814', 'X-Frame-Options': 'sameorigin', 'X-Ua-Compatible': 'IE=Edge,chrome=1', 'Transfer-Encoding': 'chunked')>\n",
      "\n",
      "等待？\n",
      "等到了？\n",
      "Get response from https://baidu.com/ Response <ClientResponse(http://www.baidu.com/) [200 OK]>\n",
      "<CIMultiDictProxy('Bdpagetype': '1', 'Bdqid': '0xeba3f1b90001902b', 'Cache-Control': 'private', 'Connection': 'keep-alive', 'Content-Encoding': 'gzip', 'Content-Type': 'text/html;charset=utf-8', 'Date': 'Thu, 30 Jun 2022 15:16:43 GMT', 'Expires': 'Thu, 30 Jun 2022 15:15:44 GMT', 'P3p': 'CP=\" OTI DSP COR IVA OUR IND COM \"', 'P3p': 'CP=\" OTI DSP COR IVA OUR IND COM \"', 'Server': 'BWS/1.1', 'Set-Cookie': 'BAIDUID=1DF3E6E537DA076660D6534DA32DBED6:FG=1; expires=Thu, 31-Dec-37 23:55:55 GMT; max-age=2147483647; path=/; domain=.baidu.com', 'Set-Cookie': 'BIDUPSID=1DF3E6E537DA076660D6534DA32DBED6; expires=Thu, 31-Dec-37 23:55:55 GMT; max-age=2147483647; path=/; domain=.baidu.com', 'Set-Cookie': 'PSTM=1656602203; expires=Thu, 31-Dec-37 23:55:55 GMT; max-age=2147483647; path=/; domain=.baidu.com', 'Set-Cookie': 'BAIDUID=1DF3E6E537DA07669B205900C18D4444:FG=1; max-age=31536000; expires=Fri, 30-Jun-23 15:16:43 GMT; domain=.baidu.com; path=/; version=1; comment=bd', 'Set-Cookie': 'BDSVRTM=0; path=/', 'Set-Cookie': 'BD_HOME=1; path=/', 'Set-Cookie': 'H_PS_PSSID=36547_36624_36726_36454_31254_34812_36692_36167_36694_36697_36570_36653_36746_26350_36469_36716; path=/; domain=.baidu.com', 'Traceid': '1656602203085392129016979680796988248107', 'X-Frame-Options': 'sameorigin', 'X-Ua-Compatible': 'IE=Edge,chrome=1', 'Transfer-Encoding': 'chunked')>\n",
      "\n",
      "等待？\n",
      "等到了？\n",
      "Get response from https://baidu.com/ Response <ClientResponse(http://www.baidu.com/) [200 OK]>\n",
      "<CIMultiDictProxy('Bdpagetype': '1', 'Bdqid': '0xcc8e51d300067143', 'Connection': 'keep-alive', 'Content-Encoding': 'gzip', 'Content-Type': 'text/html; charset=utf-8', 'Date': 'Thu, 30 Jun 2022 15:16:43 GMT', 'P3p': 'CP=\" OTI DSP COR IVA OUR IND COM \"', 'P3p': 'CP=\" OTI DSP COR IVA OUR IND COM \"', 'Server': 'BWS/1.1', 'Set-Cookie': 'BAIDUID=1DF3E6E537DA0766EB65BE3AC75DA614:FG=1; expires=Thu, 31-Dec-37 23:55:55 GMT; max-age=2147483647; path=/; domain=.baidu.com', 'Set-Cookie': 'BIDUPSID=1DF3E6E537DA0766EB65BE3AC75DA614; expires=Thu, 31-Dec-37 23:55:55 GMT; max-age=2147483647; path=/; domain=.baidu.com', 'Set-Cookie': 'PSTM=1656602203; expires=Thu, 31-Dec-37 23:55:55 GMT; max-age=2147483647; path=/; domain=.baidu.com', 'Set-Cookie': 'BAIDUID=1DF3E6E537DA0766DB583B18E3B73582:FG=1; max-age=31536000; expires=Fri, 30-Jun-23 15:16:43 GMT; domain=.baidu.com; path=/; version=1; comment=bd', 'Set-Cookie': 'BDSVRTM=0; path=/', 'Set-Cookie': 'BD_HOME=1; path=/', 'Set-Cookie': 'H_PS_PSSID=36559_36625_36726_36454_31254_34812_36691_36167_36695_36697_36569_36267_36744_26350_36468_36712; path=/; domain=.baidu.com', 'Traceid': '1656602203078661581814739808597110583619', 'X-Frame-Options': 'sameorigin', 'X-Ua-Compatible': 'IE=Edge,chrome=1', 'Transfer-Encoding': 'chunked')>\n",
      "\n",
      "等待？\n",
      "等到了？\n",
      "Get response from https://baidu.com/ Response <ClientResponse(http://www.baidu.com/) [200 OK]>\n",
      "<CIMultiDictProxy('Bdpagetype': '1', 'Bdqid': '0xd7ae4f9c00029b7a', 'Cache-Control': 'private', 'Connection': 'keep-alive', 'Content-Encoding': 'gzip', 'Content-Type': 'text/html;charset=utf-8', 'Date': 'Thu, 30 Jun 2022 15:16:44 GMT', 'Expires': 'Thu, 30 Jun 2022 15:16:03 GMT', 'P3p': 'CP=\" OTI DSP COR IVA OUR IND COM \"', 'P3p': 'CP=\" OTI DSP COR IVA OUR IND COM \"', 'Server': 'BWS/1.1', 'Set-Cookie': 'BAIDUID=7E37F9FAA0196D420DDF62B2DAFFF999:FG=1; expires=Thu, 31-Dec-37 23:55:55 GMT; max-age=2147483647; path=/; domain=.baidu.com', 'Set-Cookie': 'BIDUPSID=7E37F9FAA0196D420DDF62B2DAFFF999; expires=Thu, 31-Dec-37 23:55:55 GMT; max-age=2147483647; path=/; domain=.baidu.com', 'Set-Cookie': 'PSTM=1656602204; expires=Thu, 31-Dec-37 23:55:55 GMT; max-age=2147483647; path=/; domain=.baidu.com', 'Set-Cookie': 'BAIDUID=7E37F9FAA0196D42F4DB5A2574EBCD6C:FG=1; max-age=31536000; expires=Fri, 30-Jun-23 15:16:44 GMT; domain=.baidu.com; path=/; version=1; comment=bd', 'Set-Cookie': 'BDSVRTM=0; path=/', 'Set-Cookie': 'BD_HOME=1; path=/', 'Set-Cookie': 'H_PS_PSSID=36558_36726_36455_34813_36690_36165_36694_36696_36570_36746_26350_36468; path=/; domain=.baidu.com', 'Traceid': '1656602204035053927415541446895535823738', 'X-Frame-Options': 'sameorigin', 'X-Ua-Compatible': 'IE=Edge,chrome=1', 'Transfer-Encoding': 'chunked')>\n",
      "\n",
      "等待？\n",
      "等到了？\n",
      "Get response from https://baidu.com/ Response <ClientResponse(http://www.baidu.com/) [200 OK]>\n",
      "<CIMultiDictProxy('Bdpagetype': '1', 'Bdqid': '0x9ec3f1ff00068974', 'Connection': 'keep-alive', 'Content-Encoding': 'gzip', 'Content-Type': 'text/html; charset=utf-8', 'Date': 'Thu, 30 Jun 2022 15:16:44 GMT', 'P3p': 'CP=\" OTI DSP COR IVA OUR IND COM \"', 'P3p': 'CP=\" OTI DSP COR IVA OUR IND COM \"', 'Server': 'BWS/1.1', 'Set-Cookie': 'BAIDUID=7E37F9FAA0196D42121ECD2C57D9F56F:FG=1; expires=Thu, 31-Dec-37 23:55:55 GMT; max-age=2147483647; path=/; domain=.baidu.com', 'Set-Cookie': 'BIDUPSID=7E37F9FAA0196D42121ECD2C57D9F56F; expires=Thu, 31-Dec-37 23:55:55 GMT; max-age=2147483647; path=/; domain=.baidu.com', 'Set-Cookie': 'PSTM=1656602204; expires=Thu, 31-Dec-37 23:55:55 GMT; max-age=2147483647; path=/; domain=.baidu.com', 'Set-Cookie': 'BAIDUID=7E37F9FAA0196D4203509E6FABAC735B:FG=1; max-age=31536000; expires=Fri, 30-Jun-23 15:16:44 GMT; domain=.baidu.com; path=/; version=1; comment=bd', 'Set-Cookie': 'BDSVRTM=0; path=/', 'Set-Cookie': 'BD_HOME=1; path=/', 'Set-Cookie': 'H_PS_PSSID=36552_36625_36726_36454_36453_36691_36165_36695_36698_36569_36074_36746_26350_36469_36717; path=/; domain=.baidu.com', 'Traceid': '1656602204046804532211440253555970574708', 'X-Frame-Options': 'sameorigin', 'X-Ua-Compatible': 'IE=Edge,chrome=1', 'Transfer-Encoding': 'chunked')>\n",
      "\n",
      "等待？\n",
      "等到了？\n",
      "Get response from https://baidu.com/ Response <ClientResponse(http://www.baidu.com/) [200 OK]>\n",
      "<CIMultiDictProxy('Bdpagetype': '1', 'Bdqid': '0xd96f4db30003090d', 'Cache-Control': 'private', 'Connection': 'keep-alive', 'Content-Encoding': 'gzip', 'Content-Type': 'text/html;charset=utf-8', 'Date': 'Thu, 30 Jun 2022 15:16:44 GMT', 'Expires': 'Thu, 30 Jun 2022 15:16:18 GMT', 'P3p': 'CP=\" OTI DSP COR IVA OUR IND COM \"', 'P3p': 'CP=\" OTI DSP COR IVA OUR IND COM \"', 'Server': 'BWS/1.1', 'Set-Cookie': 'BAIDUID=7E37F9FAA0196D42E813B75FC93F04B7:FG=1; expires=Thu, 31-Dec-37 23:55:55 GMT; max-age=2147483647; path=/; domain=.baidu.com', 'Set-Cookie': 'BIDUPSID=7E37F9FAA0196D42E813B75FC93F04B7; expires=Thu, 31-Dec-37 23:55:55 GMT; max-age=2147483647; path=/; domain=.baidu.com', 'Set-Cookie': 'PSTM=1656602204; expires=Thu, 31-Dec-37 23:55:55 GMT; max-age=2147483647; path=/; domain=.baidu.com', 'Set-Cookie': 'BAIDUID=7E37F9FAA0196D42C1500A00FF872A3A:FG=1; max-age=31536000; expires=Fri, 30-Jun-23 15:16:44 GMT; domain=.baidu.com; path=/; version=1; comment=bd', 'Set-Cookie': 'BDSVRTM=0; path=/', 'Set-Cookie': 'BD_HOME=1; path=/', 'Set-Cookie': 'H_PS_PSSID=36552_36625_36726_36454_36692_36167_36693_36697_36570_36073_36745_26350_36469_36712; path=/; domain=.baidu.com', 'Traceid': '1656602204043422874615667827059839928589', 'X-Frame-Options': 'sameorigin', 'X-Ua-Compatible': 'IE=Edge,chrome=1', 'Transfer-Encoding': 'chunked')>\n",
      "\n",
      "等待？\n",
      "等到了？\n",
      "Get response from https://baidu.com/ Response <ClientResponse(http://www.baidu.com/) [200 OK]>\n",
      "<CIMultiDictProxy('Bdpagetype': '1', 'Bdqid': '0xd96f4db300030911', 'Cache-Control': 'private', 'Connection': 'keep-alive', 'Content-Encoding': 'gzip', 'Content-Type': 'text/html;charset=utf-8', 'Date': 'Thu, 30 Jun 2022 15:16:44 GMT', 'Expires': 'Thu, 30 Jun 2022 15:16:18 GMT', 'P3p': 'CP=\" OTI DSP COR IVA OUR IND COM \"', 'P3p': 'CP=\" OTI DSP COR IVA OUR IND COM \"', 'Server': 'BWS/1.1', 'Set-Cookie': 'BAIDUID=7E37F9FAA0196D4246D312625D8FBBED:FG=1; expires=Thu, 31-Dec-37 23:55:55 GMT; max-age=2147483647; path=/; domain=.baidu.com', 'Set-Cookie': 'BIDUPSID=7E37F9FAA0196D4246D312625D8FBBED; expires=Thu, 31-Dec-37 23:55:55 GMT; max-age=2147483647; path=/; domain=.baidu.com', 'Set-Cookie': 'PSTM=1656602204; expires=Thu, 31-Dec-37 23:55:55 GMT; max-age=2147483647; path=/; domain=.baidu.com', 'Set-Cookie': 'BAIDUID=7E37F9FAA0196D42A85AF8B627AD56C6:FG=1; max-age=31536000; expires=Fri, 30-Jun-23 15:16:44 GMT; domain=.baidu.com; path=/; version=1; comment=bd', 'Set-Cookie': 'BDSVRTM=0; path=/', 'Set-Cookie': 'BD_HOME=1; path=/', 'Set-Cookie': 'H_PS_PSSID=36557_36626_36726_36455_31254_36452_36692_36165_36695_36696_36570_36074_36746_26350_36467_36717; path=/; domain=.baidu.com', 'Traceid': '1656602204043422874615667827059839928593', 'X-Frame-Options': 'sameorigin', 'X-Ua-Compatible': 'IE=Edge,chrome=1', 'Transfer-Encoding': 'chunked')>\n",
      "\n",
      "等待？\n",
      "等到了？\n",
      "Get response from https://baidu.com/ Response <ClientResponse(http://www.baidu.com/) [200 OK]>\n",
      "<CIMultiDictProxy('Bdpagetype': '1', 'Bdqid': '0xce24c76c000641f2', 'Connection': 'keep-alive', 'Content-Encoding': 'gzip', 'Content-Type': 'text/html; charset=utf-8', 'Date': 'Thu, 30 Jun 2022 15:16:44 GMT', 'P3p': 'CP=\" OTI DSP COR IVA OUR IND COM \"', 'P3p': 'CP=\" OTI DSP COR IVA OUR IND COM \"', 'Server': 'BWS/1.1', 'Set-Cookie': 'BAIDUID=7E37F9FAA0196D421AA4CAFCF246F44F:FG=1; expires=Thu, 31-Dec-37 23:55:55 GMT; max-age=2147483647; path=/; domain=.baidu.com', 'Set-Cookie': 'BIDUPSID=7E37F9FAA0196D421AA4CAFCF246F44F; expires=Thu, 31-Dec-37 23:55:55 GMT; max-age=2147483647; path=/; domain=.baidu.com', 'Set-Cookie': 'PSTM=1656602204; expires=Thu, 31-Dec-37 23:55:55 GMT; max-age=2147483647; path=/; domain=.baidu.com', 'Set-Cookie': 'BAIDUID=7E37F9FAA0196D42717D65C2319C3A2A:FG=1; max-age=31536000; expires=Fri, 30-Jun-23 15:16:44 GMT; domain=.baidu.com; path=/; version=1; comment=bd', 'Set-Cookie': 'BDSVRTM=0; path=/', 'Set-Cookie': 'BD_HOME=1; path=/', 'Set-Cookie': 'H_PS_PSSID=36547_36626_36726_36455_36690_36167_36694_36696_36569_36074_36746_26350_36469_36712; path=/; domain=.baidu.com', 'Traceid': '1656602204082023578614854216737645543922', 'X-Frame-Options': 'sameorigin', 'X-Ua-Compatible': 'IE=Edge,chrome=1', 'Transfer-Encoding': 'chunked')>\n",
      "\n",
      "等待？\n",
      "等到了？\n",
      "Get response from https://baidu.com/ Response <ClientResponse(http://www.baidu.com/) [200 OK]>\n",
      "<CIMultiDictProxy('Bdpagetype': '1', 'Bdqid': '0x8e3326a80001abd0', 'Connection': 'keep-alive', 'Content-Encoding': 'gzip', 'Content-Type': 'text/html; charset=utf-8', 'Date': 'Thu, 30 Jun 2022 15:16:44 GMT', 'P3p': 'CP=\" OTI DSP COR IVA OUR IND COM \"', 'P3p': 'CP=\" OTI DSP COR IVA OUR IND COM \"', 'Server': 'BWS/1.1', 'Set-Cookie': 'BAIDUID=7E37F9FAA0196D42D146D79DE26BB5D2:FG=1; expires=Thu, 31-Dec-37 23:55:55 GMT; max-age=2147483647; path=/; domain=.baidu.com', 'Set-Cookie': 'BIDUPSID=7E37F9FAA0196D42D146D79DE26BB5D2; expires=Thu, 31-Dec-37 23:55:55 GMT; max-age=2147483647; path=/; domain=.baidu.com', 'Set-Cookie': 'PSTM=1656602204; expires=Thu, 31-Dec-37 23:55:55 GMT; max-age=2147483647; path=/; domain=.baidu.com', 'Set-Cookie': 'BAIDUID=7E37F9FAA0196D421562F4BCDB51A7A3:FG=1; max-age=31536000; expires=Fri, 30-Jun-23 15:16:44 GMT; domain=.baidu.com; path=/; version=1; comment=bd', 'Set-Cookie': 'BDSVRTM=0; path=/', 'Set-Cookie': 'BD_HOME=1; path=/', 'Set-Cookie': 'H_PS_PSSID=36546_36726_36455_31254_36452_36692_36165_36693_36696_36569_36073_36741_26350_36468; path=/; domain=.baidu.com', 'Traceid': '1656602204090412186610246576080194481104', 'X-Frame-Options': 'sameorigin', 'X-Ua-Compatible': 'IE=Edge,chrome=1', 'Transfer-Encoding': 'chunked')>\n",
      "\n",
      "等待？\n",
      "等到了？\n",
      "Get response from https://baidu.com/ Response <ClientResponse(http://www.baidu.com/) [200 OK]>\n",
      "<CIMultiDictProxy('Bdpagetype': '1', 'Bdqid': '0x960b981700005b28', 'Connection': 'keep-alive', 'Content-Encoding': 'gzip', 'Content-Type': 'text/html; charset=utf-8', 'Date': 'Thu, 30 Jun 2022 15:16:44 GMT', 'P3p': 'CP=\" OTI DSP COR IVA OUR IND COM \"', 'P3p': 'CP=\" OTI DSP COR IVA OUR IND COM \"', 'Server': 'BWS/1.1', 'Set-Cookie': 'BAIDUID=7E37F9FAA0196D42E83F440996B51428:FG=1; expires=Thu, 31-Dec-37 23:55:55 GMT; max-age=2147483647; path=/; domain=.baidu.com', 'Set-Cookie': 'BIDUPSID=7E37F9FAA0196D42E83F440996B51428; expires=Thu, 31-Dec-37 23:55:55 GMT; max-age=2147483647; path=/; domain=.baidu.com', 'Set-Cookie': 'PSTM=1656602204; expires=Thu, 31-Dec-37 23:55:55 GMT; max-age=2147483647; path=/; domain=.baidu.com', 'Set-Cookie': 'BAIDUID=7E37F9FAA0196D4295C783B02BF2D69E:FG=1; max-age=31536000; expires=Fri, 30-Jun-23 15:16:44 GMT; domain=.baidu.com; path=/; version=1; comment=bd', 'Set-Cookie': 'BDSVRTM=0; path=/', 'Set-Cookie': 'BD_HOME=1; path=/', 'Set-Cookie': 'H_PS_PSSID=36557_36726_36454_31253_36692_36165_36693_36698_36569_36075_36746_26350_36469_36651; path=/; domain=.baidu.com', 'Traceid': '1656602204065239809010811902554984700712', 'X-Frame-Options': 'sameorigin', 'X-Ua-Compatible': 'IE=Edge,chrome=1', 'Transfer-Encoding': 'chunked')>\n",
      "\n",
      "等待？\n",
      "等到了？\n",
      "Get response from https://baidu.com/ Response <ClientResponse(http://www.baidu.com/) [200 OK]>\n",
      "<CIMultiDictProxy('Bdpagetype': '1', 'Bdqid': '0xb942b95a0000282c', 'Cache-Control': 'private', 'Connection': 'keep-alive', 'Content-Encoding': 'gzip', 'Content-Type': 'text/html;charset=utf-8', 'Date': 'Thu, 30 Jun 2022 15:16:44 GMT', 'Expires': 'Thu, 30 Jun 2022 15:16:22 GMT', 'P3p': 'CP=\" OTI DSP COR IVA OUR IND COM \"', 'P3p': 'CP=\" OTI DSP COR IVA OUR IND COM \"', 'Server': 'BWS/1.1', 'Set-Cookie': 'BAIDUID=7E37F9FAA0196D4219C82DA649679579:FG=1; expires=Thu, 31-Dec-37 23:55:55 GMT; max-age=2147483647; path=/; domain=.baidu.com', 'Set-Cookie': 'BIDUPSID=7E37F9FAA0196D4219C82DA649679579; expires=Thu, 31-Dec-37 23:55:55 GMT; max-age=2147483647; path=/; domain=.baidu.com', 'Set-Cookie': 'PSTM=1656602204; expires=Thu, 31-Dec-37 23:55:55 GMT; max-age=2147483647; path=/; domain=.baidu.com', 'Set-Cookie': 'BAIDUID=7E37F9FAA0196D4270C969249C2AF21F:FG=1; max-age=31536000; expires=Fri, 30-Jun-23 15:16:44 GMT; domain=.baidu.com; path=/; version=1; comment=bd', 'Set-Cookie': 'BDSVRTM=0; path=/', 'Set-Cookie': 'BD_HOME=1; path=/', 'Set-Cookie': 'H_PS_PSSID=36556_36726_36455_31254_36452_36692_36165_36695_36698_36570_36074_36267_36739_26350_36469_36716; path=/; domain=.baidu.com', 'Traceid': '1656602204070286081013349436041677776940', 'X-Frame-Options': 'sameorigin', 'X-Ua-Compatible': 'IE=Edge,chrome=1', 'Transfer-Encoding': 'chunked')>\n",
      "\n",
      "等待？\n",
      "等到了？\n",
      "Get response from https://baidu.com/ Response <ClientResponse(http://www.baidu.com/) [200 OK]>\n",
      "<CIMultiDictProxy('Bdpagetype': '1', 'Bdqid': '0xf0d8639200019552', 'Connection': 'keep-alive', 'Content-Encoding': 'gzip', 'Content-Type': 'text/html; charset=utf-8', 'Date': 'Thu, 30 Jun 2022 15:16:44 GMT', 'P3p': 'CP=\" OTI DSP COR IVA OUR IND COM \"', 'P3p': 'CP=\" OTI DSP COR IVA OUR IND COM \"', 'Server': 'BWS/1.1', 'Set-Cookie': 'BAIDUID=7E37F9FAA0196D42E2B5645E243037E9:FG=1; expires=Thu, 31-Dec-37 23:55:55 GMT; max-age=2147483647; path=/; domain=.baidu.com', 'Set-Cookie': 'BIDUPSID=7E37F9FAA0196D42E2B5645E243037E9; expires=Thu, 31-Dec-37 23:55:55 GMT; max-age=2147483647; path=/; domain=.baidu.com', 'Set-Cookie': 'PSTM=1656602204; expires=Thu, 31-Dec-37 23:55:55 GMT; max-age=2147483647; path=/; domain=.baidu.com', 'Set-Cookie': 'BAIDUID=7E37F9FAA0196D4216B53E25C60B7BB1:FG=1; max-age=31536000; expires=Fri, 30-Jun-23 15:16:44 GMT; domain=.baidu.com; path=/; version=1; comment=bd', 'Set-Cookie': 'BDSVRTM=0; path=/', 'Set-Cookie': 'BD_HOME=1; path=/', 'Set-Cookie': 'H_PS_PSSID=36560_36624_36726_36454_31253_34812_36690_36165_36698_36569_36745_26350_36469_36714; path=/; domain=.baidu.com', 'Traceid': '1656602204056851201017354730642788685138', 'X-Frame-Options': 'sameorigin', 'X-Ua-Compatible': 'IE=Edge,chrome=1', 'Transfer-Encoding': 'chunked')>\n",
      "\n",
      "🚨🚨🚨🚨🚨\n",
      "Cost time: 2.0180225372314453\n"
     ]
    }
   ],
   "source": [
    "import asyncio\n",
    "import aiohttp\n",
    "import requests\n",
    "import time\n",
    "\n",
    "start = time.time()\n",
    "\n",
    "async def get(url):\n",
    "    session = aiohttp.ClientSession()\n",
    "    response = await session.get(url)\n",
    "    print('等待？')\n",
    "    await response.text()\n",
    "    print('等到了？')\n",
    "    await session.close()\n",
    "    \n",
    "    return response\n",
    "\n",
    "async def request():\n",
    "    url = 'https://baidu.com/'\n",
    "    print('Waiting for', url)\n",
    "    response = await get(url)\n",
    "    print('Get response from', url, 'Response', response)\n",
    "\n",
    "\n",
    "tasks = [asyncio.ensure_future(request()) for i in range(20)]    # 定义 tasks 列表\n",
    "\n",
    "loop = asyncio.get_event_loop()     # 定义 事件循环\n",
    "print('🔆🔆🔆🔆🔆')\n",
    "# 将 tasks 注册到 事件循环 中, 然后启动\n",
    "loop.run_until_complete(asyncio.wait(tasks))\n",
    "print('🚨🚨🚨🚨🚨')\n",
    "\n",
    "\n",
    "end = time.time()\n",
    "print('Cost time:', end - start)"
   ]
  }
 ],
 "metadata": {
  "kernelspec": {
   "display_name": "Python 3.9.7 ('base')",
   "language": "python",
   "name": "python3"
  },
  "language_info": {
   "codemirror_mode": {
    "name": "ipython",
    "version": 3
   },
   "file_extension": ".py",
   "mimetype": "text/x-python",
   "name": "python",
   "nbconvert_exporter": "python",
   "pygments_lexer": "ipython3",
   "version": "3.9.7"
  },
  "orig_nbformat": 4,
  "vscode": {
   "interpreter": {
    "hash": "6a018d3a992d78c184ccc94ab54168c7b26325ed3c2283926339c3edbf5487e7"
   }
  }
 },
 "nbformat": 4,
 "nbformat_minor": 2
}
