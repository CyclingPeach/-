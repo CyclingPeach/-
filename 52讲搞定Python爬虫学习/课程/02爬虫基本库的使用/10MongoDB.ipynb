{
 "cells": [
  {
   "cell_type": "markdown",
   "metadata": {},
   "source": [
    "> MongoDB 是由 C++ 语言编写的非关系型数据库，是一个基于分布式文件存储的开源数据库系统，其内容存储形式类似 Json 对象，它的字段值可以包含其他文档，数组及文档数组，非常灵活。\n",
    "\n"
   ]
  },
  {
   "cell_type": "markdown",
   "metadata": {},
   "source": [
    "## 1.连接MongoDB"
   ]
  },
  {
   "cell_type": "code",
   "execution_count": 3,
   "metadata": {},
   "outputs": [],
   "source": [
    "import pymongo\n",
    "\n",
    "# 创建 MongoDB 对象\n",
    "client = pymongo.MongoClient('localhost', port=27017)\n",
    "# client = pymongo.MongoClient('mongodb://localhost:27017/')"
   ]
  },
  {
   "cell_type": "markdown",
   "metadata": {},
   "source": [
    "## 2.指定数据库"
   ]
  },
  {
   "cell_type": "code",
   "execution_count": 4,
   "metadata": {},
   "outputs": [],
   "source": [
    "db = client.test    # test 指的是数据库名\n",
    "# db = client['test']"
   ]
  },
  {
   "cell_type": "markdown",
   "metadata": {},
   "source": [
    "## 3.指定集合（`collection`）\n",
    "\n",
    "- `集合collection`类似关系型数据库中的`表table`"
   ]
  },
  {
   "cell_type": "code",
   "execution_count": 55,
   "metadata": {},
   "outputs": [],
   "source": [
    "collection = db.students\n",
    "# collection = db['students']"
   ]
  },
  {
   "cell_type": "markdown",
   "metadata": {},
   "source": [
    "## 4.插入数据"
   ]
  },
  {
   "cell_type": "code",
   "execution_count": 11,
   "metadata": {},
   "outputs": [
    {
     "name": "stdout",
     "output_type": "stream",
     "text": [
      "62a9824cc2bfa89e5422fb83\n"
     ]
    }
   ],
   "source": [
    "![图 1](../../../images/f881119a8bb859cfefc9e0d94b7a155c5ac9c1e435485aa251f930cb53787098.png)  \n",
    "student = {\n",
    "    'id':'20170101',\n",
    "    'name':'Jordan',\n",
    "    'age':20,\n",
    "    'gender':'male'\n",
    "}\n",
    "\n",
    "result = collection.insert_one(student)\n",
    "# collection.insert_one()   执行后返回  InsertOneResult 对象,包含inserted_id属性\n",
    "# collection.insert()\n",
    "# 注意区别，现在不再使用insert()方法了\n",
    "\n",
    "print(result.inserted_id)"
   ]
  },
  {
   "cell_type": "markdown",
   "metadata": {},
   "source": [
    "![图 2](../../../images/f881119a8bb859cfefc9e0d94b7a155c5ac9c1e435485aa251f930cb53787098.png)  \n"
   ]
  },
  {
   "cell_type": "code",
   "execution_count": 17,
   "metadata": {},
   "outputs": [
    {
     "ename": "TypeError",
     "evalue": "'Collection' object is not callable. If you meant to call the 'inserts' method on a 'Collection' object it is failing because no such method exists.",
     "output_type": "error",
     "traceback": [
      "\u001b[1;31m---------------------------------------------------------------------------\u001b[0m",
      "\u001b[1;31mTypeError\u001b[0m                                 Traceback (most recent call last)",
      "\u001b[1;32m~\\AppData\\Local\\Temp/ipykernel_12356/145625400.py\u001b[0m in \u001b[0;36m<module>\u001b[1;34m\u001b[0m\n\u001b[0;32m     13\u001b[0m }\n\u001b[0;32m     14\u001b[0m \u001b[1;33m\u001b[0m\u001b[0m\n\u001b[1;32m---> 15\u001b[1;33m \u001b[0mresult\u001b[0m \u001b[1;33m=\u001b[0m \u001b[0mcollection\u001b[0m\u001b[1;33m.\u001b[0m\u001b[0minserts\u001b[0m\u001b[1;33m(\u001b[0m\u001b[1;33m[\u001b[0m\u001b[0mstudent1\u001b[0m\u001b[1;33m,\u001b[0m \u001b[0mstudent2\u001b[0m\u001b[1;33m]\u001b[0m\u001b[1;33m)\u001b[0m\u001b[1;33m\u001b[0m\u001b[1;33m\u001b[0m\u001b[0m\n\u001b[0m\u001b[0;32m     16\u001b[0m \u001b[0mprint\u001b[0m\u001b[1;33m(\u001b[0m\u001b[0mresult\u001b[0m\u001b[1;33m)\u001b[0m\u001b[1;33m\u001b[0m\u001b[1;33m\u001b[0m\u001b[0m\n",
      "\u001b[1;32md:\\Software\\Anaconda3\\lib\\site-packages\\pymongo\\collection.py\u001b[0m in \u001b[0;36m__call__\u001b[1;34m(self, *args, **kwargs)\u001b[0m\n\u001b[0;32m   3164\u001b[0m                 \u001b[1;34m\"exists.\"\u001b[0m \u001b[1;33m%\u001b[0m \u001b[0mself\u001b[0m\u001b[1;33m.\u001b[0m\u001b[0m__name\u001b[0m\u001b[1;33m\u001b[0m\u001b[1;33m\u001b[0m\u001b[0m\n\u001b[0;32m   3165\u001b[0m             )\n\u001b[1;32m-> 3166\u001b[1;33m         raise TypeError(\n\u001b[0m\u001b[0;32m   3167\u001b[0m             \u001b[1;34m\"'Collection' object is not callable. If you meant to \"\u001b[0m\u001b[1;33m\u001b[0m\u001b[1;33m\u001b[0m\u001b[0m\n\u001b[0;32m   3168\u001b[0m             \u001b[1;34m\"call the '%s' method on a 'Collection' object it is \"\u001b[0m\u001b[1;33m\u001b[0m\u001b[1;33m\u001b[0m\u001b[0m\n",
      "\u001b[1;31mTypeError\u001b[0m: 'Collection' object is not callable. If you meant to call the 'inserts' method on a 'Collection' object it is failing because no such method exists."
     ]
    }
   ],
   "source": [
    "student1 = {\n",
    "    'id':'20170101',\n",
    "    'name':'Jordan',\n",
    "    'age':20,\n",
    "    'gender':'male'\n",
    "}\n",
    "\n",
    "student2 = {\n",
    "    'id':'20170202',\n",
    "    'name':'Mike',\n",
    "    'age':21,\n",
    "    'gender':'male'\n",
    "}\n",
    "\n",
    "result = collection.insert([student1, student2])\n",
    "print(result)"
   ]
  },
  {
   "cell_type": "markdown",
   "metadata": {},
   "source": [
    "```\n",
    "TypeError: 'Collection' object is not callable. If you meant to call the 'inserts' method on a 'Collection' object it is failing because no such method exists.\n",
    "```\n",
    "\n",
    "- 官方文档说明\n",
    "[collection insert is removed](https://pymongo.readthedocs.io/en/stable/migrate-to-pymongo4.html#collection-insert-is-removed)"
   ]
  },
  {
   "cell_type": "code",
   "execution_count": 29,
   "metadata": {},
   "outputs": [
    {
     "name": "stdout",
     "output_type": "stream",
     "text": [
      "<pymongo.results.InsertManyResult object at 0x00000289DE1DCBB0>\n",
      "[ObjectId('62a98536c2bfa89e5422fb8c'), ObjectId('62a98536c2bfa89e5422fb8d')]\n"
     ]
    }
   ],
   "source": [
    "student1 = {\n",
    "    'id':'20170101',\n",
    "    'name':'Jordan',\n",
    "    'age':20,\n",
    "    'gender':'male'\n",
    "}\n",
    "\n",
    "student2 = {\n",
    "    'id':'20170202',\n",
    "    'name':'Mike',\n",
    "    'age':21,\n",
    "    'gender':'male'\n",
    "}\n",
    "\n",
    "result = collection.insert_many([student1, student2])\n",
    "print(result)\n",
    "print(result.inserted_ids)"
   ]
  },
  {
   "cell_type": "markdown",
   "metadata": {},
   "source": [
    "## 5.查询"
   ]
  },
  {
   "cell_type": "code",
   "execution_count": 31,
   "metadata": {},
   "outputs": [
    {
     "name": "stdout",
     "output_type": "stream",
     "text": [
      "<class 'dict'>\n",
      "{'_id': ObjectId('62a983d4c2bfa89e5422fb85'), 'id': '20170202', 'name': 'Mike', 'age': 21, 'gender': 'male'}\n"
     ]
    }
   ],
   "source": [
    "res = collection.find_one({'name':'Mike'})\n",
    "print(type(res))\n",
    "print(res)"
   ]
  },
  {
   "cell_type": "markdown",
   "metadata": {},
   "source": [
    "- 返回第一个结果\n",
    "![图 3](../../../images/f78baa23496b87f2a2af1e7621ffd4f8b94acb88e58e042435b38550a39b7623.png)  \n"
   ]
  },
  {
   "cell_type": "markdown",
   "metadata": {},
   "source": [
    "- 根据 `ObjectId` 查询"
   ]
  },
  {
   "cell_type": "code",
   "execution_count": 32,
   "metadata": {},
   "outputs": [
    {
     "name": "stdout",
     "output_type": "stream",
     "text": [
      "{'_id': ObjectId('62a983d4c2bfa89e5422fb85'), 'id': '20170202', 'name': 'Mike', 'age': 21, 'gender': 'male'}\n"
     ]
    }
   ],
   "source": [
    "from bson.objectid import ObjectId\n",
    "\n",
    "res = collection.find_one({'_id':ObjectId('62a983d4c2bfa89e5422fb85')})\n",
    "print(res)"
   ]
  },
  {
   "cell_type": "markdown",
   "metadata": {},
   "source": [
    ">多条数据查询\n",
    "\n",
    "- `col.find()`\n",
    "\n",
    "返回结果是 `Cursor` 类型"
   ]
  },
  {
   "cell_type": "code",
   "execution_count": 36,
   "metadata": {},
   "outputs": [
    {
     "name": "stdout",
     "output_type": "stream",
     "text": [
      "<class 'pymongo.cursor.Cursor'>\n",
      "{'_id': ObjectId('62a983d4c2bfa89e5422fb85'), 'id': '20170202', 'name': 'Mike', 'age': 21, 'gender': 'male'}\n",
      "{'_id': ObjectId('62a98515c2bfa89e5422fb87'), 'id': '20170202', 'name': 'Mike', 'age': 21, 'gender': 'male'}\n",
      "{'_id': ObjectId('62a9851dc2bfa89e5422fb89'), 'id': '20170202', 'name': 'Mike', 'age': 21, 'gender': 'male'}\n",
      "{'_id': ObjectId('62a98531c2bfa89e5422fb8b'), 'id': '20170202', 'name': 'Mike', 'age': 21, 'gender': 'male'}\n",
      "{'_id': ObjectId('62a98536c2bfa89e5422fb8d'), 'id': '20170202', 'name': 'Mike', 'age': 21, 'gender': 'male'}\n"
     ]
    }
   ],
   "source": [
    "res = collection.find({'name':'Mike'})\n",
    "print(type(res))\n",
    "for i in res:\n",
    "    print(i)"
   ]
  },
  {
   "cell_type": "markdown",
   "metadata": {},
   "source": [
    "> 查询年龄大于20的数据"
   ]
  },
  {
   "cell_type": "code",
   "execution_count": 38,
   "metadata": {},
   "outputs": [
    {
     "name": "stdout",
     "output_type": "stream",
     "text": [
      "{'_id': ObjectId('62a983d4c2bfa89e5422fb85'), 'id': '20170202', 'name': 'Mike', 'age': 21, 'gender': 'male'}\n",
      "{'_id': ObjectId('62a98515c2bfa89e5422fb87'), 'id': '20170202', 'name': 'Mike', 'age': 21, 'gender': 'male'}\n",
      "{'_id': ObjectId('62a9851dc2bfa89e5422fb89'), 'id': '20170202', 'name': 'Mike', 'age': 21, 'gender': 'male'}\n",
      "{'_id': ObjectId('62a98531c2bfa89e5422fb8b'), 'id': '20170202', 'name': 'Mike', 'age': 21, 'gender': 'male'}\n",
      "{'_id': ObjectId('62a98536c2bfa89e5422fb8d'), 'id': '20170202', 'name': 'Mike', 'age': 21, 'gender': 'male'}\n"
     ]
    }
   ],
   "source": [
    "res = collection.find({'age':{'$gt':20}})\n",
    "for i in res:\n",
    "    print(i)"
   ]
  },
  {
   "cell_type": "markdown",
   "metadata": {},
   "source": [
    "|符号|含义|示例|\n",
    "|:-:|:-:|:-:|\n",
    "|`$lt`|小于|`{'age':{'$lt:20'}}`|\n",
    "|`$gt`|大于|`{age':{'$gt':19}}`|\n",
    "|`$ne`|不等于|``|\n",
    "|`$in`|在范围内|`{'age':{'$in':[20, 23]}}`|\n",
    "|`$nin`|不再范围内|``|\n",
    "|`$lte`|小于等于|``|\n",
    "|`$gte`|大于等于|``|\n"
   ]
  },
  {
   "cell_type": "markdown",
   "metadata": {},
   "source": [
    "> 查询名字以 `M` 开头的学生数据"
   ]
  },
  {
   "cell_type": "code",
   "execution_count": 49,
   "metadata": {},
   "outputs": [
    {
     "data": {
      "text/plain": [
       "[{'_id': ObjectId('62a983d4c2bfa89e5422fb85'),\n",
       "  'id': '20170202',\n",
       "  'name': 'Mike',\n",
       "  'age': 21,\n",
       "  'gender': 'male'},\n",
       " {'_id': ObjectId('62a98515c2bfa89e5422fb87'),\n",
       "  'id': '20170202',\n",
       "  'name': 'Mike',\n",
       "  'age': 21,\n",
       "  'gender': 'male'},\n",
       " {'_id': ObjectId('62a9851dc2bfa89e5422fb89'),\n",
       "  'id': '20170202',\n",
       "  'name': 'Mike',\n",
       "  'age': 21,\n",
       "  'gender': 'male'},\n",
       " {'_id': ObjectId('62a98531c2bfa89e5422fb8b'),\n",
       "  'id': '20170202',\n",
       "  'name': 'Mike',\n",
       "  'age': 21,\n",
       "  'gender': 'male'},\n",
       " {'_id': ObjectId('62a98536c2bfa89e5422fb8d'),\n",
       "  'id': '20170202',\n",
       "  'name': 'Mike',\n",
       "  'age': 21,\n",
       "  'gender': 'male'}]"
      ]
     },
     "execution_count": 49,
     "metadata": {},
     "output_type": "execute_result"
    }
   ],
   "source": [
    "res = collection.find({'name':{'$regex':'^M.*'}})\n",
    "[i for i in res]"
   ]
  },
  {
   "cell_type": "markdown",
   "metadata": {},
   "source": [
    "![图 5](../../../images/ce0b9fe84e3d493d03199ec5ad936dd9889cf2d668fadbe6a71c5fd785a32bda.png)  \n"
   ]
  },
  {
   "cell_type": "code",
   "execution_count": 52,
   "metadata": {},
   "outputs": [
    {
     "data": {
      "text/plain": [
       "[{'_id': ObjectId('62a9815ec2bfa89e5422fb80'),\n",
       "  'id': '20170101',\n",
       "  'name': 'Jordan',\n",
       "  'age': 20,\n",
       "  'gender': 'male'},\n",
       " {'_id': ObjectId('62a98164c2bfa89e5422fb81'),\n",
       "  'id': '20170101',\n",
       "  'name': 'Jordan',\n",
       "  'age': 20,\n",
       "  'gender': 'male'},\n",
       " {'_id': ObjectId('62a98169c2bfa89e5422fb82'),\n",
       "  'id': '20170101',\n",
       "  'name': 'Jordan',\n",
       "  'age': 20,\n",
       "  'gender': 'male'},\n",
       " {'_id': ObjectId('62a9824cc2bfa89e5422fb83'),\n",
       "  'id': '20170101',\n",
       "  'name': 'Jordan',\n",
       "  'age': 20,\n",
       "  'gender': 'male'},\n",
       " {'_id': ObjectId('62a983d4c2bfa89e5422fb84'),\n",
       "  'id': '20170101',\n",
       "  'name': 'Jordan',\n",
       "  'age': 20,\n",
       "  'gender': 'male'},\n",
       " {'_id': ObjectId('62a983d4c2bfa89e5422fb85'),\n",
       "  'id': '20170202',\n",
       "  'name': 'Mike',\n",
       "  'age': 21,\n",
       "  'gender': 'male'},\n",
       " {'_id': ObjectId('62a98515c2bfa89e5422fb86'),\n",
       "  'id': '20170101',\n",
       "  'name': 'Jordan',\n",
       "  'age': 20,\n",
       "  'gender': 'male'},\n",
       " {'_id': ObjectId('62a98515c2bfa89e5422fb87'),\n",
       "  'id': '20170202',\n",
       "  'name': 'Mike',\n",
       "  'age': 21,\n",
       "  'gender': 'male'},\n",
       " {'_id': ObjectId('62a9851dc2bfa89e5422fb88'),\n",
       "  'id': '20170101',\n",
       "  'name': 'Jordan',\n",
       "  'age': 20,\n",
       "  'gender': 'male'},\n",
       " {'_id': ObjectId('62a9851dc2bfa89e5422fb89'),\n",
       "  'id': '20170202',\n",
       "  'name': 'Mike',\n",
       "  'age': 21,\n",
       "  'gender': 'male'},\n",
       " {'_id': ObjectId('62a98531c2bfa89e5422fb8a'),\n",
       "  'id': '20170101',\n",
       "  'name': 'Jordan',\n",
       "  'age': 20,\n",
       "  'gender': 'male'},\n",
       " {'_id': ObjectId('62a98531c2bfa89e5422fb8b'),\n",
       "  'id': '20170202',\n",
       "  'name': 'Mike',\n",
       "  'age': 21,\n",
       "  'gender': 'male'},\n",
       " {'_id': ObjectId('62a98536c2bfa89e5422fb8c'),\n",
       "  'id': '20170101',\n",
       "  'name': 'Jordan',\n",
       "  'age': 20,\n",
       "  'gender': 'male'},\n",
       " {'_id': ObjectId('62a98536c2bfa89e5422fb8d'),\n",
       "  'id': '20170202',\n",
       "  'name': 'Mike',\n",
       "  'age': 21,\n",
       "  'gender': 'male'}]"
      ]
     },
     "execution_count": 52,
     "metadata": {},
     "output_type": "execute_result"
    }
   ],
   "source": [
    "[i for i in collection.find({'name':{'$exists':True}})]"
   ]
  },
  {
   "cell_type": "markdown",
   "metadata": {},
   "source": [
    "## 6.计数"
   ]
  },
  {
   "cell_type": "code",
   "execution_count": 57,
   "metadata": {},
   "outputs": [
    {
     "ename": "AttributeError",
     "evalue": "'Cursor' object has no attribute 'count'",
     "output_type": "error",
     "traceback": [
      "\u001b[1;31m---------------------------------------------------------------------------\u001b[0m",
      "\u001b[1;31mAttributeError\u001b[0m                            Traceback (most recent call last)",
      "\u001b[1;32m~\\AppData\\Local\\Temp/ipykernel_12356/1909538921.py\u001b[0m in \u001b[0;36m<module>\u001b[1;34m\u001b[0m\n\u001b[1;32m----> 1\u001b[1;33m \u001b[0mcount\u001b[0m \u001b[1;33m=\u001b[0m \u001b[0mcollection\u001b[0m\u001b[1;33m.\u001b[0m\u001b[0mfind\u001b[0m\u001b[1;33m(\u001b[0m\u001b[1;33m{\u001b[0m\u001b[1;33m}\u001b[0m\u001b[1;33m)\u001b[0m\u001b[1;33m.\u001b[0m\u001b[0mcount\u001b[0m\u001b[1;33m(\u001b[0m\u001b[1;33m)\u001b[0m\u001b[1;33m\u001b[0m\u001b[1;33m\u001b[0m\u001b[0m\n\u001b[0m\u001b[0;32m      2\u001b[0m \u001b[0mcount\u001b[0m\u001b[1;33m\u001b[0m\u001b[1;33m\u001b[0m\u001b[0m\n",
      "\u001b[1;31mAttributeError\u001b[0m: 'Cursor' object has no attribute 'count'"
     ]
    }
   ],
   "source": [
    "count = collection.find({}).count()\n",
    "count"
   ]
  },
  {
   "cell_type": "markdown",
   "metadata": {},
   "source": [
    "```\n",
    "AttributeError: 'Cursor' object has no attribute 'count'\n",
    "```\n",
    "\n",
    "- 官方文档说明\n",
    "\n",
    "[Collection.count and Cursor.count is removed¶](https://pymongo.readthedocs.io/en/stable/migrate-to-pymongo4.html#collection-count-and-cursor-count-is-removed)\n",
    "\n",
    "\n",
    "```Python\n",
    "\n",
    "col.estimated_document_count()\n",
    "col.count_documents({'price':{'$gte':10}})\n",
    "```"
   ]
  },
  {
   "cell_type": "code",
   "execution_count": 64,
   "metadata": {},
   "outputs": [
    {
     "name": "stdout",
     "output_type": "stream",
     "text": [
      "14\n",
      "5\n"
     ]
    }
   ],
   "source": [
    "count1 = collection.estimated_document_count()\n",
    "count2 = collection.count_documents({'name':'Mike'})\n",
    "\n",
    "print(count1)\n",
    "print(count2)"
   ]
  },
  {
   "cell_type": "markdown",
   "metadata": {},
   "source": [
    "## 7.排序\n",
    "\n",
    "- `pymongo.ASCENDING`  升序\n",
    "\n",
    "- `pymongo.DESCENDING` 降序"
   ]
  },
  {
   "cell_type": "code",
   "execution_count": 72,
   "metadata": {},
   "outputs": [
    {
     "name": "stdout",
     "output_type": "stream",
     "text": [
      "<pymongo.cursor.Cursor object at 0x00000289E04F93D0>\n"
     ]
    },
    {
     "data": {
      "text/plain": [
       "[(ObjectId('62a9815ec2bfa89e5422fb80'), 'Jordan', 20),\n",
       " (ObjectId('62a98164c2bfa89e5422fb81'), 'Jordan', 20),\n",
       " (ObjectId('62a98169c2bfa89e5422fb82'), 'Jordan', 20),\n",
       " (ObjectId('62a9824cc2bfa89e5422fb83'), 'Jordan', 20),\n",
       " (ObjectId('62a983d4c2bfa89e5422fb84'), 'Jordan', 20),\n",
       " (ObjectId('62a98515c2bfa89e5422fb86'), 'Jordan', 20),\n",
       " (ObjectId('62a9851dc2bfa89e5422fb88'), 'Jordan', 20),\n",
       " (ObjectId('62a98531c2bfa89e5422fb8a'), 'Jordan', 20),\n",
       " (ObjectId('62a98536c2bfa89e5422fb8c'), 'Jordan', 20),\n",
       " (ObjectId('62a983d4c2bfa89e5422fb85'), 'Mike', 21),\n",
       " (ObjectId('62a98515c2bfa89e5422fb87'), 'Mike', 21),\n",
       " (ObjectId('62a9851dc2bfa89e5422fb89'), 'Mike', 21),\n",
       " (ObjectId('62a98531c2bfa89e5422fb8b'), 'Mike', 21),\n",
       " (ObjectId('62a98536c2bfa89e5422fb8d'), 'Mike', 21)]"
      ]
     },
     "execution_count": 72,
     "metadata": {},
     "output_type": "execute_result"
    }
   ],
   "source": [
    "res = collection.find().sort('age', pymongo.ASCENDING)\n",
    "print(res)\n",
    "[(i['_id'], i['name'], i['age']) for i in res]"
   ]
  },
  {
   "cell_type": "markdown",
   "metadata": {},
   "source": [
    "## 8.偏移\n",
    "\n",
    ">利用 `skip` 方法偏移几个位置，比如偏移 2，就忽略前两个元素，得到第三个及以后的元素"
   ]
  },
  {
   "cell_type": "code",
   "execution_count": 76,
   "metadata": {},
   "outputs": [
    {
     "name": "stdout",
     "output_type": "stream",
     "text": [
      "<pymongo.cursor.Cursor object at 0x00000289E04F99A0>\n"
     ]
    },
    {
     "data": {
      "text/plain": [
       "[(ObjectId('62a98531c2bfa89e5422fb8a'), 'Jordan', 20),\n",
       " (ObjectId('62a98536c2bfa89e5422fb8c'), 'Jordan', 20),\n",
       " (ObjectId('62a983d4c2bfa89e5422fb85'), 'Mike', 21),\n",
       " (ObjectId('62a98515c2bfa89e5422fb87'), 'Mike', 21),\n",
       " (ObjectId('62a9851dc2bfa89e5422fb89'), 'Mike', 21),\n",
       " (ObjectId('62a98531c2bfa89e5422fb8b'), 'Mike', 21),\n",
       " (ObjectId('62a98536c2bfa89e5422fb8d'), 'Mike', 21)]"
      ]
     },
     "execution_count": 76,
     "metadata": {},
     "output_type": "execute_result"
    }
   ],
   "source": [
    "res = collection.find().sort('age', pymongo.ASCENDING).skip(7)\n",
    "print(res)\n",
    "[(i['_id'], i['name'], i['age']) for i in res]"
   ]
  },
  {
   "cell_type": "markdown",
   "metadata": {},
   "source": [
    "> `limit` 方法指定要取的结果个数"
   ]
  },
  {
   "cell_type": "code",
   "execution_count": 78,
   "metadata": {},
   "outputs": [
    {
     "name": "stdout",
     "output_type": "stream",
     "text": [
      "<pymongo.cursor.Cursor object at 0x00000289E052A3D0>\n"
     ]
    },
    {
     "data": {
      "text/plain": [
       "[(ObjectId('62a9815ec2bfa89e5422fb80'), 'Jordan', 20),\n",
       " (ObjectId('62a98515c2bfa89e5422fb86'), 'Jordan', 20),\n",
       " (ObjectId('62a98515c2bfa89e5422fb87'), 'Mike', 21)]"
      ]
     },
     "execution_count": 78,
     "metadata": {},
     "output_type": "execute_result"
    }
   ],
   "source": [
    "res = collection.find().sort('age', pymongo.ASCENDING).skip(7).limit(3)\n",
    "print(res)\n",
    "[(i['_id'], i['name'], i['age']) for i in res]"
   ]
  },
  {
   "cell_type": "markdown",
   "metadata": {},
   "source": [
    "> 值得注意的是，在数据库数量非常庞大的时候，如千万、亿级别，最好不要使用大的偏移量来查询数据，因为这样很可能导致内存溢出。\n",
    "\n",
    "> 此时可以使用类似如下操作来查询"
   ]
  },
  {
   "cell_type": "code",
   "execution_count": 79,
   "metadata": {},
   "outputs": [
    {
     "data": {
      "text/plain": [
       "<pymongo.cursor.Cursor at 0x289e052a250>"
      ]
     },
     "execution_count": 79,
     "metadata": {},
     "output_type": "execute_result"
    }
   ],
   "source": [
    "from bson.objectid import ObjectId\n",
    "collection.find({'_id': {'$gt': ObjectId('593278c815c2602678bb2b8d')}})"
   ]
  },
  {
   "cell_type": "markdown",
   "metadata": {},
   "source": [
    "## 9.更新\n",
    "\n",
    "> `update`方法"
   ]
  },
  {
   "cell_type": "code",
   "execution_count": 92,
   "metadata": {},
   "outputs": [
    {
     "name": "stdout",
     "output_type": "stream",
     "text": [
      "{'_id': ObjectId('62a9815ec2bfa89e5422fb80'), 'id': '20170101', 'name': 'Jordan', 'age': 999, 'gender': 'male'}\n"
     ]
    }
   ],
   "source": [
    "res = collection.update_one({'name':'Kevin'}, {'$set':{'age':999}})"
   ]
  },
  {
   "cell_type": "markdown",
   "metadata": {},
   "source": [
    "![图 6](../../../images/c51adbb19c2229c7004ab9bbd39a446c7439d5974ae3f3fa78336dd57fcef603.png)  \n"
   ]
  },
  {
   "cell_type": "code",
   "execution_count": null,
   "metadata": {},
   "outputs": [],
   "source": [
    "res = collection.update_one({'name':'Jordan'}, {'$set':{'age':999}})"
   ]
  },
  {
   "cell_type": "markdown",
   "metadata": {},
   "source": [
    "![图 9](../../../images/6e16ac80a09b73ff61284ae3fe1cf87c0d868bffbb6fae91351dbbe6928b0cde.png)  \n"
   ]
  },
  {
   "cell_type": "code",
   "execution_count": 97,
   "metadata": {},
   "outputs": [],
   "source": [
    "res = collection.update_many({'name':'Mike'}, {'$set':{'age':111}})"
   ]
  },
  {
   "cell_type": "markdown",
   "metadata": {},
   "source": [
    "![图 10](../../../images/b373f98bd9e05ba9b80a168f2b2b3cdd596d936bdb930eba577946f32ccffe85.png)  \n"
   ]
  },
  {
   "cell_type": "code",
   "execution_count": 99,
   "metadata": {},
   "outputs": [],
   "source": [
    "condition = {'name': 'Kevin'}\n",
    "student = collection.find_one(condition)\n",
    "student['age'] = 55\n",
    "\n",
    "'''\n",
    "    需要注意, 此时:\n",
    "    student = {'_id': ObjectId('62a98164c2bfa89e5422fb81'), 'id': '20170101', 'name': 'Kevin', 'age': 55, 'gender': 'male'}\n",
    "\n",
    "'''\n",
    "\n",
    "result = collection.update_one(condition, {'$set': student})"
   ]
  },
  {
   "cell_type": "code",
   "execution_count": 107,
   "metadata": {},
   "outputs": [
    {
     "name": "stdout",
     "output_type": "stream",
     "text": [
      "{'_id': ObjectId('62a98164c2bfa89e5422fb81'), 'id': '20170101', 'name': 'Kevin', 'age': 100, 'gender': 'male'}\n",
      "{'_id': ObjectId('62a98164c2bfa89e5422fb81'), 'id': '20170101', 'name': 'Kevin', 'age': 55, 'gender': 'male'}\n"
     ]
    }
   ],
   "source": [
    "student = collection.find_one(condition)\n",
    "student['age'] = 100\n",
    "print(student)\n",
    "\n",
    "print(collection.find_one({'name':'Kevin'}))\n",
    "\n",
    "# 发现一个age是100另一个还是55"
   ]
  },
  {
   "cell_type": "markdown",
   "metadata": {},
   "source": [
    "`update` 方法其实也是官方不推荐使用的方法。这里也分为 `update_one` 方法和 `update_many` 方法，用法更加严格，它们的第二个参数需要使用 `$` 类型操作符作为字典的键名"
   ]
  },
  {
   "cell_type": "markdown",
   "metadata": {},
   "source": [
    "- `update_one()`"
   ]
  },
  {
   "cell_type": "code",
   "execution_count": 118,
   "metadata": {},
   "outputs": [
    {
     "name": "stdout",
     "output_type": "stream",
     "text": [
      "<pymongo.results.UpdateResult object at 0x00000289E052A280>\n",
      "1 1\n"
     ]
    },
    {
     "data": {
      "text/plain": [
       "[{'_id': ObjectId('62a9815ec2bfa89e5422fb80'),\n",
       "  'id': '20170101',\n",
       "  'name': 'Jordan',\n",
       "  'age': 1017,\n",
       "  'gender': 'male'}]"
      ]
     },
     "execution_count": 118,
     "metadata": {},
     "output_type": "execute_result"
    }
   ],
   "source": [
    "condition = {'age':{'$gt':20}}\n",
    "res = collection.update_one(condition, {'$inc':{'age': 3}})\n",
    "print(res)\n",
    "print(res.matched_count, res.modified_count)\n",
    "# 匹配的数据条数 和 影响的数据条数\n",
    "[i for i in collection.find({'age':{'$gt':20}}).limit(1)]"
   ]
  },
  {
   "cell_type": "markdown",
   "metadata": {},
   "source": [
    "- `update_many()`"
   ]
  },
  {
   "cell_type": "code",
   "execution_count": 120,
   "metadata": {},
   "outputs": [
    {
     "name": "stdout",
     "output_type": "stream",
     "text": [
      "<pymongo.results.UpdateResult object at 0x00000289E052A430>\n",
      "7 7\n",
      "{'_id': ObjectId('62a9815ec2bfa89e5422fb80'), 'id': '20170101', 'name': 'Jordan', 'age': 1031, 'gender': 'male'}\n",
      "{'_id': ObjectId('62a98164c2bfa89e5422fb81'), 'id': '20170101', 'name': 'Kevin', 'age': 62, 'gender': 'male'}\n",
      "{'_id': ObjectId('62a983d4c2bfa89e5422fb85'), 'id': '20170202', 'name': 'Mike', 'age': 118, 'gender': 'male'}\n",
      "{'_id': ObjectId('62a98515c2bfa89e5422fb87'), 'id': '20170202', 'name': 'Mike', 'age': 118, 'gender': 'male'}\n",
      "{'_id': ObjectId('62a9851dc2bfa89e5422fb89'), 'id': '20170202', 'name': 'Mike', 'age': 118, 'gender': 'male'}\n",
      "{'_id': ObjectId('62a98531c2bfa89e5422fb8b'), 'id': '20170202', 'name': 'Mike', 'age': 118, 'gender': 'male'}\n",
      "{'_id': ObjectId('62a98536c2bfa89e5422fb8d'), 'id': '20170202', 'name': 'Mike', 'age': 118, 'gender': 'male'}\n"
     ]
    }
   ],
   "source": [
    "condition = {'age':{'$gt':20}}\n",
    "res = collection.update_many(condition, {'$inc':{'age': 7}})\n",
    "print(res)\n",
    "print(res.matched_count, res.modified_count)\n",
    "# 匹配的数据条数 和 影响的数据条数\n",
    "for i in collection.find({'age':{'$gt':20}}):\n",
    "    print(i)"
   ]
  }
 ],
 "metadata": {
  "kernelspec": {
   "display_name": "Python 3.9.7 ('base')",
   "language": "python",
   "name": "python3"
  },
  "language_info": {
   "codemirror_mode": {
    "name": "ipython",
    "version": 3
   },
   "file_extension": ".py",
   "mimetype": "text/x-python",
   "name": "python",
   "nbconvert_exporter": "python",
   "pygments_lexer": "ipython3",
   "version": "3.9.7"
  },
  "orig_nbformat": 4,
  "vscode": {
   "interpreter": {
    "hash": "6a018d3a992d78c184ccc94ab54168c7b26325ed3c2283926339c3edbf5487e7"
   }
  }
 },
 "nbformat": 4,
 "nbformat_minor": 2
}
