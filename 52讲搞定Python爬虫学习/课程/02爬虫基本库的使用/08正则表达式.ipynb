{
 "cells": [
  {
   "cell_type": "markdown",
   "metadata": {},
   "source": [
    "# 知识点总结"
   ]
  },
  {
   "cell_type": "markdown",
   "metadata": {},
   "source": [
    "```\n",
    "\\w\t匹配字母、数字及下划线\n",
    "\\W\t匹配不是字母、数字及下划线的字符\n",
    "\\s\t匹配任意空白字符，等价于 [\\t\\n\\r\\f]\n",
    "\\S\t匹配任意非空字符\n",
    "\\d\t匹配任意数字，等价于 [0-9]\n",
    "\\D\t匹配任意非数字的字符\n",
    "\\A\t匹配字符串开头\n",
    "\\Z\t匹配字符串结尾，如果存在换行，只匹配到换行前的结束字符串\n",
    "\\z\t匹配字符串结尾，如果存在换行，同时还会匹配换行符\n",
    "\\G\t匹配最后匹配完成的位置\n",
    "\\n\t匹配一个换行符\n",
    "\\t\t匹配一个制表符\n",
    "^\t匹配一行字符串的开头\n",
    "$\t匹配一行字符串的结尾\n",
    ".\t匹配任意字符，除了换行符，当 re.DOTALL 标记被指定时，则可以匹配包括换行符的任意字符\n",
    "[...]\t用来表示一组字符，单独列出，比如 [amk] 匹配 a、m 或 k\n",
    "[^...]\t不在 [] 中的字符，比如 匹配除了 a、b、c 之外的字符\n",
    "*\t匹配 0 个或多个表达式\n",
    "+\t匹配 1 个或多个表达式\n",
    "?\t匹配 0 个或 1 个前面的正则表达式定义的片段，非贪婪方式\n",
    "{n}\t精确匹配 n 个前面的表达式\n",
    "{n, m}\t匹配 n 到 m 次由前面正则表达式定义的片段，贪婪方式\n",
    "`a\tb`\t匹配 a 或 b\n",
    "()\t匹配括号内的表达式，也表示一个组\n",
    "\n",
    "```"
   ]
  },
  {
   "cell_type": "markdown",
   "metadata": {},
   "source": [
    "## match"
   ]
  },
  {
   "cell_type": "code",
   "execution_count": 34,
   "metadata": {},
   "outputs": [
    {
     "name": "stdout",
     "output_type": "stream",
     "text": [
      "38\n",
      "<re.Match object; span=(0, 25), match='Hello 123 4567 World_This'>\n",
      "Hello 123 4567 World_This\n",
      "(0, 25)\n"
     ]
    }
   ],
   "source": [
    "import re\n",
    "\n",
    "content = 'Hello 123 4567 World_This a Regex Demo'\n",
    "result = re.match('^Hello\\s\\d\\d\\d\\s\\d{4}\\s\\w{10}', content)\n",
    "\n",
    "print(len(content))\n",
    "print(result)\n",
    "print(result.group())   # group() 方法可以输出匹配到的内容\n",
    "print(result.span())    # span() 方法可以输出匹配的范围"
   ]
  },
  {
   "cell_type": "markdown",
   "metadata": {},
   "source": [
    "## 匹配目标"
   ]
  },
  {
   "cell_type": "code",
   "execution_count": 45,
   "metadata": {},
   "outputs": [
    {
     "name": "stdout",
     "output_type": "stream",
     "text": [
      "Hello 1234567 World_This \n",
      "1234567\n",
      "World_This\n"
     ]
    }
   ],
   "source": [
    "content = 'Hello 1234567 World_This a Regex Demo'\n",
    "\n",
    "result = re.match('^Hello\\s(\\d+)\\s(\\w+)\\s', content)\n",
    "print(result.group())\n",
    "print(result.group(1))  # 输出第一个被 () 包围的匹配结果\n",
    "print(result.group(2))"
   ]
  },
  {
   "cell_type": "markdown",
   "metadata": {},
   "source": [
    "## 通用匹配\n",
    "\n",
    "- **`.`** 可以匹配任意字符（除换行符）\n",
    "\n",
    "- **`*`** 代表匹配前面的字符无限次\n",
    "\n",
    "它们组合在一起就可以匹配任意字符"
   ]
  },
  {
   "cell_type": "code",
   "execution_count": 49,
   "metadata": {},
   "outputs": [
    {
     "name": "stdout",
     "output_type": "stream",
     "text": [
      "Hello 123 4567 World_This is a Regex Demo\n"
     ]
    }
   ],
   "source": [
    "content = 'Hello 123 4567 World_This is a Regex Demo'\n",
    "result = re.match('^Hello.*Demo$', content)\n",
    "print(result.group())"
   ]
  },
  {
   "cell_type": "markdown",
   "metadata": {},
   "source": [
    "## **贪婪与非贪婪**"
   ]
  },
  {
   "cell_type": "code",
   "execution_count": 52,
   "metadata": {},
   "outputs": [
    {
     "name": "stdout",
     "output_type": "stream",
     "text": [
      "Hello 1234567 World_This is a Regex Demo\n",
      "7\n"
     ]
    }
   ],
   "source": [
    "content = 'Hello 1234567 World_This is a Regex Demo'\n",
    "result = re.match('^He.*(\\d+).*Demo$', content)\n",
    "print(result.group())\n",
    "print(result.group(1))"
   ]
  }
 ],
 "metadata": {
  "interpreter": {
   "hash": "6a018d3a992d78c184ccc94ab54168c7b26325ed3c2283926339c3edbf5487e7"
  },
  "kernelspec": {
   "display_name": "Python 3.9.7 ('base')",
   "language": "python",
   "name": "python3"
  },
  "language_info": {
   "codemirror_mode": {
    "name": "ipython",
    "version": 3
   },
   "file_extension": ".py",
   "mimetype": "text/x-python",
   "name": "python",
   "nbconvert_exporter": "python",
   "pygments_lexer": "ipython3",
   "version": "3.9.7"
  },
  "orig_nbformat": 4
 },
 "nbformat": 4,
 "nbformat_minor": 2
}
