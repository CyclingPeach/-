{
 "cells": [
  {
   "cell_type": "markdown",
   "metadata": {},
   "source": [
    "# 知识点总结"
   ]
  },
  {
   "cell_type": "markdown",
   "metadata": {},
   "source": [
    "```\n",
    "\\w\t匹配字母、数字及下划线\n",
    "\\W\t匹配不是字母、数字及下划线的字符\n",
    "\\s\t匹配任意空白字符，等价于 [\\t\\n\\r\\f]\n",
    "\\S\t匹配任意非空字符\n",
    "\\d\t匹配任意数字，等价于 [0-9]\n",
    "\\D\t匹配任意非数字的字符\n",
    "\\A\t匹配字符串开头\n",
    "\\Z\t匹配字符串结尾，如果存在换行，只匹配到换行前的结束字符串\n",
    "\\z\t匹配字符串结尾，如果存在换行，同时还会匹配换行符\n",
    "\\G\t匹配最后匹配完成的位置\n",
    "\\n\t匹配一个换行符\n",
    "\\t\t匹配一个制表符\n",
    "^\t匹配一行字符串的开头\n",
    "$\t匹配一行字符串的结尾\n",
    ".\t匹配任意字符，除了换行符，当 re.DOTALL 标记被指定时，则可以匹配包括换行符的任意字符\n",
    "[...]\t用来表示一组字符，单独列出，比如 [amk] 匹配 a、m 或 k\n",
    "[^...]\t不在 [] 中的字符，比如 匹配除了 a、b、c 之外的字符\n",
    "*\t匹配 0 个或多个表达式\n",
    "+\t匹配 1 个或多个表达式\n",
    "?\t匹配 0 个或 1 个前面的正则表达式定义的片段，非贪婪方式\n",
    "{n}\t精确匹配 n 个前面的表达式\n",
    "{n, m}\t匹配 n 到 m 次由前面正则表达式定义的片段，贪婪方式\n",
    "`a\tb`\t匹配 a 或 b\n",
    "()\t匹配括号内的表达式，也表示一个组\n",
    "\n",
    "```"
   ]
  },
  {
   "cell_type": "markdown",
   "metadata": {},
   "source": [
    "## match"
   ]
  },
  {
   "cell_type": "code",
   "execution_count": 34,
   "metadata": {},
   "outputs": [
    {
     "name": "stdout",
     "output_type": "stream",
     "text": [
      "38\n",
      "<re.Match object; span=(0, 25), match='Hello 123 4567 World_This'>\n",
      "Hello 123 4567 World_This\n",
      "(0, 25)\n"
     ]
    }
   ],
   "source": [
    "import re\n",
    "\n",
    "content = 'Hello 123 4567 World_This a Regex Demo'\n",
    "result = re.match('^Hello\\s\\d\\d\\d\\s\\d{4}\\s\\w{10}', content)\n",
    "\n",
    "print(len(content))\n",
    "print(result)\n",
    "print(result.group())   # group() 方法可以输出匹配到的内容\n",
    "print(result.span())    # span() 方法可以输出匹配的范围"
   ]
  },
  {
   "cell_type": "markdown",
   "metadata": {},
   "source": [
    "## 匹配目标"
   ]
  },
  {
   "cell_type": "code",
   "execution_count": 45,
   "metadata": {},
   "outputs": [
    {
     "name": "stdout",
     "output_type": "stream",
     "text": [
      "Hello 1234567 World_This \n",
      "1234567\n",
      "World_This\n"
     ]
    }
   ],
   "source": [
    "content = 'Hello 1234567 World_This a Regex Demo'\n",
    "\n",
    "result = re.match('^Hello\\s(\\d+)\\s(\\w+)\\s', content)\n",
    "print(result.group())\n",
    "print(result.group(1))  # 输出第一个被 () 包围的匹配结果\n",
    "print(result.group(2))"
   ]
  },
  {
   "cell_type": "markdown",
   "metadata": {},
   "source": [
    "## 通用匹配\n",
    "\n",
    "- **`.`** 可以匹配任意字符（除换行符）\n",
    "\n",
    "- **`*`** 代表匹配前面的字符无限次\n",
    "\n",
    "它们组合在一起就可以匹配任意字符"
   ]
  },
  {
   "cell_type": "code",
   "execution_count": 49,
   "metadata": {},
   "outputs": [
    {
     "name": "stdout",
     "output_type": "stream",
     "text": [
      "Hello 123 4567 World_This is a Regex Demo\n"
     ]
    }
   ],
   "source": [
    "content = 'Hello 123 4567 World_This is a Regex Demo'\n",
    "result = re.match('^Hello.*Demo$', content)\n",
    "print(result.group())"
   ]
  },
  {
   "cell_type": "markdown",
   "metadata": {},
   "source": [
    "## **贪婪与非贪婪**"
   ]
  },
  {
   "cell_type": "code",
   "execution_count": 66,
   "metadata": {},
   "outputs": [
    {
     "name": "stdout",
     "output_type": "stream",
     "text": [
      "Hello 1234567 World_This is a Regex Demo\n",
      "7\n",
      "Hello 1234567 World_This is a Regex\n",
      "1234567\n"
     ]
    }
   ],
   "source": [
    "content = 'Hello 1234567 World_This is a Regex Demo'\n",
    "result1 = re.match('^He.*(\\d+).*Demo$', content)\n",
    "result2 = re.match('He.*?(\\d+).*Regex', content)\n",
    "\n",
    "print(result1.group())\n",
    "print(result1.group(1))\n",
    "print(result2.group())\n",
    "print(result2.group(1))"
   ]
  },
  {
   "cell_type": "markdown",
   "metadata": {},
   "source": [
    "|模式|写法|作用|\n",
    "|:-:|:-:|:-:|\n",
    "|`贪婪匹配`|`.*`|匹配尽可能多的字符|\n",
    "|`非贪婪匹配`|`.*?`|尽可能匹配少的字符|"
   ]
  },
  {
   "cell_type": "code",
   "execution_count": 67,
   "metadata": {},
   "outputs": [
    {
     "name": "stdout",
     "output_type": "stream",
     "text": [
      "result1 \n",
      "result2 k\n",
      "result3 kEraCN\n"
     ]
    }
   ],
   "source": [
    "import re\n",
    "\n",
    "content = 'http://weibo.com/comment/kEraCN'\n",
    "result1 = re.match('http.*?comment/(.*?)', content)\n",
    "result2 = re.match('http.*?comment/(.+?)', content)\n",
    "result3 = re.match('http.*?comment/(.*)', content)\n",
    "\n",
    "print('result1', result1.group(1))\n",
    "print('result2', result2.group(1))\n",
    "print('result3', result3.group(1))\n"
   ]
  },
  {
   "cell_type": "markdown",
   "metadata": {},
   "source": [
    "## 修饰符"
   ]
  },
  {
   "cell_type": "code",
   "execution_count": 84,
   "metadata": {},
   "outputs": [
    {
     "name": "stdout",
     "output_type": "stream",
     "text": [
      "Hello 1234567 World_This\n",
      "is a Regex Demo\n"
     ]
    },
    {
     "ename": "AttributeError",
     "evalue": "'NoneType' object has no attribute 'group'",
     "output_type": "error",
     "traceback": [
      "\u001b[1;31m---------------------------------------------------------------------------\u001b[0m",
      "\u001b[1;31mAttributeError\u001b[0m                            Traceback (most recent call last)",
      "\u001b[1;32m~\\AppData\\Local\\Temp/ipykernel_22680/1057537847.py\u001b[0m in \u001b[0;36m<module>\u001b[1;34m\u001b[0m\n\u001b[0;32m      8\u001b[0m \u001b[1;33m\u001b[0m\u001b[0m\n\u001b[0;32m      9\u001b[0m \u001b[0mresult2\u001b[0m \u001b[1;33m=\u001b[0m \u001b[0mre\u001b[0m\u001b[1;33m.\u001b[0m\u001b[0mmatch\u001b[0m\u001b[1;33m(\u001b[0m\u001b[1;34m'^He.*?(\\d*).*?Demo$'\u001b[0m\u001b[1;33m,\u001b[0m \u001b[0mcontent\u001b[0m\u001b[1;33m)\u001b[0m\u001b[1;33m\u001b[0m\u001b[1;33m\u001b[0m\u001b[0m\n\u001b[1;32m---> 10\u001b[1;33m \u001b[0mprint\u001b[0m\u001b[1;33m(\u001b[0m\u001b[0mresult2\u001b[0m\u001b[1;33m.\u001b[0m\u001b[0mgroup\u001b[0m\u001b[1;33m(\u001b[0m\u001b[1;33m)\u001b[0m\u001b[1;33m)\u001b[0m\u001b[1;33m\u001b[0m\u001b[1;33m\u001b[0m\u001b[0m\n\u001b[0m",
      "\u001b[1;31mAttributeError\u001b[0m: 'NoneType' object has no attribute 'group'"
     ]
    }
   ],
   "source": [
    "content = '''Hello 1234567 World_This\n",
    "is a Regex Demo\n",
    "'''\n",
    "\n",
    "# 加一个修饰符 re.S 匹配包括换行符在内的所有字符\n",
    "result1 = re.match('^He.*?(\\d*).*?Demo$', content, re.S)\n",
    "print(result1.group())\n",
    "\n",
    "result2 = re.match('^He.*?(\\d*).*?Demo$', content)\n",
    "print(result2.group())"
   ]
  },
  {
   "cell_type": "markdown",
   "metadata": {},
   "source": [
    "```\n",
    "re.I\t使匹配对大小写不敏感\n",
    "re.L\t做本地化识别（locale-aware）匹配\n",
    "re.M\t多行匹配，影响 ^ 和 $\n",
    "re.S\t使。匹配包括换行符在内的所有字符\n",
    "re.U\t根据 Unicode 字符集解析字符。这个标志影响 \\w、\\W、\\b 和 \\B\n",
    "re.X\t该标志通过给予你更灵活的格式以便你将正则表达式写得更易于理解\n",
    "```"
   ]
  },
  {
   "cell_type": "markdown",
   "metadata": {},
   "source": [
    "## 转义匹配\n",
    "\n",
    "当遇到用于正则匹配模式的特殊字符时，在前面加反斜线转义一下即可。"
   ]
  },
  {
   "cell_type": "code",
   "execution_count": 89,
   "metadata": {},
   "outputs": [
    {
     "name": "stdout",
     "output_type": "stream",
     "text": [
      "(百度) www.baidu.c\n"
     ]
    }
   ],
   "source": [
    "content = '(百度) www.baidu.com'\n",
    "result = re.match('^\\(百度\\).*baidu\\.\\w',content)\n",
    "print(result.group())"
   ]
  },
  {
   "cell_type": "markdown",
   "metadata": {},
   "source": [
    "## search\n",
    "\n",
    "- `match` 方法是从字符串的开头开始匹配的，一旦开头不匹配，那么整个匹配就失败了。更适合用来检测某个字符串是否符合某个正则表达式的规则\n",
    "- `search` 匹配时会扫描整个字符串，然后返回**第一个**成功匹配的结果。"
   ]
  },
  {
   "cell_type": "code",
   "execution_count": 93,
   "metadata": {},
   "outputs": [
    {
     "name": "stdout",
     "output_type": "stream",
     "text": [
      "None\n"
     ]
    }
   ],
   "source": [
    "content = 'Extra stings Hello 1234567 World_This is a Regex Demo Extra stings'\n",
    "result = re.match('Hello.*?(\\d+).*?Demo', content)\n",
    "print(result)"
   ]
  },
  {
   "cell_type": "code",
   "execution_count": 96,
   "metadata": {},
   "outputs": [
    {
     "name": "stdout",
     "output_type": "stream",
     "text": [
      "<re.Match object; span=(13, 53), match='Hello 1234567 World_This is a Regex Demo'>\n",
      "Hello 1234567 World_This is a Regex Demo\n"
     ]
    }
   ],
   "source": [
    "content = 'Extra stings Hello 1234567 World_This is a Regex Demo Extra stings'\n",
    "result = re.search('Hello.*?(\\d+).*?Demo', content)\n",
    "print(result)\n",
    "print(result.group())"
   ]
  },
  {
   "cell_type": "code",
   "execution_count": 137,
   "metadata": {},
   "outputs": [],
   "source": [
    "html = '''\n",
    "<div id=\"songs-list\">\n",
    "  <h2 class=\"title\">经典老歌</h2>\n",
    "  <p class=\"introduction\">经典老歌列表</p>\n",
    "  <ul id=\"list\" class=\"list-group\">\n",
    "    <li data-view=\"2\">一路上有你</li>\n",
    "    <li data-view=\"7\">\n",
    "      <a href=\"/2.mp3\" singer=\"任贤齐\">沧海一声笑</a>\n",
    "    </li>\n",
    "    <li data-view=\"4\" class=\"active\">\n",
    "      <a href=\"/3.mp3\" singer=\"齐秦\">往事随风</a>\n",
    "    </li>\n",
    "    <li data-view=\"6\"><a href=\"/4.mp3\" singer=\"beyond\">光辉岁月</a></li>\n",
    "    <li data-view=\"5\"><a href=\"/5.mp3\" singer=\"陈慧琳\">记事本</a></li>\n",
    "    <li data-view=\"5\">\n",
    "      <a href=\"/6.mp3\" singer=\"邓丽君\">但愿人长久</a>\n",
    "    </li>\n",
    "  </ul>\n",
    "</div>\n",
    "'''"
   ]
  },
  {
   "cell_type": "code",
   "execution_count": 119,
   "metadata": {},
   "outputs": [
    {
     "name": "stdout",
     "output_type": "stream",
     "text": [
      "齐秦 往事随风\n"
     ]
    }
   ],
   "source": [
    "import re\n",
    "\n",
    "result = re.search('<li.*?active.*?singer=\"(.*?)\">(.*?)</a>', html, re.S)\n",
    "print(result.group(1), result.group(2))"
   ]
  },
  {
   "cell_type": "code",
   "execution_count": 120,
   "metadata": {},
   "outputs": [
    {
     "name": "stdout",
     "output_type": "stream",
     "text": [
      "任贤齐 沧海一声笑\n"
     ]
    }
   ],
   "source": [
    "result = re.search('<li.*?singer=\"(.*?)\">(.*?)</a>', html, re.S)\n",
    "print(result.group(1), result.group(2))"
   ]
  },
  {
   "cell_type": "markdown",
   "metadata": {},
   "source": [
    "在上面的两次匹配中，`search` 方法的第三个参数都加了 `re.S`，这使得 `.*?` 可以匹配换行，所以含有换行符的 `li` 节点被匹配到了。如果我们将其去掉，结果会是什么？"
   ]
  },
  {
   "cell_type": "code",
   "execution_count": 121,
   "metadata": {},
   "outputs": [
    {
     "name": "stdout",
     "output_type": "stream",
     "text": [
      "beyond 光辉岁月\n"
     ]
    }
   ],
   "source": [
    "result = re.search('<li.*?singer=\"(.*?)\">(.*?)</a>', html)\n",
    "if result:\n",
    "    print(result.group(1), result.group(2))"
   ]
  },
  {
   "cell_type": "markdown",
   "metadata": {},
   "source": [
    "可以看到，结果变成了第四个 `li` 节点的内容。这是因为第二个和第三个 `li` 节点都包含了换行符，去掉 `re.S` 之后，`.*?` 已经不能匹配换行符，所以正则表达式不会匹配到第二个和第三个 `li` 节点，而第四个 `li` 节点中不包含换行符，所以成功匹配。\n",
    "\n",
    "> 由于绝大部分的 HTML 文本都包含了换行符，所以尽量都需要加上 re.S 修饰符，以免出现匹配不到的问题。"
   ]
  },
  {
   "cell_type": "markdown",
   "metadata": {},
   "source": [
    "## findall\n",
    "\n",
    "- `match` 方法是从字符串的**开头**开始匹配的，一旦开头不匹配，那么整个匹配就失败了。更适合用来检测某个字符串是否符合某个正则表达式的规则\n",
    "- `search` 匹配时会扫描整个字符串，然后返回**第一个**成功匹配的结果。\n",
    "- `findall` 搜索整个字符串，然后返回匹配正则表达式的**所有**内容"
   ]
  },
  {
   "cell_type": "code",
   "execution_count": 128,
   "metadata": {},
   "outputs": [
    {
     "name": "stdout",
     "output_type": "stream",
     "text": [
      "('/2.mp3', '任贤齐', '沧海一声笑')\n",
      "('/3.mp3', '齐秦', '往事随风')\n",
      "('/4.mp3', 'beyond', '光辉岁月')\n",
      "('/5.mp3', '陈慧琳', '记事本')\n",
      "('/6.mp3', '邓丽君', '但愿人长久')\n"
     ]
    }
   ],
   "source": [
    "results = re.findall('<a.*?href=\"(.*?)\".*?singer=\"(.*?)\">(.*?)</a>', html, re.S)\n",
    "\n",
    "for result in results:\n",
    "    print(result)"
   ]
  },
  {
   "cell_type": "markdown",
   "metadata": {},
   "source": [
    "> `findall` 返回的列表中的每个元素都是元组类型"
   ]
  },
  {
   "cell_type": "markdown",
   "metadata": {},
   "source": [
    "## sub\n",
    "\n",
    "想要把一串文本中的所有数字都去掉，如果只用字符串的 `replace` 方法，那就太烦琐了，这时可以借助 `re.sub` 方法。"
   ]
  },
  {
   "cell_type": "code",
   "execution_count": 131,
   "metadata": {},
   "outputs": [
    {
     "name": "stdout",
     "output_type": "stream",
     "text": [
      "aKyroiRixLg\n"
     ]
    }
   ],
   "source": [
    "import re\n",
    "\n",
    "content = '54aK54yr5oiR54ix5L2g'\n",
    "content = re.sub('\\d+', '', content)\n",
    "print(content)"
   ]
  },
  {
   "cell_type": "markdown",
   "metadata": {},
   "source": [
    "在上面的 HTML 文本中，如果想获取所有 li 节点的歌名，直接用正则表达式来提取可能比较烦琐。"
   ]
  },
  {
   "cell_type": "code",
   "execution_count": 132,
   "metadata": {},
   "outputs": [
    {
     "name": "stdout",
     "output_type": "stream",
     "text": [
      "一路上有你\n",
      "沧海一声笑\n",
      "往事随风\n",
      "光辉岁月\n",
      "记事本\n",
      "但愿人长久\n"
     ]
    }
   ],
   "source": [
    "results = re.findall('<li.*?>\\s*?(<a.*?>)?(\\w+)(</a>)?\\s*?</li>', html, re.S)\n",
    "for result in results:\n",
    "    print(result[1])"
   ]
  },
  {
   "cell_type": "markdown",
   "metadata": {},
   "source": [
    "此时借助 sub 方法就比较简单了。可以先用 sub 方法将 a 节点去掉，只留下文本，然后再利用 findall 提取就好了"
   ]
  },
  {
   "cell_type": "code",
   "execution_count": 142,
   "metadata": {},
   "outputs": [
    {
     "name": "stdout",
     "output_type": "stream",
     "text": [
      "\n",
      "<div id=\"songs-list\">\n",
      "  <h2 class=\"title\">经典老歌</h2>\n",
      "  <p class=\"introduction\">经典老歌列表</p>\n",
      "  <ul id=\"list\" class=\"list-group\">\n",
      "    <li data-view=\"2\">一路上有你</li>\n",
      "    <li data-view=\"7\">\n",
      "      沧海一声笑\n",
      "    </li>\n",
      "    <li data-view=\"4\" class=\"active\">\n",
      "      往事随风\n",
      "    </li>\n",
      "    <li data-view=\"6\">光辉岁月</li>\n",
      "    <li data-view=\"5\">记事本</li>\n",
      "    <li data-view=\"5\">\n",
      "      但愿人长久\n",
      "    </li>\n",
      "  </ul>\n",
      "</div>\n",
      "\n",
      "['一路上有你', '\\n      沧海一声笑\\n    ', '\\n      往事随风\\n    ', '光辉岁月', '记事本', '\\n      但愿人长久\\n    '] \n",
      "\n",
      "一路上有你\n",
      "沧海一声笑\n",
      "往事随风\n",
      "光辉岁月\n",
      "记事本\n",
      "但愿人长久\n"
     ]
    }
   ],
   "source": [
    "html = re.sub('<a.*?>|</a>', '', html)\n",
    "print(html)\n",
    "results = re.findall('<li.*?>(.*?)</li>', html, re.S)\n",
    "print(results, '\\n')\n",
    "for result in results:\n",
    "    print(result.strip())"
   ]
  },
  {
   "cell_type": "markdown",
   "metadata": {},
   "source": [
    "## compile\n",
    "\n",
    "将正则字符串编译成正则表达式对象，以便在后面的匹配中**复用**"
   ]
  },
  {
   "cell_type": "code",
   "execution_count": 145,
   "metadata": {},
   "outputs": [
    {
     "name": "stdout",
     "output_type": "stream",
     "text": [
      "2019-12-15  2019-12-17  2019-12-22 \n"
     ]
    }
   ],
   "source": [
    "import re\n",
    "\n",
    "content1 = '2019-12-15 12:00'\n",
    "content2 = '2019-12-17 12:55'\n",
    "content3 = '2019-12-22 13:21'\n",
    "\n",
    "pattern = re.compile('\\d{2}:\\d{2}')\n",
    "\n",
    "result1 = re.sub(pattern, '', content1)\n",
    "result2 = re.sub(pattern, '', content2)\n",
    "result3 = re.sub(pattern, '', content3)\n",
    "print(result1, result2, result3)"
   ]
  },
  {
   "cell_type": "markdown",
   "metadata": {},
   "source": [
    "**`compile` 还可以传入`修饰符`**\n",
    "\n",
    "例如 re.S 等修饰符，这样在 search、findall 等方法中就不需要额外传了。所以，compile 方法可以说是给正则表达式做了一层封装，以便我们更好地复用。"
   ]
  }
 ],
 "metadata": {
  "interpreter": {
   "hash": "6a018d3a992d78c184ccc94ab54168c7b26325ed3c2283926339c3edbf5487e7"
  },
  "kernelspec": {
   "display_name": "Python 3.9.7 ('base')",
   "language": "python",
   "name": "python3"
  },
  "language_info": {
   "codemirror_mode": {
    "name": "ipython",
    "version": 3
   },
   "file_extension": ".py",
   "mimetype": "text/x-python",
   "name": "python",
   "nbconvert_exporter": "python",
   "pygments_lexer": "ipython3",
   "version": "3.9.7"
  },
  "orig_nbformat": 4
 },
 "nbformat": 4,
 "nbformat_minor": 2
}
