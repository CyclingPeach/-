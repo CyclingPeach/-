{
 "cells": [
  {
   "cell_type": "markdown",
   "metadata": {},
   "source": [
    "## 爬取目标\n",
    "\n",
    "<div align=center>\n",
    "    <img src=\"../../../images/fb0cc800f904f30931b46f0af6dd6c257e0a709d67c0dec84766a0f3562b9be4.png\" width=75%>\n",
    "    </img>\n",
    "</div>"
   ]
  },
  {
   "cell_type": "markdown",
   "metadata": {},
   "source": [
    "- 1. 提取每一页的电影列表,以及每个电影的详情页\n",
    "\n",
    "- 2. 提取每部电影的`名称`、`封面`、`类别`、`上映时间`、`评分`、`剧情简介`\n",
    "\n",
    "- 3. 存入数据库\n",
    "\n",
    "- 4. 多进程"
   ]
  },
  {
   "cell_type": "markdown",
   "metadata": {},
   "source": [
    "## 爬取过程"
   ]
  },
  {
   "cell_type": "markdown",
   "metadata": {},
   "source": [
    "### 1. 提取 电影名及对应URL 列表（`采取正则表达式`）"
   ]
  },
  {
   "cell_type": "markdown",
   "metadata": {},
   "source": [
    "#### `(1)导库 以及 获取对应URL的HTML`"
   ]
  },
  {
   "cell_type": "code",
   "execution_count": 2,
   "metadata": {},
   "outputs": [],
   "source": [
    "import requests\n",
    "import re\n",
    "from pyquery import PyQuery as pq\n",
    "\n",
    "origin_url = 'https://ssr1.scrape.center'\n",
    "\n",
    "## 给定 url 获取该 url 对应的 html\n",
    "def get_html(url):\n",
    "    response = requests.get(url)\n",
    "    html = response.text\n",
    "    return html"
   ]
  },
  {
   "cell_type": "markdown",
   "metadata": {},
   "source": [
    "#### `(2)获取所有页的 页URL`"
   ]
  },
  {
   "cell_type": "code",
   "execution_count": 3,
   "metadata": {},
   "outputs": [],
   "source": [
    "## 获取每一页的 url\n",
    "def get_all_page_url(html):\n",
    "    \n",
    "    movies_page = re.findall('<li.*?number.*?>.*?<a href=\"(.*?)\">(.*?)</a>.*?</li>', html, re.S)\n",
    "    \n",
    "    page_infos = []\n",
    "    page_url_list = []\n",
    "    for page in movies_page:\n",
    "        page_info = {\n",
    "            'page_name':page[1],\n",
    "            'page_url':'https://ssr1.scrape.center' + page[0]\n",
    "        }\n",
    "        page_infos.append(page_info)\n",
    "        page_url_list.append('https://ssr1.scrape.center' + page[0])\n",
    "    \n",
    "    return page_url_list"
   ]
  },
  {
   "cell_type": "markdown",
   "metadata": {},
   "source": [
    "#### `(3)获取某一页中所有的电影及对应URL`"
   ]
  },
  {
   "cell_type": "code",
   "execution_count": 4,
   "metadata": {},
   "outputs": [],
   "source": [
    "## 获取 1 页的所有电影的名字和对应url\n",
    "def get_all_movie_name_and_url_from_current_page(current_page_html):\n",
    "    p = '<div.*?index.*?>.*?<div.*?\"p-h el-col el-col-24 el-col-xs-9 el-col-sm-13 el-col-md-16\">.*?<a.*?href=\"(.*?)\".*?>.*?<h2.*?>(.*?)</h2>.*?</a>'\n",
    "    # 一页的电影基本信息（电影名、电影url链接）\n",
    "    page_movies = re.findall(p, current_page_html, re.S)\n",
    "\n",
    "    current_page_movies_list = []\n",
    "    for movie in page_movies:\n",
    "        movie_in_page = {\n",
    "            'name':movie[1],\n",
    "            'url':'https://ssr1.scrape.center' + movie[0]\n",
    "        }\n",
    "        current_page_movies_list.append(movie_in_page)\n",
    "    return current_page_movies_list\n",
    "\n",
    "# get_all_movie_name_and_url_from_current_page(None)"
   ]
  },
  {
   "cell_type": "markdown",
   "metadata": {},
   "source": [
    "#### `(4)代码合并, 获取所有的电影URL及名字`"
   ]
  },
  {
   "cell_type": "code",
   "execution_count": 5,
   "metadata": {},
   "outputs": [
    {
     "name": "stdout",
     "output_type": "stream",
     "text": [
      "第1页采集完成\n",
      "\n",
      "第2页采集完成\n",
      "\n",
      "第3页采集完成\n",
      "\n",
      "第4页采集完成\n",
      "\n",
      "第5页采集完成\n",
      "\n",
      "第6页采集完成\n",
      "\n",
      "第7页采集完成\n",
      "\n",
      "第8页采集完成\n",
      "\n",
      "第9页采集完成\n",
      "\n",
      "第10页采集完成\n",
      "\n",
      "第11页采集完成\n",
      "\n"
     ]
    },
    {
     "data": {
      "text/plain": [
       "[{'name': '霸王别姬 - Farewell My Concubine',\n",
       "  'url': 'https://ssr1.scrape.center/detail/1'},\n",
       " {'name': '这个杀手不太冷 - Léon', 'url': 'https://ssr1.scrape.center/detail/2'},\n",
       " {'name': '肖申克的救赎 - The Shawshank Redemption',\n",
       "  'url': 'https://ssr1.scrape.center/detail/3'},\n",
       " {'name': '泰坦尼克号 - Titanic', 'url': 'https://ssr1.scrape.center/detail/4'},\n",
       " {'name': '罗马假日 - Roman Holiday',\n",
       "  'url': 'https://ssr1.scrape.center/detail/5'}]"
      ]
     },
     "execution_count": 5,
     "metadata": {},
     "output_type": "execute_result"
    }
   ],
   "source": [
    "'''\n",
    "    获取 -> 所有页中 -> 所有的电影名+电影url\n",
    "'''\n",
    "\n",
    "# 获取 origin 页的html\n",
    "origin_html = get_html(origin_url)\n",
    "\n",
    "# 获取所有页的url\n",
    "all_page_url_list = get_all_page_url(origin_html)\n",
    "\n",
    "# 获取所有电影名和URL\n",
    "i = 0\n",
    "all_movie_name_and_url_list = []\n",
    "for current_page_url in all_page_url_list:\n",
    "    i += 1\n",
    "    '''\n",
    "        加一个判错机制\n",
    "    '''\n",
    "    try:\n",
    "        # print('开始采集第{}页'.format(i))\n",
    "        # print('第{}页URL:{}'.format(i,current_page_url))\n",
    "        # 获取每一页的html\n",
    "        current_page_html = get_html(current_page_url)\n",
    "        # 获取每一页中所有电影的名字和URL\n",
    "        current_page_movies_list = get_all_movie_name_and_url_from_current_page(current_page_html)\n",
    "        # 将各页的（电影名、电影URL）合并起来\n",
    "        all_movie_name_and_url_list += current_page_movies_list\n",
    "        print('第{}页采集完成\\n'.format(i))\n",
    "    except:\n",
    "        print('第{}页报错\\n'.format(i))\n",
    "        continue\n",
    "\n",
    "all_movie_name_and_url_list[:5]"
   ]
  },
  {
   "cell_type": "markdown",
   "metadata": {},
   "source": [
    "### 采集电影的详细信息\n",
    "\n",
    "- 电影名（英文名）\n",
    "- 评分\n",
    "- 类别\n",
    "- 上映地点\n",
    "- 上映时间\n",
    "- 剧情简介\n",
    "- 导演\n",
    "- 演员"
   ]
  },
  {
   "cell_type": "code",
   "execution_count": 6,
   "metadata": {},
   "outputs": [],
   "source": [
    "def get_movie_detail_info(movie_html):\n",
    "    # 电影名\n",
    "    name = re.search('<div.*?p-h el-col el-col-24 el-col-xs-16 el-col-sm-12.*?>.*?<h2.*?>(.*?)</h2>', movie_html, re.S).group(1)\n",
    "\n",
    "    # 类别\n",
    "    all_categories_str = re.search('<div.*?categories.*?>.*?(<button.*?/button.*?button.*?/button>).*?</div>', movie_html, re.S).group(1)\n",
    "    categories_list = re.findall('<span>(.*?)</span>', all_categories_str, re.S)\n",
    "\n",
    "    # 上映地点 及 片长\n",
    "    addr_and_time = re.search('<div.*?m-v-sm info\">.*?<span.*?>(.*?)</span>.*?<span.*?/span>.*?<span.*?>(.*?)</span>.*?</div>', movie_html, re.S)\n",
    "    addr = addr_and_time.group(1)\n",
    "    time = addr_and_time.group(2)\n",
    "\n",
    "    # 上映时间\n",
    "    first_date = re.search('<div.*?m-v-sm info\">.*?</div>.*?<div.*?m-v-sm info\">.*?<span.*?>(.*?)</span>.*?</div>', movie_html, re.S).group(1)\n",
    "\n",
    "    # 剧情简介\n",
    "    drama = re.search('<div.*?drama\">.*?<p.*?>(.*?)</p>', movie_html, re.S).group(1).strip()\n",
    "\n",
    "    # 评分\n",
    "    rate = float(re.search('el-col el-col-24 el-col-xs-8 el-col-sm-4.*?<p.*?>(.*?)</p>', movie_html, re.S).group(1).strip())\n",
    "\n",
    "    # 导演\n",
    "    director = re.search('subtitle.*?el-card__body.*?<p.*?>(.*?)</p>', movie_html, re.S).group(1)\n",
    "\n",
    "    movie_detail_info = {\n",
    "        'name':name,\n",
    "        'categories':categories_list,\n",
    "        'rate':rate,\n",
    "        'time':time,\n",
    "        'addr':addr,\n",
    "        'date':first_date,\n",
    "        'director':director,\n",
    "        'drama':drama,\n",
    "    }\n",
    "\n",
    "    return movie_detail_info"
   ]
  },
  {
   "cell_type": "code",
   "execution_count": 7,
   "metadata": {},
   "outputs": [
    {
     "name": "stdout",
     "output_type": "stream",
     "text": [
      "第1个采集完成\n",
      "第2个采集完成\n",
      "第3个采集完成\n",
      "第4个采集完成\n",
      "第5个采集完成\n",
      "第6个采集完成\n",
      "第7个采集完成\n",
      "第8个采集完成\n",
      "第9个采集完成\n",
      "第10个采集完成\n",
      "第11个采集完成\n",
      "第12个采集完成\n",
      "第13个采集完成\n",
      "第14个采集完成\n",
      "第15个采集完成\n",
      "第16个采集完成\n",
      "第17个采集完成\n",
      "第18个采集完成\n",
      "第19个采集完成\n",
      "第20个采集完成\n",
      "第21个采集完成\n",
      "第22个采集完成\n",
      "第23个采集完成\n",
      "第24个采集完成\n",
      "第25个采集完成\n",
      "第26个采集完成\n",
      "第27个采集完成\n",
      "第28个采集完成\n",
      "第29个采集完成\n",
      "第30个采集完成\n",
      "第31个采集完成\n",
      "第32个采集完成\n",
      "第33个采集完成\n",
      "第34个采集完成\n",
      "第35个采集完成\n",
      "第36个采集完成\n",
      "第37个采集完成\n",
      "第38个采集完成\n",
      "第39个采集完成\n",
      "第40个采集完成\n",
      "第41个采集完成\n",
      "第42个采集完成\n",
      "第43个采集完成\n",
      "第44个采集完成\n",
      "第45个采集完成\n",
      "第46个采集完成\n",
      "第47个采集完成\n",
      "第48个采集完成\n",
      "第49个采集完成\n",
      "第50个采集完成\n",
      "第51个采集完成\n",
      "第52个采集完成\n",
      "第53个采集完成\n",
      "第54个采集完成\n",
      "第55个采集完成\n",
      "第56个采集完成\n",
      "第57个采集完成\n",
      "第58个采集完成\n",
      "第59个采集完成\n",
      "第60个采集完成\n",
      "第61个采集完成\n",
      "第62个采集完成\n",
      "第63个采集完成\n",
      "第64个采集完成\n",
      "第65个采集完成\n",
      "第66个采集完成\n",
      "第67个采集完成\n",
      "第68个采集完成\n",
      "第69个采集完成\n",
      "第70个采集完成\n",
      "第71个采集完成\n",
      "第72个采集完成\n",
      "第73个采集完成\n",
      "第74个采集完成\n",
      "第75个采集完成\n",
      "第76个采集完成\n",
      "第77个采集完成\n",
      "第78个采集完成\n",
      "第79个采集完成\n",
      "第80个采集完成\n",
      "第81个采集完成\n",
      "第82个采集完成\n",
      "第83个采集完成\n",
      "第84个采集完成\n",
      "第85个采集完成\n",
      "第86个采集完成\n",
      "第87个采集完成\n",
      "第88个采集完成\n",
      "第89个采集完成\n",
      "第90个采集完成\n",
      "第91个采集完成\n",
      "第92个采集完成\n",
      "第93个采集完成\n",
      "第94个采集完成\n",
      "第95个采集完成\n",
      "第96个采集完成\n",
      "第97个采集完成\n",
      "第98个采集完成\n",
      "第99个采集完成\n",
      "第100个采集完成\n",
      "100\n"
     ]
    }
   ],
   "source": [
    "i = 0\n",
    "all_movie_detail_info = []\n",
    "for movie_name_and_url in all_movie_name_and_url_list:  \n",
    "    # 获取movie_html\n",
    "    movie_html = get_html(movie_name_and_url['url'])\n",
    "    \n",
    "    # 获取 movie_detail_info\n",
    "    movie_detail_info = get_movie_detail_info(movie_html)\n",
    "    \n",
    "    if movie_name_and_url['name'] == movie_detail_info['name']:\n",
    "        all_movie_detail_info.append(movie_detail_info)\n",
    "        i += 1\n",
    "        print('第{}个采集完成'.format(i))\n",
    "    else:\n",
    "        i += 1\n",
    "        print('第{}个报错, 电影信息{}'.format(i, movie_name_and_url))\n",
    "        continue\n",
    "print(i)"
   ]
  },
  {
   "cell_type": "code",
   "execution_count": 8,
   "metadata": {},
   "outputs": [
    {
     "data": {
      "text/plain": [
       "[{'name': '霸王别姬 - Farewell My Concubine',\n",
       "  'categories': ['剧情', '爱情'],\n",
       "  'rate': 9.5,\n",
       "  'time': '171 分钟',\n",
       "  'addr': '中国内地、中国香港',\n",
       "  'date': '1993-07-26 上映',\n",
       "  'director': '陈凯歌',\n",
       "  'drama': '影片借一出《霸王别姬》的京戏，牵扯出三个人之间一段随时代风云变幻的爱恨情仇。段小楼（张丰毅 饰）与程蝶衣（张国荣 饰）是一对打小一起长大的师兄弟，两人一个演生，一个饰旦，一向配合天衣无缝，尤其一出《霸王别姬》，更是誉满京城，为此，两人约定合演一辈子《霸王别姬》。但两人对戏剧与人生关系的理解有本质不同，段小楼深知戏非人生，程蝶衣则是人戏不分。段小楼在认为该成家立业之时迎娶了名妓菊仙（巩俐 饰），致使程蝶衣认定菊仙是可耻的第三者，使段小楼做了叛徒，自此，三人围绕一出《霸王别姬》生出的爱恨情仇战开始随着时代风云的变迁不断升级，终酿成悲剧。'},\n",
       " {'name': '这个杀手不太冷 - Léon',\n",
       "  'categories': ['剧情', '动作'],\n",
       "  'rate': 9.5,\n",
       "  'time': '110 分钟',\n",
       "  'addr': '法国',\n",
       "  'date': '1994-09-14 上映',\n",
       "  'director': '吕克·贝松',\n",
       "  'drama': '里昂（让·雷诺 饰）是名孤独的职业杀手，受人雇佣。一天，邻居家小姑娘马蒂尔德（纳塔丽·波特曼 饰）敲开他的房门，要求在他那里暂避杀身之祸。原来邻居家的主人是警方缉毒组的眼线，只因贪污了一小包毒品而遭恶警（加里·奥德曼 饰）杀害全家的惩罚。马蒂尔德 得到里昂的留救，幸免于难，并留在里昂那里。里昂教小女孩使枪，她教里昂法文，两人关系日趋亲密，相处融洽。 女孩想着去报仇，反倒被抓，里昂及时赶到，将女孩救回。混杂着哀怨情仇的正邪之战渐次升级，更大的冲突在所难免……'}]"
      ]
     },
     "execution_count": 8,
     "metadata": {},
     "output_type": "execute_result"
    }
   ],
   "source": [
    "len(all_movie_detail_info)\n",
    "all_movie_detail_info[0:2]"
   ]
  },
  {
   "cell_type": "markdown",
   "metadata": {},
   "source": [
    "# 数据存储（MongoDB）"
   ]
  },
  {
   "cell_type": "markdown",
   "metadata": {},
   "source": [
    "#### ***`a.连接数据库`***"
   ]
  },
  {
   "cell_type": "code",
   "execution_count": 10,
   "metadata": {},
   "outputs": [],
   "source": [
    "import pymongo\n",
    "\n",
    "client = pymongo.MongoClient('localhost', port=27017)\n",
    "database = client.test\n",
    "collection = database.douban_top"
   ]
  },
  {
   "cell_type": "markdown",
   "metadata": {},
   "source": [
    "#### ***`b.插入数据`***"
   ]
  },
  {
   "cell_type": "code",
   "execution_count": 17,
   "metadata": {},
   "outputs": [],
   "source": [
    "result = collection.insert_many(all_movie_detail_info[5:])"
   ]
  },
  {
   "cell_type": "markdown",
   "metadata": {},
   "source": [
    "#### ***`c.结果`***\n",
    "\n",
    "<div align=center>\n",
    "<img src=\"../../../images/e9bb957df16a5367abf0ab3a78a3688e7c699cd0d037f378a71a0daa6348139a.png\" width=\"75%\"></img></div>"
   ]
  },
  {
   "cell_type": "markdown",
   "metadata": {},
   "source": [
    "# TODO\n",
    "\n",
    "- 迫切\n",
    "  - ❌`categories`字段\n",
    "    - 电影信息的 `categories` 字段只能获取其中的两个类别，如果电影的类别有3个或者更多个，第三个及之后的类别都会被排除掉\n",
    "\n",
    "- 美化\n",
    "  - ❌采集进度条"
   ]
  }
 ],
 "metadata": {
  "kernelspec": {
   "display_name": "Python 3.9.7 ('base')",
   "language": "python",
   "name": "python3"
  },
  "language_info": {
   "codemirror_mode": {
    "name": "ipython",
    "version": 3
   },
   "file_extension": ".py",
   "mimetype": "text/x-python",
   "name": "python",
   "nbconvert_exporter": "python",
   "pygments_lexer": "ipython3",
   "version": "3.9.7"
  },
  "orig_nbformat": 4,
  "vscode": {
   "interpreter": {
    "hash": "6a018d3a992d78c184ccc94ab54168c7b26325ed3c2283926339c3edbf5487e7"
   }
  }
 },
 "nbformat": 4,
 "nbformat_minor": 2
}
