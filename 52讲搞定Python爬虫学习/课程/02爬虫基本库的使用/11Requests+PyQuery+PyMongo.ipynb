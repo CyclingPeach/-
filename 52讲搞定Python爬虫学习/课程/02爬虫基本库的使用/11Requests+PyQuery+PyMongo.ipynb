{
 "cells": [
  {
   "cell_type": "markdown",
   "metadata": {},
   "source": [
    "## 爬取目标\n",
    "\n",
    "<div align=center>\n",
    "    <img src=\"../../../images/fb0cc800f904f30931b46f0af6dd6c257e0a709d67c0dec84766a0f3562b9be4.png\" width=75%>\n",
    "    </img>\n",
    "</div>"
   ]
  },
  {
   "cell_type": "markdown",
   "metadata": {},
   "source": [
    "- 1. 提取每一页的电影列表,以及每个电影的详情页\n",
    "\n",
    "- 2. 提取每部电影的`名称`、`封面`、`类别`、`上映时间`、`评分`、`剧情简介`\n",
    "\n",
    "- 3. 存入数据库\n",
    "\n",
    "- 4. 多进程"
   ]
  },
  {
   "cell_type": "markdown",
   "metadata": {},
   "source": [
    "### 1. 提取每一页的电影列表,以及每个电影的详情页"
   ]
  },
  {
   "cell_type": "code",
   "execution_count": 2,
   "metadata": {},
   "outputs": [
    {
     "data": {
      "text/plain": [
       "<Response [200]>"
      ]
     },
     "execution_count": 2,
     "metadata": {},
     "output_type": "execute_result"
    }
   ],
   "source": [
    "import requests\n",
    "import re\n",
    "from pyquery import PyQuery as pq\n",
    "\n",
    "url = 'https://ssr1.scrape.center'\n",
    "\n",
    "res = requests.get(url)\n",
    "res"
   ]
  },
  {
   "cell_type": "code",
   "execution_count": 44,
   "metadata": {},
   "outputs": [],
   "source": [
    "# 将获取的HTML文本存储至文件中\n",
    "\n",
    "with open('11基础案例HTML.html', 'w') as fp:\n",
    "    fp.write(res.text)"
   ]
  },
  {
   "cell_type": "markdown",
   "metadata": {},
   "source": [
    "#### 使用 css 选择器"
   ]
  },
  {
   "cell_type": "code",
   "execution_count": 3,
   "metadata": {},
   "outputs": [],
   "source": [
    "def get_page_info(res):\n",
    "    \n",
    "    movies_page = re.findall('<li.*?number.*?>.*?<a href=\"(.*?)\">(.*?)</a>.*?</li>', res.text, re.S)\n",
    "    \n",
    "    page_infos = []\n",
    "    for page in movies_page:\n",
    "        page_info = {\n",
    "            'page_name':page[1],\n",
    "            'page_url':'https://ssr1.scrape.center' + page[0]\n",
    "        }\n",
    "        page_infos.append(page_info)\n",
    "    return page_infos\n",
    "\n",
    "a = get_page_info(res)"
   ]
  },
  {
   "cell_type": "code",
   "execution_count": 91,
   "metadata": {},
   "outputs": [
    {
     "data": {
      "text/plain": [
       "'https://ssr1.scrape.center/page/1'"
      ]
     },
     "execution_count": 91,
     "metadata": {},
     "output_type": "execute_result"
    }
   ],
   "source": [
    "b = a[0]\n",
    "b['page_url']"
   ]
  },
  {
   "cell_type": "code",
   "execution_count": 9,
   "metadata": {},
   "outputs": [
    {
     "name": "stdout",
     "output_type": "stream",
     "text": [
      "<div id=\"app\">\n",
      "  <div data-v-74e8b908=\"\" class=\"el-row\" id=\"header\">\n",
      "    <div data-v-74e8b908=\"\" class=\"container el-col el-col-18 el-col-offset-3\">\n",
      "      <div data-v-74e8b908=\"\" class=\"el-row\">\n",
      "        <div data-v-74e8b908=\"\" class=\"logo el-col el-col-4\">\n",
      "          <a data-v-74e8b908=\"\" href=\"/\" class=\"router-link-exact-active router-link-active\">\n",
      "            <img data-v-74e8b908=\"\" src=\"/static/img/logo.png\" class=\"logo-image\">\n",
      "            <span data-v-74e8b908=\"\" class=\"logo-title\">Scrape</span>\n",
      "          </a>\n",
      "        </div>\n",
      "      </div>\n",
      "    </div>\n",
      "  </div>\n",
      "  \n",
      "<div data-v-7f856186=\"\" id=\"index\">\n",
      "  <div data-v-7f856186=\"\" class=\"el-row\">\n",
      "    <div data-v-7f856186=\"\" class=\"el-col el-col-18 el-col-offset-3\">\n",
      "      \n",
      "      <div data-v-7f856186=\"\" class=\"el-card item m-t is-hover-shadow\">\n",
      "        <div class=\"el-card__body\">\n",
      "          <div data-v-7f856186=\"\" class=\"el-row\">\n",
      "            <div data-v-7f856186=\"\" class=\"el-col el-col-24 el-col-xs-8 el-col-sm-6 el-col-md-4\">\n",
      "              <a data-v-7f856186=\"\"\n",
      "                 href=\"/detail/1\"\n",
      "                 class=\"\">\n",
      "                <img\n",
      "                    data-v-7f856186=\"\"\n",
      "                    src=\"https://p0.meituan.net/movie/ce4da3e03e655b5b88ed31b5cd7896cf62472.jpg@464w_644h_1e_1c\"\n",
      "                    class=\"cover\">\n",
      "              </a>\n",
      "            </div>\n",
      "            <div data-v-7f856186=\"\" class=\"p-h el-col el-col-24 el-col-xs-9 el-col-sm-13 el-col-md-16\">\n",
      "              <a data-v-7f856186=\"\" href=\"/detail/1\" class=\"name\">\n",
      "                <h2 data-v-7f856186=\"\" class=\"m-b-sm\">霸王别姬 - Farewell My Concubine</h2>\n",
      "              </a>\n"
     ]
    }
   ],
   "source": [
    "import re\n",
    "result = re.search('<div.*?p-h el-col el-col-24 el-col-xs-9 el-col-sm-13 el-col-md-16\">.*?<a.*?href=\"(.*?)\".*?>.*?</a>', res.text, re.S)\n",
    "print(result.group())"
   ]
  },
  {
   "cell_type": "code",
   "execution_count": 19,
   "metadata": {},
   "outputs": [
    {
     "name": "stdout",
     "output_type": "stream",
     "text": [
      "/detail/1\"\n",
      "                 class=\"\">\n",
      "                <img\n",
      "                    data-v-7f856186=\"\"\n",
      "                    src=\"https://p0.meituan.net/movie/ce4da3e03e655b5b88ed31b5cd7896cf62472.jpg@464w_644h_1e_1c\"\n",
      "                    class=\"cover\">\n",
      "              </a>\n",
      "            </div>\n",
      "            <div data-v-7f856186=\"\" class=\"p-h el-col el-col-24 el-col-xs-9 el-col-sm-13 el-col-md-16\">\n",
      "              <a data-v-7f856186=\"\" href=\"/detail/1\n"
     ]
    }
   ],
   "source": [
    "import re\n",
    "result = re.search(, res.text, re.S)\n",
    "\n",
    "\n",
    "\n",
    "'<div.*?index\">'\n",
    "\n",
    "\n",
    "\n",
    "print(result.group(1))"
   ]
  },
  {
   "cell_type": "code",
   "execution_count": null,
   "metadata": {},
   "outputs": [],
   "source": []
  }
 ],
 "metadata": {
  "kernelspec": {
   "display_name": "Python 3.9.7 ('base')",
   "language": "python",
   "name": "python3"
  },
  "language_info": {
   "codemirror_mode": {
    "name": "ipython",
    "version": 3
   },
   "file_extension": ".py",
   "mimetype": "text/x-python",
   "name": "python",
   "nbconvert_exporter": "python",
   "pygments_lexer": "ipython3",
   "version": "3.9.7"
  },
  "orig_nbformat": 4,
  "vscode": {
   "interpreter": {
    "hash": "6a018d3a992d78c184ccc94ab54168c7b26325ed3c2283926339c3edbf5487e7"
   }
  }
 },
 "nbformat": 4,
 "nbformat_minor": 2
}
