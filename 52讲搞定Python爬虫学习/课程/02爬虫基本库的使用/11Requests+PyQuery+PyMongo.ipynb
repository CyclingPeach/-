{
 "cells": [
  {
   "cell_type": "markdown",
   "metadata": {},
   "source": [
    "## 爬取目标\n",
    "\n",
    "<div align=center>\n",
    "    <img src=\"../../../images/fb0cc800f904f30931b46f0af6dd6c257e0a709d67c0dec84766a0f3562b9be4.png\" width=75%>\n",
    "    </img>\n",
    "</div>"
   ]
  },
  {
   "cell_type": "markdown",
   "metadata": {},
   "source": [
    "- 1. 提取每一页的电影列表,以及每个电影的详情页\n",
    "\n",
    "- 2. 提取每部电影的`名称`、`封面`、`类别`、`上映时间`、`评分`、`剧情简介`\n",
    "\n",
    "- 3. 存入数据库\n",
    "\n",
    "- 4. 多进程"
   ]
  },
  {
   "cell_type": "markdown",
   "metadata": {},
   "source": [
    "### 1. 提取每一页的电影列表,以及每个电影的详情页"
   ]
  },
  {
   "cell_type": "code",
   "execution_count": 3,
   "metadata": {},
   "outputs": [
    {
     "data": {
      "text/plain": [
       "<Response [200]>"
      ]
     },
     "execution_count": 3,
     "metadata": {},
     "output_type": "execute_result"
    }
   ],
   "source": [
    "import requests\n",
    "import re\n",
    "from pyquery import PyQuery as pq\n",
    "\n",
    "url = 'https://ssr1.scrape.center'\n",
    "\n",
    "res = requests.get(url)\n",
    "res"
   ]
  },
  {
   "cell_type": "code",
   "execution_count": 44,
   "metadata": {},
   "outputs": [],
   "source": [
    "with open('11基础案例HTML.html', 'w') as fp:\n",
    "    fp.write(res.text)"
   ]
  },
  {
   "cell_type": "markdown",
   "metadata": {},
   "source": [
    "#### 使用 css 选择器"
   ]
  },
  {
   "cell_type": "code",
   "execution_count": 50,
   "metadata": {},
   "outputs": [
    {
     "data": {
      "text/plain": [
       "<re.Match object; span=(1933, 2004), match='<h2 data-v-7f856186=\"\" class=\"m-b-sm\">霸王别姬 - Fare>"
      ]
     },
     "execution_count": 50,
     "metadata": {},
     "output_type": "execute_result"
    }
   ],
   "source": [
    "import re\n",
    "\n",
    "movie_name = re.search('<h2.*?>(.*\"?)</h2>', res.text)\n",
    "movie_name"
   ]
  },
  {
   "cell_type": "code",
   "execution_count": null,
   "metadata": {},
   "outputs": [],
   "source": [
    "movies_page = re.search('<ul.*?li.*?href=\"(.*?)\".*?</li>', res.text)\n",
    "print(movies_page)"
   ]
  },
  {
   "cell_type": "code",
   "execution_count": 20,
   "metadata": {},
   "outputs": [
    {
     "data": {
      "text/plain": [
       "(10,\n",
       " ['霸王别姬 - Farewell My Concubine',\n",
       "  '这个杀手不太冷 - Léon',\n",
       "  '肖申克的救赎 - The Shawshank Redemption',\n",
       "  '泰坦尼克号 - Titanic',\n",
       "  '罗马假日 - Roman Holiday',\n",
       "  '唐伯虎点秋香 - Flirting Scholar',\n",
       "  '乱世佳人 - Gone with the Wind',\n",
       "  '喜剧之王 - The King of Comedy',\n",
       "  '楚门的世界 - The Truman Show',\n",
       "  '狮子王 - The Lion King'])"
      ]
     },
     "execution_count": 20,
     "metadata": {},
     "output_type": "execute_result"
    }
   ],
   "source": [
    "movie_name_list = re.findall('<h2.*?>(.*\"?)</h2>', res.text)\n",
    "len(movie_name_list),movie_name_list"
   ]
  },
  {
   "cell_type": "code",
   "execution_count": null,
   "metadata": {},
   "outputs": [],
   "source": []
  }
 ],
 "metadata": {
  "kernelspec": {
   "display_name": "Python 3.9.7 ('base')",
   "language": "python",
   "name": "python3"
  },
  "language_info": {
   "codemirror_mode": {
    "name": "ipython",
    "version": 3
   },
   "file_extension": ".py",
   "mimetype": "text/x-python",
   "name": "python",
   "nbconvert_exporter": "python",
   "pygments_lexer": "ipython3",
   "version": "3.9.7"
  },
  "orig_nbformat": 4,
  "vscode": {
   "interpreter": {
    "hash": "6a018d3a992d78c184ccc94ab54168c7b26325ed3c2283926339c3edbf5487e7"
   }
  }
 },
 "nbformat": 4,
 "nbformat_minor": 2
}
