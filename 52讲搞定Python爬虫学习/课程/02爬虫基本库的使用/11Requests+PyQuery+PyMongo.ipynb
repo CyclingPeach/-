{
 "cells": [
  {
   "cell_type": "markdown",
   "metadata": {},
   "source": [
    "## 爬取目标\n",
    "\n",
    "<div align=center>\n",
    "    <img src=\"../../../images/fb0cc800f904f30931b46f0af6dd6c257e0a709d67c0dec84766a0f3562b9be4.png\" width=75%>\n",
    "    </img>\n",
    "</div>"
   ]
  },
  {
   "cell_type": "markdown",
   "metadata": {},
   "source": [
    "- 1. 提取每一页的电影列表,以及每个电影的详情页\n",
    "\n",
    "- 2. 提取每部电影的`名称`、`封面`、`类别`、`上映时间`、`评分`、`剧情简介`\n",
    "\n",
    "- 3. 存入数据库\n",
    "\n",
    "- 4. 多进程"
   ]
  },
  {
   "cell_type": "markdown",
   "metadata": {},
   "source": [
    "### 1. 提取每一页的电影列表,以及每个电影的详情页"
   ]
  },
  {
   "cell_type": "code",
   "execution_count": 3,
   "metadata": {},
   "outputs": [
    {
     "name": "stdout",
     "output_type": "stream",
     "text": [
      "你在干什么\n",
      "end=dfdfdsfsdfdfjsdfakjsdfioasdfi;j\n"
     ]
    }
   ],
   "source": [
    "print('你在干什么')\n",
    "\n",
    "print('end=dfdfdsfsdfdfjsdfakjsdfioasdfi;j')\n",
    "\n",
    "\n",
    "\n",
    "\n",
    "\n",
    "你在干什么？\n",
    "你在干什么？"
   ]
  }
 ],
 "metadata": {
  "kernelspec": {
   "display_name": "Python 3.9.7 ('base')",
   "language": "python",
   "name": "python3"
  },
  "language_info": {
   "codemirror_mode": {
    "name": "ipython",
    "version": 3
   },
   "file_extension": ".py",
   "mimetype": "text/x-python",
   "name": "python",
   "nbconvert_exporter": "python",
   "pygments_lexer": "ipython3",
   "version": "3.9.7"
  },
  "orig_nbformat": 4,
  "vscode": {
   "interpreter": {
    "hash": "6a018d3a992d78c184ccc94ab54168c7b26325ed3c2283926339c3edbf5487e7"
   }
  }
 },
 "nbformat": 4,
 "nbformat_minor": 2
}
